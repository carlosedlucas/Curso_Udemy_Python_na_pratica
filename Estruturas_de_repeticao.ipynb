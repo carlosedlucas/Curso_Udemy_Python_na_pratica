{
  "nbformat": 4,
  "nbformat_minor": 0,
  "metadata": {
    "colab": {
      "name": "Estruturas_de_repeticao.ipynb",
      "provenance": [],
      "collapsed_sections": [
        "nLNGs8RYIX2Q",
        "Y1tbQBiwIx4W",
        "nGNvzY78JME6",
        "7hecLxoGJXte",
        "OYOlhMDkJuwZ",
        "zSj1vbF8KWbF",
        "qvDb2vqjv-nO",
        "7u8t-X0gxusU",
        "DNwgJk6ayeqK",
        "amEyXgUa0dQZ",
        "H8Qc7iP6JYv4",
        "clJw2IcHlRTI",
        "po8wPoumnHlF",
        "-LcTo63wwTVw",
        "52zlH51M72Jj",
        "3T2kc9FnccON"
      ]
    },
    "kernelspec": {
      "name": "python3",
      "display_name": "Python 3"
    },
    "language_info": {
      "name": "python"
    }
  },
  "cells": [
    {
      "cell_type": "markdown",
      "metadata": {
        "id": "nLNGs8RYIX2Q"
      },
      "source": [
        "# Exercício 1\n",
        "\n",
        "Escreva um programa que mostre de 1 até 50 na tela.\n"
      ]
    },
    {
      "cell_type": "code",
      "metadata": {
        "colab": {
          "base_uri": "https://localhost:8080/"
        },
        "id": "Mkuc4wy3IQxZ",
        "outputId": "58b81bb0-518d-4240-cf45-2a723484f0b0"
      },
      "source": [
        "for n in range(1,51):\n",
        "  print(n)"
      ],
      "execution_count": null,
      "outputs": [
        {
          "output_type": "stream",
          "text": [
            "1\n",
            "2\n",
            "3\n",
            "4\n",
            "5\n",
            "6\n",
            "7\n",
            "8\n",
            "9\n",
            "10\n",
            "11\n",
            "12\n",
            "13\n",
            "14\n",
            "15\n",
            "16\n",
            "17\n",
            "18\n",
            "19\n",
            "20\n",
            "21\n",
            "22\n",
            "23\n",
            "24\n",
            "25\n",
            "26\n",
            "27\n",
            "28\n",
            "29\n",
            "30\n",
            "31\n",
            "32\n",
            "33\n",
            "34\n",
            "35\n",
            "36\n",
            "37\n",
            "38\n",
            "39\n",
            "40\n",
            "41\n",
            "42\n",
            "43\n",
            "44\n",
            "45\n",
            "46\n",
            "47\n",
            "48\n",
            "49\n",
            "50\n"
          ],
          "name": "stdout"
        }
      ]
    },
    {
      "cell_type": "markdown",
      "metadata": {
        "id": "Y1tbQBiwIx4W"
      },
      "source": [
        "# Exercício 2\n",
        "\n",
        "Escreva um programa que mostre de 50 até 1 na tela."
      ]
    },
    {
      "cell_type": "code",
      "metadata": {
        "colab": {
          "base_uri": "https://localhost:8080/"
        },
        "id": "OP9byF9dIzOH",
        "outputId": "ffa643aa-f135-495c-f09a-e013ef61919a"
      },
      "source": [
        "for j in range(50,0,-1):\n",
        "  print(j)"
      ],
      "execution_count": null,
      "outputs": [
        {
          "output_type": "stream",
          "text": [
            "50\n",
            "49\n",
            "48\n",
            "47\n",
            "46\n",
            "45\n",
            "44\n",
            "43\n",
            "42\n",
            "41\n",
            "40\n",
            "39\n",
            "38\n",
            "37\n",
            "36\n",
            "35\n",
            "34\n",
            "33\n",
            "32\n",
            "31\n",
            "30\n",
            "29\n",
            "28\n",
            "27\n",
            "26\n",
            "25\n",
            "24\n",
            "23\n",
            "22\n",
            "21\n",
            "20\n",
            "19\n",
            "18\n",
            "17\n",
            "16\n",
            "15\n",
            "14\n",
            "13\n",
            "12\n",
            "11\n",
            "10\n",
            "9\n",
            "8\n",
            "7\n",
            "6\n",
            "5\n",
            "4\n",
            "3\n",
            "2\n",
            "1\n"
          ],
          "name": "stdout"
        }
      ]
    },
    {
      "cell_type": "markdown",
      "metadata": {
        "id": "nGNvzY78JME6"
      },
      "source": [
        "# Exercício 3\n",
        "\n",
        "Escreva um programa que mostre de 150 até 200 na tela."
      ]
    },
    {
      "cell_type": "code",
      "metadata": {
        "colab": {
          "base_uri": "https://localhost:8080/"
        },
        "id": "j3r664EgJRyx",
        "outputId": "b938838d-91d5-4265-8518-b71c3e35f5d0"
      },
      "source": [
        "for n in range(150,201):\n",
        "  print(n)"
      ],
      "execution_count": null,
      "outputs": [
        {
          "output_type": "stream",
          "text": [
            "150\n",
            "151\n",
            "152\n",
            "153\n",
            "154\n",
            "155\n",
            "156\n",
            "157\n",
            "158\n",
            "159\n",
            "160\n",
            "161\n",
            "162\n",
            "163\n",
            "164\n",
            "165\n",
            "166\n",
            "167\n",
            "168\n",
            "169\n",
            "170\n",
            "171\n",
            "172\n",
            "173\n",
            "174\n",
            "175\n",
            "176\n",
            "177\n",
            "178\n",
            "179\n",
            "180\n",
            "181\n",
            "182\n",
            "183\n",
            "184\n",
            "185\n",
            "186\n",
            "187\n",
            "188\n",
            "189\n",
            "190\n",
            "191\n",
            "192\n",
            "193\n",
            "194\n",
            "195\n",
            "196\n",
            "197\n",
            "198\n",
            "199\n",
            "200\n"
          ],
          "name": "stdout"
        }
      ]
    },
    {
      "cell_type": "markdown",
      "metadata": {
        "id": "7hecLxoGJXte"
      },
      "source": [
        "# Exercício 4\n",
        "\n",
        "Escreva um programa de contagem regressiva, ou seja, imprima na tela o seguinte padrão numérico:\n",
        "\n",
        "```\n",
        "5\n",
        "4\n",
        "3\n",
        "2\n",
        "1\n",
        "0\n",
        "```"
      ]
    },
    {
      "cell_type": "code",
      "metadata": {
        "colab": {
          "base_uri": "https://localhost:8080/"
        },
        "id": "J2FqqOvoJiiy",
        "outputId": "83b4ee2f-82a4-4b4a-ba95-0fa80a5378cc"
      },
      "source": [
        "for n in range(5,-1,-1):\n",
        "  print(n)"
      ],
      "execution_count": null,
      "outputs": [
        {
          "output_type": "stream",
          "text": [
            "5\n",
            "4\n",
            "3\n",
            "2\n",
            "1\n",
            "0\n"
          ],
          "name": "stdout"
        }
      ]
    },
    {
      "cell_type": "markdown",
      "metadata": {
        "id": "OYOlhMDkJuwZ"
      },
      "source": [
        "# Exercício 5\n",
        "\n",
        "Faça um programa que imprima na tela de 1 até um número digitado pelo usuário."
      ]
    },
    {
      "cell_type": "code",
      "metadata": {
        "colab": {
          "base_uri": "https://localhost:8080/"
        },
        "id": "HpgckZ-QJwiJ",
        "outputId": "7e9fab66-ee06-4547-b465-5b76098803f0"
      },
      "source": [
        "num = int(input('Digite um número: '))\n",
        "\n",
        "for n in range(1,num+1):\n",
        "  print(n)"
      ],
      "execution_count": null,
      "outputs": [
        {
          "output_type": "stream",
          "text": [
            "Digite um número: 12\n",
            "1\n",
            "2\n",
            "3\n",
            "4\n",
            "5\n",
            "6\n",
            "7\n",
            "8\n",
            "9\n",
            "10\n",
            "11\n",
            "12\n"
          ],
          "name": "stdout"
        }
      ]
    },
    {
      "cell_type": "markdown",
      "metadata": {
        "id": "zSj1vbF8KWbF"
      },
      "source": [
        "# Exercício 6\n",
        "\n",
        "Escreva um programa que mostre na tela os 20 primeiros múltiplos de 5."
      ]
    },
    {
      "cell_type": "code",
      "metadata": {
        "colab": {
          "base_uri": "https://localhost:8080/"
        },
        "id": "EZeDNBGfKYmy",
        "outputId": "60f63caa-669f-4592-c1ef-e54c3697e9d0"
      },
      "source": [
        "for n in range(1,21):\n",
        "  print(n*5)"
      ],
      "execution_count": null,
      "outputs": [
        {
          "output_type": "stream",
          "text": [
            "5\n",
            "10\n",
            "15\n",
            "20\n",
            "25\n",
            "30\n",
            "35\n",
            "40\n",
            "45\n",
            "50\n",
            "55\n",
            "60\n",
            "65\n",
            "70\n",
            "75\n",
            "80\n",
            "85\n",
            "90\n",
            "95\n",
            "100\n"
          ],
          "name": "stdout"
        }
      ]
    },
    {
      "cell_type": "markdown",
      "metadata": {
        "id": "qvDb2vqjv-nO"
      },
      "source": [
        "# Exercício 7\n",
        "\n",
        "Utilizando estruturas de repetição escreva um programa que mostre os resultados da tabuada (multiplicação) de um número inserido pelo usuário."
      ]
    },
    {
      "cell_type": "code",
      "metadata": {
        "colab": {
          "base_uri": "https://localhost:8080/"
        },
        "id": "EDz2hZa3wFKj",
        "outputId": "80b71a2e-df8d-4c81-cd11-521e5fdacf54"
      },
      "source": [
        "n = float(input('Digite um número: '))\n",
        "for i in (range(1,11)):\n",
        "  print(f'{i} x {n} = {i*n}')\n"
      ],
      "execution_count": null,
      "outputs": [
        {
          "output_type": "stream",
          "text": [
            "Digite um número: 5\n",
            "1 x 5.0 = 5.0\n",
            "2 x 5.0 = 10.0\n",
            "3 x 5.0 = 15.0\n",
            "4 x 5.0 = 20.0\n",
            "5 x 5.0 = 25.0\n",
            "6 x 5.0 = 30.0\n",
            "7 x 5.0 = 35.0\n",
            "8 x 5.0 = 40.0\n",
            "9 x 5.0 = 45.0\n",
            "10 x 5.0 = 50.0\n"
          ],
          "name": "stdout"
        }
      ]
    },
    {
      "cell_type": "markdown",
      "metadata": {
        "id": "7u8t-X0gxusU"
      },
      "source": [
        "# Exercício 8\n",
        "\n",
        "Utilizando estruturas de repetição escreva um programa que mostre os resultados da tabuada de multiplicação dos números entre 1 e 10, como segue.\n",
        "\n",
        "```\n",
        "1 x 1 = 1\n",
        "1 x 2 = 2\n",
        "1 x 3 = 3\n",
        "1 x 4 = 4\n",
        "1 x 5 = 5\n",
        "1 x 6 = 6\n",
        "1 x 7 = 7\n",
        "1 x 8 = 8\n",
        "1 x 9 = 9\n",
        "1 x 10 = 10\n",
        "2 x 1 = 2\n",
        "2 x 2 = 4\n",
        "2 x 3 = 6\n",
        "2 x 4 = 8\n",
        "2 x 5 = 10\n",
        "2 x 6 = 12\n",
        "2 x 7 = 14\n",
        "2 x 8 = 16\n",
        "2 x 9 = 18\n",
        "2 x 10 = 20\n",
        "3 x 1 = 3\n",
        "3 x 2 = 6\n",
        "3 x 3 = 9\n",
        "3 x 4 = 12\n",
        "3 x 5 = 15\n",
        "3 x 6 = 18\n",
        "3 x 7 = 21\n",
        "3 x 8 = 24\n",
        "3 x 9 = 27\n",
        "3 x 10 = 30\n",
        "4 x 1 = 4\n",
        "4 x 2 = 8\n",
        "4 x 3 = 12\n",
        "4 x 4 = 16\n",
        "4 x 5 = 20\n",
        "4 x 6 = 24\n",
        "4 x 7 = 28\n",
        "4 x 8 = 32\n",
        "4 x 9 = 36\n",
        "4 x 10 = 40\n",
        "5 x 1 = 5\n",
        "5 x 2 = 10\n",
        "5 x 3 = 15\n",
        "5 x 4 = 20\n",
        "5 x 5 = 25\n",
        "5 x 6 = 30\n",
        "5 x 7 = 35\n",
        "5 x 8 = 40\n",
        "5 x 9 = 45\n",
        "5 x 10 = 50\n",
        "6 x 1 = 6\n",
        "6 x 2 = 12\n",
        "6 x 3 = 18\n",
        "6 x 4 = 24\n",
        "6 x 5 = 30\n",
        "6 x 6 = 36\n",
        "6 x 7 = 42\n",
        "6 x 8 = 48\n",
        "6 x 9 = 54\n",
        "6 x 10 = 60\n",
        "7 x 1 = 7\n",
        "7 x 2 = 14\n",
        "7 x 3 = 21\n",
        "7 x 4 = 28\n",
        "7 x 5 = 35\n",
        "7 x 6 = 42\n",
        "7 x 7 = 49\n",
        "7 x 8 = 56\n",
        "7 x 9 = 63\n",
        "7 x 10 = 70\n",
        "8 x 1 = 8\n",
        "8 x 2 = 16\n",
        "8 x 3 = 24\n",
        "8 x 4 = 32\n",
        "8 x 5 = 40\n",
        "8 x 6 = 48\n",
        "8 x 7 = 56\n",
        "8 x 8 = 64\n",
        "8 x 9 = 72\n",
        "8 x 10 = 80\n",
        "9 x 1 = 9\n",
        "9 x 2 = 18\n",
        "9 x 3 = 27\n",
        "9 x 4 = 36\n",
        "9 x 5 = 45\n",
        "9 x 6 = 54\n",
        "9 x 7 = 63\n",
        "9 x 8 = 72\n",
        "9 x 9 = 81\n",
        "9 x 10 = 90\n",
        "10 x 1 = 10\n",
        "10 x 2 = 20\n",
        "10 x 3 = 30\n",
        "10 x 4 = 40\n",
        "10 x 5 = 50\n",
        "10 x 6 = 60\n",
        "10 x 7 = 70\n",
        "10 x 8 = 80\n",
        "10 x 9 = 90\n",
        "10 x 10 = 100\n",
        "```"
      ]
    },
    {
      "cell_type": "code",
      "metadata": {
        "colab": {
          "base_uri": "https://localhost:8080/"
        },
        "id": "MxAqVwf7yDl2",
        "outputId": "9d763a33-fe01-4645-b1d0-363997769398"
      },
      "source": [
        "for n in range(1,11):\n",
        "  for j in range(1,11):\n",
        "    print(f'{n} x {j} = {n*j}')\n",
        "  print()"
      ],
      "execution_count": null,
      "outputs": [
        {
          "output_type": "stream",
          "text": [
            "1 x 1 = 1\n",
            "1 x 2 = 2\n",
            "1 x 3 = 3\n",
            "1 x 4 = 4\n",
            "1 x 5 = 5\n",
            "1 x 6 = 6\n",
            "1 x 7 = 7\n",
            "1 x 8 = 8\n",
            "1 x 9 = 9\n",
            "1 x 10 = 10\n",
            "\n",
            "2 x 1 = 2\n",
            "2 x 2 = 4\n",
            "2 x 3 = 6\n",
            "2 x 4 = 8\n",
            "2 x 5 = 10\n",
            "2 x 6 = 12\n",
            "2 x 7 = 14\n",
            "2 x 8 = 16\n",
            "2 x 9 = 18\n",
            "2 x 10 = 20\n",
            "\n",
            "3 x 1 = 3\n",
            "3 x 2 = 6\n",
            "3 x 3 = 9\n",
            "3 x 4 = 12\n",
            "3 x 5 = 15\n",
            "3 x 6 = 18\n",
            "3 x 7 = 21\n",
            "3 x 8 = 24\n",
            "3 x 9 = 27\n",
            "3 x 10 = 30\n",
            "\n",
            "4 x 1 = 4\n",
            "4 x 2 = 8\n",
            "4 x 3 = 12\n",
            "4 x 4 = 16\n",
            "4 x 5 = 20\n",
            "4 x 6 = 24\n",
            "4 x 7 = 28\n",
            "4 x 8 = 32\n",
            "4 x 9 = 36\n",
            "4 x 10 = 40\n",
            "\n",
            "5 x 1 = 5\n",
            "5 x 2 = 10\n",
            "5 x 3 = 15\n",
            "5 x 4 = 20\n",
            "5 x 5 = 25\n",
            "5 x 6 = 30\n",
            "5 x 7 = 35\n",
            "5 x 8 = 40\n",
            "5 x 9 = 45\n",
            "5 x 10 = 50\n",
            "\n",
            "6 x 1 = 6\n",
            "6 x 2 = 12\n",
            "6 x 3 = 18\n",
            "6 x 4 = 24\n",
            "6 x 5 = 30\n",
            "6 x 6 = 36\n",
            "6 x 7 = 42\n",
            "6 x 8 = 48\n",
            "6 x 9 = 54\n",
            "6 x 10 = 60\n",
            "\n",
            "7 x 1 = 7\n",
            "7 x 2 = 14\n",
            "7 x 3 = 21\n",
            "7 x 4 = 28\n",
            "7 x 5 = 35\n",
            "7 x 6 = 42\n",
            "7 x 7 = 49\n",
            "7 x 8 = 56\n",
            "7 x 9 = 63\n",
            "7 x 10 = 70\n",
            "\n",
            "8 x 1 = 8\n",
            "8 x 2 = 16\n",
            "8 x 3 = 24\n",
            "8 x 4 = 32\n",
            "8 x 5 = 40\n",
            "8 x 6 = 48\n",
            "8 x 7 = 56\n",
            "8 x 8 = 64\n",
            "8 x 9 = 72\n",
            "8 x 10 = 80\n",
            "\n",
            "9 x 1 = 9\n",
            "9 x 2 = 18\n",
            "9 x 3 = 27\n",
            "9 x 4 = 36\n",
            "9 x 5 = 45\n",
            "9 x 6 = 54\n",
            "9 x 7 = 63\n",
            "9 x 8 = 72\n",
            "9 x 9 = 81\n",
            "9 x 10 = 90\n",
            "\n",
            "10 x 1 = 10\n",
            "10 x 2 = 20\n",
            "10 x 3 = 30\n",
            "10 x 4 = 40\n",
            "10 x 5 = 50\n",
            "10 x 6 = 60\n",
            "10 x 7 = 70\n",
            "10 x 8 = 80\n",
            "10 x 9 = 90\n",
            "10 x 10 = 100\n",
            "\n"
          ],
          "name": "stdout"
        }
      ]
    },
    {
      "cell_type": "markdown",
      "metadata": {
        "id": "DNwgJk6ayeqK"
      },
      "source": [
        "# Exercício 9\n",
        "\n",
        "Em um único loop escreva um programa que mostre na tela de 1 a 10 três vezes e ao final mostre a mensagem Fim . No primeiro loop utilize for e nos dois loops seguintes while. O resultado do seu programa deverá ter o seguinte formato:\n",
        "\n",
        "```\n",
        "1\n",
        "2\n",
        "3\n",
        "4\n",
        "5\n",
        "6\n",
        "7\n",
        "8\n",
        "9\n",
        "10\n",
        "1\n",
        "2\n",
        "3\n",
        "4\n",
        "5\n",
        "6\n",
        "7\n",
        "8\n",
        "9\n",
        "10\n",
        "1\n",
        "2\n",
        "3\n",
        "4\n",
        "5\n",
        "6\n",
        "7\n",
        "8\n",
        "9\n",
        "10\n",
        "Fim\n",
        "```"
      ]
    },
    {
      "cell_type": "code",
      "metadata": {
        "colab": {
          "base_uri": "https://localhost:8080/"
        },
        "id": "fkyps_Rtywut",
        "outputId": "606532de-6d8f-46c6-a61f-ae186c6130af"
      },
      "source": [
        "for i in (range(1,4)):\n",
        "  contador = 0\n",
        "  while (contador<=9):\n",
        "    print(f'{contador+1}')\n",
        "    contador += 1\n",
        "print('Fim')"
      ],
      "execution_count": null,
      "outputs": [
        {
          "output_type": "stream",
          "text": [
            "1\n",
            "2\n",
            "3\n",
            "4\n",
            "5\n",
            "6\n",
            "7\n",
            "8\n",
            "9\n",
            "10\n",
            "1\n",
            "2\n",
            "3\n",
            "4\n",
            "5\n",
            "6\n",
            "7\n",
            "8\n",
            "9\n",
            "10\n",
            "1\n",
            "2\n",
            "3\n",
            "4\n",
            "5\n",
            "6\n",
            "7\n",
            "8\n",
            "9\n",
            "10\n",
            "Fim\n"
          ],
          "name": "stdout"
        }
      ]
    },
    {
      "cell_type": "markdown",
      "metadata": {
        "id": "amEyXgUa0dQZ"
      },
      "source": [
        "# Exercício 10\n",
        "\n",
        "Escreva um programa que peça ao usuário números entre 0-10. Se o usuário inserir um número fora desse intervalo o programa deverá finalizar com uma mensagem personalizada."
      ]
    },
    {
      "cell_type": "code",
      "metadata": {
        "colab": {
          "base_uri": "https://localhost:8080/"
        },
        "id": "7T5XeXhn1UIE",
        "outputId": "2fb68d2e-7a2c-44c1-8124-0eaaa3c89fe6"
      },
      "source": [
        "def typeANumber(n):\n",
        "  if n < 0 or n > 10:\n",
        "    print('O número digitado está fora do intervalo solicitado!')\n",
        "    typeANumber(float(input('Digite um número entre 0 e 10: ')))\n",
        "  else: \n",
        "      print(f'O número digitado foi {n}')\n",
        "\n",
        "typeANumber(float(input('Digite um número entre 0 e 10: ')))\n"
      ],
      "execution_count": null,
      "outputs": [
        {
          "output_type": "stream",
          "text": [
            "Digite um número entre 0 e 10: 5\n",
            "O número digitado foi 5.0\n"
          ],
          "name": "stdout"
        }
      ]
    },
    {
      "cell_type": "markdown",
      "metadata": {
        "id": "MWftsLhOIqeQ"
      },
      "source": [
        "# Exercício 11\n",
        "\n",
        "Em um único loop escreva um programa que mostre na tela de 0-5, cinco vezes e ao final mostre a mensagem Fim . Utilize apenas for em sua implementação. Seu programa deverá gerar um output com o seguinte formato:\n",
        "\n",
        "```\n",
        "0\n",
        "1\n",
        "2\n",
        "3\n",
        "4\n",
        "5\n",
        "0\n",
        "1\n",
        "2\n",
        "3\n",
        "4\n",
        "5\n",
        "0\n",
        "1\n",
        "2\n",
        "3\n",
        "4\n",
        "5\n",
        "0\n",
        "1\n",
        "2\n",
        "3\n",
        "4\n",
        "5\n",
        "0\n",
        "1\n",
        "2\n",
        "3\n",
        "4\n",
        "5\n",
        "Fim\n",
        "```"
      ]
    },
    {
      "cell_type": "code",
      "metadata": {
        "colab": {
          "base_uri": "https://localhost:8080/"
        },
        "id": "TKKALlzCIpP9",
        "outputId": "cef08ecf-c41b-43f0-dd92-918f80ac62db"
      },
      "source": [
        "for i in range(0,5):\n",
        "  for j in range (0,6):\n",
        "    print(j)\n",
        "print('Fim')\n"
      ],
      "execution_count": null,
      "outputs": [
        {
          "output_type": "stream",
          "text": [
            "0\n",
            "1\n",
            "2\n",
            "3\n",
            "4\n",
            "5\n",
            "0\n",
            "1\n",
            "2\n",
            "3\n",
            "4\n",
            "5\n",
            "0\n",
            "1\n",
            "2\n",
            "3\n",
            "4\n",
            "5\n",
            "0\n",
            "1\n",
            "2\n",
            "3\n",
            "4\n",
            "5\n",
            "0\n",
            "1\n",
            "2\n",
            "3\n",
            "4\n",
            "5\n",
            "Fim\n"
          ],
          "name": "stdout"
        }
      ]
    },
    {
      "cell_type": "markdown",
      "metadata": {
        "id": "H8Qc7iP6JYv4"
      },
      "source": [
        "# Exercício 12\n",
        "\n",
        "Escreva um programa que peça números reais (float) do usuário indefinidamente . Caso os números digitados não estejam situados entre 0 e 10 o programa deverá ser finalizado, mostrando a soma e a quantidade de números digitados."
      ]
    },
    {
      "cell_type": "code",
      "metadata": {
        "colab": {
          "base_uri": "https://localhost:8080/"
        },
        "id": "xtyylVBXBOa6",
        "outputId": "e18f0af2-4a6c-4dc2-fcb1-b5c36c892925"
      },
      "source": [
        "# usando for\n",
        "numList = []\n",
        "\n",
        "num = float(input('Digite um número qualquer: '))\n",
        "numList.append(num)\n",
        "\n",
        "for i in numList:\n",
        "  if (num>=0 and num<=10):\n",
        "      num = float(input('Digite um número qualquer: '))\n",
        "      numList.append(num)\n",
        "\n",
        "print(f'A soma total dos números é {sum(numList)}. A quantidade de números digitados é {len(numList)}.')"
      ],
      "execution_count": null,
      "outputs": [
        {
          "output_type": "stream",
          "text": [
            "Digite um número qualquer: 10\n",
            "Digite um número qualquer: 11\n",
            "A soma total dos números é 21.0. A quantidade de números digitados é 2.\n"
          ],
          "name": "stdout"
        }
      ]
    },
    {
      "cell_type": "code",
      "metadata": {
        "colab": {
          "base_uri": "https://localhost:8080/"
        },
        "id": "pEGpAC1YJaam",
        "outputId": "9bb23127-5757-4d9b-9459-48f1aa00a603"
      },
      "source": [
        "# usando While\n",
        "\n",
        "numList = []\n",
        "num = True\n",
        "while (num>=0 and num<=10):\n",
        "    num = float(input('Digite um número qualquer: '))\n",
        "    numList.append(num)\n",
        "\n",
        "print(f'A soma total dos números é {sum(numList)}. A quantidade de números digitados é {len(numList)}.')"
      ],
      "execution_count": null,
      "outputs": [
        {
          "output_type": "stream",
          "text": [
            "Digite um número qualquer: 2\n",
            "Digite um número qualquer: 3\n",
            "Digite um número qualquer: 11\n",
            "A soma total dos números é 16.0. A quantidade de números digitados é 3.\n"
          ],
          "name": "stdout"
        }
      ]
    },
    {
      "cell_type": "markdown",
      "metadata": {
        "id": "WxlPTlMoaNIA"
      },
      "source": [
        "Escreva um programa que peça números reais (float) do usuário indefinidamente . Caso os números digitados não estejam situados entre 0 e 10 o programa deverá ser finalizado, mostrando a soma e a quantidade de números digitados."
      ]
    },
    {
      "cell_type": "code",
      "metadata": {
        "colab": {
          "base_uri": "https://localhost:8080/"
        },
        "id": "yJMVLVO4S3f2",
        "outputId": "1ea22718-56e0-4b15-ddd9-c12fc0e6c1b2"
      },
      "source": [
        "lista = list()\n",
        "\n",
        "def digitaNum(num):\n",
        "  if num >= 0 and num <= 10:\n",
        "      lista.append(num)\n",
        "      digitaNum(float(input('Digite um número: ')))\n",
        "  else:\n",
        "      lista.append(num)\n",
        "\n",
        "digitaNum(float(input('Digite um número: ')))\n",
        "\n",
        "print(f'A soma total dos números é {sum(lista)}. A quantidade de números digitados é {len(lista)}.')\n"
      ],
      "execution_count": null,
      "outputs": [
        {
          "output_type": "stream",
          "text": [
            "Digite um número: 2\n",
            "Digite um número: 3\n",
            "Digite um número: 11\n",
            "A soma total dos números é 16.0. A quantidade de números digitados é 3.\n"
          ],
          "name": "stdout"
        }
      ]
    },
    {
      "cell_type": "markdown",
      "metadata": {
        "id": "clJw2IcHlRTI"
      },
      "source": [
        "# Exercício 13\n",
        "\n",
        "Escreva um programa que peça ao usuário 20 números reais e ao final mostre a soma e a média dos números digitados."
      ]
    },
    {
      "cell_type": "code",
      "metadata": {
        "colab": {
          "base_uri": "https://localhost:8080/"
        },
        "id": "JvojNWJ4lT3G",
        "outputId": "b1a83a2c-a581-4280-c4b7-42f2934661b3"
      },
      "source": [
        "num = list()\n",
        "\n",
        "for i in range(1,21):\n",
        "  n = float(input(f'Digite o {i}º número: '))\n",
        "  num.append(n)\n",
        "\n",
        "print(f'A soma total dos números digitados é: {sum(num)}. A média dos números digitados é: {sum(num)/len(num)}')"
      ],
      "execution_count": null,
      "outputs": [
        {
          "output_type": "stream",
          "text": [
            "Digite o 1º número: 2\n",
            "Digite o 2º número: 2\n",
            "Digite o 3º número: 2\n",
            "Digite o 4º número: 2\n",
            "Digite o 5º número: 2\n",
            "Digite o 6º número: 2\n",
            "Digite o 7º número: 2\n",
            "Digite o 8º número: 2\n",
            "Digite o 9º número: 2\n",
            "Digite o 10º número: 2\n",
            "Digite o 11º número: 2\n",
            "Digite o 12º número: 2\n",
            "Digite o 13º número: 2\n",
            "Digite o 14º número: 22\n",
            "Digite o 15º número: 2\n",
            "Digite o 16º número: 2\n",
            "Digite o 17º número: 2\n",
            "Digite o 18º número: 2\n",
            "Digite o 19º número: 2\n",
            "Digite o 20º número: 2\n",
            "A soma total dos números digitados é: 60.0. A média dos números digitados é: 3.0\n"
          ],
          "name": "stdout"
        }
      ]
    },
    {
      "cell_type": "markdown",
      "metadata": {
        "id": "po8wPoumnHlF"
      },
      "source": [
        "# Exercício 14\n",
        "\n",
        "Elabore um programa que calcule e mostre na tela os números pares entre 1 e 200. Os números devem ser mostrados na tela de acordo com o formato a seguir:\n",
        "\n",
        "```\n",
        "2 4 6 8 10 12 14 16 18 20 22 24 26 28 30 32 34 36 38 40 42 44 46 48 50 52 54 56 58 60 62 64 66 68 70 72 74 76 78 80 82 84 86 88 90 92 94 96 98 100 102 104 106 108 110 112 114 116 118 120 122 124 126 128 130 132 134 136 138 140 142 144 146 148 150 152 154 156 158 160 162 164 166 168 170 172 174 176 178 180 182 184 186 188 190 192 194 196 198 200\n",
        "```\n"
      ]
    },
    {
      "cell_type": "code",
      "metadata": {
        "colab": {
          "base_uri": "https://localhost:8080/"
        },
        "id": "mRfW4gT3nNo6",
        "outputId": "628485bd-339b-47e8-9ff4-45b22b82fb9e"
      },
      "source": [
        "for i in range(2,201,2):\n",
        "  print(i,end=' ')"
      ],
      "execution_count": null,
      "outputs": [
        {
          "output_type": "stream",
          "text": [
            "2 4 6 8 10 12 14 16 18 20 22 24 26 28 30 32 34 36 38 40 42 44 46 48 50 52 54 56 58 60 62 64 66 68 70 72 74 76 78 80 82 84 86 88 90 92 94 96 98 100 102 104 106 108 110 112 114 116 118 120 122 124 126 128 130 132 134 136 138 140 142 144 146 148 150 152 154 156 158 160 162 164 166 168 170 172 174 176 178 180 182 184 186 188 190 192 194 196 198 200 "
          ],
          "name": "stdout"
        }
      ]
    },
    {
      "cell_type": "markdown",
      "metadata": {
        "id": "-LcTo63wwTVw"
      },
      "source": [
        "# Exercício 16\n",
        "\n",
        "Escreva um programa que peça um número inteiro do usuário e mostre na tela o fatorial deste número."
      ]
    },
    {
      "cell_type": "code",
      "metadata": {
        "colab": {
          "base_uri": "https://localhost:8080/"
        },
        "id": "kZwyzihQ42pL",
        "outputId": "3ab587fd-2219-431a-a870-8ced0e577ce9"
      },
      "source": [
        "num = float(input('Digite um número: '))\n",
        "\n",
        "i=2\n",
        "fat=1\n",
        "while (i<=num):\n",
        "  fat = fat*i\n",
        "  i = i+1\n",
        "\n",
        "print(fat)"
      ],
      "execution_count": null,
      "outputs": [
        {
          "output_type": "stream",
          "text": [
            "Digite um número: 5\n",
            "120\n"
          ],
          "name": "stdout"
        }
      ]
    },
    {
      "cell_type": "markdown",
      "metadata": {
        "id": "52zlH51M72Jj"
      },
      "source": [
        "# Exercício 17\n",
        "\n",
        "Escreva um programa que peça números inteiros positivos indefinidamente e armazene-os em uma lista. O programa deverá ser encerrado caso o número digitado seja negativo ou nulo. Ao final mostre na tela a quantidade números pares e ímpares."
      ]
    },
    {
      "cell_type": "code",
      "metadata": {
        "colab": {
          "base_uri": "https://localhost:8080/"
        },
        "id": "ZQEtfOJp7694",
        "outputId": "6f7aa177-859b-490f-e57e-45a210f73d31"
      },
      "source": [
        "# Utilizando while\n",
        "\n",
        "lista = list()\n",
        "\n",
        "n = int(input('Digite um número inteiro: '))\n",
        "lista.append(n)\n",
        "\n",
        "i=1\n",
        "while (i>0):\n",
        "  if n>0:\n",
        "    n = int(input('Digite um número inteiro: '))\n",
        "    lista.append(n)\n",
        "  else:\n",
        "    i=-1\n",
        "\n",
        "print(lista)"
      ],
      "execution_count": null,
      "outputs": [
        {
          "output_type": "stream",
          "text": [
            "Digite um número inteiro: -1\n",
            "[-1]\n"
          ],
          "name": "stdout"
        }
      ]
    },
    {
      "cell_type": "code",
      "metadata": {
        "colab": {
          "base_uri": "https://localhost:8080/"
        },
        "id": "s-CdNprGAwnj",
        "outputId": "9e50bb81-7e0d-4667-cbac-cadeeb7fed73"
      },
      "source": [
        "# Utilizando for\n",
        "\n",
        "lista = list()\n",
        "\n",
        "n = int(input('Digite um número inteiro: '))\n",
        "lista.append(n)\n",
        "\n",
        "if n>0:  \n",
        "  for i in lista:\n",
        "    if n>0:\n",
        "      n = int(input('Digite um número inteiro: '))\n",
        "      lista.append(n)\n",
        "    else:\n",
        "      i=-1\n",
        "\n",
        "print(lista)"
      ],
      "execution_count": null,
      "outputs": [
        {
          "output_type": "stream",
          "text": [
            "Digite um número inteiro: 1\n",
            "Digite um número inteiro: 2\n",
            "Digite um número inteiro: 3\n",
            "Digite um número inteiro: 4\n",
            "Digite um número inteiro: 5\n",
            "Digite um número inteiro: 0\n",
            "[1, 2, 3, 4, 5, 0]\n"
          ],
          "name": "stdout"
        }
      ]
    },
    {
      "cell_type": "markdown",
      "metadata": {
        "id": "3T2kc9FnccON"
      },
      "source": [
        "# Exercício 18\n",
        "\n",
        "Elabore um programa que embaralhe a lista a seguir e mostre na tela cada elemento.\n",
        "\n",
        "```\n",
        "lista=['A','B','C','D','E','F','G','H','I','J','K','L','M'] \n",
        "\n",
        "O output do programa pode seguir o padrão abaixo:\n",
        "\n",
        "A\n",
        "C\n",
        "B\n",
        "K\n",
        "J\n",
        "F\n",
        "M\n",
        "D\n",
        "H\n",
        "G\n",
        "L\n",
        "I\n",
        "E\n",
        "```"
      ]
    },
    {
      "cell_type": "code",
      "metadata": {
        "colab": {
          "base_uri": "https://localhost:8080/"
        },
        "id": "_np5eWtHc9-K",
        "outputId": "c6b5ec16-59a2-4082-f511-6e126bf34d90"
      },
      "source": [
        "import random\n",
        "\n",
        "lista=['A','B','C','D','E','F','G','H','I','J','K','L','M'] \n",
        "random.shuffle(lista)\n",
        "\n",
        "for c,v in enumerate(lista):\n",
        "  print(v)"
      ],
      "execution_count": null,
      "outputs": [
        {
          "output_type": "stream",
          "text": [
            "K\n",
            "C\n",
            "F\n",
            "B\n",
            "H\n",
            "M\n",
            "L\n",
            "D\n",
            "I\n",
            "J\n",
            "A\n",
            "G\n",
            "E\n"
          ],
          "name": "stdout"
        }
      ]
    },
    {
      "cell_type": "markdown",
      "metadata": {
        "id": "--_CLuLgnYsd"
      },
      "source": [
        "# Exercício 19\n",
        "\n",
        "Peça 5 números do usuário e mostre na tela a média dos números digitados."
      ]
    },
    {
      "cell_type": "code",
      "metadata": {
        "colab": {
          "base_uri": "https://localhost:8080/"
        },
        "id": "oataTFpLnoPc",
        "outputId": "72441c4b-2a6d-4180-e499-dccfebd10cf7"
      },
      "source": [
        "lista = list()\n",
        "\n",
        "for n in range(0,5):\n",
        "  lista.append(float(input('Digite um número: ')))\n",
        "\n",
        "print(sum(lista)/len(lista))"
      ],
      "execution_count": null,
      "outputs": [
        {
          "output_type": "stream",
          "text": [
            "Digite um número: 1\n",
            "Digite um número: 2\n",
            "Digite um número: 3\n",
            "Digite um número: 4\n",
            "Digite um número: 5\n",
            "3.0\n"
          ],
          "name": "stdout"
        }
      ]
    },
    {
      "cell_type": "markdown",
      "metadata": {
        "id": "4Vplau2godgn"
      },
      "source": [
        "# Exercício 20\n",
        "\n",
        "Considere a lista de produtos abaixo e implemente duas soluções para somar o valor total deste carrinho de compras.\n",
        "\n",
        "Dica: utilize List comprehension e/ou  loop for.\n",
        "\n",
        "```\n",
        "lista_compras=[\n",
        "    {'nome':'feijão','preco':9.79},\n",
        "    {'nome':'arroz','preco':3.45},\n",
        "    {'nome':'carne','preco':20.93},\n",
        "    {'nome':'macarrão','preco':2.99},\n",
        "    {'nome':'vinagre','preco':2.25},\n",
        "    {'nome':'pimenta','preco':1.27},\n",
        "    {'nome':'batata','preco':5.67},\n",
        "    {'nome':'leite','preco':12},\n",
        "    {'nome':'manteiga','preco':7.99},\n",
        "    {'nome':'margarina','preco':2.5},\n",
        "    {'nome':'cenoura','preco':3.55},\n",
        "    {'nome':'sabão','preco':4.79},\n",
        "    {'nome':'chá','preco':3.45},\n",
        "    {'nome':'morango','preco':17.8},\n",
        "    {'nome':'soja','preco':20.2},\n",
        "    {'nome':'goiaba','preco':3.45},\n",
        "    {'nome':'melão','preco':5.12},\n",
        "]\n",
        "```"
      ]
    },
    {
      "cell_type": "code",
      "metadata": {
        "colab": {
          "base_uri": "https://localhost:8080/"
        },
        "id": "267gFNIIppDY",
        "outputId": "a88407ed-b82c-479b-dc12-ce9b1ce8d51d"
      },
      "source": [
        "lista_compras=[\n",
        "    {'nome':'feijão','preco':9.79},\n",
        "    {'nome':'arroz','preco':3.45},\n",
        "    {'nome':'carne','preco':20.93},\n",
        "    {'nome':'macarrão','preco':2.99},\n",
        "    {'nome':'vinagre','preco':2.25},\n",
        "    {'nome':'pimenta','preco':1.27},\n",
        "    {'nome':'batata','preco':5.67},\n",
        "    {'nome':'leite','preco':12},\n",
        "    {'nome':'manteiga','preco':7.99},\n",
        "    {'nome':'margarina','preco':2.5},\n",
        "    {'nome':'cenoura','preco':3.55},\n",
        "    {'nome':'sabão','preco':4.79},\n",
        "    {'nome':'chá','preco':3.45},\n",
        "    {'nome':'morango','preco':17.8},\n",
        "    {'nome':'soja','preco':20.2},\n",
        "    {'nome':'goiaba','preco':3.45},\n",
        "    {'nome':'melão','preco':5.12},\n",
        "]\n",
        "\n",
        "\n",
        "# List Comprehensions\n",
        "\n",
        "def soma(x):\n",
        "  resultado = 0 \n",
        "  soma = x\n",
        "  resultado += soma\n",
        "  return resultado\n",
        "\n",
        "total = [soma(n['preco']) for n in lista_compras]\n",
        "print(f'O valor total do preço é: {round(sum(total),15)}')\n",
        "\n",
        "# Loop for\n",
        "result = 0\n",
        "for n in lista_compras:\n",
        "  soma = n['preco']\n",
        "  result += soma\n",
        "\n",
        "print(f'O valor total do preço é: {round(result,2)}')\n",
        "\n"
      ],
      "execution_count": null,
      "outputs": [
        {
          "output_type": "stream",
          "text": [
            "O valor total do preço é: 127.20000000000002\n",
            "O valor total do preço é: 127.2\n"
          ],
          "name": "stdout"
        }
      ]
    },
    {
      "cell_type": "markdown",
      "metadata": {
        "id": "wW_xEQYoK-0t"
      },
      "source": [
        "# Exercício 21\n",
        "\n",
        "Considere a lista de produtos abaixo e implemente um programa que calcule e mostre na tela (nome e preço) o produto mais caro e o produto mais barato, desta cesta de bens.\n",
        "\n",
        "```\n",
        "lista_compras=[\n",
        "    {'nome':'feijão','preco':9.79},\n",
        "    {'nome':'arroz','preco':3.45},\n",
        "    {'nome':'carne','preco':20.93},\n",
        "    {'nome':'macarrão','preco':2.99},\n",
        "    {'nome':'vinagre','preco':2.25},\n",
        "    {'nome':'pimenta','preco':1.27},\n",
        "    {'nome':'batata','preco':5.67},\n",
        "    {'nome':'leite','preco':12},\n",
        "    {'nome':'manteiga','preco':7.99},\n",
        "    {'nome':'margarina','preco':2.5},\n",
        "    {'nome':'cenoura','preco':3.55},\n",
        "    {'nome':'sabão','preco':4.79},\n",
        "    {'nome':'chá','preco':3.45},\n",
        "    {'nome':'morango','preco':17.8},\n",
        "    {'nome':'soja','preco':20.2},\n",
        "    {'nome':'goiaba','preco':3.45},\n",
        "    {'nome':'melão','preco':5.12},\n",
        "]\n",
        "```"
      ]
    },
    {
      "cell_type": "code",
      "metadata": {
        "colab": {
          "base_uri": "https://localhost:8080/"
        },
        "id": "sVdMaBTIQOum",
        "outputId": "6e764110-7e3f-4068-e3dc-5755ad24db23"
      },
      "source": [
        "lista_compras=[\n",
        "    {'nome':'feijão','preco':9.79},\n",
        "    {'nome':'arroz','preco':3.45},\n",
        "    {'nome':'carne','preco':20.93},\n",
        "    {'nome':'macarrão','preco':2.99},\n",
        "    {'nome':'vinagre','preco':2.25},\n",
        "    {'nome':'pimenta','preco':1.27},\n",
        "    {'nome':'batata','preco':5.67},\n",
        "    {'nome':'leite','preco':12},\n",
        "    {'nome':'manteiga','preco':7.99},\n",
        "    {'nome':'margarina','preco':2.5},\n",
        "    {'nome':'cenoura','preco':3.55},\n",
        "    {'nome':'sabão','preco':4.79},\n",
        "    {'nome':'chá','preco':3.45},\n",
        "    {'nome':'morango','preco':17.8},\n",
        "    {'nome':'soja','preco':20.2},\n",
        "    {'nome':'goiaba','preco':3.45},\n",
        "    {'nome':'melão','preco':5.12},\n",
        "]\n",
        "\n",
        "produto_max=max(lista_compras,key=lambda produto:produto['preco'])\n",
        "produto_min=min(lista_compras,key=lambda produto:produto['preco'])\n",
        "print(f\"Produto mais caro: {produto_max['nome'].title()} - R$ {produto_max['preco']:.2f}\" )\n",
        "print(f\"Produto mais barato: {produto_min['nome'].title()} - R$ {produto_min['preco']:.2f}\")"
      ],
      "execution_count": null,
      "outputs": [
        {
          "output_type": "stream",
          "text": [
            "Produto mais caro: Carne - R$ 20.93\n",
            "Produto mais barato: Pimenta - R$ 1.27\n"
          ],
          "name": "stdout"
        }
      ]
    },
    {
      "cell_type": "markdown",
      "metadata": {
        "id": "enr93ouIYGkJ"
      },
      "source": [
        "# Exercício 22\n",
        "\n",
        "Escreva um programa que peça 5 números inteiros não-nulos ao usuário e mostre na tela o quadrado de cada número digitado."
      ]
    },
    {
      "cell_type": "code",
      "metadata": {
        "colab": {
          "base_uri": "https://localhost:8080/"
        },
        "id": "kXX_N7yZYKbC",
        "outputId": "01d625ed-63c4-439d-be89-27c21358cc43"
      },
      "source": [
        "lista = list()\n",
        "\n",
        "for num in range(1,6):\n",
        "  result = int(input('Digite um número não-nulo: '))\n",
        "  if result != 0:\n",
        "    lista.append(result)\n",
        "  else:\n",
        "    print('Número inválido!')\n",
        "  if num == 5:\n",
        "    for x in lista:\n",
        "      print(f'O quadrado de {x} é {x**2}')"
      ],
      "execution_count": null,
      "outputs": [
        {
          "output_type": "stream",
          "text": [
            "Digite um número não-nulo: 2\n",
            "Digite um número não-nulo: 3\n",
            "Digite um número não-nulo: 4\n",
            "Digite um número não-nulo: 5\n",
            "Digite um número não-nulo: 6\n",
            "O quadrado de 2 é 4\n",
            "O quadrado de 3 é 9\n",
            "O quadrado de 4 é 16\n",
            "O quadrado de 5 é 25\n",
            "O quadrado de 6 é 36\n"
          ],
          "name": "stdout"
        }
      ]
    },
    {
      "cell_type": "markdown",
      "metadata": {
        "id": "mMzc7_-yiLhz"
      },
      "source": [
        "# Exercício 23\n",
        "\n",
        "Considere um número inteiro positivo n especificado pelo usuário. Elabore um programa que calcule e mostre na tela:\n",
        "\n",
        "A soma dos n primeiros números inteiros não-nulos (1+2+3+ ... +n) ;\n",
        "\n",
        "A soma dos n primeiros números pares;\n",
        "\n",
        "A soma dos n primeiros números ímpares."
      ]
    },
    {
      "cell_type": "code",
      "metadata": {
        "colab": {
          "base_uri": "https://localhost:8080/"
        },
        "id": "R-30jYx0iOY1",
        "outputId": "9367e11c-af08-438c-adc3-181ce6a52959"
      },
      "source": [
        "num=int(input('Digite um número inteiro positivo: '))\n",
        "soma=0\n",
        "soma_par=0\n",
        "soma_impar=0\n",
        " \n",
        "if num>0: \n",
        "    for i in range(1,num+1):\n",
        "        soma+=i \n",
        "        if i%2==0: \n",
        "            soma_par+=i  \n",
        "        if i%2!=0:  \n",
        "            soma_impar+=i  \n",
        "            \n",
        "        if i==num:  \n",
        "            print(f'Soma total: {soma}')\n",
        "            print(f'Soma dos números pares: {soma_par}')\n",
        "            print(f'Soma dos números ímpares: {soma_impar}')\n",
        "else:  \n",
        "    print('O valor inserido não é válido.')"
      ],
      "execution_count": null,
      "outputs": [
        {
          "output_type": "stream",
          "text": [
            "Digite um número inteiro positivo: 500\n",
            "Soma total: 125250\n",
            "Soma dos números pares: 62750\n",
            "Soma dos números ímpares: 62500\n"
          ],
          "name": "stdout"
        }
      ]
    },
    {
      "cell_type": "markdown",
      "metadata": {
        "id": "cYPmMmNAiyjf"
      },
      "source": [
        "## Exercício 24\n",
        "\n",
        "Escreva um programa para checar se um determinado número é primo ou não.\n",
        "\n",
        "Lembrete: um número primo pode ser dividido por apenas dois números, quais sejam: ele mesmo e o número um.\n",
        "\n",
        "\n",
        "\n",
        "2, 3, 5, 7, 11, 13, 17, 19, 23, 29, 31, 37, 41, 43, 47, 53, 59, 61, 67, 71, 73, 79, 83, 89 e 97  (Números primos entre 1 e 100)"
      ]
    },
    {
      "cell_type": "code",
      "metadata": {
        "colab": {
          "base_uri": "https://localhost:8080/"
        },
        "id": "BL-5nNbXi5ne",
        "outputId": "70ca9668-9949-4769-9c4b-345bd7b4a452"
      },
      "source": [
        "n = int(input('Digite um número: '))\n",
        "\n",
        "result1 = n%2 \n",
        "\n",
        "if result1!=0 or n==2 or n==1:\n",
        "  print(f'O número {n} é um número primo')\n",
        "else:\n",
        "  print(f'O número {n} não é um número primo')"
      ],
      "execution_count": null,
      "outputs": [
        {
          "output_type": "stream",
          "text": [
            "Digite um número: 10\n",
            "O número 10 não é um número primo\n"
          ],
          "name": "stdout"
        }
      ]
    },
    {
      "cell_type": "markdown",
      "metadata": {
        "id": "FLdRGpvErrbO"
      },
      "source": [
        "## Exercício 25\n",
        "\n",
        "Elabore um programa para imprimir todos os números primos existentes em um intervalo delimitado pelo usuário.\n",
        "\n"
      ]
    },
    {
      "cell_type": "code",
      "metadata": {
        "colab": {
          "base_uri": "https://localhost:8080/"
        },
        "id": "3wVgqLuAryMr",
        "outputId": "8ba61176-97a8-4229-c8d9-33d0980b5343"
      },
      "source": [
        "num = int(input('Digite um número: '))\n",
        "\n",
        "for n in range(1,num+1):\n",
        "  result1 = n%2\n",
        "  result2 = n%3\n",
        "  \n",
        "  if (result1!=0 and result2!=0) or n==1 or n==2 or n==3:\n",
        "    print(n)"
      ],
      "execution_count": null,
      "outputs": [
        {
          "output_type": "stream",
          "text": [
            "Digite um número: 15\n",
            "1\n",
            "2\n",
            "3\n",
            "5\n",
            "7\n",
            "11\n",
            "13\n"
          ],
          "name": "stdout"
        }
      ]
    },
    {
      "cell_type": "markdown",
      "metadata": {
        "id": "gjzsjUtj000M"
      },
      "source": [
        "# Exercício \n",
        "\n",
        "Elabore um programa para imprimir a sequência de Fibonacci até o n-ésimo termo definido pelo usuário. Certifique que o usuário digite um número inteiro positivo.\n",
        "\n",
        "0,1, 1, 2, 3, 5, 8, 13, 21, 34, 55, 89, 144, 233, 377, 610, 987, 1597, 2584,..."
      ]
    },
    {
      "cell_type": "code",
      "metadata": {
        "colab": {
          "base_uri": "https://localhost:8080/"
        },
        "id": "qLgkEtPo08H0",
        "outputId": "d4f814bd-245d-410a-e0fc-5af48e66ca83"
      },
      "source": [
        "# Usando for\n",
        "num = int(input('Digite um número inteiro positivo: '))\n",
        "\n",
        "resultado = 0\n",
        "if num <= 0:\n",
        "  print('Número inválido!')\n",
        "else:\n",
        "  first = 0\n",
        "  second = 1\n",
        "  count = 0\n",
        "  for count in range(0,num):\n",
        "    print(first)\n",
        "    temp = first + second\n",
        "    first = second\n",
        "    second = temp"
      ],
      "execution_count": null,
      "outputs": [
        {
          "output_type": "stream",
          "text": [
            "Digite um número inteiro positivo: 5\n",
            "0\n",
            "1\n",
            "1\n",
            "2\n",
            "3\n"
          ],
          "name": "stdout"
        }
      ]
    },
    {
      "cell_type": "code",
      "metadata": {
        "colab": {
          "base_uri": "https://localhost:8080/"
        },
        "id": "iq1Ea8lmuXks",
        "outputId": "3585aafc-c95a-42bd-ef68-f8ebe8d32ac2"
      },
      "source": [
        "# Usando while\n",
        "n_termo=int(input('Deseja imprimir a sequência de Fibonacci até qual termo? '))\n",
        " \n",
        "num1,num2=0,1  #números iniciais da sequência\n",
        "contador=0\n",
        " \n",
        "if n_termo<=0:\n",
        "    print('O número deve ser positivo.')\n",
        "elif n_termo==1:\n",
        "    print(num1)\n",
        "else:\n",
        "    while contador<n_termo:\n",
        "        print(num1)\n",
        "        num1,num2=num2,num1+num2  #atualizando os valores\n",
        "        contador+=1"
      ],
      "execution_count": null,
      "outputs": [
        {
          "output_type": "stream",
          "text": [
            "Deseja imprimir a sequência de Fibonacci até qual termo? 2\n",
            "0\n",
            "1\n"
          ],
          "name": "stdout"
        }
      ]
    },
    {
      "cell_type": "markdown",
      "metadata": {
        "id": "TuOz50u5x1P3"
      },
      "source": [
        "# Exercício 27\n",
        "\n",
        "Escreva um programa que mostre na tela o tipo de cada dado da lista a seguir. Utilize a função built-in type.\n",
        "\n",
        "```\n",
        "lista=[\n",
        "    (1,),\n",
        "    [1,2,3],\n",
        "    (1),\n",
        "    {4,5},\n",
        "    {'nome':'A','value':2},\n",
        "    10,\n",
        "    [],\n",
        "    1+3j,\n",
        "    1.2,\n",
        "    True,\n",
        "    False,\n",
        "    None,\n",
        "    'Hello World!',\n",
        "]\n",
        "```"
      ]
    },
    {
      "cell_type": "code",
      "metadata": {
        "colab": {
          "base_uri": "https://localhost:8080/"
        },
        "id": "8CgNdvr9x-Ml",
        "outputId": "97f3413b-95df-42aa-f1e4-3ef9d5d81ed6"
      },
      "source": [
        "lista=[\n",
        "    (1,),\n",
        "    [1,2,3],\n",
        "    (1),\n",
        "    {4,5},\n",
        "    {'nome':'A','value':2},\n",
        "    10,\n",
        "    [],\n",
        "    1+3j,\n",
        "    1.2,\n",
        "    True,\n",
        "    False,\n",
        "    None,\n",
        "    'Hello World!',\n",
        "]\n",
        "\n",
        "for n in lista:\n",
        "  print(n,type(n))"
      ],
      "execution_count": 2,
      "outputs": [
        {
          "output_type": "stream",
          "text": [
            "(1,) <class 'tuple'>\n",
            "[1, 2, 3] <class 'list'>\n",
            "1 <class 'int'>\n",
            "{4, 5} <class 'set'>\n",
            "{'nome': 'A', 'value': 2} <class 'dict'>\n",
            "10 <class 'int'>\n",
            "[] <class 'list'>\n",
            "(1+3j) <class 'complex'>\n",
            "1.2 <class 'float'>\n",
            "True <class 'bool'>\n",
            "False <class 'bool'>\n",
            "None <class 'NoneType'>\n",
            "Hello World! <class 'str'>\n"
          ],
          "name": "stdout"
        }
      ]
    },
    {
      "cell_type": "markdown",
      "metadata": {
        "id": "ej38AWepjiEj"
      },
      "source": [
        "# Exercício 28\n",
        "\n",
        "Escreva um programa para somar todos os números naturais em um intervalo definido pelo usuário."
      ]
    },
    {
      "cell_type": "code",
      "metadata": {
        "colab": {
          "base_uri": "https://localhost:8080/"
        },
        "id": "JNX592HijlZy",
        "outputId": "15876599-2d69-4c27-d831-356c8dd8030d"
      },
      "source": [
        "n1 = int(input('Digite um número inicial: '))\n",
        "n2 = int(input('Digite um número inicial: '))\n",
        "\n",
        "if n1<0 or n2<0:\n",
        "  print('Número inválido')\n",
        "else: \n",
        "  count = 0\n",
        "  resultado = 0\n",
        "  for n in range(n1,n2+1):\n",
        "    count = n\n",
        "    resultado += count\n",
        "  print(f'A soma é: {resultado}')\n"
      ],
      "execution_count": 11,
      "outputs": [
        {
          "output_type": "stream",
          "text": [
            "Digite um número inicial: 1\n",
            "Digite um número inicial: -2\n",
            "Número inválido\n"
          ],
          "name": "stdout"
        }
      ]
    },
    {
      "cell_type": "markdown",
      "metadata": {
        "id": "F9ueMiVcLYCj"
      },
      "source": [
        "# Exercício 29\n",
        "\n",
        "Escreva um programa que replique o padrão de caracteres descrito a seguir.\n",
        "\n",
        "Dica: use loop for.\n",
        "\n",
        "```\n",
        "*\n",
        "**\n",
        "***\n",
        "****\n",
        "*****\n",
        "*****\n",
        "******\n",
        "*******\n",
        "********\n",
        "*********\n",
        "**********\n",
        "*********\n",
        "********\n",
        "*******\n",
        "******\n",
        "*****\n",
        "****\n",
        "***\n",
        "**\n",
        "*\n",
        "```"
      ]
    },
    {
      "cell_type": "code",
      "metadata": {
        "colab": {
          "base_uri": "https://localhost:8080/"
        },
        "id": "dDddnJloLrKR",
        "outputId": "984507c9-b928-4527-e367-805f82db3d5b"
      },
      "source": [
        "for n in range(1,11):\n",
        "  print(n*'*')\n",
        "  if n==4:\n",
        "    print('*'*(n+1))\n",
        "for n in range(11,0,-1):\n",
        "  print(n*'*')"
      ],
      "execution_count": 21,
      "outputs": [
        {
          "output_type": "stream",
          "text": [
            "*\n",
            "**\n",
            "***\n",
            "****\n",
            "*****\n",
            "*****\n",
            "******\n",
            "*******\n",
            "********\n",
            "*********\n",
            "**********\n",
            "***********\n",
            "**********\n",
            "*********\n",
            "********\n",
            "*******\n",
            "******\n",
            "*****\n",
            "****\n",
            "***\n",
            "**\n",
            "*\n"
          ],
          "name": "stdout"
        }
      ]
    },
    {
      "cell_type": "markdown",
      "metadata": {
        "id": "JBRYEHWBNDFK"
      },
      "source": [
        "# Exercício 30\n",
        "\n",
        "Considere a lista abaixo e escreva um programa que mostre na tela a quantidade de números pares e ímpares.\n",
        "\n",
        "```\n",
        "lista=[944, 52, 161, 436, 77, 217, \n",
        "616, 639, 280, 277, 907, 735, 321, \n",
        "194, 736, 130, 793, 148, 799, 631, \n",
        "906, 417, 186, 913, 446, 537, 86, 75, \n",
        "328, 77, 899, 481, 303, 997, 212, 217,\n",
        "696, 391, 402, 800, 709, 293, 9, 700, \n",
        "108, 253, 562, 166, 252, 315, 655, 680,\n",
        "944, 8, 850, 765, 821, 216, 685, 666,\n",
        "860, 32, 492, 880, 714, 424, 270, 308,\n",
        "641, 83, 555, 807, 840, 724, 193, 256, \n",
        "556, 665, 902, 714, 564, 13, 903, 625, 14, \n",
        "551, 301, 915, 633, 781, 427, 517, 372, \n",
        "164, 469, 194, 5, 818, 776,\n",
        "] \n",
        "```\n"
      ]
    },
    {
      "cell_type": "code",
      "metadata": {
        "colab": {
          "base_uri": "https://localhost:8080/"
        },
        "id": "m-XKa13JNMAj",
        "outputId": "135f7946-a084-414c-83bf-aad124cef215"
      },
      "source": [
        "lista=[944, 52, 161, 436, 77, 217, \n",
        "616, 639, 280, 277, 907, 735, 321, \n",
        "194, 736, 130, 793, 148, 799, 631, \n",
        "906, 417, 186, 913, 446, 537, 86, 75, \n",
        "328, 77, 899, 481, 303, 997, 212, 217,\n",
        "696, 391, 402, 800, 709, 293, 9, 700, \n",
        "108, 253, 562, 166, 252, 315, 655, 680,\n",
        "944, 8, 850, 765, 821, 216, 685, 666,\n",
        "860, 32, 492, 880, 714, 424, 270, 308,\n",
        "641, 83, 555, 807, 840, 724, 193, 256, \n",
        "556, 665, 902, 714, 564, 13, 903, 625, 14, \n",
        "551, 301, 915, 633, 781, 427, 517, 372, \n",
        "164, 469, 194, 5, 818, 776,\n",
        "] \n",
        "\n",
        "pair = 0\n",
        "odd = 0\n",
        "for key,values in enumerate(lista):\n",
        "  result = values%2\n",
        "  if result==0:\n",
        "    pair += 1\n",
        "  else:\n",
        "    odd += 1\n",
        "\n",
        "print(pair,odd)"
      ],
      "execution_count": 33,
      "outputs": [
        {
          "output_type": "stream",
          "text": [
            "50 49\n"
          ],
          "name": "stdout"
        }
      ]
    },
    {
      "cell_type": "code",
      "metadata": {
        "colab": {
          "base_uri": "https://localhost:8080/"
        },
        "id": "SmNM6-MqS4v8",
        "outputId": "c8f5ef30-0428-42a9-9c1f-28ae94d1f15e"
      },
      "source": [
        "lista=[944, 52, 161, 436, 77, 217, \n",
        "616, 639, 280, 277, 907, 735, 321, \n",
        "194, 736, 130, 793, 148, 799, 631, \n",
        "906, 417, 186, 913, 446, 537, 86, 75, \n",
        "328, 77, 899, 481, 303, 997, 212, 217,\n",
        "696, 391, 402, 800, 709, 293, 9, 700, \n",
        "108, 253, 562, 166, 252, 315, 655, 680,\n",
        "944, 8, 850, 765, 821, 216, 685, 666,\n",
        "860, 32, 492, 880, 714, 424, 270, 308,\n",
        "641, 83, 555, 807, 840, 724, 193, 256, \n",
        "556, 665, 902, 714, 564, 13, 903, 625, 14, \n",
        "551, 301, 915, 633, 781, 427, 517, 372, \n",
        "164, 469, 194, 5, 818, 776,\n",
        "] \n",
        " \n",
        "lista_par=[numero for numero in lista if numero%2==0]\n",
        "lista_impar=[numero for numero in lista if numero%2!=0]\n",
        "print(f'Quantidade de números pares: {len(lista_par)}')\n",
        "print(f'Quantidade de números pares: {len(lista_impar)}')"
      ],
      "execution_count": 34,
      "outputs": [
        {
          "output_type": "stream",
          "text": [
            "Quantidade de números pares: 50\n",
            "Quantidade de números pares: 49\n"
          ],
          "name": "stdout"
        }
      ]
    },
    {
      "cell_type": "markdown",
      "metadata": {
        "id": "Jt-u9l7vTUuT"
      },
      "source": [
        "# Exercício 31\n",
        "\n",
        "Escreva um programa para replicar o padrão descrito a seguir.\n",
        "\n",
        "```\n",
        "1\n",
        "22\n",
        "333\n",
        "4444\n",
        "55555\n",
        "666666\n",
        "7777777\n",
        "88888888\n",
        "999999999\n",
        "10101010101010101010\n",
        "1111111111111111111111\n",
        "121212121212121212121212\n",
        "13131313131313131313131313\n",
        "1414141414141414141414141414\n",
        "151515151515151515151515151515\n",
        "16161616161616161616161616161616\n",
        "1717171717171717171717171717171717\n",
        "181818181818181818181818181818181818\n",
        "19191919191919191919191919191919191919\n",
        "2020202020202020202020202020202020202020\n",
        "```"
      ]
    },
    {
      "cell_type": "code",
      "metadata": {
        "colab": {
          "base_uri": "https://localhost:8080/"
        },
        "id": "zcIZuy79WZ-m",
        "outputId": "271701bf-6f43-4272-812a-3c2d0e24cf05"
      },
      "source": [
        "for n in range(1,21):\n",
        "  num = str(n)\n",
        "  print(n*num)"
      ],
      "execution_count": 37,
      "outputs": [
        {
          "output_type": "stream",
          "text": [
            "1\n",
            "22\n",
            "333\n",
            "4444\n",
            "55555\n",
            "666666\n",
            "7777777\n",
            "88888888\n",
            "999999999\n",
            "10101010101010101010\n",
            "1111111111111111111111\n",
            "121212121212121212121212\n",
            "13131313131313131313131313\n",
            "1414141414141414141414141414\n",
            "151515151515151515151515151515\n",
            "16161616161616161616161616161616\n",
            "1717171717171717171717171717171717\n",
            "181818181818181818181818181818181818\n",
            "19191919191919191919191919191919191919\n",
            "2020202020202020202020202020202020202020\n"
          ],
          "name": "stdout"
        }
      ]
    },
    {
      "cell_type": "markdown",
      "metadata": {
        "id": "deeu-KWbYlpo"
      },
      "source": [
        "# Exercício \n",
        "\n",
        "Escreva um programa que replique o padrão de números a seguir, tal que o usuário insira o n-ésimo termo.\n",
        "\n",
        "```\n",
        "1 \n",
        "1 2 \n",
        "1 2 3 \n",
        "1 2 3 4 \n",
        "1 2 3 4 5 \n",
        "1 2 3 4 5 6 \n",
        "1 2 3 4 5 6 7 \n",
        "1 2 3 4 5 6 7 8 \n",
        "1 2 3 4 5 6 7 8 9 \n",
        "1 2 3 4 5 6 7 8 9 10 \n",
        "      ...\n",
        "1 2 3 4 5 6 7 8 9 10 ... n\n",
        "```"
      ]
    },
    {
      "cell_type": "code",
      "metadata": {
        "colab": {
          "base_uri": "https://localhost:8080/"
        },
        "id": "Qvh8JeA1YqcV",
        "outputId": "8c6a2a1e-1c6d-4cea-cc1b-e6e3f451a88a"
      },
      "source": [
        "num = int(input('Digite um número: '))\n",
        "\n",
        "for n in range(1,num+1):\n",
        "  \n",
        "\n"
      ],
      "execution_count": 12,
      "outputs": [
        {
          "output_type": "stream",
          "text": [
            "Digite um número: 5\n",
            "1\n",
            "2\n",
            "3\n",
            "4\n",
            "5\n"
          ],
          "name": "stdout"
        }
      ]
    }
  ]
}