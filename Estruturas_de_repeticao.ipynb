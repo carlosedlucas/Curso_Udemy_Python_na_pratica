{
  "nbformat": 4,
  "nbformat_minor": 0,
  "metadata": {
    "colab": {
      "name": "Estruturas de repeticao.ipynb",
      "provenance": [],
      "collapsed_sections": []
    },
    "kernelspec": {
      "name": "python3",
      "display_name": "Python 3"
    },
    "language_info": {
      "name": "python"
    }
  },
  "cells": [
    {
      "cell_type": "markdown",
      "metadata": {
        "id": "nLNGs8RYIX2Q"
      },
      "source": [
        "# Exercício 1\n",
        "\n",
        "Escreva um programa que mostre de 1 até 50 na tela.\n"
      ]
    },
    {
      "cell_type": "code",
      "metadata": {
        "colab": {
          "base_uri": "https://localhost:8080/"
        },
        "id": "Mkuc4wy3IQxZ",
        "outputId": "58b81bb0-518d-4240-cf45-2a723484f0b0"
      },
      "source": [
        "for n in range(1,51):\n",
        "  print(n)"
      ],
      "execution_count": null,
      "outputs": [
        {
          "output_type": "stream",
          "text": [
            "1\n",
            "2\n",
            "3\n",
            "4\n",
            "5\n",
            "6\n",
            "7\n",
            "8\n",
            "9\n",
            "10\n",
            "11\n",
            "12\n",
            "13\n",
            "14\n",
            "15\n",
            "16\n",
            "17\n",
            "18\n",
            "19\n",
            "20\n",
            "21\n",
            "22\n",
            "23\n",
            "24\n",
            "25\n",
            "26\n",
            "27\n",
            "28\n",
            "29\n",
            "30\n",
            "31\n",
            "32\n",
            "33\n",
            "34\n",
            "35\n",
            "36\n",
            "37\n",
            "38\n",
            "39\n",
            "40\n",
            "41\n",
            "42\n",
            "43\n",
            "44\n",
            "45\n",
            "46\n",
            "47\n",
            "48\n",
            "49\n",
            "50\n"
          ],
          "name": "stdout"
        }
      ]
    },
    {
      "cell_type": "markdown",
      "metadata": {
        "id": "Y1tbQBiwIx4W"
      },
      "source": [
        "# Exercício 2\n",
        "\n",
        "Escreva um programa que mostre de 50 até 1 na tela."
      ]
    },
    {
      "cell_type": "code",
      "metadata": {
        "colab": {
          "base_uri": "https://localhost:8080/"
        },
        "id": "OP9byF9dIzOH",
        "outputId": "ffa643aa-f135-495c-f09a-e013ef61919a"
      },
      "source": [
        "for j in range(50,0,-1):\n",
        "  print(j)"
      ],
      "execution_count": null,
      "outputs": [
        {
          "output_type": "stream",
          "text": [
            "50\n",
            "49\n",
            "48\n",
            "47\n",
            "46\n",
            "45\n",
            "44\n",
            "43\n",
            "42\n",
            "41\n",
            "40\n",
            "39\n",
            "38\n",
            "37\n",
            "36\n",
            "35\n",
            "34\n",
            "33\n",
            "32\n",
            "31\n",
            "30\n",
            "29\n",
            "28\n",
            "27\n",
            "26\n",
            "25\n",
            "24\n",
            "23\n",
            "22\n",
            "21\n",
            "20\n",
            "19\n",
            "18\n",
            "17\n",
            "16\n",
            "15\n",
            "14\n",
            "13\n",
            "12\n",
            "11\n",
            "10\n",
            "9\n",
            "8\n",
            "7\n",
            "6\n",
            "5\n",
            "4\n",
            "3\n",
            "2\n",
            "1\n"
          ],
          "name": "stdout"
        }
      ]
    },
    {
      "cell_type": "markdown",
      "metadata": {
        "id": "nGNvzY78JME6"
      },
      "source": [
        "# Exercício 3\n",
        "\n",
        "Escreva um programa que mostre de 150 até 200 na tela."
      ]
    },
    {
      "cell_type": "code",
      "metadata": {
        "colab": {
          "base_uri": "https://localhost:8080/"
        },
        "id": "j3r664EgJRyx",
        "outputId": "b938838d-91d5-4265-8518-b71c3e35f5d0"
      },
      "source": [
        "for n in range(150,201):\n",
        "  print(n)"
      ],
      "execution_count": null,
      "outputs": [
        {
          "output_type": "stream",
          "text": [
            "150\n",
            "151\n",
            "152\n",
            "153\n",
            "154\n",
            "155\n",
            "156\n",
            "157\n",
            "158\n",
            "159\n",
            "160\n",
            "161\n",
            "162\n",
            "163\n",
            "164\n",
            "165\n",
            "166\n",
            "167\n",
            "168\n",
            "169\n",
            "170\n",
            "171\n",
            "172\n",
            "173\n",
            "174\n",
            "175\n",
            "176\n",
            "177\n",
            "178\n",
            "179\n",
            "180\n",
            "181\n",
            "182\n",
            "183\n",
            "184\n",
            "185\n",
            "186\n",
            "187\n",
            "188\n",
            "189\n",
            "190\n",
            "191\n",
            "192\n",
            "193\n",
            "194\n",
            "195\n",
            "196\n",
            "197\n",
            "198\n",
            "199\n",
            "200\n"
          ],
          "name": "stdout"
        }
      ]
    },
    {
      "cell_type": "markdown",
      "metadata": {
        "id": "7hecLxoGJXte"
      },
      "source": [
        "# Exercício 4\n",
        "\n",
        "Escreva um programa de contagem regressiva, ou seja, imprima na tela o seguinte padrão numérico:\n",
        "\n",
        "```\n",
        "5\n",
        "4\n",
        "3\n",
        "2\n",
        "1\n",
        "0\n",
        "```"
      ]
    },
    {
      "cell_type": "code",
      "metadata": {
        "colab": {
          "base_uri": "https://localhost:8080/"
        },
        "id": "J2FqqOvoJiiy",
        "outputId": "83b4ee2f-82a4-4b4a-ba95-0fa80a5378cc"
      },
      "source": [
        "for n in range(5,-1,-1):\n",
        "  print(n)"
      ],
      "execution_count": null,
      "outputs": [
        {
          "output_type": "stream",
          "text": [
            "5\n",
            "4\n",
            "3\n",
            "2\n",
            "1\n",
            "0\n"
          ],
          "name": "stdout"
        }
      ]
    },
    {
      "cell_type": "markdown",
      "metadata": {
        "id": "OYOlhMDkJuwZ"
      },
      "source": [
        "# Exercício 5\n",
        "\n",
        "Faça um programa que imprima na tela de 1 até um número digitado pelo usuário."
      ]
    },
    {
      "cell_type": "code",
      "metadata": {
        "colab": {
          "base_uri": "https://localhost:8080/"
        },
        "id": "HpgckZ-QJwiJ",
        "outputId": "7e9fab66-ee06-4547-b465-5b76098803f0"
      },
      "source": [
        "num = int(input('Digite um número: '))\n",
        "\n",
        "for n in range(1,num+1):\n",
        "  print(n)"
      ],
      "execution_count": null,
      "outputs": [
        {
          "output_type": "stream",
          "text": [
            "Digite um número: 12\n",
            "1\n",
            "2\n",
            "3\n",
            "4\n",
            "5\n",
            "6\n",
            "7\n",
            "8\n",
            "9\n",
            "10\n",
            "11\n",
            "12\n"
          ],
          "name": "stdout"
        }
      ]
    },
    {
      "cell_type": "markdown",
      "metadata": {
        "id": "zSj1vbF8KWbF"
      },
      "source": [
        "# Exercício 6\n",
        "\n",
        "Escreva um programa que mostre na tela os 20 primeiros múltiplos de 5."
      ]
    },
    {
      "cell_type": "code",
      "metadata": {
        "colab": {
          "base_uri": "https://localhost:8080/"
        },
        "id": "EZeDNBGfKYmy",
        "outputId": "60f63caa-669f-4592-c1ef-e54c3697e9d0"
      },
      "source": [
        "for n in range(1,21):\n",
        "  print(n*5)"
      ],
      "execution_count": null,
      "outputs": [
        {
          "output_type": "stream",
          "text": [
            "5\n",
            "10\n",
            "15\n",
            "20\n",
            "25\n",
            "30\n",
            "35\n",
            "40\n",
            "45\n",
            "50\n",
            "55\n",
            "60\n",
            "65\n",
            "70\n",
            "75\n",
            "80\n",
            "85\n",
            "90\n",
            "95\n",
            "100\n"
          ],
          "name": "stdout"
        }
      ]
    },
    {
      "cell_type": "markdown",
      "metadata": {
        "id": "qvDb2vqjv-nO"
      },
      "source": [
        "# Exercício 7\n",
        "\n",
        "Utilizando estruturas de repetição escreva um programa que mostre os resultados da tabuada (multiplicação) de um número inserido pelo usuário."
      ]
    },
    {
      "cell_type": "code",
      "metadata": {
        "colab": {
          "base_uri": "https://localhost:8080/"
        },
        "id": "EDz2hZa3wFKj",
        "outputId": "80b71a2e-df8d-4c81-cd11-521e5fdacf54"
      },
      "source": [
        "n = float(input('Digite um número: '))\n",
        "for i in (range(1,11)):\n",
        "  print(f'{i} x {n} = {i*n}')\n"
      ],
      "execution_count": 5,
      "outputs": [
        {
          "output_type": "stream",
          "text": [
            "Digite um número: 5\n",
            "1 x 5.0 = 5.0\n",
            "2 x 5.0 = 10.0\n",
            "3 x 5.0 = 15.0\n",
            "4 x 5.0 = 20.0\n",
            "5 x 5.0 = 25.0\n",
            "6 x 5.0 = 30.0\n",
            "7 x 5.0 = 35.0\n",
            "8 x 5.0 = 40.0\n",
            "9 x 5.0 = 45.0\n",
            "10 x 5.0 = 50.0\n"
          ],
          "name": "stdout"
        }
      ]
    },
    {
      "cell_type": "markdown",
      "metadata": {
        "id": "7u8t-X0gxusU"
      },
      "source": [
        "# Exercício 8\n",
        "\n",
        "Utilizando estruturas de repetição escreva um programa que mostre os resultados da tabuada de multiplicação dos números entre 1 e 10, como segue.\n",
        "\n",
        "```\n",
        "1 x 1 = 1\n",
        "1 x 2 = 2\n",
        "1 x 3 = 3\n",
        "1 x 4 = 4\n",
        "1 x 5 = 5\n",
        "1 x 6 = 6\n",
        "1 x 7 = 7\n",
        "1 x 8 = 8\n",
        "1 x 9 = 9\n",
        "1 x 10 = 10\n",
        "2 x 1 = 2\n",
        "2 x 2 = 4\n",
        "2 x 3 = 6\n",
        "2 x 4 = 8\n",
        "2 x 5 = 10\n",
        "2 x 6 = 12\n",
        "2 x 7 = 14\n",
        "2 x 8 = 16\n",
        "2 x 9 = 18\n",
        "2 x 10 = 20\n",
        "3 x 1 = 3\n",
        "3 x 2 = 6\n",
        "3 x 3 = 9\n",
        "3 x 4 = 12\n",
        "3 x 5 = 15\n",
        "3 x 6 = 18\n",
        "3 x 7 = 21\n",
        "3 x 8 = 24\n",
        "3 x 9 = 27\n",
        "3 x 10 = 30\n",
        "4 x 1 = 4\n",
        "4 x 2 = 8\n",
        "4 x 3 = 12\n",
        "4 x 4 = 16\n",
        "4 x 5 = 20\n",
        "4 x 6 = 24\n",
        "4 x 7 = 28\n",
        "4 x 8 = 32\n",
        "4 x 9 = 36\n",
        "4 x 10 = 40\n",
        "5 x 1 = 5\n",
        "5 x 2 = 10\n",
        "5 x 3 = 15\n",
        "5 x 4 = 20\n",
        "5 x 5 = 25\n",
        "5 x 6 = 30\n",
        "5 x 7 = 35\n",
        "5 x 8 = 40\n",
        "5 x 9 = 45\n",
        "5 x 10 = 50\n",
        "6 x 1 = 6\n",
        "6 x 2 = 12\n",
        "6 x 3 = 18\n",
        "6 x 4 = 24\n",
        "6 x 5 = 30\n",
        "6 x 6 = 36\n",
        "6 x 7 = 42\n",
        "6 x 8 = 48\n",
        "6 x 9 = 54\n",
        "6 x 10 = 60\n",
        "7 x 1 = 7\n",
        "7 x 2 = 14\n",
        "7 x 3 = 21\n",
        "7 x 4 = 28\n",
        "7 x 5 = 35\n",
        "7 x 6 = 42\n",
        "7 x 7 = 49\n",
        "7 x 8 = 56\n",
        "7 x 9 = 63\n",
        "7 x 10 = 70\n",
        "8 x 1 = 8\n",
        "8 x 2 = 16\n",
        "8 x 3 = 24\n",
        "8 x 4 = 32\n",
        "8 x 5 = 40\n",
        "8 x 6 = 48\n",
        "8 x 7 = 56\n",
        "8 x 8 = 64\n",
        "8 x 9 = 72\n",
        "8 x 10 = 80\n",
        "9 x 1 = 9\n",
        "9 x 2 = 18\n",
        "9 x 3 = 27\n",
        "9 x 4 = 36\n",
        "9 x 5 = 45\n",
        "9 x 6 = 54\n",
        "9 x 7 = 63\n",
        "9 x 8 = 72\n",
        "9 x 9 = 81\n",
        "9 x 10 = 90\n",
        "10 x 1 = 10\n",
        "10 x 2 = 20\n",
        "10 x 3 = 30\n",
        "10 x 4 = 40\n",
        "10 x 5 = 50\n",
        "10 x 6 = 60\n",
        "10 x 7 = 70\n",
        "10 x 8 = 80\n",
        "10 x 9 = 90\n",
        "10 x 10 = 100\n",
        "```"
      ]
    },
    {
      "cell_type": "code",
      "metadata": {
        "colab": {
          "base_uri": "https://localhost:8080/"
        },
        "id": "MxAqVwf7yDl2",
        "outputId": "9d763a33-fe01-4645-b1d0-363997769398"
      },
      "source": [
        "for n in range(1,11):\n",
        "  for j in range(1,11):\n",
        "    print(f'{n} x {j} = {n*j}')\n",
        "  print()"
      ],
      "execution_count": 8,
      "outputs": [
        {
          "output_type": "stream",
          "text": [
            "1 x 1 = 1\n",
            "1 x 2 = 2\n",
            "1 x 3 = 3\n",
            "1 x 4 = 4\n",
            "1 x 5 = 5\n",
            "1 x 6 = 6\n",
            "1 x 7 = 7\n",
            "1 x 8 = 8\n",
            "1 x 9 = 9\n",
            "1 x 10 = 10\n",
            "\n",
            "2 x 1 = 2\n",
            "2 x 2 = 4\n",
            "2 x 3 = 6\n",
            "2 x 4 = 8\n",
            "2 x 5 = 10\n",
            "2 x 6 = 12\n",
            "2 x 7 = 14\n",
            "2 x 8 = 16\n",
            "2 x 9 = 18\n",
            "2 x 10 = 20\n",
            "\n",
            "3 x 1 = 3\n",
            "3 x 2 = 6\n",
            "3 x 3 = 9\n",
            "3 x 4 = 12\n",
            "3 x 5 = 15\n",
            "3 x 6 = 18\n",
            "3 x 7 = 21\n",
            "3 x 8 = 24\n",
            "3 x 9 = 27\n",
            "3 x 10 = 30\n",
            "\n",
            "4 x 1 = 4\n",
            "4 x 2 = 8\n",
            "4 x 3 = 12\n",
            "4 x 4 = 16\n",
            "4 x 5 = 20\n",
            "4 x 6 = 24\n",
            "4 x 7 = 28\n",
            "4 x 8 = 32\n",
            "4 x 9 = 36\n",
            "4 x 10 = 40\n",
            "\n",
            "5 x 1 = 5\n",
            "5 x 2 = 10\n",
            "5 x 3 = 15\n",
            "5 x 4 = 20\n",
            "5 x 5 = 25\n",
            "5 x 6 = 30\n",
            "5 x 7 = 35\n",
            "5 x 8 = 40\n",
            "5 x 9 = 45\n",
            "5 x 10 = 50\n",
            "\n",
            "6 x 1 = 6\n",
            "6 x 2 = 12\n",
            "6 x 3 = 18\n",
            "6 x 4 = 24\n",
            "6 x 5 = 30\n",
            "6 x 6 = 36\n",
            "6 x 7 = 42\n",
            "6 x 8 = 48\n",
            "6 x 9 = 54\n",
            "6 x 10 = 60\n",
            "\n",
            "7 x 1 = 7\n",
            "7 x 2 = 14\n",
            "7 x 3 = 21\n",
            "7 x 4 = 28\n",
            "7 x 5 = 35\n",
            "7 x 6 = 42\n",
            "7 x 7 = 49\n",
            "7 x 8 = 56\n",
            "7 x 9 = 63\n",
            "7 x 10 = 70\n",
            "\n",
            "8 x 1 = 8\n",
            "8 x 2 = 16\n",
            "8 x 3 = 24\n",
            "8 x 4 = 32\n",
            "8 x 5 = 40\n",
            "8 x 6 = 48\n",
            "8 x 7 = 56\n",
            "8 x 8 = 64\n",
            "8 x 9 = 72\n",
            "8 x 10 = 80\n",
            "\n",
            "9 x 1 = 9\n",
            "9 x 2 = 18\n",
            "9 x 3 = 27\n",
            "9 x 4 = 36\n",
            "9 x 5 = 45\n",
            "9 x 6 = 54\n",
            "9 x 7 = 63\n",
            "9 x 8 = 72\n",
            "9 x 9 = 81\n",
            "9 x 10 = 90\n",
            "\n",
            "10 x 1 = 10\n",
            "10 x 2 = 20\n",
            "10 x 3 = 30\n",
            "10 x 4 = 40\n",
            "10 x 5 = 50\n",
            "10 x 6 = 60\n",
            "10 x 7 = 70\n",
            "10 x 8 = 80\n",
            "10 x 9 = 90\n",
            "10 x 10 = 100\n",
            "\n"
          ],
          "name": "stdout"
        }
      ]
    },
    {
      "cell_type": "markdown",
      "metadata": {
        "id": "DNwgJk6ayeqK"
      },
      "source": [
        "# Exercício 9\n",
        "\n",
        "Em um único loop escreva um programa que mostre na tela de 1 a 10 três vezes e ao final mostre a mensagem Fim . No primeiro loop utilize for e nos dois loops seguintes while. O resultado do seu programa deverá ter o seguinte formato:\n",
        "\n",
        "```\n",
        "1\n",
        "2\n",
        "3\n",
        "4\n",
        "5\n",
        "6\n",
        "7\n",
        "8\n",
        "9\n",
        "10\n",
        "1\n",
        "2\n",
        "3\n",
        "4\n",
        "5\n",
        "6\n",
        "7\n",
        "8\n",
        "9\n",
        "10\n",
        "1\n",
        "2\n",
        "3\n",
        "4\n",
        "5\n",
        "6\n",
        "7\n",
        "8\n",
        "9\n",
        "10\n",
        "Fim\n",
        "```"
      ]
    },
    {
      "cell_type": "code",
      "metadata": {
        "colab": {
          "base_uri": "https://localhost:8080/"
        },
        "id": "fkyps_Rtywut",
        "outputId": "606532de-6d8f-46c6-a61f-ae186c6130af"
      },
      "source": [
        "for i in (range(1,4)):\n",
        "  contador = 0\n",
        "  while (contador<=9):\n",
        "    print(f'{contador+1}')\n",
        "    contador += 1\n",
        "print('Fim')"
      ],
      "execution_count": 13,
      "outputs": [
        {
          "output_type": "stream",
          "text": [
            "1\n",
            "2\n",
            "3\n",
            "4\n",
            "5\n",
            "6\n",
            "7\n",
            "8\n",
            "9\n",
            "10\n",
            "1\n",
            "2\n",
            "3\n",
            "4\n",
            "5\n",
            "6\n",
            "7\n",
            "8\n",
            "9\n",
            "10\n",
            "1\n",
            "2\n",
            "3\n",
            "4\n",
            "5\n",
            "6\n",
            "7\n",
            "8\n",
            "9\n",
            "10\n",
            "Fim\n"
          ],
          "name": "stdout"
        }
      ]
    },
    {
      "cell_type": "markdown",
      "metadata": {
        "id": "amEyXgUa0dQZ"
      },
      "source": [
        "# Exercício 10\n",
        "\n",
        "Escreva um programa que peça ao usuário números entre 0-10. Se o usuário inserir um número fora desse intervalo o programa deverá finalizar com uma mensagem personalizada."
      ]
    },
    {
      "cell_type": "code",
      "metadata": {
        "colab": {
          "base_uri": "https://localhost:8080/"
        },
        "id": "7T5XeXhn1UIE",
        "outputId": "2fb68d2e-7a2c-44c1-8124-0eaaa3c89fe6"
      },
      "source": [
        "def typeANumber(n):\n",
        "  if n < 0 or n > 10:\n",
        "    print('O número digitado está fora do intervalo solicitado!')\n",
        "    typeANumber(float(input('Digite um número entre 0 e 10: ')))\n",
        "  else: \n",
        "      print(f'O número digitado foi {n}')\n",
        "\n",
        "typeANumber(float(input('Digite um número entre 0 e 10: ')))\n"
      ],
      "execution_count": 20,
      "outputs": [
        {
          "output_type": "stream",
          "text": [
            "Digite um número entre 0 e 10: 5\n",
            "O número digitado foi 5.0\n"
          ],
          "name": "stdout"
        }
      ]
    },
    {
      "cell_type": "markdown",
      "metadata": {
        "id": "MWftsLhOIqeQ"
      },
      "source": [
        "# Exercício 11\n",
        "\n",
        "Em um único loop escreva um programa que mostre na tela de 0-5, cinco vezes e ao final mostre a mensagem Fim . Utilize apenas for em sua implementação. Seu programa deverá gerar um output com o seguinte formato:\n",
        "\n",
        "```\n",
        "0\n",
        "1\n",
        "2\n",
        "3\n",
        "4\n",
        "5\n",
        "0\n",
        "1\n",
        "2\n",
        "3\n",
        "4\n",
        "5\n",
        "0\n",
        "1\n",
        "2\n",
        "3\n",
        "4\n",
        "5\n",
        "0\n",
        "1\n",
        "2\n",
        "3\n",
        "4\n",
        "5\n",
        "0\n",
        "1\n",
        "2\n",
        "3\n",
        "4\n",
        "5\n",
        "Fim\n",
        "```"
      ]
    },
    {
      "cell_type": "code",
      "metadata": {
        "colab": {
          "base_uri": "https://localhost:8080/"
        },
        "id": "TKKALlzCIpP9",
        "outputId": "cef08ecf-c41b-43f0-dd92-918f80ac62db"
      },
      "source": [
        "for i in range(0,5):\n",
        "  for j in range (0,6):\n",
        "    print(j)\n",
        "print('Fim')\n"
      ],
      "execution_count": 22,
      "outputs": [
        {
          "output_type": "stream",
          "text": [
            "0\n",
            "1\n",
            "2\n",
            "3\n",
            "4\n",
            "5\n",
            "0\n",
            "1\n",
            "2\n",
            "3\n",
            "4\n",
            "5\n",
            "0\n",
            "1\n",
            "2\n",
            "3\n",
            "4\n",
            "5\n",
            "0\n",
            "1\n",
            "2\n",
            "3\n",
            "4\n",
            "5\n",
            "0\n",
            "1\n",
            "2\n",
            "3\n",
            "4\n",
            "5\n",
            "Fim\n"
          ],
          "name": "stdout"
        }
      ]
    },
    {
      "cell_type": "markdown",
      "metadata": {
        "id": "H8Qc7iP6JYv4"
      },
      "source": [
        "# Exercício 12\n",
        "\n",
        "Escreva um programa que peça números reais (float) do usuário indefinidamente . Caso os números digitados não estejam situados entre 0 e 10 o programa deverá ser finalizado, mostrando a soma e a quantidade de números digitados."
      ]
    },
    {
      "cell_type": "code",
      "metadata": {
        "colab": {
          "base_uri": "https://localhost:8080/"
        },
        "id": "pEGpAC1YJaam",
        "outputId": "ce723db8-5c17-42d1-e959-1a24053d80f6"
      },
      "source": [
        "# usando While\n",
        "\n",
        "numList = []\n",
        "count = 0\n",
        "num = True\n",
        "while (num>=0 and num<=10):\n",
        "  if (num>=0 and num<=10):\n",
        "    num = float(input('Digite um número qualquer: '))\n",
        "    numList.append(num)\n",
        "    count = count\n",
        "  else:\n",
        "    count = (count*0)-1\n",
        "print(f'A soma total dos números é {sum(numList)}. A quantidade de números digitados é {len(numList)}.')"
      ],
      "execution_count": 44,
      "outputs": [
        {
          "output_type": "stream",
          "text": [
            "Digite um número qualquer: 2\n",
            "Digite um número qualquer: 4\n",
            "Digite um número qualquer: 5\n",
            "Digite um número qualquer: -1\n",
            "A soma total dos números é 10.0. A quantidade de números digitados é 4\n"
          ],
          "name": "stdout"
        }
      ]
    },
    {
      "cell_type": "markdown",
      "metadata": {
        "id": "WxlPTlMoaNIA"
      },
      "source": [
        "Escreva um programa que peça números reais (float) do usuário indefinidamente . Caso os números digitados não estejam situados entre 0 e 10 o programa deverá ser finalizado, mostrando a soma e a quantidade de números digitados."
      ]
    },
    {
      "cell_type": "code",
      "metadata": {
        "id": "yJMVLVO4S3f2"
      },
      "source": [
        "# usando for\n",
        "\n",
        "lista = list()\n",
        "\n",
        "for i in \n",
        "\n"
      ],
      "execution_count": null,
      "outputs": []
    }
  ]
}