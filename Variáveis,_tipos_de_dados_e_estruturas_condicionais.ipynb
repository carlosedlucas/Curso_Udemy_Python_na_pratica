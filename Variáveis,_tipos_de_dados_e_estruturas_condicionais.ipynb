{
  "nbformat": 4,
  "nbformat_minor": 0,
  "metadata": {
    "colab": {
      "name": "Variáveis, tipos de dados e estruturas condicionais.ipynb",
      "provenance": [],
      "collapsed_sections": []
    },
    "kernelspec": {
      "name": "python3",
      "display_name": "Python 3"
    },
    "language_info": {
      "name": "python"
    }
  },
  "cells": [
    {
      "cell_type": "markdown",
      "source": [
        "# Exercício 1\n",
        "\n",
        "Escreva um programa que mostre a mensagem 'Hello World!' na tela."
      ],
      "metadata": {
        "id": "jiw-R8rM4HOT"
      }
    },
    {
      "cell_type": "code",
      "execution_count": null,
      "metadata": {
        "id": "797OYboz33zO",
        "colab": {
          "base_uri": "https://localhost:8080/"
        },
        "outputId": "48d2c75d-d1cf-4aa7-ea2b-7b16b4ebeac2"
      },
      "outputs": [
        {
          "output_type": "stream",
          "name": "stdout",
          "text": [
            "Hello World!\n"
          ]
        }
      ],
      "source": [
        "print(\"Hello World!\")"
      ]
    },
    {
      "cell_type": "markdown",
      "source": [
        "# Exercício 2\n",
        "\n",
        "Faça um programa que solicite um número do usuário e apresente a seguinte mensagem na tela:\n",
        "\n",
        "\"O número digitado foi [número]\"."
      ],
      "metadata": {
        "id": "xEBM0aj-4hNg"
      }
    },
    {
      "cell_type": "code",
      "source": [
        "number = float(input(\"Digite um número: \"))\n",
        "print(f\"O número digitado foi {number}\")"
      ],
      "metadata": {
        "colab": {
          "base_uri": "https://localhost:8080/"
        },
        "id": "733BzPFV4lPh",
        "outputId": "12bf3769-55d8-426d-d765-c0ddc6db1031"
      },
      "execution_count": null,
      "outputs": [
        {
          "output_type": "stream",
          "name": "stdout",
          "text": [
            "Digite um número: 14.5\n",
            "O número digitado foi 14.5\n"
          ]
        }
      ]
    },
    {
      "cell_type": "markdown",
      "source": [
        "# Exercício 3\n",
        "\n",
        "Escreva um programa que solicite o nome e o sobrenome do usuário. Ao final o programa deverá apresentar o nome completo do usuário na tela."
      ],
      "metadata": {
        "id": "4sVid6Vh5jl7"
      }
    },
    {
      "cell_type": "code",
      "source": [
        "name = (input(\"Digite o seu nome: \"))\n",
        "cap_name = name.strip().title()\n",
        "print(f\"Seu nome completo é: {cap_name}\")"
      ],
      "metadata": {
        "colab": {
          "base_uri": "https://localhost:8080/"
        },
        "id": "zxffMRTL7uvA",
        "outputId": "48ae22df-f3f5-4de3-a798-895304dcf81b"
      },
      "execution_count": null,
      "outputs": [
        {
          "output_type": "stream",
          "name": "stdout",
          "text": [
            "Digite o seu nome:              CArloS eDUARdo Lucas\n",
            "Seu nome completo é: Carlos Eduardo Lucas\n"
          ]
        }
      ]
    },
    {
      "cell_type": "markdown",
      "source": [
        "# Exercício 4\n",
        "Faça um programa que solicite três números inteiros do usuário e imprima a soma destes."
      ],
      "metadata": {
        "id": "r_OwsDzt5nM7"
      }
    },
    {
      "cell_type": "code",
      "source": [
        "print(\"Digite três números inteiros\")\n",
        "num1 = int(input())\n",
        "num2 = int(input())\n",
        "num3 = int(input())\n",
        "\n",
        "sum = num1+num2+num3\n",
        "result = print(f\"A soma dos três números é: {sum}\")"
      ],
      "metadata": {
        "colab": {
          "base_uri": "https://localhost:8080/"
        },
        "id": "MmBThCgV81u1",
        "outputId": "9a4ef9cd-fb5e-4f3d-a385-7d1e4965dd7c"
      },
      "execution_count": null,
      "outputs": [
        {
          "output_type": "stream",
          "name": "stdout",
          "text": [
            "Digite três números inteiros\n",
            "2\n",
            "3\n",
            "4\n",
            "A soma dos três números é: 9\n"
          ]
        }
      ]
    },
    {
      "cell_type": "markdown",
      "source": [
        "# Exercício 5\n",
        "Escreva um programa que solicite duas notas do usuário e apresente a média na tela da seguinte forma:\n",
        "\n",
        "\"A média das notas [nota1] e [nota2] é [média]\""
      ],
      "metadata": {
        "id": "Li9jV1KR5pUy"
      }
    },
    {
      "cell_type": "code",
      "source": [
        "print(\"Digite as duas notas\")\n",
        "nota1 = float(input())\n",
        "nota2 = float(input())\n",
        "\n",
        "print(f\"\\nA média das notas {nota1} e {nota2} é {(nota1+nota2)/2}\")"
      ],
      "metadata": {
        "colab": {
          "base_uri": "https://localhost:8080/"
        },
        "id": "7kot-YmL-pQT",
        "outputId": "182686a9-9ac0-4424-ba1f-1d10fef39644"
      },
      "execution_count": null,
      "outputs": [
        {
          "output_type": "stream",
          "name": "stdout",
          "text": [
            "Digite as duas notas\n",
            "12\n",
            "15\n",
            "\n",
            "A média das notas 12.0 e 15.0 é 13.5\n"
          ]
        }
      ]
    },
    {
      "cell_type": "markdown",
      "source": [
        "# Exercício 6\n",
        "Faça um programa que calcule a raiz quadrada de um número. O usuário deve inserir um número e o programa deve mostrar na tela o resultado da raiz quadrada do número inserido."
      ],
      "metadata": {
        "id": "lzOj8WzP5t_B"
      }
    },
    {
      "cell_type": "code",
      "source": [
        "num = float(input(\"Digite um número: \"))\n",
        "root = num**0.5\n",
        "print(f\"\\nA raiz quadrada de {num} é: {root}\")"
      ],
      "metadata": {
        "colab": {
          "base_uri": "https://localhost:8080/"
        },
        "id": "gOuSk2n9_lfB",
        "outputId": "6552fc94-5ab0-4697-be1f-55b3598c2a2a"
      },
      "execution_count": null,
      "outputs": [
        {
          "output_type": "stream",
          "name": "stdout",
          "text": [
            "Digite um número: 2\n",
            "\n",
            "A raiz quadrada de 2.0 é: 1.4142135623730951\n"
          ]
        }
      ]
    },
    {
      "cell_type": "markdown",
      "source": [
        "# Exercício 7\n",
        "Faça um programa que peça 5 números de ponto flutuante do usuário e apresente no final a média dos números digitados."
      ],
      "metadata": {
        "id": "L5sWQtjt5xT9"
      }
    },
    {
      "cell_type": "code",
      "source": [
        "total = 0\n",
        "\n",
        "for i in range(5):\n",
        "  num = float(input(f\"Digite o número {i+1}: \"))\n",
        "  total += num\n",
        "\n",
        "print(f\"\\n A média dos cinco números é {total/5}\")"
      ],
      "metadata": {
        "colab": {
          "base_uri": "https://localhost:8080/"
        },
        "id": "ErpG27C6DStm",
        "outputId": "aa82c4d4-73e1-4e57-a5ab-fe5218720d2f"
      },
      "execution_count": null,
      "outputs": [
        {
          "output_type": "stream",
          "name": "stdout",
          "text": [
            "Digite o número 1: 1\n",
            "Digite o número 2: 2\n",
            "Digite o número 3: 3\n",
            "Digite o número 4: 4\n",
            "Digite o número 5: 5\n",
            "\n",
            " A média dos cinco números é 3.0\n"
          ]
        }
      ]
    },
    {
      "cell_type": "markdown",
      "source": [
        "# Exercício 8\n",
        "Escreva um programa que faça a conversão de um dado valor de metro para quilômetro."
      ],
      "metadata": {
        "id": "up4_7V6e5y39"
      }
    },
    {
      "cell_type": "code",
      "source": [
        "meters = float(input(\"Digite o valor em metros: \"))\n",
        "print(f\"\\nO valor em Quilômetros é: {meters/1000} km\")"
      ],
      "metadata": {
        "colab": {
          "base_uri": "https://localhost:8080/"
        },
        "id": "FUswslEQIj8-",
        "outputId": "df08b568-ca56-4799-9438-d64f9d92dc2a"
      },
      "execution_count": null,
      "outputs": [
        {
          "output_type": "stream",
          "name": "stdout",
          "text": [
            "Digite o valor em metros: 10000\n",
            "\n",
            "O valor em Quilômetros é: 10.0 km\n"
          ]
        }
      ]
    },
    {
      "cell_type": "markdown",
      "source": [
        "# Exercício 9\n",
        "Escreva um programa que calcule a área de uma circunferência. O usuário deve digitar o valor do raio e ao final o programa deverá mostrar na tela a área da circunferência.\n",
        "\n",
        "Use a fórmula: área=pi*r² , em que pi é uma constante e r o raio da circunferência.\n",
        "\n",
        "Dica: você pode usar a biblioteca math para pegar a constante pi."
      ],
      "metadata": {
        "id": "RGvXKLys51tu"
      }
    },
    {
      "cell_type": "code",
      "source": [
        "import math\n",
        "radius = float(input(\"Digite o valor do raio: \"))\n",
        "print(f\"A área da circunferência é de: {math.pi*(radius**2):.2f}\")\n"
      ],
      "metadata": {
        "colab": {
          "base_uri": "https://localhost:8080/"
        },
        "id": "wNxFrp9UJHp1",
        "outputId": "eafec57f-caff-4011-ff43-8f501ba02a6e"
      },
      "execution_count": null,
      "outputs": [
        {
          "output_type": "stream",
          "name": "stdout",
          "text": [
            "Digite o valor do raio: 2\n",
            "A área da circunferência é de: 12.57\n"
          ]
        }
      ]
    },
    {
      "cell_type": "markdown",
      "source": [
        "# Exercício 10\n",
        "Faça um programa que peça uma temperatura em Fahrenheit (F) e converta esta temperatura para grau Celsius (C), mostrando o resultado da conversão na tela.\n",
        "\n",
        "Use a fórmula: C = 5 * ((F-32) / 9)."
      ],
      "metadata": {
        "id": "B-cdxNLW54go"
      }
    },
    {
      "cell_type": "code",
      "source": [
        "fahre = float(input(\"Digite o valor da temperatura em Fahrenheit: \"))\n",
        "celsius = 5*((fahre-32)/9)\n",
        "print(f\"\\nO valor da temperatura {fahre} °F convertido em graus Celsius é de: {celsius:.2f} °C\")"
      ],
      "metadata": {
        "colab": {
          "base_uri": "https://localhost:8080/"
        },
        "id": "CySihIsaJ_u9",
        "outputId": "3ff28139-42af-49ed-e6cb-7de0b5a6d74d"
      },
      "execution_count": null,
      "outputs": [
        {
          "output_type": "stream",
          "name": "stdout",
          "text": [
            "Digite o valor da temperatura em Fahrenheit: 100\n",
            "\n",
            "O valor da temperatura 100.0 °F convertido em graus Celsius é de: 37.78 °C\n"
          ]
        }
      ]
    },
    {
      "cell_type": "markdown",
      "source": [
        "# Exercício 11\n",
        "Escreva um programa que peça dois números e apresente a divisão e multiplicação entre eles. A tela de apresentação deverá seguir o seguinte formato:\n",
        "\n",
        "\"[número1]x[número2]=[multiplicação]\"\n",
        "\n",
        "\"[número1]/[número2]=[divisão]\""
      ],
      "metadata": {
        "id": "_Ew28KnU57eH"
      }
    },
    {
      "cell_type": "code",
      "source": [
        "num1 = float(input(\"Digite o primeiro número: \"))\n",
        "num2 = float(input(\"Digite o segundo número: \"))\n",
        "\n",
        "print(f\"\\n{num1}x{num2} = {num1*num2}\")\n",
        "print(f\"\\n{num1}/{num2} = {num1/num2}\")\n"
      ],
      "metadata": {
        "colab": {
          "base_uri": "https://localhost:8080/"
        },
        "id": "5S4FoqyvLJJF",
        "outputId": "e588a277-9396-487a-e76d-c75ff71de782"
      },
      "execution_count": null,
      "outputs": [
        {
          "output_type": "stream",
          "name": "stdout",
          "text": [
            "Digite o primeiro número: 3\n",
            "Digite o segundo número: 2\n",
            "\n",
            "3.0x2.0 = 6.0\n",
            "\n",
            "3.0/2.0 = 1.5\n"
          ]
        }
      ]
    },
    {
      "cell_type": "markdown",
      "source": [
        "# Exercício 12\n",
        "Escreva um programa que receba o nome, sobrenome e idade do usuário e apresente a seguinte mensagem na tela:\n",
        "\n",
        "\"Seja bem-vindo [nome] [sobrenome].\"\n",
        "\n",
        "\"Você possui [idade] anos de idade.\"\n",
        "\n",
        "\n",
        "\n",
        "No campo nome e sobrenome utilize os métodos strip() e title(). Lembre-se que o primeiro método permite remover os espaços antes e depois da string, enquanto que o último permite colocar a string no formato titlecased (capitaliza a string)."
      ],
      "metadata": {
        "id": "k9hBOPw-6BLx"
      }
    },
    {
      "cell_type": "code",
      "source": [
        "name = str(input(\"Digite o nome: \")).strip().title()\n",
        "surname = str(input(\"Digite o sobrenome: \")).strip().title()\n",
        "age = int(input(\"Digite a sua idade: \"))\n",
        "print(f\"\\nSeja bem-vindo {name} {surname}\\nVocê possui {age} anos de idade.\")"
      ],
      "metadata": {
        "colab": {
          "base_uri": "https://localhost:8080/"
        },
        "id": "yM3Bs1g3LvmA",
        "outputId": "084eaa5b-16f7-40ab-ece2-4bd7963cfa1a"
      },
      "execution_count": null,
      "outputs": [
        {
          "output_type": "stream",
          "name": "stdout",
          "text": [
            "Digite o nome:              carlos\n",
            "Digite o sobrenome: eduardO\n",
            "Digite a sua idade: 30\n",
            "\n",
            "Seja bem-vindo Carlos Eduardo\n",
            "Você possui 30 anos de idade.\n"
          ]
        }
      ]
    },
    {
      "cell_type": "markdown",
      "source": [
        "# Exercício 13\n",
        "Escreva um programa que peça um número do usuário via método input e converta esse número para o formato float."
      ],
      "metadata": {
        "id": "e5lEWZmT6C4j"
      }
    },
    {
      "cell_type": "code",
      "source": [
        "num = input(\"Digite um número: \")\n",
        "number = float(num)\n",
        "print(number)\n",
        "print(type(number))"
      ],
      "metadata": {
        "colab": {
          "base_uri": "https://localhost:8080/"
        },
        "id": "9FlejQjtMmq1",
        "outputId": "be64fb71-a626-4f56-e9b9-da8cc575f8dd"
      },
      "execution_count": null,
      "outputs": [
        {
          "output_type": "stream",
          "name": "stdout",
          "text": [
            "Digite um número: 12\n",
            "12.0\n",
            "<class 'float'>\n"
          ]
        }
      ]
    },
    {
      "cell_type": "markdown",
      "source": [
        "# Exercício 14\n",
        "Escreva um programa que peça o nome e a idade do usuário. Caso a idade do usuário seja maior ou igual a 18 anos apresente a seguinte mensagem: \"Seja bem-vindo ao nosso site [nome]!\"; caso contrário, apresente a seguinte mensagem: \"Você não pode acessar nosso site [nome].\"."
      ],
      "metadata": {
        "id": "9if7_tP26Fwg"
      }
    },
    {
      "cell_type": "code",
      "source": [
        "name = str(input(\"Digite o seu nome: \")).strip().title()\n",
        "age = int(input(\"Digite a sua idade: \"))\n",
        "\n",
        "if (age >= 18):\n",
        "  print(f\"\\nSeja bem-vindo ao nosso site {name}!\")\n",
        "else:\n",
        "  print(f\"\\nVocê não pode acessar nosso site {name}.\")"
      ],
      "metadata": {
        "colab": {
          "base_uri": "https://localhost:8080/"
        },
        "id": "Nl42R1kJN1f4",
        "outputId": "8417d030-a8ad-4e53-ce82-394a03fe61ef"
      },
      "execution_count": null,
      "outputs": [
        {
          "output_type": "stream",
          "name": "stdout",
          "text": [
            "Digite o seu nome: Carlos EDUARDO LuCAS\n",
            "Digite a sua idade: 30\n",
            "\n",
            "Seja bem-vindo ao nosso site Carlos Eduardo Lucas!\n"
          ]
        }
      ]
    },
    {
      "cell_type": "markdown",
      "source": [
        "# Exercício 15\n",
        "Elabore um programa para calcular a hipotenusa de um triângulo.\n",
        "\n",
        "Dicas:\n",
        "\n",
        "Veja o módulo math (math.hypot);\n",
        "\n",
        "Utilize a seguinte fórmula: hipotenusa=(a²+b²)¹/2:\n",
        "\n"
      ],
      "metadata": {
        "id": "yJyYgtYZ6I-i"
      }
    },
    {
      "cell_type": "code",
      "source": [
        "import math\n",
        "\n",
        "a = float(input(\"Digite o valor do lado 'a' do triângulo: \"))\n",
        "b = float(input(\"Digite o valor do lado 'b' do triângulo: \"))\n",
        "hipo = ((a**2)+(b**2))**0.5\n",
        "print(f\"\\nO valor da hipotenusa através da fórmula é de: {hipo}\")\n",
        "\n",
        "print(f\"\\nO valor da hipotenusa calculado através da biblioteca math é de: {math.hypot(a,b)}\")\n"
      ],
      "metadata": {
        "colab": {
          "base_uri": "https://localhost:8080/"
        },
        "id": "--y6oIcaPYv8",
        "outputId": "dd6f753e-b211-4283-ca85-a95ff7b99330"
      },
      "execution_count": null,
      "outputs": [
        {
          "output_type": "stream",
          "name": "stdout",
          "text": [
            "Digite o valor do lado 'a' do triângulo: 3\n",
            "Digite o valor do lado 'b' do triângulo: 4\n",
            "\n",
            "O valor da hipotenusa através da fórmula é de: 5.0\n",
            "\n",
            "O valor da hipotenusa calculado através da biblioteca math é de: 5.0\n"
          ]
        }
      ]
    },
    {
      "cell_type": "markdown",
      "source": [
        "# Exercício 16\n",
        "Faça um programa que recebe um número inteiro do usuário e calcule o fatorial deste número.\n",
        "\n",
        "\n",
        "\n",
        "Dica: utilize o módulo math do Python, especificamente math.fatorial."
      ],
      "metadata": {
        "id": "UFH-YAsP6LxK"
      }
    },
    {
      "cell_type": "code",
      "source": [
        "import math\n",
        "\n",
        "num = int(input(\"Digite um número inteiro: \"))\n",
        "\n",
        "total = num\n",
        "for i in range(num,1,-1):\n",
        "  total = total*(i-1)\n",
        "\n",
        "print(f\"O fatorial do número {num} é {total}\")\n",
        "\n",
        "\n",
        "print(f\"Utilizando a biblioteca math o fatorial do número {num} é {math.factorial(num)}\")\n",
        "\n",
        "\n"
      ],
      "metadata": {
        "colab": {
          "base_uri": "https://localhost:8080/"
        },
        "id": "FOs8wnCkQu48",
        "outputId": "91cdaab0-e22a-4fd9-e518-8d3e350be10a"
      },
      "execution_count": null,
      "outputs": [
        {
          "output_type": "stream",
          "name": "stdout",
          "text": [
            "Digite um número inteiro: 5\n",
            "O fatorial do número 5 é 120\n",
            "Utilizando a biblioteca math o fatorial do número 5 é 120\n"
          ]
        }
      ]
    },
    {
      "cell_type": "markdown",
      "source": [
        "# Exercício 17\n",
        "Escreva um programa que peça um número do usuário e calcule o logaritmo deste número nas bases 10 e 2.\n",
        "\n",
        "Dica: utilize o módulo math."
      ],
      "metadata": {
        "id": "BDEflpjU6OI0"
      }
    },
    {
      "cell_type": "code",
      "source": [
        "import math\n",
        "\n",
        "num = float(input(\"Digite um número: \"))\n",
        "\n",
        "print(f\"\\nO resultado do logaritmo de {num} na base 10 é {math.log(num,10)}\")\n",
        "print(f\"\\nO resultado do logaritmo de {num} na base 2 é {math.log(num,2)}\")"
      ],
      "metadata": {
        "colab": {
          "base_uri": "https://localhost:8080/"
        },
        "id": "HGyu0bQ_iU_Y",
        "outputId": "718117de-84a4-4a1d-b59e-fb2905be8345"
      },
      "execution_count": null,
      "outputs": [
        {
          "output_type": "stream",
          "name": "stdout",
          "text": [
            "Digite um número: 10\n",
            "\n",
            "O resultado do logaritmo de 10.0 na base 10 é 1.0\n",
            "\n",
            "O resultado do logaritmo de 10.0 na base 2 é 3.3219280948873626\n"
          ]
        }
      ]
    },
    {
      "cell_type": "markdown",
      "source": [
        "# Exercício 18\n",
        "Faça um programa que peça a base e a altura de um retângulo e calcule e mostre na tela a área e o perímetro."
      ],
      "metadata": {
        "id": "dz-__WTe6Qs8"
      }
    },
    {
      "cell_type": "code",
      "source": [
        "b = float(input(\"Digite o valor para base do retângulo: \"))\n",
        "h = float(input(\"Digite o valor para altura do retângulo: \"))\n",
        "\n",
        "print(f\"\\nA aŕea do retângulo é de {b*h}\")\n",
        "print(f\"\\nO perímetro do retângulo é de {(b*2)+(h*2)}\")"
      ],
      "metadata": {
        "colab": {
          "base_uri": "https://localhost:8080/"
        },
        "id": "WJFnl21MjSCU",
        "outputId": "df50e7b0-32a5-4ff0-add7-343c1438975f"
      },
      "execution_count": null,
      "outputs": [
        {
          "output_type": "stream",
          "name": "stdout",
          "text": [
            "Digite o valor para base do retângulo: 10\n",
            "Digite o valor para altura do retângulo: 4\n",
            "\n",
            "A aŕea do retângulo é de 40.0\n",
            "\n",
            "O perímetro do retângulo é de 28.0\n"
          ]
        }
      ]
    },
    {
      "cell_type": "markdown",
      "source": [
        "# Exercício 19\n",
        "Escreva um programa que solicite o nome, o sobrenome e o salário atual de um funcionário. Ao fim, calcule seu novo salário considerando cenários hipotéticos, com os seguintes aumentos: 10%, 25%,30% e 50%. A mensagem na tela deverá seguir o seguinte padrão:\n",
        "\n",
        "\n",
        "\n",
        "\"Olá, [nome] [sobrenome]\"\n",
        "\n",
        "\"Seu salário atual é : [salário]\"\n",
        "\n",
        "\"Seu salário com 10% de aumento é: [salário]\"\n",
        "\n",
        "\"Seu salário com 25% de aumento é: [salário]\"\n",
        "\n",
        "\"Seu salário com 30% de aumento é: [salário]\"\n",
        "\n",
        "\"Seu salário com 50% de aumento é: [salário]\"\n",
        "\n",
        "\n",
        "\n",
        "No campo nome e sobrenome utilize os métodos strip() e title(). Lembre-se que o primeiro método permite remover os espaços antes e após a string, enquanto que o último permite colocar a string no formato titlecased (capitaliza string).\n",
        "\n"
      ],
      "metadata": {
        "id": "OzmvVBWg6TQT"
      }
    },
    {
      "cell_type": "code",
      "source": [
        "name = str(input(\"Digite o seu primeiro nome: \")).strip().title()\n",
        "surname = str(input(\"Digite o seu sobrenome: \")).strip().title()\n",
        "salary = float(input(\"Digite somente os números do valor do seu salário: \"))\n",
        "\n",
        "print(f\"\\nOlá, {name} {surname}\")\n",
        "print(f\"\\nSeu salário atual é : {salary}\")\n",
        "print(f\"\\nSeu salário com 10% de aumento é: {salary*1.10}\")\n",
        "print(f\"\\nSeu salário com 25% de aumento é: {salary*1.25}\")\n",
        "print(f\"\\nSeu salário com 30% de aumento é: {salary*1.3}\")\n",
        "print(f\"\\nSeu salário com 50% de aumento é: {salary*1.5}\")"
      ],
      "metadata": {
        "colab": {
          "base_uri": "https://localhost:8080/"
        },
        "id": "HzeWgcIHj43B",
        "outputId": "6501a8e9-55db-40d8-8ea3-57e15bc235a4"
      },
      "execution_count": null,
      "outputs": [
        {
          "output_type": "stream",
          "name": "stdout",
          "text": [
            "Digite o seu primeiro nome: CarlOS EDUARDO\n",
            "Digite o seu sobrenome:               LUCAS\n",
            "Digite somente os números do valor do seu salário: 100\n",
            "\n",
            "Olá, Carlos Eduardo Lucas\n",
            "\n",
            "Seu salário atual é : 100.0\n",
            "\n",
            "Seu salário com 10% de aumento é: 110.00000000000001\n",
            "\n",
            "Seu salário com 25% de aumento é: 125.0\n",
            "\n",
            "Seu salário com 30% de aumento é: 130.0\n",
            "\n",
            "Seu salário com 50% de aumento é: 150.0\n"
          ]
        }
      ]
    },
    {
      "cell_type": "markdown",
      "source": [
        "# Exercício 20\n",
        "Escreva um programa que peça um número inteiro do usuário e calcule e imprima a tabuada deste número."
      ],
      "metadata": {
        "id": "jntYiVgN6Woe"
      }
    },
    {
      "cell_type": "code",
      "source": [
        "num = int(input(\"Digite um número inteiro: \"))\n",
        "\n",
        "print(f\"\\nTabuada do Número {num}\\n\")\n",
        "for i in range(10):\n",
        "  print(f\"{num} * {i+1} = {num*(i+1)}\")"
      ],
      "metadata": {
        "colab": {
          "base_uri": "https://localhost:8080/"
        },
        "id": "TD_11_5yHXiL",
        "outputId": "312e507c-fa9d-4a1f-f373-4e0c32397654"
      },
      "execution_count": 4,
      "outputs": [
        {
          "output_type": "stream",
          "name": "stdout",
          "text": [
            "Digite um número inteiro: 3\n",
            "\n",
            "Tabuada do Número 3\n",
            "\n",
            "3 * 1 = 3\n",
            "3 * 2 = 6\n",
            "3 * 3 = 9\n",
            "3 * 4 = 12\n",
            "3 * 5 = 15\n",
            "3 * 6 = 18\n",
            "3 * 7 = 21\n",
            "3 * 8 = 24\n",
            "3 * 9 = 27\n",
            "3 * 10 = 30\n"
          ]
        }
      ]
    },
    {
      "cell_type": "markdown",
      "source": [
        "# Exercício 21\n",
        "Faça um programa que solicite um número inteiro e mostre o seu valor absoluto.\n",
        "\n",
        "\n",
        "\n",
        "Dica: use a função built-in abs()."
      ],
      "metadata": {
        "id": "W-El7btQ6Z45"
      }
    },
    {
      "cell_type": "code",
      "source": [
        "num = int(input(\"Digite um número inteiro: \"))\n",
        "print(f\"O número absoluto do número {num} é {abs(num)}\")"
      ],
      "metadata": {
        "colab": {
          "base_uri": "https://localhost:8080/"
        },
        "id": "YFrZHIvWIhlo",
        "outputId": "af80c6d0-15f5-4e8b-9621-5cb7bb2f924f"
      },
      "execution_count": 14,
      "outputs": [
        {
          "output_type": "stream",
          "name": "stdout",
          "text": [
            "Digite um número inteiro: -543\n",
            "O número absoluto do número -543 é 543\n"
          ]
        }
      ]
    },
    {
      "cell_type": "markdown",
      "source": [
        "# Exercício 22\n",
        "Faça um programa que peça uma string ao usuário e mostre na tela a quantidade de caracteres.\n",
        "\n",
        "\n",
        "\n",
        "Dica: use a função built-in len() e trate a string com o método strip().\n",
        "\n"
      ],
      "metadata": {
        "id": "dPU4NyPu6eIP"
      }
    },
    {
      "cell_type": "code",
      "source": [
        "word = str(input(\"Digite uma palavra: \")).strip()\n",
        "print(f\"A palavra {word} tem {len(word)} caracteres\")"
      ],
      "metadata": {
        "colab": {
          "base_uri": "https://localhost:8080/"
        },
        "id": "7G-Y-Vk3Jsz7",
        "outputId": "2b73f24e-f888-4ede-b32d-e828067fea4d"
      },
      "execution_count": 16,
      "outputs": [
        {
          "output_type": "stream",
          "name": "stdout",
          "text": [
            "Digite uma palavra:               arroz               \n",
            "A palavra arroz tem 5 caracteres\n"
          ]
        }
      ]
    },
    {
      "cell_type": "markdown",
      "source": [
        "# Exercício 23\n",
        "Escreva um programa que peça um número inteiro do usuário e mostre se esse número é par ou ímpar. A mensagem na tela deverá seguir o seguinte formato:\n",
        "\n",
        "\"O número [número] é [par/ímpar]\""
      ],
      "metadata": {
        "id": "OL4RJBFy6fbh"
      }
    },
    {
      "cell_type": "code",
      "source": [
        "num = int(input(\"Digite um número inteiro: \"))\n",
        "\n",
        "if (num%2==0):\n",
        "  print(\"\\nO número é par\")\n",
        "else:\n",
        "  print(\"\\nO número é ímpar\")"
      ],
      "metadata": {
        "colab": {
          "base_uri": "https://localhost:8080/"
        },
        "id": "ntw1Eq3SKIgS",
        "outputId": "17bea6df-f9a5-4fbf-a1b4-55d211c407af"
      },
      "execution_count": 19,
      "outputs": [
        {
          "output_type": "stream",
          "name": "stdout",
          "text": [
            "Digite um número inteiro: 7\n",
            "\n",
            "O número é ímpar\n"
          ]
        }
      ]
    },
    {
      "cell_type": "markdown",
      "source": [
        "# Exercício 24\n",
        "O Índice de Massa Corporal (IMC) é utilizado para mensurar o peso ideal de uma pessoa. Escreva um programa que peça o nome, a idade , o peso e a altura do usuário. Ao final calcule e mostre o resultado do seu IMC e classifique este resultado de acordo com a regra a seguir.\n",
        "\n",
        "\n",
        "\n",
        "IMC<17 - Muito abaixo do peso ideal\n",
        "\n",
        "17<=IMC<18,5 - Abaixo do peso\n",
        "\n",
        "18,5<=IMC<25 - Peso normal\n",
        "\n",
        "25<=IMC<30 - Acima do peso\n",
        "\n",
        "30<=IMC<35 - Obesidade I\n",
        "\n",
        "35<=IMC<40 - Obesidade II (severa)\n",
        "\n",
        "IMC>=40 - Obesidade III (mórbida)\n",
        "\n",
        "\n",
        "\n",
        "Lembre que: IMC=massa/(altura*altura)\n",
        "\n",
        "\n",
        "\n",
        "Fonte: https://pt.wikipedia.org/wiki/%C3%8Dndice_de_massa_corporal"
      ],
      "metadata": {
        "id": "G9etqzC16iDv"
      }
    },
    {
      "cell_type": "code",
      "source": [
        "name = str(input(\"Digite o nome: \")).strip().title()\n",
        "age = int(input(\"Digite a idade: \"))\n",
        "weight = float(input(\"Digite o valor do seu peso: \"))\n",
        "height = float(input(\"Digite o valor da sua altura em metros: \"))\n",
        "\n",
        "imc = weight/(height*height)\n",
        "\n",
        "if (imc < 17):\n",
        "  print(\"\\nMuito abaixo do peso ideal\")\n",
        "elif (17 <= imc <= 18.5):\n",
        "  print(\"\\nAbaixo do peso\")\n",
        "elif (18.5 <= imc <= 25):\n",
        "  print(\"\\nPeso normal\")\n",
        "elif (25 <= imc <= 30):\n",
        "  print(\"\\nAcima do peso\")\n",
        "elif (30 <= imc <= 35):\n",
        "  print(\"\\nObesidade I\")\n",
        "elif (35 <= imc <= 40):\n",
        "  print(\"\\nObesidade II (severa)\")\n",
        "elif (imc >= 40):\n",
        "  print(\"\\nObesidade III (mórbida)\")"
      ],
      "metadata": {
        "colab": {
          "base_uri": "https://localhost:8080/"
        },
        "id": "TmU6wxQFKnJb",
        "outputId": "2302195a-a056-456d-ff0f-5186dc7307d7"
      },
      "execution_count": 28,
      "outputs": [
        {
          "output_type": "stream",
          "name": "stdout",
          "text": [
            "Digite o nome:              CArlos EduARDO lucAS\n",
            "Digite a idade: 30\n",
            "Digite o valor do seu peso: 100\n",
            "Digite o valor da sua altura em metros: 1.81\n",
            "\n",
            "Obesidade I\n"
          ]
        }
      ]
    },
    {
      "cell_type": "markdown",
      "source": [
        "# Exercício 25\n",
        "Escreva um programa que receba dois números de ponto flutuante e mostre na tela o maior número digitado. Considere a possibilidade de o usuário digitar dois números iguais."
      ],
      "metadata": {
        "id": "Imn1PyRP6lZT"
      }
    },
    {
      "cell_type": "code",
      "source": [
        "num1 = float(input(\"Digite o primeiro número: \"))\n",
        "num2 = float(input(\"Digite o segundo número: \"))\n",
        "\n",
        "if(num1 > num2):\n",
        "  print(f\"O número {num1} é maior que o número {num2}\")\n",
        "elif (num2 > num1):\n",
        "  print(f\"O número {num2} é maior que o número {num1}\")\n",
        "else:\n",
        "  print(f\"O número {num1} é igual ao número {num2}\")\n"
      ],
      "metadata": {
        "colab": {
          "base_uri": "https://localhost:8080/"
        },
        "id": "UhaE8kyuOZ-y",
        "outputId": "3a99a23d-bec9-4257-d06f-461b13ce1226"
      },
      "execution_count": 36,
      "outputs": [
        {
          "output_type": "stream",
          "name": "stdout",
          "text": [
            "Digite o primeiro número: 10\n",
            "Digite o segundo número: 10\n",
            "O número 10.0 é igual ao número 10.0\n"
          ]
        }
      ]
    },
    {
      "cell_type": "markdown",
      "source": [
        "# Exercício 26\n",
        "Escreva um programa que verifique se um determinado número digitado pelo usuário é nulo, positivo ou negativo."
      ],
      "metadata": {
        "id": "5C9v0p_a6odZ"
      }
    },
    {
      "cell_type": "code",
      "source": [
        "num = float(input(\"Digite um número: \"))\n",
        "\n",
        "if (num > 0):\n",
        "  print(f\"O número {num} é positivo\")\n",
        "elif (num < 0):\n",
        "  print(f\"O número {num} é negativo\")\n",
        "else:\n",
        "  print(f\"O número {num} é nulo\")"
      ],
      "metadata": {
        "colab": {
          "base_uri": "https://localhost:8080/"
        },
        "id": "B-4VYdmPPTkD",
        "outputId": "3da142d6-eb16-42e4-c93f-77550d3187a5"
      },
      "execution_count": 44,
      "outputs": [
        {
          "output_type": "stream",
          "name": "stdout",
          "text": [
            "Digite um número: -0\n",
            "O número -0.0 é nulo\n"
          ]
        }
      ]
    },
    {
      "cell_type": "markdown",
      "source": [
        "# Exercício 27\n",
        "Escreva um programa que receba três números do usuário e mostre na tela o maior número digitado."
      ],
      "metadata": {
        "id": "cSf0emGw6rXi"
      }
    },
    {
      "cell_type": "code",
      "source": [
        "num1 = float(input(\"Digite um número: \"))\n",
        "num2 = float(input(\"Digite um número: \"))\n",
        "num3 = float(input(\"Digite um número: \"))\n",
        "\n",
        "if((num1>=num2 and num1>=num3)):\n",
        "  print(num1)\n",
        "elif (num2>=num1 and num2>=num3):\n",
        "  print(num2)\n",
        "elif (num3>=num1 and num3>=num2):\n",
        "  print(num3)"
      ],
      "metadata": {
        "colab": {
          "base_uri": "https://localhost:8080/"
        },
        "id": "lV2Q6LGDPzHi",
        "outputId": "b72618b2-95a2-4249-84df-6964fbd4a3e8"
      },
      "execution_count": 49,
      "outputs": [
        {
          "output_type": "stream",
          "name": "stdout",
          "text": [
            "Digite um número: 2\n",
            "Digite um número: 2\n",
            "Digite um número: 3\n",
            "3.0\n"
          ]
        }
      ]
    },
    {
      "cell_type": "markdown",
      "source": [
        "# Exercício 28\n",
        "Escreva um programa que gere um número aleatório entre 1 e 100 e mostre na tela.\n",
        "\n",
        "Dica: utilize o módulo random."
      ],
      "metadata": {
        "id": "H_EkKar76wGI"
      }
    },
    {
      "cell_type": "code",
      "source": [
        "import random \n",
        "\n",
        "print(random.randint(1,100))"
      ],
      "metadata": {
        "colab": {
          "base_uri": "https://localhost:8080/"
        },
        "id": "0suucIAzR_S8",
        "outputId": "5e17e2ca-7e86-4d58-dd6e-dec121fdd8df"
      },
      "execution_count": 64,
      "outputs": [
        {
          "output_type": "stream",
          "name": "stdout",
          "text": [
            "81\n"
          ]
        }
      ]
    },
    {
      "cell_type": "markdown",
      "source": [
        "# Exercício 29\n",
        "Elabore um progama para verificar se um ano é bissexto ou não. A condição para ser um ano bissexto é: o ano deve ser divisível por 400; ou se for divisível por 4 e não for divisível por 100."
      ],
      "metadata": {
        "id": "kp6vSi3A6yLg"
      }
    },
    {
      "cell_type": "code",
      "source": [
        "year = int(input(\"Digite um ano: \"))\n",
        "\n",
        "if (((year%400)==0) or (((year%4)==0) and ((year%100)!=0))):\n",
        "  print(\"O ano digitado é bissexto\")\n",
        "else:\n",
        "  print(\"O ano digitado não é bissexto\")"
      ],
      "metadata": {
        "colab": {
          "base_uri": "https://localhost:8080/"
        },
        "id": "6OjYx0vPTa58",
        "outputId": "6e6f0f53-7998-4ba1-e535-40d90a3e701b"
      },
      "execution_count": 73,
      "outputs": [
        {
          "output_type": "stream",
          "name": "stdout",
          "text": [
            "Digite um ano: 1992\n",
            "O ano digitado é bissexto\n"
          ]
        }
      ]
    },
    {
      "cell_type": "markdown",
      "source": [
        "# Exercício 30\n",
        "Elabore um programa para calcular o tamanho de uma string."
      ],
      "metadata": {
        "id": "EIbUlqkK6019"
      }
    },
    {
      "cell_type": "code",
      "source": [
        "word = str(input(\"Digite uma palavra: \")).strip()\n",
        "print(f\"A palavra {word} tem {len(word)} letras\")"
      ],
      "metadata": {
        "colab": {
          "base_uri": "https://localhost:8080/"
        },
        "id": "o5hQ5iINVYEK",
        "outputId": "eb1bf677-9dca-46da-a1ee-eb489c94b805"
      },
      "execution_count": 76,
      "outputs": [
        {
          "output_type": "stream",
          "name": "stdout",
          "text": [
            "Digite uma palavra:                leite\n",
            "A palavra leite tem 5 letras\n"
          ]
        }
      ]
    },
    {
      "cell_type": "markdown",
      "source": [
        "# Exercício 31\n",
        "Utilize o módulo datetime e mostre na tela a data e hora atual do sistema de acordo com o formato descrito abaixo.\n",
        "\n",
        "\n",
        "```\n",
        "12/06/2020 - 14:34:17\n",
        "```"
      ],
      "metadata": {
        "id": "FR3fsZYg63Yp"
      }
    },
    {
      "cell_type": "code",
      "source": [
        "from datetime import datetime\n",
        "\n",
        "datetime.now().strftime(\"%d/%m/%Y - %H:%M:%S\")"
      ],
      "metadata": {
        "colab": {
          "base_uri": "https://localhost:8080/",
          "height": 35
        },
        "id": "OhBA21HEVvna",
        "outputId": "1ee26d51-0aff-4b22-8617-4888a2873ae8"
      },
      "execution_count": 87,
      "outputs": [
        {
          "output_type": "execute_result",
          "data": {
            "application/vnd.google.colaboratory.intrinsic+json": {
              "type": "string"
            },
            "text/plain": [
              "'17/01/2022 - 23:33:20'"
            ]
          },
          "metadata": {},
          "execution_count": 87
        }
      ]
    },
    {
      "cell_type": "markdown",
      "source": [
        "# Exercício 32\n",
        "Escreva um programa que inverta uma string. Exemplos:\n",
        "\n",
        "```\n",
        "Hello World!\n",
        "Python\n",
        "!dlroW olleH\n",
        "nohtyP\n",
        "```"
      ],
      "metadata": {
        "id": "Qxcki_cI66cr"
      }
    },
    {
      "cell_type": "code",
      "source": [
        "word = str(input(\"Digite uma palavra: \"))\n",
        "\n",
        "def word_inverter (word):\n",
        "  return word[::-1]\n",
        "\n",
        "word_inverter(word)"
      ],
      "metadata": {
        "colab": {
          "base_uri": "https://localhost:8080/",
          "height": 53
        },
        "id": "leV-fH8SZNwf",
        "outputId": "131d35e0-9ed6-4393-c14d-acfa0d70cc35"
      },
      "execution_count": 89,
      "outputs": [
        {
          "name": "stdout",
          "output_type": "stream",
          "text": [
            "Digite uma palavra: tenet\n"
          ]
        },
        {
          "output_type": "execute_result",
          "data": {
            "application/vnd.google.colaboratory.intrinsic+json": {
              "type": "string"
            },
            "text/plain": [
              "'tenet'"
            ]
          },
          "metadata": {},
          "execution_count": 89
        }
      ]
    },
    {
      "cell_type": "markdown",
      "source": [
        "# Exercício 33\n",
        "Escreva um programa para mostrar na tela o calendário do mês de dezembro de 2020. Exemplo:\n",
        "\n",
        "\n",
        "```\n",
        "   December 2020\n",
        "Mo Tu We Th Fr Sa Su\n",
        "    1  2  3  4  5  6\n",
        " 7  8  9 10 11 12 13\n",
        "14 15 16 17 18 19 20\n",
        "21 22 23 24 25 26 27\n",
        "28 29 30 31\n",
        "\n",
        "```\n",
        "Dica: importe o módulo calendar."
      ],
      "metadata": {
        "id": "DNVhFJ8C69f5"
      }
    },
    {
      "cell_type": "code",
      "source": [
        "import calendar\n",
        "\n",
        "print(calendar.month(2020,12))"
      ],
      "metadata": {
        "colab": {
          "base_uri": "https://localhost:8080/"
        },
        "id": "i3oYU5NeaEdd",
        "outputId": "b3e72196-ddaa-464d-eaab-adbab0213ae8"
      },
      "execution_count": 90,
      "outputs": [
        {
          "output_type": "stream",
          "name": "stdout",
          "text": [
            "   December 2020\n",
            "Mo Tu We Th Fr Sa Su\n",
            "    1  2  3  4  5  6\n",
            " 7  8  9 10 11 12 13\n",
            "14 15 16 17 18 19 20\n",
            "21 22 23 24 25 26 27\n",
            "28 29 30 31\n",
            "\n"
          ]
        }
      ]
    },
    {
      "cell_type": "markdown",
      "source": [
        "# Exercício 34\n",
        "Modifique o programa anterior e permita que o usuário especifique o ano e o mês a serem mostrados na tela."
      ],
      "metadata": {
        "id": "J2fVjtk97RO0"
      }
    },
    {
      "cell_type": "code",
      "source": [
        "import calendar \n",
        "\n",
        "year = int(input(\"Digite o ano: \"))\n",
        "month = int(input(\"Digite o mês: \"))\n",
        "\n",
        "print(f\"\\n{calendar.month(year,month)}\")"
      ],
      "metadata": {
        "colab": {
          "base_uri": "https://localhost:8080/"
        },
        "id": "YXshGapTaaCl",
        "outputId": "f8e0090f-01a5-4186-ed16-dbc9d66057ac"
      },
      "execution_count": 94,
      "outputs": [
        {
          "output_type": "stream",
          "name": "stdout",
          "text": [
            "Digite o ano: 2022\n",
            "Digite o mês: 1\n",
            "\n",
            "    January 2022\n",
            "Mo Tu We Th Fr Sa Su\n",
            "                1  2\n",
            " 3  4  5  6  7  8  9\n",
            "10 11 12 13 14 15 16\n",
            "17 18 19 20 21 22 23\n",
            "24 25 26 27 28 29 30\n",
            "31\n",
            "\n"
          ]
        }
      ]
    },
    {
      "cell_type": "markdown",
      "source": [
        "# Exercício 35\n",
        "Escreva um script que mostre na tela o preço de um produto associado a uma categoria especificada pelo usuário.  Utilize como referência as informações a seguir. Caso o usuário não digite uma categoria válida (número entre 1 e 10) mostre na tela uma mensagem personalizada.\n",
        "\n",
        "```\n",
        "Exemplo: preço x categoria\n",
        "* Categoria 1 - $ 0,5 \n",
        "* Categoria 2 - $ 11,3\n",
        "* Categoria 3 - $ 17,5\n",
        "* Categoria 4 - $ 33,97\n",
        "* Categoria 5 - $ 103,47\n",
        "* Categoria 6 - $ 44,67\n",
        "* Categoria 7 - $ 12,55\n",
        "* Categoria 8 - $ 14,87\n",
        "* Categoria 9 - $ 98,12\n",
        "* Categoria 10 - $ 131,4\n",
        "```"
      ],
      "metadata": {
        "id": "OPeot76K7VHn"
      }
    },
    {
      "cell_type": "code",
      "source": [
        "categoria = int(input(\"Digite a categoria do produto: \"))\n",
        "\n",
        "if categoria == 1:\n",
        "    print(\"\\nO preço do produto é: $ 0.5\")\n",
        "elif categoria == 2:\n",
        "    print(\"\\nO preço do produto é: $ 11.3\")\n",
        "elif categoria == 3:\n",
        "    print(\"\\nO preço do produto é: $ 17.5\")\n",
        "elif categoria == 4:\n",
        "    print(\"\\nO preço do produto é: $ 33.97\")\n",
        "elif categoria == 5:\n",
        "    print(\"\\nO preço do produto é: $ 103.47\")\n",
        "elif categoria == 6:\n",
        "    print(\"\\nO preço do produto é: $ 44.67\")\n",
        "elif categoria == 7:\n",
        "    print(\"\\nO preço do produto é: $ 12.55\")\n",
        "elif categoria == 8:\n",
        "    print(\"\\nO preço do produto é: $ 14.87\")\n",
        "elif categoria == 9:\n",
        "    print(\"\\nO preço do produto é: $ 98.12\")\n",
        "elif categoria == 10:\n",
        "    print(\"\\nO preço do produto é: $ 131.4\")\n",
        "else:\n",
        "    print(\"\\nOpção inválida.\")"
      ],
      "metadata": {
        "colab": {
          "base_uri": "https://localhost:8080/"
        },
        "id": "wJQBgUeqbRGh",
        "outputId": "154907b8-e1d4-43e0-e2d3-da51552fee6c"
      },
      "execution_count": 97,
      "outputs": [
        {
          "output_type": "stream",
          "name": "stdout",
          "text": [
            "Digite a categoria do produto: 10\n",
            "\n",
            "O preço do produto é: $ 131.4\n"
          ]
        }
      ]
    },
    {
      "cell_type": "markdown",
      "source": [
        "# Exercício 36\n",
        "Resolva o exercício anterior para as categorias de 1 a 8. Utilize estruturas aninhadas."
      ],
      "metadata": {
        "id": "dzQYwIe97b0d"
      }
    },
    {
      "cell_type": "code",
      "source": [
        "categoria = int(input(\"Digite a categoria do produto: \"))\n",
        "\n",
        "if categoria == 1:\n",
        "    print(\"\\nO preço do produto é: $ 0.5\")\n",
        "else:\n",
        "  if categoria == 2:\n",
        "    print(\"\\nO preço do produto é: $ 11.3\")\n",
        "  else:\n",
        "    if categoria == 3:\n",
        "      print(\"\\nO preço do produto é: $ 17.5\")\n",
        "    else:\n",
        "      if categoria == 4:\n",
        "        print(\"\\nO preço do produto é: $ 33.97\")\n",
        "      else:\n",
        "        if categoria == 5:\n",
        "          print(\"\\nO preço do produto é: $ 103.47\")\n",
        "        else: \n",
        "          if categoria == 6:\n",
        "            print(\"\\nO preço do produto é: $ 44.67\")\n",
        "          else:\n",
        "            if categoria == 7:\n",
        "              print(\"\\nO preço do produto é: $ 12.55\")\n",
        "            else:\n",
        "              if categoria == 8: \n",
        "                print(\"\\nO preço do produto é: $ 14.87\")\n",
        "              else:\n",
        "                print(\"\\nOpção inválida.\")"
      ],
      "metadata": {
        "colab": {
          "base_uri": "https://localhost:8080/"
        },
        "id": "mlo7OKzbcjgM",
        "outputId": "521599a9-d232-4ce5-e03b-4858d0177550"
      },
      "execution_count": 99,
      "outputs": [
        {
          "output_type": "stream",
          "name": "stdout",
          "text": [
            "Digite a categoria do produto: 7\n",
            "\n",
            "O preço do produto é: $ 12.55\n"
          ]
        }
      ]
    },
    {
      "cell_type": "markdown",
      "source": [
        "# Exercício 37\n",
        "Determine se uma letra inserida pelo usuário é uma vogal ou consoante. Armazene as vogais em uma lista e implemente sua solução. Desconsidere a possibilidade de o usuário inserir números ou caracteres especiais."
      ],
      "metadata": {
        "id": "I7CKAeh-7elt"
      }
    },
    {
      "cell_type": "code",
      "source": [
        "letra = str(input(\"Digite uma letra: \"))\n",
        "\n",
        "vogais = [\"a\",\"A\",\"e\",\"E\",\"i\",\"I\",\"o\",\"O\",\"u\",\"U\"]\n",
        "\n",
        "if letra in vogais:\n",
        "  print(f\"A letra digitada {letra} é uma vogal.\")\n",
        "else:\n",
        "  print(f\"A letra digitada {letra} é uma consoante.\")\n",
        "\n"
      ],
      "metadata": {
        "colab": {
          "base_uri": "https://localhost:8080/"
        },
        "id": "7Zyfh0dweb74",
        "outputId": "fd9a3dbc-001a-45a3-ba0e-d3101cac8651"
      },
      "execution_count": 104,
      "outputs": [
        {
          "output_type": "stream",
          "name": "stdout",
          "text": [
            "Digite uma letra: U\n",
            "A letra digitada U é uma vogal.\n"
          ]
        }
      ]
    },
    {
      "cell_type": "markdown",
      "source": [
        "# Exercício 38\n",
        "Escreva um script para classificar um triângulo de acordo com o tamanho dos seus lados. Considere as seguintes informações:\n",
        "\n",
        "Triângulo equilátero: todos os lados possuem o mesmo tamanho;\n",
        "\n",
        "Trângulo escaleno: todos os lados possuem medidas diferentes;\n",
        "\n",
        "Triângulo isósceles: caracterizado por ter dois lados com o mesmo tamanho."
      ],
      "metadata": {
        "id": "oXdW7yok7hF9"
      }
    },
    {
      "cell_type": "code",
      "source": [
        "a = float(input(\"Digite o lado a do triângulo: \"))\n",
        "b = float(input(\"Digite o lado b do triângulo: \"))\n",
        "c = float(input(\"Digite o lado c do triângulo: \"))\n",
        "\n",
        "if (a==b and a==c):\n",
        "  print(\"O triângulo é equilátero!\")\n",
        "elif (a!=b and a!=c and b!=c):\n",
        "  print(\"O triângulo é escaleno!\")\n",
        "else:\n",
        "  print(\"O triângulo é isósceles!\")"
      ],
      "metadata": {
        "colab": {
          "base_uri": "https://localhost:8080/"
        },
        "id": "JXcFdSJEgRSV",
        "outputId": "bc5318c6-9f1a-4cd3-c157-8e9a25c21193"
      },
      "execution_count": 110,
      "outputs": [
        {
          "output_type": "stream",
          "name": "stdout",
          "text": [
            "Digite o lado a do triângulo: 2\n",
            "Digite o lado b do triângulo: 3\n",
            "Digite o lado c do triângulo: 3\n",
            "O triângulo é isósceles!\n"
          ]
        }
      ]
    },
    {
      "cell_type": "markdown",
      "source": [
        "# Exercício 39\n",
        "Implemente uma calculadora simples com as operações aritméticas básicas. O usuário deverá especificar a operação desejada (+,-,*,/) e seguidamente inserir dois valores. Caso, o usuário escolha divisão e insira o valor do denominar 0 mostre uma mensagem personalizada. Para os demais casos, mostre na tela o resultado da operação desejada.\n",
        "\n"
      ],
      "metadata": {
        "id": "AHSokS-h7kWu"
      }
    },
    {
      "cell_type": "code",
      "source": [
        "num1 = float(input(\"Digite o primeiro valor: \"))\n",
        "num2 = float(input(\"Digite o segundo valor: \"))\n",
        "\n",
        "op = str(input(\"Digite a operação desejada (+,-,* ou /): \"))\n",
        "\n",
        "if (op == \"+\"):\n",
        "  print(f\"A soma dos números {num1} e {num2} tem o valor de: {num1+num2}\")\n",
        "elif (op == \"-\"):\n",
        "  print(f\"A subtração dos números {num1} e {num2} tem o valor de: {num1-num2}\")\n",
        "elif (op == \"*\"):\n",
        "  print(f\"A multiplicação dos números {num1} e {num2} tem o valor de: {num1*num2}\")\n",
        "elif (op == \"/\"):\n",
        "  if (num2==0):\n",
        "    print(\"É impossível dividir por zero!\")\n",
        "  else:\n",
        "    print(f\"A divisão dos números {num1} e {num2} tem o valor de: {num1/num2}\")\n",
        "else:\n",
        "  print(\"Operador inválido!\")"
      ],
      "metadata": {
        "colab": {
          "base_uri": "https://localhost:8080/"
        },
        "id": "DplmnBTDhPU3",
        "outputId": "fe66beba-61b5-4ad3-9395-abb99e13bc37"
      },
      "execution_count": 117,
      "outputs": [
        {
          "output_type": "stream",
          "name": "stdout",
          "text": [
            "Digite o primeiro valor: 2\n",
            "Digite o segundo valor: 3\n",
            "Digite a operação desejada (+,-,* ou /): &\n",
            "Operador inválido!\n"
          ]
        }
      ]
    }
  ]
}