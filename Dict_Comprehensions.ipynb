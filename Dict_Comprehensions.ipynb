{
  "nbformat": 4,
  "nbformat_minor": 0,
  "metadata": {
    "colab": {
      "provenance": []
    },
    "kernelspec": {
      "name": "python3",
      "display_name": "Python 3"
    },
    "language_info": {
      "name": "python"
    }
  },
  "cells": [
    {
      "cell_type": "markdown",
      "source": [
        "# Exercício 1\n",
        "\n",
        "Nos exercícios anteriores utilizamos compreensão de listas para construir listas de uma forma rápida e 'pythônica' utilizando uma notação simples. Os dicionários também suportam a mesma operação, possibilitando uma construção simples e compacta combinando loops e estruturas condicionais. Nestes termos, podemos aplicar esse conceito para criar DataFrames com pandas, uma aplicação muito comum em Data Science.\n",
        "\n",
        "Sendo assim, utilize compreensão de dicionários para construir os dicionários abaixo.\n",
        "\n",
        "a) Crie um dicionário em que suas chaves serão os números 1, 4, 5, 6, 7, 9 (que podem ser armazenados em uma lista) e seus valores correspondem ao quadrado destes números.\n",
        "\n",
        "```\n",
        "{1: 1, 4: 16, 5: 25, 6: 36, 7: 49, 9: 81}\n",
        "\n",
        "```\n",
        "b) Crie um dicionário em que suas chaves correspondem a números inteiros entre [1,10] e cada valor associado é o número ao quadrado.\n",
        "\n",
        "```\n",
        "{1: 1, 2: 4, 3: 9, 4: 16, 5: 25, 6: 36, 7: 49, 8: 64, 9: 81, 10: 100}\n",
        "```\n",
        "\n",
        "c) Crie um dicionário em que suas chaves correspondem a números de 10 a 1 e seus respectivos valores denotam o cubo de cada chave.\n",
        "\n",
        "\n",
        "```\n",
        "{10: 1000, 9: 729, 8: 512, 7: 343, 6: 216, 5: 125, 4: 64, 3: 27, 2: 8, 1: 1}\n",
        "```"
      ],
      "metadata": {
        "id": "wJKH7eFo3mnN"
      }
    },
    {
      "cell_type": "code",
      "source": [
        "dicio = {num: num**2 for num in [1, 4, 5, 6, 7, 9]}\n",
        "print(dicio)\n",
        "\n",
        "dicio2 = {num: num**2 for num in range(1,11)}\n",
        "print(dicio2)\n",
        "\n",
        "dicio3 = {num: num**3 for num in range(10,0,-1)}\n",
        "print(dicio3)"
      ],
      "metadata": {
        "colab": {
          "base_uri": "https://localhost:8080/"
        },
        "id": "Vxnubtsn8i6G",
        "outputId": "7d26db49-0b05-4d41-87f0-5fa4558e92d6"
      },
      "execution_count": 19,
      "outputs": [
        {
          "output_type": "stream",
          "name": "stdout",
          "text": [
            "{1: 1, 4: 16, 5: 25, 6: 36, 7: 49, 9: 81}\n",
            "{1: 1, 2: 4, 3: 9, 4: 16, 5: 25, 6: 36, 7: 49, 8: 64, 9: 81, 10: 100}\n",
            "{10: 1000, 9: 729, 8: 512, 7: 343, 6: 216, 5: 125, 4: 64, 3: 27, 2: 8, 1: 1}\n"
          ]
        }
      ]
    },
    {
      "cell_type": "markdown",
      "source": [
        "# Exercício 2\n",
        "A partir da lista\n",
        "\n",
        "```\n",
        "linguagens = ['python', 'javascript', 'java', 'php', 'c', 'julia']\n",
        "```\n",
        "\n",
        "Use Dict Comprehension para construir o dicionário abaixo:   \n",
        "\n",
        "\n",
        "```\n",
        "{'python': 6, 'javascript': 10, 'java': 4, 'php': 3, 'c': 1, 'julia': 5}\n",
        "```\n",
        "\n",
        "Dica: observe que o valor associado a cada chave corresponde ao tamanho de cada string."
      ],
      "metadata": {
        "id": "EHmEaQlS3wNX"
      }
    },
    {
      "cell_type": "code",
      "source": [
        "linguagens = ['python', 'javascript', 'java', 'php', 'c', 'julia']\n",
        "\n",
        "dicio = {elem: len(elem) for elem in linguagens}\n",
        "print(dicio)"
      ],
      "metadata": {
        "colab": {
          "base_uri": "https://localhost:8080/"
        },
        "id": "ZUEKJqcgBbLI",
        "outputId": "d273d30c-29e5-43da-b03e-5dea13eb2a54"
      },
      "execution_count": 22,
      "outputs": [
        {
          "output_type": "stream",
          "name": "stdout",
          "text": [
            "{'python': 6, 'javascript': 10, 'java': 4, 'php': 3, 'c': 1, 'julia': 5}\n"
          ]
        }
      ]
    },
    {
      "cell_type": "markdown",
      "source": [
        "# Exercício 3\n",
        "\n",
        "A partir da lista\n",
        "\n",
        "```\n",
        "frutas = ['  Banana  ', ' Laranja   ', '  Maçã', ' Melão ']\n",
        "```\n",
        "\n",
        "Use Dict Comprehension para construir o dicionário abaixo:\n",
        "\n",
        "```\n",
        "{'1': 'Banana', '2': 'Laranja', '3': 'Maçã', '4': 'Melão'}\n",
        "```"
      ],
      "metadata": {
        "id": "ApdTJYiY3yiT"
      }
    },
    {
      "cell_type": "code",
      "source": [
        "frutas = ['  Banana  ', ' Laranja   ', '  Maçã', ' Melão ']\n",
        "\n",
        "dicio = {str(i):fruta.strip() for i,fruta in enumerate(frutas, start=1)}\n",
        "print(dicio)"
      ],
      "metadata": {
        "colab": {
          "base_uri": "https://localhost:8080/"
        },
        "id": "QOLU9Wl_B7Mn",
        "outputId": "d0be64bf-2ae8-494b-df05-f27a467eaa82"
      },
      "execution_count": 58,
      "outputs": [
        {
          "output_type": "stream",
          "name": "stdout",
          "text": [
            "{'1': 'Banana', '2': 'Laranja', '3': 'Maçã', '4': 'Melão'}\n"
          ]
        }
      ]
    },
    {
      "cell_type": "markdown",
      "source": [
        "# Exercício 4\n",
        "\n",
        "Utilize compreensão de dicionários para construir o dicionário abaixo.\n",
        "\n",
        "\n",
        "```\n",
        "{'chave1': 1, 'chave2': 4, 'chave3': 9, 'chave4': 16, 'chave5': 25, 'chave6': 36, 'chave7': 49, 'chave8': 64, 'chave9': 81}\n",
        "```"
      ],
      "metadata": {
        "id": "2Czd6hbw39d8"
      }
    },
    {
      "cell_type": "code",
      "source": [
        "dicio = {f'chave {str(i)}':valor**2 for i,valor in enumerate(range(1,10),start=1)}\n",
        "print(dicio)"
      ],
      "metadata": {
        "colab": {
          "base_uri": "https://localhost:8080/"
        },
        "id": "4F1StmKqGCLq",
        "outputId": "4a6a559e-7263-47ca-e197-51586213bbd4"
      },
      "execution_count": 71,
      "outputs": [
        {
          "output_type": "stream",
          "name": "stdout",
          "text": [
            "{'chave 1': 1, 'chave 2': 4, 'chave 3': 9, 'chave 4': 16, 'chave 5': 25, 'chave 6': 36, 'chave 7': 49, 'chave 8': 64, 'chave 9': 81}\n"
          ]
        }
      ]
    },
    {
      "cell_type": "markdown",
      "source": [
        "# Exercício 5\n",
        "\n",
        "Utilize compreensão de dicionários para construir o dicionário abaixo.\n",
        "\n",
        "```\n",
        "{'A': 1, 'B': 2, 'C': 6, 'D': 24, 'E': 120}\n",
        "```\n",
        "\n",
        "Dica: observe que o valor associado a cada chave corresponde ao fatorial de cada número no intervalo [1,5]."
      ],
      "metadata": {
        "id": "kLf7s51W4EJs"
      }
    },
    {
      "cell_type": "code",
      "source": [
        "import math\n",
        "\n",
        "dicio = {chr(64+chave):math.factorial(elem) for chave,elem in enumerate(range(1,6),start=1)}\n",
        "print(dicio)"
      ],
      "metadata": {
        "colab": {
          "base_uri": "https://localhost:8080/"
        },
        "id": "VXg4oAZyHuL5",
        "outputId": "b7ad552a-9988-41ab-99ba-702e5609a3a5"
      },
      "execution_count": 76,
      "outputs": [
        {
          "output_type": "stream",
          "name": "stdout",
          "text": [
            "{'A': 1, 'B': 2, 'C': 6, 'D': 24, 'E': 120}\n"
          ]
        }
      ]
    },
    {
      "cell_type": "markdown",
      "source": [
        "# Exercício 6\n",
        "\n",
        "A partir das listas\n",
        "\n",
        "```\n",
        "empresa = ['ABEV3', 'AZUL4', 'BTOW3', 'RENT3', 'JBSS3']\n",
        "precos = [12.85, 22.55, 115.08, 49.03, 24.41] \n",
        "```\n",
        "\n",
        "Utilize compreensão de dicionários e obtenha:\n",
        "\n",
        "```\n",
        "{'ABEV3': 12.85, 'AZUL4': 22.55, 'BTOW3': 115.08, 'RENT3': 49.03, 'JBSS3': 24.41}\n",
        "```"
      ],
      "metadata": {
        "id": "lvalt49k4IRE"
      }
    },
    {
      "cell_type": "code",
      "source": [
        "empresa = ['ABEV3', 'AZUL4', 'BTOW3', 'RENT3', 'JBSS3']\n",
        "precos = [12.85, 22.55, 115.08, 49.03, 24.41] \n",
        "\n",
        "dicio = {empresa:precos for empresa,precos in zip(empresa,precos)}\n",
        "print(dicio)"
      ],
      "metadata": {
        "colab": {
          "base_uri": "https://localhost:8080/"
        },
        "id": "K7Zw7-49JeUS",
        "outputId": "2c2efb91-0029-4ea3-b40d-393a52ffae43"
      },
      "execution_count": 81,
      "outputs": [
        {
          "output_type": "stream",
          "name": "stdout",
          "text": [
            "{'ABEV3': 12.85, 'AZUL4': 22.55, 'BTOW3': 115.08, 'RENT3': 49.03, 'JBSS3': 24.41}\n"
          ]
        }
      ]
    },
    {
      "cell_type": "markdown",
      "source": [
        "# Exercício 7\n",
        "\n",
        "Do dicionário abaixo:\n",
        "\n",
        "```\n",
        "dados = {12.85: 'ABEV3', 22.55: 'AZUL4', 115.08: 'BTOW3', 49.03: 'RENT3', 24.41: 'JBSS3'}\n",
        "```\n",
        "\n",
        "Utilize compreensão de dicionários e obtenha:\n",
        "\n",
        "```\n",
        "{'ABEV3': 12.85, 'AZUL4': 22.55, 'BTOW3': 115.08, 'RENT3': 49.03, 'JBSS3': 24.41}\n",
        "```"
      ],
      "metadata": {
        "id": "hI9BeWrg4LY8"
      }
    },
    {
      "cell_type": "code",
      "source": [
        "dados = {12.85: 'ABEV3', 22.55: 'AZUL4', 115.08: 'BTOW3', 49.03: 'RENT3', 24.41: 'JBSS3'}\n",
        "\n",
        "dicio = {valor:chave for chave,valor in dados.items()}\n",
        "print(dicio)"
      ],
      "metadata": {
        "colab": {
          "base_uri": "https://localhost:8080/"
        },
        "id": "AwdO_R2UKsXj",
        "outputId": "db9e5ec2-5f7c-4e63-fc16-ba5f1d49351a"
      },
      "execution_count": 90,
      "outputs": [
        {
          "output_type": "stream",
          "name": "stdout",
          "text": [
            "{'ABEV3': 12.85, 'AZUL4': 22.55, 'BTOW3': 115.08, 'RENT3': 49.03, 'JBSS3': 24.41}\n"
          ]
        }
      ]
    },
    {
      "cell_type": "markdown",
      "source": [
        "#Exercício 8\n",
        "\n",
        "\n",
        "Use compreensão de dicionários e obtenha os dicionários a seguir:\n",
        "\n",
        "```\n",
        "a)\n",
        "\n",
        "{2: 1.0, 4: 2.0, 6: 2.585, 8: 3.0, 10: 3.322, 12: 3.585, 14: 3.807, 16: 4.0, 18: 4.17, 20: 4.322}\n",
        "```\n",
        "\n",
        "Dica: este dicionário calcula o logaritmo de base 2 para todos os números pares no intervalo [1,20].\n",
        "\n",
        "\n",
        "```\n",
        "b)\n",
        "\n",
        "{'C': 3, 'E': 5, 'F': 6, 'I': 9, 'J': 10, 'L': 12, 'O': 15, 'R': 18, 'T': 20}\n",
        "```"
      ],
      "metadata": {
        "id": "OI6MX2px4NdE"
      }
    },
    {
      "cell_type": "code",
      "source": [
        "import math \n",
        "\n",
        "dicio = {(chave*2):round(math.log(valor,2),3) for chave,valor in enumerate(range(2,21,2),start=1)}\n",
        "print(dicio)\n",
        "\n",
        "dicio2 = {num:round(math.log(num,2),3) for num in range(2,21,2)}\n",
        "print(dicio2)\n",
        "\n",
        "dicio3 = {chr(64+num):num for num in range(3,21) if num%3==0 or num%5==0}\n",
        "print(dicio3)\n",
        "\n"
      ],
      "metadata": {
        "colab": {
          "base_uri": "https://localhost:8080/"
        },
        "id": "03euN-UeMqGL",
        "outputId": "16047b29-1617-4d79-9c9b-49b0db4f4337"
      },
      "execution_count": 110,
      "outputs": [
        {
          "output_type": "stream",
          "name": "stdout",
          "text": [
            "{2: 1.0, 4: 2.0, 6: 2.585, 8: 3.0, 10: 3.322, 12: 3.585, 14: 3.807, 16: 4.0, 18: 4.17, 20: 4.322}\n",
            "{2: 1.0, 4: 2.0, 6: 2.585, 8: 3.0, 10: 3.322, 12: 3.585, 14: 3.807, 16: 4.0, 18: 4.17, 20: 4.322}\n",
            "{'C': 3, 'E': 5, 'F': 6, 'I': 9, 'J': 10, 'L': 12, 'O': 15, 'R': 18, 'T': 20}\n"
          ]
        }
      ]
    },
    {
      "cell_type": "markdown",
      "source": [
        "# Exercício 9\n",
        "\n",
        "a) Use compreensão de dicionários para extrair os produtos com preço superior a dois mil reais.\n",
        "\n",
        "```\n",
        "produtos = {\n",
        "    'geladeira':1619.1,\n",
        "    'ps5':4999,\n",
        "    'liquidificador':89.9,\n",
        "    'notebook':3500,\n",
        "    'TV':1500,\n",
        "    'ventilador':79.99,\n",
        "    'microondas':399.99\n",
        "    }\n",
        "```\n",
        "\n",
        "b) Considerando que cada valor deste dicionário representa o preço de cada produto, obtenha o custo total desta cesta de produtos.\n",
        "\n"
      ],
      "metadata": {
        "id": "tekt-Lr54QBk"
      }
    },
    {
      "cell_type": "code",
      "source": [
        "produtos = {\n",
        "    'geladeira':1619.1,\n",
        "    'ps5':4999,\n",
        "    'liquidificador':89.9,\n",
        "    'notebook':3500,\n",
        "    'TV':1500,\n",
        "    'ventilador':79.99,\n",
        "    'microondas':399.99\n",
        "    }\n",
        "\n",
        "dicio = {chave:valor for chave,valor in produtos.items() if valor > 2000}\n",
        "\n",
        "\n",
        "total_soma = sum({valor for chave,valor in produtos.items()})\n",
        "print(total_soma)"
      ],
      "metadata": {
        "colab": {
          "base_uri": "https://localhost:8080/"
        },
        "id": "WSZI6HudQXu1",
        "outputId": "51da7f56-c8cf-4063-eb37-b2565a5f88a6"
      },
      "execution_count": 122,
      "outputs": [
        {
          "output_type": "stream",
          "name": "stdout",
          "text": [
            "12187.98\n"
          ]
        }
      ]
    }
  ]
}