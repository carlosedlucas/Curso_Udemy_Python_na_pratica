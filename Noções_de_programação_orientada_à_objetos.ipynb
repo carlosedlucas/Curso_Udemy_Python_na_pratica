{
  "nbformat": 4,
  "nbformat_minor": 0,
  "metadata": {
    "colab": {
      "provenance": [],
      "collapsed_sections": []
    },
    "kernelspec": {
      "name": "python3",
      "display_name": "Python 3"
    },
    "language_info": {
      "name": "python"
    }
  },
  "cells": [
    {
      "cell_type": "markdown",
      "source": [
        "# Exercício 1\n",
        "\n",
        "Crie uma classe Pessoa com os seguintes atributos: nome, sobrenome e idade."
      ],
      "metadata": {
        "id": "sTfCXfu0FWZM"
      }
    },
    {
      "cell_type": "code",
      "source": [
        "class Pessoa:\n",
        "    def __init__(self, nome, sobrenome, idade):\n",
        "        self._nome = nome.title()\n",
        "        self._sobrenome = sobrenome.title()\n",
        "        self._idade = idade\n",
        "\n",
        "pessoa = Pessoa('carlos', 'eduardo', 31)\n",
        "\n",
        "print(f'Nome: {pessoa._nome} - Sobrenome: {pessoa._sobrenome} - Idade: {pessoa._idade}')\n",
        "\n",
        "\n"
      ],
      "metadata": {
        "colab": {
          "base_uri": "https://localhost:8080/"
        },
        "id": "1_VgWghJJAgF",
        "outputId": "5cc6e4ac-b812-4ff1-b8ea-831425a3e0a8"
      },
      "execution_count": null,
      "outputs": [
        {
          "output_type": "stream",
          "name": "stdout",
          "text": [
            "Nome: Carlos - Sobrenome: Eduardo - Idade: 31\n"
          ]
        }
      ]
    },
    {
      "cell_type": "markdown",
      "source": [
        "# Exercício 2\n",
        "\n",
        "Acrescente a classe Pessoa um método para mostrar os dados de uma pessoa. Crie um objeto do tipo Pessoa para testar suas propriedades e métodos.\n",
        "\n"
      ],
      "metadata": {
        "id": "NQK3lVY4FWWz"
      }
    },
    {
      "cell_type": "code",
      "source": [
        "class Pessoa:\n",
        "    def __init__(self, nome, sobrenome, idade):\n",
        "        self._nome = nome.title()\n",
        "        self._sobrenome = sobrenome\n",
        "        self._idade = idade\n",
        "\n",
        "    @property\n",
        "    def nome(self):\n",
        "        return self._nome\n",
        "\n",
        "    @property\n",
        "    def sobrenome(self):\n",
        "        return self._sobrenome\n",
        "\n",
        "    @property\n",
        "    def idade(self):\n",
        "        return self._idade\n",
        "\n",
        "    @nome.setter\n",
        "    def nome(self, novo_nome):\n",
        "        self._nome = novo_nome.title()\n",
        "\n",
        "    @sobrenome.setter\n",
        "    def sobrenome(self, novo_nome):\n",
        "        self._sobrenome = novo_nome.title()\n",
        "\n",
        "    def mostrar_dados(self):\n",
        "      print(f'Nome: {self._nome} {self._sobrenome}')\n",
        "      print(f'Idaded: {self._idade}')\n",
        "\n",
        "pessoa = Pessoa('carlos', 'eduardo', 31)\n",
        "pessoa.nome = 'joao'\n",
        "pessoa.sobrenome = 'pe de feijao'\n",
        "\n",
        "pessoa.mostrar_dados()\n",
        "\n",
        "print(f'Nome: {pessoa._nome} - Sobrenome: {pessoa._sobrenome} - Idade: {pessoa._idade}')\n"
      ],
      "metadata": {
        "colab": {
          "base_uri": "https://localhost:8080/"
        },
        "id": "aIolxg54RpQ0",
        "outputId": "4f4d8e59-61b9-4600-c886-7aec612c8001"
      },
      "execution_count": null,
      "outputs": [
        {
          "output_type": "stream",
          "name": "stdout",
          "text": [
            "Nome: Joao Pe De Feijao\n",
            "Idaded: 31\n",
            "Nome: Joao - Sobrenome: Pe De Feijao - Idade: 31\n"
          ]
        }
      ]
    },
    {
      "cell_type": "markdown",
      "source": [
        "# Exercício 3\n",
        "\n",
        "Crie uma classe Pessoa com as seguintes características:\n",
        "\n",
        "Atributos:\n",
        "\n",
        "Nome (atributo público);\n",
        "\n",
        "E-mail (atributo público);\n",
        "\n",
        "Senha (atributo privado).\n",
        "\n",
        "Métodos:\n",
        "\n",
        "Mostrar nome;\n",
        "\n",
        "Mostrar E-mail;\n",
        "\n",
        "Mostrar senha.\n",
        "\n",
        "\n",
        "\n",
        "Crie um objeto da classe Pessoa para testar suas propriedades e métodos."
      ],
      "metadata": {
        "id": "vT-u2OLMFWUb"
      }
    },
    {
      "cell_type": "code",
      "source": [
        "class Pessoa:\n",
        "  def __init__(self, nome, email, senha):\n",
        "    self.nome = nome.title()\n",
        "    self.email = email.lower()\n",
        "    self._senha = senha\n",
        "\n",
        "  @property\n",
        "  def senha(self):\n",
        "    return self._senha\n",
        "\n",
        "  @senha.setter\n",
        "  def senha(self, nova_senha):\n",
        "    self._senha = nova_senha\n",
        "\n",
        "  def mostrar_nome(self):\n",
        "    print(f'Nome: {self.nome}')\n",
        "\n",
        "  def mostrar_email(self):\n",
        "    print(f'email: {self.email}')\n",
        "\n",
        "  def mostrar_senha(self):\n",
        "    print(f'Senha: {self._senha}')\n",
        "\n",
        "pessoa = Pessoa('firmino claudio da silva', 'firminothebest@hotmail.com', 're4333')\n",
        "pessoa.senha = 'rtes2'\n",
        "\n",
        "pessoa.mostrar_nome()\n",
        "pessoa.mostrar_email()\n",
        "pessoa.mostrar_senha()\n",
        "\n",
        "print(f'Nome: {pessoa.nome} - Email: {pessoa.email} - Senha: {pessoa._senha}')"
      ],
      "metadata": {
        "colab": {
          "base_uri": "https://localhost:8080/"
        },
        "id": "nnxzAW7rSG4M",
        "outputId": "afde68f2-6143-4135-83ce-39c5bcde5d0d"
      },
      "execution_count": null,
      "outputs": [
        {
          "output_type": "stream",
          "name": "stdout",
          "text": [
            "Nome: Firmino Claudio Da Silva\n",
            "email: firminothebest@hotmail.com\n",
            "Senha: rtes2\n",
            "Nome: Firmino Claudio Da Silva - Email: firminothebest@hotmail.com - Senha: rtes2\n"
          ]
        }
      ]
    },
    {
      "cell_type": "markdown",
      "source": [
        "# Exercício 4\n",
        "\n",
        "Crie uma classe Produto com as seguintes características:\n",
        "\n",
        "Atributos:\n",
        "\n",
        "Nome;\n",
        "\n",
        "Estoque;\n",
        "\n",
        "Descrição;\n",
        "\n",
        "Preço.\n",
        "\n",
        "Métodos:\n",
        "\n",
        "Mostrar nome;\n",
        "\n",
        "Mostrar estoque;\n",
        "\n",
        "Mostrar preço;\n",
        "\n",
        "Mudar nome;\n",
        "\n",
        "Mudar estoque;\n",
        "\n",
        "Mudar descrição;\n",
        "\n",
        "Mudar preço;\n",
        "\n",
        "Sumário (mostrar na tela todos os atributos de instância)."
      ],
      "metadata": {
        "id": "uIsBUmpfFWRz"
      }
    },
    {
      "cell_type": "code",
      "source": [
        "class Produto:\n",
        "  def __init__(self, nome, estoque, descricao, preco):\n",
        "    self.nome = nome.title()\n",
        "    self.estoque = estoque\n",
        "    self.descricao = descricao.title()\n",
        "    self.preco = preco\n",
        "  \n",
        "  def mostrar_nome(self):\n",
        "    return self.nome\n",
        "  \n",
        "  def mostrar_estoque(self):\n",
        "    return self.estoque\n",
        "\n",
        "  def mostrar_preco(self):\n",
        "    return self.preco\n",
        "\n",
        "  def mudar_nome(self, novo_nome):\n",
        "    self.nome = novo_nome\n",
        "  \n",
        "  def mudar_estoque(self, novo_estoque):\n",
        "    self.estoque = novo_estoque\n",
        "\n",
        "  def mudar_descricao(self, novo_descricao):\n",
        "    self.descricao = novo_descricao\n",
        "\n",
        "  def mudar_preco(self, novo_preco):\n",
        "    self.preco = novo_preco\n",
        "\n",
        "  def sumario(self):\n",
        "    print('Sumário do produto')\n",
        "    print(f'Produto: {self.nome}')\n",
        "    print(f'Estoque: {self.estoque}')\n",
        "    print(f'Descrição: {self.descricao}')\n",
        "    print(f'Preço: {self.preco}')\n",
        " \n",
        "\n",
        "produto1 = Produto('Produto teste', 50, 'Produto teste - Categoria teste2', 90.5)\n",
        "\n",
        "produto1.sumario()"
      ],
      "metadata": {
        "colab": {
          "base_uri": "https://localhost:8080/"
        },
        "id": "jJO6Zb3LdnKe",
        "outputId": "8692c264-6a2b-482a-b17c-43f578bbbf33"
      },
      "execution_count": 7,
      "outputs": [
        {
          "output_type": "stream",
          "name": "stdout",
          "text": [
            "Sumário do produto\n",
            "Produto: Produto Teste\n",
            "Estoque: 50\n",
            "Descrição: Produto Teste - Categoria Teste2\n",
            "Preço: 90.5\n"
          ]
        }
      ]
    },
    {
      "cell_type": "markdown",
      "source": [
        "# Exercício 5\n",
        "\n",
        "Crie uma classe Lampada com os seguintes atributos e métodos:\n",
        "\n",
        "Atributos:\n",
        "\n",
        "Cor;\n",
        "\n",
        "Voltagem;\n",
        "\n",
        "Luminosidade;\n",
        "\n",
        "Ligada (a lâmpada deve inicializar desligada).\n",
        "\n",
        "Métodos:\n",
        "\n",
        "Verificar se a lâmpada está ligada/desligada\n",
        "\n",
        "Ligar/desligar a lâmpada.\n",
        "\n",
        "Todos os atributos devem ser privados.\n",
        "\n",
        "Crie um objeto da classe Lampada e teste os métodos criados."
      ],
      "metadata": {
        "id": "bKROmPBwFWPn"
      }
    },
    {
      "cell_type": "code",
      "source": [
        "class Lampada:\n",
        "  def __init__(self, cor, voltagem, luminosidade):\n",
        "    self._cor = cor.title()\n",
        "    self._voltagem = voltagem\n",
        "    self._luminosidade = luminosidade\n",
        "    self._ligada = False\n",
        "\n",
        "\n",
        "  def lampada_lig_ou_des(self):\n",
        "    return self._ligada\n",
        "  \n",
        "  def ligar_desligar_lampada(self):\n",
        "    if self._ligada:\n",
        "      self._ligada = False\n",
        "      return self._ligada\n",
        "    else:\n",
        "      self._ligada = True\n",
        "      return self._ligada\n",
        "\n",
        "\n",
        "lampada1 = Lampada('branca', '127 v', '600 lm')\n",
        "\n",
        "print(lampada1.lampada_lig_ou_des())\n",
        "print(lampada1.ligar_desligar_lampada())\n",
        "print(lampada1.ligar_desligar_lampada())\n",
        "print(lampada1.lampada_lig_ou_des())"
      ],
      "metadata": {
        "colab": {
          "base_uri": "https://localhost:8080/"
        },
        "id": "VtAtLpnvf_i1",
        "outputId": "8499618d-f118-4ec4-af98-44f6d542d8f9"
      },
      "execution_count": 13,
      "outputs": [
        {
          "output_type": "stream",
          "name": "stdout",
          "text": [
            "False\n",
            "True\n",
            "False\n",
            "False\n"
          ]
        }
      ]
    },
    {
      "cell_type": "markdown",
      "source": [
        "# Exercício 6\n",
        "\n",
        "Elabore e implemente uma classe Vetor, com 2 dimensões, que possua os métodos:\n",
        "\n",
        "Soma;\n",
        "\n",
        "Subtração;\n",
        "\n",
        "Produto interno;\n",
        "\n",
        "Norma;\n",
        "\n",
        "Igualdade entre dois vetores;\n",
        "\n",
        "Diferença entre dois vetores.\n",
        "\n",
        "Utilize métodos mágicos em sua implementação. Crie dois objetos da classe Vetor para testar os métodos criados."
      ],
      "metadata": {
        "id": "xrdW0_yIFWNX"
      }
    },
    {
      "cell_type": "code",
      "source": [
        "import math\n",
        "\n",
        "class Vetor:\n",
        "  def __init__(self, x, y):\n",
        "    self.x = x\n",
        "    self.y = y\n",
        "\n",
        "  def __str__(self):\n",
        "    return f'({self.x},{self.y})'\n",
        "\n",
        "  def __repr__(self):\n",
        "    return f'(x,y)=({self.x},{self.y})'\n",
        "\n",
        "  def __add__(self, other):\n",
        "    x = self.x + other.x\n",
        "    y = self.y + other.y\n",
        "    return Vetor(x, y)\n",
        "\n",
        "  def __sub__(self, other):\n",
        "    x = self.x - other.x\n",
        "    y = self.y - other.y\n",
        "    return Vetor(x, y)\n",
        "\n",
        "  def __mul__(self, other):\n",
        "    x = self.x * other.x\n",
        "    y = self.y * other.y\n",
        "    return Vetor(x, y)\n",
        "\n",
        "  def __abs__(self):\n",
        "    return math.sqrt((self.x**2) + (self.y**2))\n",
        "\n",
        "  def __eq__(self, other):\n",
        "    return self.x == other.x and self.y == other.y\n",
        "\n",
        "  def __ne__(self, other):\n",
        "    return self.x != other.x and self.y != other.y\n",
        "\n",
        "vetor1 = Vetor(3, 4)\n",
        "vetor2 = Vetor(1, 1)\n",
        "print(vetor1+vetor2)\n",
        "print(vetor1-vetor2)\n",
        "print(vetor1*vetor2)\n",
        "print(abs(vetor1))\n",
        "print(abs(vetor2))\n",
        "print(vetor1 == vetor2)\n",
        "print(vetor1 != vetor2)\n"
      ],
      "metadata": {
        "colab": {
          "base_uri": "https://localhost:8080/"
        },
        "id": "0rnjjV_Skgu0",
        "outputId": "e3a2eb29-36ed-4fb1-b65b-a477dd1808db"
      },
      "execution_count": 15,
      "outputs": [
        {
          "output_type": "stream",
          "name": "stdout",
          "text": [
            "(4,5)\n",
            "(2,3)\n",
            "(3,4)\n",
            "5.0\n",
            "1.4142135623730951\n",
            "False\n",
            "True\n"
          ]
        }
      ]
    },
    {
      "cell_type": "markdown",
      "source": [
        "# Exercício 7\n",
        "\n",
        "Elabore e implemente uma classe Vetor, com 3 dimensões, que possua os métodos:\n",
        "\n",
        "Soma;\n",
        "\n",
        "Subtração;\n",
        "\n",
        "Multiplicação;\n",
        "\n",
        "Norma;\n",
        "\n",
        "Igualdade entre dois vetores;\n",
        "\n",
        "Diferença entre dois vetores.\n",
        "\n",
        "Utilize métodos mágicos em sua implementação. Crie dois objetos da classe Vetor para testar os métodos criados."
      ],
      "metadata": {
        "id": "tHfusRTGFWF1"
      }
    },
    {
      "cell_type": "code",
      "source": [
        "import math\n",
        "\n",
        "class Vetor:\n",
        "  def __init__(self, x, y, z):\n",
        "    self.x = x\n",
        "    self.y = y\n",
        "    self.z = z\n",
        "\n",
        "  def __str__(self):\n",
        "    return f'({self.x,self.y,self.z})'\n",
        "\n",
        "  def __add__(self, other):\n",
        "    x = self.x + other.x\n",
        "    y = self.y + other.y\n",
        "    z = self.z + other.z\n",
        "    return Vetor(x, y, z)\n",
        "\n",
        "  def __sub__(self, other):\n",
        "    x = self.x - other.x\n",
        "    y = self.y - other.y\n",
        "    z = self.z - other.z\n",
        "    return Vetor(x, y, z)\n",
        "\n",
        "  def __mul__(self, other):\n",
        "    x = self.x * other.x\n",
        "    y = self.y * other.y\n",
        "    z = self.z * other.z\n",
        "    return Vetor(x, y, z)\n",
        "\n",
        "  def __abs__(self):\n",
        "    return math.sqrt((self.x**2)+(self.y**2)+(self.z**2))\n",
        "\n",
        "  def __eq__(self, other):\n",
        "    return self.x == other.x and self.y == other.y and self.z == other.z\n",
        "\n",
        "  def __ne__(self, other):\n",
        "    return self.x != other.x and self.y != other.y and self.z != other.z\n",
        "\n",
        "vetor1 = Vetor(1, 2, 3)\n",
        "vetor2 = Vetor(4, 5, 6)\n",
        "\n",
        "print(vetor1+vetor2)\n",
        "print(vetor1-vetor2)\n",
        "print(vetor1*vetor2)\n",
        "print(abs(vetor1))\n",
        "print(abs(vetor2))\n",
        "print(vetor1 == vetor2)\n",
        "print(vetor1 != vetor2)"
      ],
      "metadata": {
        "colab": {
          "base_uri": "https://localhost:8080/"
        },
        "id": "FeAphogCBxnl",
        "outputId": "b3e0eac6-33dd-4dc7-df50-fbd02c8d5ba6"
      },
      "execution_count": 16,
      "outputs": [
        {
          "output_type": "stream",
          "name": "stdout",
          "text": [
            "((5, 7, 9))\n",
            "((-3, -3, -3))\n",
            "((4, 10, 18))\n",
            "3.7416573867739413\n",
            "8.774964387392123\n",
            "False\n",
            "True\n"
          ]
        }
      ]
    },
    {
      "cell_type": "markdown",
      "source": [
        "# Exercício 8\n",
        "\n",
        "Crie uma classe Conta para simular as operações de uma conta corrente. Sua classe deverá ter os seguintes atributos:\n",
        "\n",
        "Titular;\n",
        "\n",
        "Saldo (atributo privado).\n",
        "\n",
        "E os seguintes métodos:\n",
        "\n",
        "Depositar;\n",
        "\n",
        "Sacar;\n",
        "\n",
        "Retornar saldo.\n",
        "\n",
        "Crie um objeto da classe Conta e teste o atributos e métodos implementados."
      ],
      "metadata": {
        "id": "W0nsQJoFFWDe"
      }
    },
    {
      "cell_type": "code",
      "source": [
        "class Conta:\n",
        "    def __init__(self, titular, saldo):\n",
        "        self.titular = titular.title()\n",
        "        self._saldo = saldo\n",
        "\n",
        "    def __str__(self):\n",
        "        return f'Titular: {self.titular} - Saldo: {self._saldo}'\n",
        "\n",
        "    def depositar(self, valor_deposito):\n",
        "        self._saldo += valor_deposito\n",
        "\n",
        "    def _pode_sacar(self, valor_saque):\n",
        "      return self._saldo >= valor_saque\n",
        "\n",
        "    def sacar(self, valor_saque):\n",
        "        if self._pode_sacar(valor_saque):\n",
        "            self._saldo = self._saldo - valor_saque\n",
        "        else:\n",
        "            return f'O valor do saque {valor_saque} é maior que o valor do saldo {self._saldo}'\n",
        "\n",
        "    def retorna_saldo(self):\n",
        "        return self._saldo\n",
        "\n",
        "\n",
        "conta1 = Conta('CARLOS EDUARDO', 500)\n",
        "print(conta1.titular)\n",
        "print(conta1.sacar(600))\n",
        "conta1.depositar(600)\n",
        "print(conta1.retorna_saldo())\n",
        "conta1.sacar(1100)\n",
        "print(conta1.retorna_saldo())"
      ],
      "metadata": {
        "colab": {
          "base_uri": "https://localhost:8080/"
        },
        "id": "7co0bTRPFZHU",
        "outputId": "70f41879-ed07-4dd9-eca6-bf5048df2098"
      },
      "execution_count": 17,
      "outputs": [
        {
          "output_type": "stream",
          "name": "stdout",
          "text": [
            "Carlos Eduardo\n",
            "O valor do saque 600 é maior que o valor do saldo 500\n",
            "1100\n",
            "0\n"
          ]
        }
      ]
    },
    {
      "cell_type": "markdown",
      "source": [
        "# Exercício 9\n",
        "\n",
        "Na classe Conta, do exercício anterior, incremente os métodos Depositar e Sacar, verificando se o valor inserido é válido. No caso do último método, verifique se há dinheiro suficiente no saldo da conta. Crie objetos para testar a sua implementação."
      ],
      "metadata": {
        "id": "iYCQeDW6FWAr"
      }
    },
    {
      "cell_type": "code",
      "source": [
        "class Conta:\n",
        "    def __init__(self, titular, saldo):\n",
        "        self.titular = titular.title()\n",
        "        self._saldo = saldo\n",
        "\n",
        "    def __str__(self):\n",
        "        return f'Titular: {self.titular} - Saldo: {self._saldo}'\n",
        "\n",
        "    def depositar(self, valor):\n",
        "        if self._valor_maior_que_0(valor):\n",
        "            self._saldo += valor\n",
        "        else:\n",
        "            return f'O Valor do depósito tem que ser maior que 0'\n",
        "\n",
        "    def _valor_maior_que_0(self, valor):\n",
        "      return valor > 0\n",
        "\n",
        "    def _pode_sacar(self, valor):\n",
        "        return valor <= self._saldo\n",
        "\n",
        "    def sacar(self, valor):\n",
        "        if self._valor_maior_que_0(valor):\n",
        "            if self._pode_sacar(valor):\n",
        "                self._saldo = self._saldo - valor\n",
        "                return 'Saque realizado com sucesso.'\n",
        "            else:\n",
        "                return f'O valor do saque {valor} é maior que o valor do saldo {self._saldo}'\n",
        "        else:\n",
        "            return f'O valor do saque tem que ser maior que 0'\n",
        "\n",
        "    @property\n",
        "    def saldo(self):\n",
        "        return self._saldo\n",
        "\n",
        "\n",
        "conta1 = Conta('CARLOS EDUARDO', 500)\n",
        "print(conta1.titular)\n",
        "print(conta1.sacar(600))\n",
        "print(conta1.sacar(0))\n",
        "print(conta1.depositar(-1))\n",
        "print(conta1.saldo)\n",
        "conta1.sacar(300)\n",
        "print(conta1.saldo)"
      ],
      "metadata": {
        "colab": {
          "base_uri": "https://localhost:8080/"
        },
        "id": "XWpQI7nwgWkz",
        "outputId": "503160d6-738a-4439-979a-12bb15ea0368"
      },
      "execution_count": 6,
      "outputs": [
        {
          "output_type": "stream",
          "name": "stdout",
          "text": [
            "Carlos Eduardo\n",
            "O valor do saque 600 é maior que o valor do saldo 500\n",
            "O valor do saque tem que ser maior que 0\n",
            "O Valor do depósito tem que ser maior que 0\n",
            "500\n",
            "200\n"
          ]
        }
      ]
    },
    {
      "cell_type": "markdown",
      "source": [
        "# Exercício 10\n",
        "\n",
        "Faça as seguintes modificações na classe Conta do exercício anterior:\n",
        "\n",
        "Crie o método extrato, para registrar e mostrar na tela as operações efetuadas (tipo, valor e data);\n",
        "\n",
        "Crie o método resumo, para mostrar na tela o titular e o saldo da conta."
      ],
      "metadata": {
        "id": "hfumzN-QFV-D"
      }
    },
    {
      "cell_type": "code",
      "source": [
        "from datetime import datetime\n",
        "\n",
        "\n",
        "class Conta:\n",
        "    def __init__(self, titular, saldo):\n",
        "        self.titular = titular.title()\n",
        "        self._saldo = saldo\n",
        "        self._extrato = []\n",
        "\n",
        "    def __str__(self):\n",
        "        return f'Titular: {self.titular} - Saldo: {self._saldo}'\n",
        "\n",
        "    def _data_e_horario_atual(self, data_atual):\n",
        "        data_e_hora_atuais = data_atual\n",
        "        data_e_hora_em_texto = data_e_hora_atuais.strftime('%d/%m/%Y %H:%M')\n",
        "        return data_e_hora_em_texto\n",
        "\n",
        "    def _adiciona_info_extrato(self, valor, tipo):\n",
        "        data = self._data_e_horario_atual(datetime.now())\n",
        "        self._extrato.append([tipo, valor, data])\n",
        "\n",
        "    def depositar(self, valor):\n",
        "        if self._valor_maior_que_0(valor):\n",
        "            self._saldo += valor\n",
        "            self._adiciona_info_extrato(valor, 'deposito')\n",
        "            return f'Depósito realizado com sucesso.'\n",
        "        else:\n",
        "            return f'O Valor do depósito tem que ser maior que 0'\n",
        "\n",
        "    def _valor_maior_que_0(self, valor):\n",
        "        return valor > 0\n",
        "\n",
        "    def _pode_sacar(self, valor):\n",
        "        return valor <= self._saldo\n",
        "\n",
        "    def sacar(self, valor):\n",
        "        if self._valor_maior_que_0(valor):\n",
        "            if self._pode_sacar(valor):\n",
        "                self._saldo = self._saldo - valor\n",
        "                self._adiciona_info_extrato(valor, 'saque')\n",
        "                return 'Saque realizado com sucesso.'\n",
        "            else:\n",
        "                return f'O valor do saque {valor} é maior que o valor do saldo {self._saldo}'\n",
        "        else:\n",
        "            return f'O valor do saque tem que ser maior que 0'\n",
        "\n",
        "    @property\n",
        "    def saldo(self):\n",
        "        return self._saldo\n",
        "\n",
        "    @property\n",
        "    def extrato(self):\n",
        "        for i in self._extrato:\n",
        "            print((f'\\nTipo da operação: {i[0]} \\n'\n",
        "                   f'Valor da operação: R$ {i[1]:.2f} \\n'\n",
        "                   f'Data da operação: {i[2]} \\n'), end='')\n",
        "\n",
        "    @property\n",
        "    def resumo(self):\n",
        "        return f'\\nNome: {self.titular} - Saldo: {self._saldo}'\n",
        "\n",
        "\n",
        "conta1 = Conta('CARLOS EDUARDO', 500)\n",
        "print(conta1.titular)\n",
        "print(conta1.sacar(600))\n",
        "print(conta1.sacar(0))\n",
        "print(conta1.depositar(-1))\n",
        "print(conta1.depositar(200))\n",
        "print(conta1.depositar(700))\n",
        "print(conta1.sacar(10))\n",
        "print(conta1.sacar(150))\n",
        "print(conta1.saldo)\n",
        "print(conta1.saldo)\n",
        "print(conta1.resumo)\n",
        "conta1.extrato"
      ],
      "metadata": {
        "colab": {
          "base_uri": "https://localhost:8080/"
        },
        "id": "N865BLWtbcfF",
        "outputId": "c9000469-e378-4af2-bb26-de01b760e6de"
      },
      "execution_count": 1,
      "outputs": [
        {
          "output_type": "stream",
          "name": "stdout",
          "text": [
            "Carlos Eduardo\n",
            "O valor do saque 600 é maior que o valor do saldo 500\n",
            "O valor do saque tem que ser maior que 0\n",
            "O Valor do depósito tem que ser maior que 0\n",
            "Depósito realizado com sucesso.\n",
            "Depósito realizado com sucesso.\n",
            "Saque realizado com sucesso.\n",
            "Saque realizado com sucesso.\n",
            "1240\n",
            "1240\n",
            "\n",
            "Nome: Carlos Eduardo - Saldo: 1240\n",
            "\n",
            "Tipo da operação: deposito \n",
            "Valor da operação: R$ 200.00 \n",
            "Data da operação: 18/10/2022 00:11 \n",
            "\n",
            "Tipo da operação: deposito \n",
            "Valor da operação: R$ 700.00 \n",
            "Data da operação: 18/10/2022 00:11 \n",
            "\n",
            "Tipo da operação: saque \n",
            "Valor da operação: R$ 10.00 \n",
            "Data da operação: 18/10/2022 00:11 \n",
            "\n",
            "Tipo da operação: saque \n",
            "Valor da operação: R$ 150.00 \n",
            "Data da operação: 18/10/2022 00:11 \n"
          ]
        }
      ]
    },
    {
      "cell_type": "markdown",
      "source": [
        "# Exercício 11\n",
        "\n",
        "Crie uma classe Pessoa com os atributos nome, idade e telefone (privado) e um método resumo, para mostrar na tela todos os atributos. Em seguida crie uma classe PessoaUniversidade que herde todos os métodos e atributos da classe Pessoa, mas que implemente o atributo universidade e sobrescreva o método resumo."
      ],
      "metadata": {
        "id": "IGWWSKPgFV8E"
      }
    },
    {
      "cell_type": "code",
      "source": [
        "class Pessoa:\n",
        "    def __init__(self, nome, idade, telefone):\n",
        "        self.nome = nome.title()\n",
        "        self.idade = idade\n",
        "        self.__telefone = telefone\n",
        "\n",
        "    def resumo(self):\n",
        "        print(f'Nome: {self.nome} - Idade: {self.idade} anos - Telefone: {self.__telefone}')\n",
        "\n",
        "\n",
        "class PessoaUniversidade(Pessoa):\n",
        "    def __init__(self, nome, idade, telefone, universidade):\n",
        "        super().__init__(nome, idade, telefone)\n",
        "        self.universidade = universidade\n",
        "\n",
        "    def resumo(self):\n",
        "        super().resumo()\n",
        "        print(f'Universidade: {self.universidade}')\n",
        "\n",
        "pessoa1 = PessoaUniversidade('CARLOS eduardo LucAS', 31, '(32) 8732-3234', 'PUC MINAS')\n",
        "pessoa1.resumo()"
      ],
      "metadata": {
        "colab": {
          "base_uri": "https://localhost:8080/"
        },
        "id": "WulGBC1abi51",
        "outputId": "790969db-aac5-4a5a-d1fb-e7c584795db6"
      },
      "execution_count": 4,
      "outputs": [
        {
          "output_type": "stream",
          "name": "stdout",
          "text": [
            "Nome: Carlos Eduardo Lucas - Idade: 31 anos - Telefone: (32) 8732-3234\n"
          ]
        }
      ]
    },
    {
      "cell_type": "markdown",
      "source": [
        "# Exercício 12\n",
        "\n",
        "Crie uma classe Cliente com os seguintes atributos e métodos:\n",
        "\n",
        "Atributos (todos privados):\n",
        "\n",
        "Nome;\n",
        "\n",
        "E-mail;\n",
        "\n",
        "Telefone;\n",
        "\n",
        "Senha.\n",
        "\n",
        "\n",
        "\n",
        "Métodos:\n",
        "\n",
        "Mostrar nome;\n",
        "\n",
        "Mostrar sobrenome;\n",
        "\n",
        "Mostrar e-mail;\n",
        "\n",
        "Mostrar telefone;\n",
        "\n",
        "Alterar nome *;\n",
        "\n",
        "Alterar Senha *;\n",
        "\n",
        "Resumo (mostra todas as informações do cliente, inclusive a senha).\n",
        "\n",
        "*Para alterar essas informações, peça a senha do usuário, e caso a senha seja correta permita a modificação.\n",
        "\n",
        "\n",
        "\n",
        "Crie um objeto para testar os métodos e atributos da classe Cliente.\n",
        "\n"
      ],
      "metadata": {
        "id": "izA6tATdFV5l"
      }
    },
    {
      "cell_type": "code",
      "source": [
        "class Cliente:\n",
        "    def __init__(self, nome, email, telefone, senha):\n",
        "        self._nome = nome.title()\n",
        "        self._email = email\n",
        "        self._telefone = telefone\n",
        "        self._senha = senha\n",
        "\n",
        "    def mostrar_nome(self):\n",
        "        return self._nome\n",
        "\n",
        "    def mostrar_email(self):\n",
        "        return self._email\n",
        "\n",
        "    def mostrar_telefone(self):\n",
        "        return self._telefone\n",
        "\n",
        "    def _senha_correta(self):\n",
        "        senha = input('Digite a senha do usuário: ')\n",
        "        if senha == self._senha:\n",
        "            print('Senha correta!')\n",
        "            return True\n",
        "        else:\n",
        "            return False\n",
        "\n",
        "    def alterar_nome(self):\n",
        "        if self._senha_correta():\n",
        "            novo_nome = input('Digite o novo nome: ')\n",
        "            self._nome = novo_nome.title()\n",
        "        else:\n",
        "            return 'Senha incorreta'\n",
        "\n",
        "    def alterar_senha(self):\n",
        "        if self._senha_correta():\n",
        "            nova_senha = input('Digite a nova senha do usuário: ')\n",
        "            self._senha = nova_senha\n",
        "        else:\n",
        "            return 'Senha incorreta'\n",
        "\n",
        "    def resumo(self):\n",
        "        return f'Nome: {self._nome} - Email: {self._email} - Telefone: {self._telefone} - Senha: {self._senha}'\n",
        "\n",
        "\n",
        "cliente1 = Cliente('CARLOS eduardo LucAS', 'carlosedlucas@gmail.com', '(32) 8732-3234', 'a senha é a senha')\n",
        "print(cliente1.resumo())\n",
        "print(cliente1.alterar_nome())\n",
        "print(cliente1.alterar_senha())\n",
        "print(cliente1.resumo())"
      ],
      "metadata": {
        "colab": {
          "base_uri": "https://localhost:8080/"
        },
        "id": "9S7EWn_qmDN7",
        "outputId": "6aafd357-63b0-4114-d38e-022d70928419"
      },
      "execution_count": 5,
      "outputs": [
        {
          "output_type": "stream",
          "name": "stdout",
          "text": [
            "Nome: Carlos Eduardo Lucas - Email: carlosedlucas@gmail.com - Telefone: (32) 8732-3234 - Senha: a senha é a senha\n",
            "Digite a senha do usuário: a senha é a senha\n",
            "Senha correta!\n",
            "Digite o novo nome: carlos eduardo lucas\n",
            "None\n",
            "Digite a senha do usuário: a senha é a senha\n",
            "Senha correta!\n",
            "Digite a nova senha do usuário: teste\n",
            "None\n",
            "Nome: Carlos Eduardo Lucas - Email: carlosedlucas@gmail.com - Telefone: (32) 8732-3234 - Senha: teste\n"
          ]
        }
      ]
    }
  ]
}