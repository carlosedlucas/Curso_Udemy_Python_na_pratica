{
  "nbformat": 4,
  "nbformat_minor": 0,
  "metadata": {
    "colab": {
      "provenance": [],
      "collapsed_sections": []
    },
    "kernelspec": {
      "name": "python3",
      "display_name": "Python 3"
    },
    "language_info": {
      "name": "python"
    }
  },
  "cells": [
    {
      "cell_type": "markdown",
      "source": [
        "# Exercício 1\n",
        "\n",
        "Crie uma classe Pessoa com os seguintes atributos: nome, sobrenome e idade."
      ],
      "metadata": {
        "id": "sTfCXfu0FWZM"
      }
    },
    {
      "cell_type": "markdown",
      "source": [
        "# Exercício 2\n",
        "\n",
        "Acrescente a classe Pessoa um método para mostrar os dados de uma pessoa. Crie um objeto do tipo Pessoa para testar suas propriedades e métodos.\n",
        "\n"
      ],
      "metadata": {
        "id": "NQK3lVY4FWWz"
      }
    },
    {
      "cell_type": "markdown",
      "source": [
        "# Exercício 3\n",
        "\n",
        "Crie uma classe Pessoa com as seguintes características:\n",
        "\n",
        "Atributos:\n",
        "\n",
        "Nome (atributo público);\n",
        "\n",
        "E-mail (atributo público);\n",
        "\n",
        "Senha (atributo privado).\n",
        "\n",
        "Métodos:\n",
        "\n",
        "Mostrar nome;\n",
        "\n",
        "Mostrar E-mail;\n",
        "\n",
        "Mostrar senha.\n",
        "\n",
        "\n",
        "\n",
        "Crie um objeto da classe Pessoa para testar suas propriedades e métodos."
      ],
      "metadata": {
        "id": "vT-u2OLMFWUb"
      }
    },
    {
      "cell_type": "markdown",
      "source": [
        "# Exercício 4\n",
        "\n",
        "Crie uma classe Produto com as seguintes características:\n",
        "\n",
        "Atributos:\n",
        "\n",
        "Nome;\n",
        "\n",
        "Estoque;\n",
        "\n",
        "Descrição;\n",
        "\n",
        "Preço.\n",
        "\n",
        "Métodos:\n",
        "\n",
        "Mostrar nome;\n",
        "\n",
        "Mostrar estoque;\n",
        "\n",
        "Mostrar preço;\n",
        "\n",
        "Mudar nome;\n",
        "\n",
        "Mudar estoque;\n",
        "\n",
        "Mudar descrição;\n",
        "\n",
        "Mudar preço;\n",
        "\n",
        "Sumário (mostrar na tela todos os atributos de instância)."
      ],
      "metadata": {
        "id": "uIsBUmpfFWRz"
      }
    },
    {
      "cell_type": "markdown",
      "source": [
        "# Exercício 5\n",
        "\n",
        "Crie uma classe Lampada com os seguintes atributos e métodos:\n",
        "\n",
        "Atributos:\n",
        "\n",
        "Cor;\n",
        "\n",
        "Voltagem;\n",
        "\n",
        "Luminosidade;\n",
        "\n",
        "Ligada (a lâmpada deve inicializar desligada).\n",
        "\n",
        "Métodos:\n",
        "\n",
        "Verificar se a lâmpada está ligada/desligada\n",
        "\n",
        "Ligar/desligar a lâmpada.\n",
        "\n",
        "Todos os atributos devem ser privados.\n",
        "\n",
        "Crie um objeto da classe Lampada e teste os métodos criados."
      ],
      "metadata": {
        "id": "bKROmPBwFWPn"
      }
    },
    {
      "cell_type": "markdown",
      "source": [
        "# Exercício 6\n",
        "\n",
        "Elabore e implemente uma classe Vetor, com 2 dimensões, que possua os métodos:\n",
        "\n",
        "Soma;\n",
        "\n",
        "Subtração;\n",
        "\n",
        "Produto interno;\n",
        "\n",
        "Norma;\n",
        "\n",
        "Igualdade entre dois vetores;\n",
        "\n",
        "Diferença entre dois vetores.\n",
        "\n",
        "Utilize métodos mágicos em sua implementação. Crie dois objetos da classe Vetor para testar os métodos criados."
      ],
      "metadata": {
        "id": "xrdW0_yIFWNX"
      }
    },
    {
      "cell_type": "markdown",
      "source": [
        "# Exercício 7\n",
        "\n",
        "Elabore e implemente uma classe Vetor, com 3 dimensões, que possua os métodos:\n",
        "\n",
        "Soma;\n",
        "\n",
        "Subtração;\n",
        "\n",
        "Multiplicação;\n",
        "\n",
        "Norma;\n",
        "\n",
        "Igualdade entre dois vetores;\n",
        "\n",
        "Diferença entre dois vetores.\n",
        "\n",
        "Utilize métodos mágicos em sua implementação. Crie dois objetos da classe Vetor para testar os métodos criados."
      ],
      "metadata": {
        "id": "tHfusRTGFWF1"
      }
    },
    {
      "cell_type": "markdown",
      "source": [
        "# Exercício 8\n",
        "\n",
        "Crie uma classe Conta para simular as operações de uma conta corrente. Sua classe deverá ter os seguintes atributos:\n",
        "\n",
        "Titular;\n",
        "\n",
        "Saldo (atributo privado).\n",
        "\n",
        "E os seguintes métodos:\n",
        "\n",
        "Depositar;\n",
        "\n",
        "Sacar;\n",
        "\n",
        "Retornar saldo.\n",
        "\n",
        "Crie um objeto da classe Conta e teste o atributos e métodos implementados."
      ],
      "metadata": {
        "id": "W0nsQJoFFWDe"
      }
    },
    {
      "cell_type": "markdown",
      "source": [
        "# Exercício 9\n",
        "\n",
        "Na classe Conta, do exercício anterior, incremente os métodos Depositar e Sacar, verificando se o valor inserido é válido. No caso do último método, verifique se há dinheiro suficiente no saldo da conta. Crie objetos para testar a sua implementação."
      ],
      "metadata": {
        "id": "iYCQeDW6FWAr"
      }
    },
    {
      "cell_type": "markdown",
      "source": [
        "# Exercício 10\n",
        "\n",
        "Faça as seguintes modificações na classe Conta do exercício anterior:\n",
        "\n",
        "Crie o método extrato, para registrar e mostrar na tela as operações efetuadas (tipo, valor e data);\n",
        "\n",
        "Crie o método resumo, para mostrar na tela o titular e o saldo da conta."
      ],
      "metadata": {
        "id": "hfumzN-QFV-D"
      }
    },
    {
      "cell_type": "markdown",
      "source": [
        "# Exercício 11\n",
        "\n",
        "Crie uma classe Pessoa com os atributos nome, idade e telefone (privado) e um método resumo, para mostrar na tela todos os atributos. Em seguida crie uma classe PessoaUniversidade que herde todos os métodos e atributos da classe Pessoa, mas que implemente o atributo universidade e sobrescreva o método resumo."
      ],
      "metadata": {
        "id": "IGWWSKPgFV8E"
      }
    },
    {
      "cell_type": "markdown",
      "source": [
        "# Exercício 12\n",
        "\n",
        "Crie uma classe Cliente com os seguintes atributos e métodos:\n",
        "\n",
        "Atributos (todos privados):\n",
        "\n",
        "Nome;\n",
        "\n",
        "E-mail;\n",
        "\n",
        "Telefone;\n",
        "\n",
        "Senha.\n",
        "\n",
        "\n",
        "\n",
        "Métodos:\n",
        "\n",
        "Mostrar nome;\n",
        "\n",
        "Mostrar sobrenome;\n",
        "\n",
        "Mostrar e-mail;\n",
        "\n",
        "Mostrar telefone;\n",
        "\n",
        "Alterar nome *;\n",
        "\n",
        "Alterar Senha *;\n",
        "\n",
        "Resumo (mostra todas as informações do cliente, inclusive a senha).\n",
        "\n",
        "*Para alterar essas informações, peça a senha do usuário, e caso a senha seja correta permita a modificação.\n",
        "\n",
        "\n",
        "\n",
        "Crie um objeto para testar os métodos e atributos da classe Cliente.\n",
        "\n"
      ],
      "metadata": {
        "id": "izA6tATdFV5l"
      }
    }
  ]
}