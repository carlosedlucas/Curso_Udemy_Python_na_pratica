{
  "nbformat": 4,
  "nbformat_minor": 0,
  "metadata": {
    "colab": {
      "provenance": [],
      "collapsed_sections": []
    },
    "kernelspec": {
      "name": "python3",
      "display_name": "Python 3"
    },
    "language_info": {
      "name": "python"
    }
  },
  "cells": [
    {
      "cell_type": "markdown",
      "source": [
        "# Exercício 1\n",
        "\n",
        "Elabore uma função que retorne a soma de dois números."
      ],
      "metadata": {
        "id": "07U40eFBTJuv"
      }
    },
    {
      "cell_type": "code",
      "execution_count": null,
      "metadata": {
        "colab": {
          "base_uri": "https://localhost:8080/"
        },
        "id": "kGIJe2hHTAsI",
        "outputId": "2b35e971-e8ab-4d3f-d7e6-7e0b2ca41521"
      },
      "outputs": [
        {
          "output_type": "execute_result",
          "data": {
            "text/plain": [
              "5"
            ]
          },
          "metadata": {},
          "execution_count": 1
        }
      ],
      "source": [
        "def soma(x,y):\n",
        "  return x+y\n",
        "\n",
        "soma(3,2)"
      ]
    },
    {
      "cell_type": "markdown",
      "source": [
        "# Exercício 2\n",
        "\n",
        "Escreva uma função que retorne a área de um retângulo. A sua função deve receber a base e a altura como parâmetros. Lembre que a área de um retângulo é dada pela fórmula: A=base x altura ."
      ],
      "metadata": {
        "id": "QW67qo7gTMbl"
      }
    },
    {
      "cell_type": "code",
      "source": [
        "def area_ret(b,a):\n",
        "  return b*a\n",
        "\n",
        "valor_base = int(input('Digite o valor da base do retângulo: '))\n",
        "valor_altura = int(input('Digite o valor da base do retângulo: '))\n",
        "\n",
        "area_ret(valor_base,valor_altura)\n"
      ],
      "metadata": {
        "colab": {
          "base_uri": "https://localhost:8080/"
        },
        "id": "4Q2LqKN8bdiI",
        "outputId": "c80a229e-5b62-4c89-91db-9a9270821117"
      },
      "execution_count": null,
      "outputs": [
        {
          "name": "stdout",
          "output_type": "stream",
          "text": [
            "Digite o valor da base do retângulo: 2\n",
            "Digite o valor da base do retângulo: 3\n"
          ]
        },
        {
          "output_type": "execute_result",
          "data": {
            "text/plain": [
              "6"
            ]
          },
          "metadata": {},
          "execution_count": 3
        }
      ]
    },
    {
      "cell_type": "markdown",
      "source": [
        "# Exercício 3\n",
        "\n",
        "Escreva uma função que retorne a área de um triângulo. A sua função deve receber como parâmetros a base e a altura. Lembre que a área de um triângulo é dada pela fórmula: A=(base x altura)/2"
      ],
      "metadata": {
        "id": "KdvEWSyBTN7-"
      }
    },
    {
      "cell_type": "code",
      "source": [
        "def area_tri(b,a):\n",
        "  return (b*a)/2\n",
        "\n",
        "valor_base = int(input('Digite o valor da base do retângulo: '))\n",
        "valor_altura = int(input('Digite o valor da base do retângulo: '))\n",
        "\n",
        "area_tri(valor_base,valor_altura)"
      ],
      "metadata": {
        "colab": {
          "base_uri": "https://localhost:8080/"
        },
        "id": "YODQKzCvcJSx",
        "outputId": "7349164b-7602-485d-be72-0ef3ad14d480"
      },
      "execution_count": null,
      "outputs": [
        {
          "name": "stdout",
          "output_type": "stream",
          "text": [
            "Digite o valor da base do retângulo: 4\n",
            "Digite o valor da base do retângulo: 7\n"
          ]
        },
        {
          "output_type": "execute_result",
          "data": {
            "text/plain": [
              "14.0"
            ]
          },
          "metadata": {},
          "execution_count": 4
        }
      ]
    },
    {
      "cell_type": "markdown",
      "source": [
        "# Exercício 4\n",
        "\n",
        "Escreva uma função que verifique se um número é múltiplo do outro e retorne um valor lógico."
      ],
      "metadata": {
        "id": "MkZayqVtTPol"
      }
    },
    {
      "cell_type": "code",
      "source": [
        "def mult_ou_n(n1,n2):\n",
        "  if n1 % n2 == 0:\n",
        "    return True\n",
        "  else:\n",
        "    return False\n",
        "\n",
        "mult_ou_n(8,2)"
      ],
      "metadata": {
        "colab": {
          "base_uri": "https://localhost:8080/"
        },
        "id": "dwpHCVJncSBQ",
        "outputId": "753900f7-64b7-40f3-d58a-a89e3cbe20ad"
      },
      "execution_count": null,
      "outputs": [
        {
          "output_type": "execute_result",
          "data": {
            "text/plain": [
              "True"
            ]
          },
          "metadata": {},
          "execution_count": 10
        }
      ]
    },
    {
      "cell_type": "markdown",
      "source": [
        "# Exercício 5\n",
        "\n",
        "Escreva um programa que pesquise um determinado valor em uma lista. Sua função deve ter como parâmetros a lista e o valor a ser verificado. Caso o valor faça parte da lista informada retorne True e False, caso contrário."
      ],
      "metadata": {
        "id": "hqrmqu8cTRFd"
      }
    },
    {
      "cell_type": "code",
      "source": [
        "def search_list(search_l,num):\n",
        "  for item in search_l:\n",
        "    if num in search_l:\n",
        "      return True\n",
        "    else:\n",
        "      return False\n",
        "\n",
        "\n",
        "\n",
        "\n",
        "search_list([1,2,3,4,5,6,7,8,9,10],1.0)\n",
        "\n"
      ],
      "metadata": {
        "colab": {
          "base_uri": "https://localhost:8080/"
        },
        "id": "voqajgjxdA45",
        "outputId": "5c926eb6-a58a-4395-f9d7-603c0860446e"
      },
      "execution_count": null,
      "outputs": [
        {
          "output_type": "execute_result",
          "data": {
            "text/plain": [
              "True"
            ]
          },
          "metadata": {},
          "execution_count": 18
        }
      ]
    },
    {
      "cell_type": "markdown",
      "source": [
        "# Exercício 6\n",
        "\n",
        "Escreva uma função para checar se um determinado ano é bissexto."
      ],
      "metadata": {
        "id": "fTKAKZ3OTSot"
      }
    },
    {
      "cell_type": "code",
      "source": [
        "def bissexto_or_n(year):\n",
        "  if year % 4 == 0 and (year % 100 == 0 and year % 400 == 0):\n",
        "    return True\n",
        "  else:\n",
        "    return False\n",
        "\n",
        "bissexto_or_n(1700)"
      ],
      "metadata": {
        "colab": {
          "base_uri": "https://localhost:8080/"
        },
        "id": "OqskcxJ5eq7p",
        "outputId": "67dee163-446a-4010-8fc1-816cf9a02d4c"
      },
      "execution_count": null,
      "outputs": [
        {
          "output_type": "execute_result",
          "data": {
            "text/plain": [
              "False"
            ]
          },
          "metadata": {},
          "execution_count": 22
        }
      ]
    },
    {
      "cell_type": "markdown",
      "source": [
        "# Exercício 7\n",
        "\n",
        "Elabore uma função que receba um número inteiro e retorne o fatorial deste número."
      ],
      "metadata": {
        "id": "f7Mu_hCxTUMd"
      }
    },
    {
      "cell_type": "code",
      "source": [
        "import math  \n",
        "\n",
        "def fact(num):\n",
        "  return math.factorial(num)\n",
        "\n",
        "fact(5)"
      ],
      "metadata": {
        "colab": {
          "base_uri": "https://localhost:8080/"
        },
        "id": "GoenODRmfT8B",
        "outputId": "3976be93-2936-4fc7-deba-631940e213e7"
      },
      "execution_count": null,
      "outputs": [
        {
          "output_type": "execute_result",
          "data": {
            "text/plain": [
              "120"
            ]
          },
          "metadata": {},
          "execution_count": 24
        }
      ]
    },
    {
      "cell_type": "markdown",
      "source": [
        "# Exercício 8\n",
        "\n",
        "Implemente uma função recursiva para calcular e retornar o fatorial de um número inteiro."
      ],
      "metadata": {
        "id": "LGqRCbUeTV2u"
      }
    },
    {
      "cell_type": "code",
      "source": [
        "def fact_rec(num):\n",
        "    if num==1 or num==0:\n",
        "        return num\n",
        "    else:\n",
        "        return fact_rec(num-1)*num\n",
        "\n",
        "\n",
        "fact_rec(5)\n"
      ],
      "metadata": {
        "colab": {
          "base_uri": "https://localhost:8080/"
        },
        "id": "qAVBwW0xf5Ka",
        "outputId": "ebc34e87-574c-4e8c-de92-f33db130a69b"
      },
      "execution_count": null,
      "outputs": [
        {
          "output_type": "execute_result",
          "data": {
            "text/plain": [
              "120"
            ]
          },
          "metadata": {},
          "execution_count": 5
        }
      ]
    },
    {
      "cell_type": "markdown",
      "source": [
        "# Exercício 9\n",
        "\n",
        "Implemente uma função recursiva para imprimir o n-ésimo termo da sequência Fibonacci."
      ],
      "metadata": {
        "id": "wN5nZhvwTXPF"
      }
    },
    {
      "cell_type": "code",
      "source": [
        "def fibonacci_(n):\n",
        "    if n<=1:\n",
        "        return n\n",
        "    else:\n",
        "        return fibonacci_(n-1)+fibonacci_(n-2)\n",
        "\n",
        "fibonacci_(7)"
      ],
      "metadata": {
        "colab": {
          "base_uri": "https://localhost:8080/"
        },
        "id": "RQX9lkpDicQ7",
        "outputId": "3b691adb-2e9c-4169-f8a5-d62bcd573882"
      },
      "execution_count": null,
      "outputs": [
        {
          "output_type": "execute_result",
          "data": {
            "text/plain": [
              "13"
            ]
          },
          "metadata": {},
          "execution_count": 18
        }
      ]
    },
    {
      "cell_type": "markdown",
      "source": [
        "# Exercício 10\n",
        "\n",
        "Escreva uma função que receba uma lista de números reais como parâmetro e retorne a média destes números."
      ],
      "metadata": {
        "id": "WHQQ13fqTYtd"
      }
    },
    {
      "cell_type": "code",
      "source": [
        "from statistics import mean\n",
        "\n",
        "\n",
        "def mean_list_num(lis):\n",
        "  lis1 = []\n",
        "  for num in lis:\n",
        "    lis1.append(num)\n",
        "  return mean(lis1)\n",
        "\n",
        "def mean_list_num(lis):\n",
        "  lis1 = [num for num in lis]\n",
        "  return mean(lis1)\n",
        "\n",
        "mean_list_num([1,2,3,4,5,6,7,8])"
      ],
      "metadata": {
        "colab": {
          "base_uri": "https://localhost:8080/"
        },
        "id": "q0-15BPVznNg",
        "outputId": "c8b6f366-7884-4f52-fdc8-d0bf401eae4d"
      },
      "execution_count": null,
      "outputs": [
        {
          "output_type": "execute_result",
          "data": {
            "text/plain": [
              "4.5"
            ]
          },
          "metadata": {},
          "execution_count": 26
        }
      ]
    },
    {
      "cell_type": "markdown",
      "source": [
        "# Exercício 11\n",
        "\n",
        "Escreva uma função que retorna o tamanho de uma string."
      ],
      "metadata": {
        "id": "-iULWXKZTaHu"
      }
    },
    {
      "cell_type": "code",
      "source": [
        "def tamanho_str(_str):\n",
        "  lista_str = [letra for letra in _str]\n",
        "  return len(lista_str)\n",
        "\n",
        "\n",
        "\n",
        "total = tamanho_str('teste2');\n",
        "print(total)\n"
      ],
      "metadata": {
        "colab": {
          "base_uri": "https://localhost:8080/"
        },
        "id": "SZEE0D__1PIo",
        "outputId": "3112c4dc-0a7b-445b-e02f-9ef0d41c2212"
      },
      "execution_count": null,
      "outputs": [
        {
          "output_type": "stream",
          "name": "stdout",
          "text": [
            "6\n"
          ]
        }
      ]
    },
    {
      "cell_type": "markdown",
      "source": [
        "# Exercício 12\n",
        "\n",
        "Escreva uma função para checar se uma lista é vazia ou não."
      ],
      "metadata": {
        "id": "tx6qMEArTcPd"
      }
    },
    {
      "cell_type": "code",
      "source": [
        "def lista_vazia_ou_n(lista):\n",
        "  if len(lista) > 0:\n",
        "    return 'LISTA NÃO É VAZIA'\n",
        "  else:\n",
        "    return 'LISTA VAZIA'\n",
        "\n",
        "lista_vazia_ou_n([])"
      ],
      "metadata": {
        "colab": {
          "base_uri": "https://localhost:8080/",
          "height": 36
        },
        "id": "8Q-h5OP7Jr1J",
        "outputId": "622dd48f-4e96-44de-8f8f-d20b5e386a32"
      },
      "execution_count": null,
      "outputs": [
        {
          "output_type": "execute_result",
          "data": {
            "text/plain": [
              "'LISTA VAZIA'"
            ],
            "application/vnd.google.colaboratory.intrinsic+json": {
              "type": "string"
            }
          },
          "metadata": {},
          "execution_count": 6
        }
      ]
    },
    {
      "cell_type": "markdown",
      "source": [
        "# Exercício 13\n",
        "\n",
        "Escreva uma função que faça uma cópia de uma lista.\n",
        "\n"
      ],
      "metadata": {
        "id": "dFZDhKvdTdv9"
      }
    },
    {
      "cell_type": "code",
      "source": [
        "def copy_list(lista):\n",
        "  return lista.copy()\n",
        "\n",
        "lista = [1,2,3]\n",
        "lista2 = copy_list(lista)\n",
        "\n",
        "lista2.append(9)\n",
        "\n",
        "print(lista, lista2)"
      ],
      "metadata": {
        "colab": {
          "base_uri": "https://localhost:8080/"
        },
        "id": "VeSCKvbcKLz4",
        "outputId": "72062189-5467-460e-a686-0b22d754ea93"
      },
      "execution_count": null,
      "outputs": [
        {
          "output_type": "stream",
          "name": "stdout",
          "text": [
            "[1, 2, 3] [1, 2, 3, 9]\n"
          ]
        }
      ]
    },
    {
      "cell_type": "markdown",
      "source": [
        "# Exercício 14\n",
        "\n",
        "Escreva uma função que verifique se duas listas possuem ao menos um elemento em comum, retornando True em caso positivo."
      ],
      "metadata": {
        "id": "kiCIgq-ETfIN"
      }
    },
    {
      "cell_type": "code",
      "source": [
        "def percorre_listas(lista1,lista2):\n",
        "  if [item for item in lista1 if item in lista2]:\n",
        "    return True\n",
        "  else:\n",
        "    return False\n",
        "\n",
        "lista_1 = [1,2,3]\n",
        "lista_2 = [0,9,10,5]\n",
        "\n",
        "percorre_listas(lista_1,lista_2)"
      ],
      "metadata": {
        "colab": {
          "base_uri": "https://localhost:8080/"
        },
        "id": "aHl3yWNbK3D5",
        "outputId": "e800cb6d-caf3-4c1f-a908-a2507f2644a7"
      },
      "execution_count": null,
      "outputs": [
        {
          "output_type": "execute_result",
          "data": {
            "text/plain": [
              "False"
            ]
          },
          "metadata": {},
          "execution_count": 16
        }
      ]
    },
    {
      "cell_type": "markdown",
      "source": [
        "# Exercício 15\n",
        "\n",
        "Escreva uma função lambda associada a uma variável que some os argumentos x,y,z,k. Teste um resultado na tela."
      ],
      "metadata": {
        "id": "gqTgIXzpThR9"
      }
    },
    {
      "cell_type": "code",
      "source": [
        "soma_quatro_var = lambda x,y,z,k:x+y+z+k\n",
        "\n",
        "print(soma_quatro_var(2,3,4,5))"
      ],
      "metadata": {
        "colab": {
          "base_uri": "https://localhost:8080/"
        },
        "id": "8IwBlzTWMbnI",
        "outputId": "af512983-1448-4f82-f5e7-c921c320e728"
      },
      "execution_count": null,
      "outputs": [
        {
          "output_type": "stream",
          "name": "stdout",
          "text": [
            "14\n"
          ]
        }
      ]
    },
    {
      "cell_type": "markdown",
      "source": [
        "# Exercício 16\n",
        "\n",
        "Escreva uma função lambda que multiplique os argumentos x,y,z. Teste um resultado na tela."
      ],
      "metadata": {
        "id": "EHMPcj21TjjF"
      }
    },
    {
      "cell_type": "code",
      "source": [
        "multi = lambda x,y,z:x*y*z\n",
        "print(multi(10,2,2))"
      ],
      "metadata": {
        "colab": {
          "base_uri": "https://localhost:8080/"
        },
        "id": "EcIB_rNwRThv",
        "outputId": "2543bc90-b8df-42cd-86d3-5f2fb17d82f1"
      },
      "execution_count": null,
      "outputs": [
        {
          "output_type": "stream",
          "name": "stdout",
          "text": [
            "40\n"
          ]
        }
      ]
    },
    {
      "cell_type": "markdown",
      "source": [
        "# Funções integradas - Exercício 1\n",
        "\n",
        "Considere a lista a seguir, com pares respectivos as capitais brasileiras e as temperaturas registradas para um determinado dia em 2020.\n",
        "\n",
        "Use a função map() para converter as temperaturas de °C para K e F.\n",
        "\n",
        "```\n",
        "\n",
        "temperatura_capitais_brasil=[\n",
        "\n",
        "    ('Boa Vista',32.4),\n",
        "\n",
        "    ('Brasília',26.6),\n",
        "\n",
        "    ('Campo Grande',28.8),\n",
        "\n",
        "    ('Cuiabá',38.6),\n",
        "\n",
        "    ('Salvador',37.1),\n",
        "\n",
        "    ('São Paulo',38.8),\n",
        "\n",
        "    ('Rio de Janeiro',34.7)\n",
        "\n",
        "]\n",
        "\n",
        "```\n"
      ],
      "metadata": {
        "id": "-XY6kt0GTmCo"
      }
    },
    {
      "cell_type": "code",
      "source": [
        "temperatura_capitais_brasil=[\n",
        "\n",
        "    ('Boa Vista',32.4),\n",
        "\n",
        "    ('Brasília',26.6),\n",
        "\n",
        "    ('Campo Grande',28.8),\n",
        "\n",
        "    ('Cuiabá',38.6),\n",
        "\n",
        "    ('Salvador',37.1),\n",
        "\n",
        "    ('São Paulo',38.8),\n",
        "\n",
        "    ('Rio de Janeiro',34.7)\n",
        "\n",
        "]\n",
        "\n",
        "\"\"\"\n",
        "#funções com for\n",
        "\n",
        "def celsius_k(lista_c):\n",
        "  lista = []\n",
        "  for i,j in lista_c:\n",
        "    lista.append((i,j+273))\n",
        "  return lista\n",
        "\n",
        "def celsius_f(lista_c):\n",
        "  lista = []\n",
        "  for i,j in lista_c:\n",
        "    lista.append((i,1.8*j+32))\n",
        "  return lista\n",
        "\n",
        "converter_temp_k = celsius_k(temperatura_capitais_brasil)\n",
        "converter_temp_f = celsius_f(temperatura_capitais_brasil)\n",
        "\n",
        "print((converter_temp_k))\n",
        "print((converter_temp_f))\n",
        "\n",
        "\"\"\"\n",
        "\n",
        "\"\"\"\n",
        "#funções com comprehension list\n",
        "def celsius_k(lista_c):\n",
        "  return [(cidade,round((celsius+273),2)) for cidade,celsius in lista_c]\n",
        "\n",
        "def celsius_f(lista_c):\n",
        "  return [(cidade,round((1.8*celsius)+32,2)) for cidade,celsius in lista_c]\n",
        "\n",
        "converter_temp_k = celsius_k(temperatura_capitais_brasil)\n",
        "converter_temp_f = celsius_f(temperatura_capitais_brasil)\n",
        "\n",
        "print((converter_temp_k))\n",
        "print((converter_temp_f))\n",
        "\n",
        "\"\"\"\n",
        "\n",
        "#funções com map() e lambda (funções anônimas)\n",
        "celsius_k = list(map(lambda temp:(temp[0],round((temp[1]+273),2)),temperatura_capitais_brasil))\n",
        "celsius_f = list(map(lambda temp:(temp[0],round(((temp[1]*1.8)+32),2)),temperatura_capitais_brasil))\n",
        "print(celsius_k)\n",
        "print(celsius_f)\n"
      ],
      "metadata": {
        "colab": {
          "base_uri": "https://localhost:8080/"
        },
        "id": "lH6fd4CnRu8n",
        "outputId": "4dbcec3f-5427-4894-ca1c-7cde795467cb"
      },
      "execution_count": 68,
      "outputs": [
        {
          "output_type": "stream",
          "name": "stdout",
          "text": [
            "[('Boa Vista', 305.4), ('Brasília', 299.6), ('Campo Grande', 301.8), ('Cuiabá', 311.6), ('Salvador', 310.1), ('São Paulo', 311.8), ('Rio de Janeiro', 307.7)]\n",
            "[('Boa Vista', 90.32), ('Brasília', 79.88), ('Campo Grande', 83.84), ('Cuiabá', 101.48), ('Salvador', 98.78), ('São Paulo', 101.84), ('Rio de Janeiro', 94.46)]\n",
            "[('Boa Vista', 305.4), ('Brasília', 299.6), ('Campo Grande', 301.8), ('Cuiabá', 311.6), ('Salvador', 310.1), ('São Paulo', 311.8), ('Rio de Janeiro', 307.7)]\n",
            "[('Boa Vista', 90.32), ('Brasília', 79.88), ('Campo Grande', 83.84), ('Cuiabá', 101.48), ('Salvador', 98.78), ('São Paulo', 101.84), ('Rio de Janeiro', 94.46)]\n"
          ]
        }
      ]
    },
    {
      "cell_type": "markdown",
      "source": [
        "# Funções integradas - Exercício 2\n",
        "\n",
        "a) Utilize a função map() para criar uma lista com o quadrado de cada número par e o cubo de cada número ímpar. Considere o intervalo [1,20].\n",
        "\n",
        "\n",
        "\n",
        "Output:\n",
        "\n",
        "\n",
        "```\n",
        "[(1, 1), (2, 4), (3, 27), (4, 16), (5, 125), (6, 36), (7, 343), (8, 64), (9, 729), (10, 100), (11, 1331), (12, 144), (13, 2197), (14, 196), (15, 3375), (16, 256), (17, 4913), (18, 324), (19, 6859), (20, 400)]\n",
        "```\n",
        "\n",
        "\n",
        "\n",
        "\n",
        "b) Utilize a função map() para criar uma lista com o os números divisíveis por 3 ou 5, no intervalo [1,50]. Se o número não for divisível calcule sua raiz quadrada.\n",
        "\n",
        "\n",
        "\n",
        "Output:\n",
        "\n",
        "\n",
        "```\n",
        "[1.0, 1.41, 3, 2.0, 5, 6, 2.65, 2.83, 9]\n",
        "```"
      ],
      "metadata": {
        "id": "UwRN8mkZTpUW"
      }
    },
    {
      "cell_type": "code",
      "source": [
        "lista = [(i,i**2) if i%2 == 0 else (i,i**3) for i in range(1,21) ]\n",
        "\n",
        "print(lista)\n",
        "\n",
        "lista2 = list(map(lambda x:(x,x**2) if x%2 == 0 else (x,x**3),range(1,21)))\n",
        "\n",
        "\n",
        "print(lista2)"
      ],
      "metadata": {
        "colab": {
          "base_uri": "https://localhost:8080/"
        },
        "id": "rke0YYb7pS16",
        "outputId": "15fd6bfe-9a71-4035-f165-c984163e9407"
      },
      "execution_count": 94,
      "outputs": [
        {
          "output_type": "stream",
          "name": "stdout",
          "text": [
            "[(1, 1), (2, 4), (3, 27), (4, 16), (5, 125), (6, 36), (7, 343), (8, 64), (9, 729), (10, 100), (11, 1331), (12, 144), (13, 2197), (14, 196), (15, 3375), (16, 256), (17, 4913), (18, 324), (19, 6859), (20, 400)]\n",
            "[(1, 1), (2, 4), (3, 27), (4, 16), (5, 125), (6, 36), (7, 343), (8, 64), (9, 729), (10, 100), (11, 1331), (12, 144), (13, 2197), (14, 196), (15, 3375), (16, 256), (17, 4913), (18, 324), (19, 6859), (20, 400)]\n"
          ]
        }
      ]
    },
    {
      "cell_type": "markdown",
      "source": [
        "# Funções integradas - Exercício 3\n",
        "\n",
        "Considere a lista nomes a seguir e responda:\n",
        "\n",
        "\n",
        "```\n",
        "nomes=['','Roberto Carlos','Tom Jobim','Jorge Amado','Machado de Assis','Zé Ramalho','Elba Ramalho','','',[],()]\n",
        "```\n",
        "\n",
        "a) obtenha uma nova lista sem os objetos vazios.\n",
        "\n",
        "output:\n",
        "\n",
        "\n",
        "```\n",
        "['Roberto Carlos', 'Tom Jobim', 'Jorge Amado', 'Machado de Assis', 'Zé Ramalho', 'Elba Ramalho']\n",
        "```\n",
        "\n",
        "b) obtenha uma nova lista que tenha apenas os nomes com o sobrenome Ramalho.\n",
        "\n",
        "output:\n",
        "\n",
        "\n",
        "```\n",
        "['Zé Ramalho', 'Elba Ramalho']\n",
        "```"
      ],
      "metadata": {
        "id": "boTUsqENTrG9"
      }
    },
    {
      "cell_type": "code",
      "source": [
        "nomes=['','Roberto Carlos','Tom Jobim','Jorge Amado','Machado de Assis','Zé Ramalho','Elba Ramalho','','',[],()]\n",
        "\n",
        "nomes2 = list(filter(lambda x:x if (len(x) > 0) else None,nomes))\n",
        "\n",
        "print(nomes2)\n",
        "\n",
        "nomes3 = list(filter(lambda nome: len(nome)> 0 and nome.split()[-1] == 'Ramalho',nomes))\n",
        "print(nomes3)"
      ],
      "metadata": {
        "colab": {
          "base_uri": "https://localhost:8080/"
        },
        "id": "AmsYPdCewrbZ",
        "outputId": "a0aa1b26-75bd-4c9c-b1fd-68db2358677a"
      },
      "execution_count": 120,
      "outputs": [
        {
          "output_type": "stream",
          "name": "stdout",
          "text": [
            "['Roberto Carlos', 'Tom Jobim', 'Jorge Amado', 'Machado de Assis', 'Zé Ramalho', 'Elba Ramalho']\n",
            "['Zé Ramalho', 'Elba Ramalho']\n"
          ]
        }
      ]
    },
    {
      "cell_type": "markdown",
      "source": [
        "# Funções integradas - Exercício 4\n",
        "\n",
        "Crie uma função que recebe um número e verifique se este é par. Posteriormente, use a função filter() para criar uma lista com todos os números pares de 1 a 50.\n",
        "\n",
        "\n",
        "\n",
        "[2, 4, 6, 8, 10, 12, 14, 16, 18, 20, 22, 24, 26, 28, 30, 32, 34, 36, 38, 40, 42, 44, 46, 48, 50]"
      ],
      "metadata": {
        "id": "b5ggaB-STstt"
      }
    },
    {
      "cell_type": "code",
      "source": [
        "def num_par(num):\n",
        "  if num % 2 == 0:\n",
        "    return num\n",
        "\n",
        "\n",
        "lista = list(filter(num_par,range(1,51)))\n",
        "print(lista)"
      ],
      "metadata": {
        "colab": {
          "base_uri": "https://localhost:8080/"
        },
        "id": "oImYv_3020ge",
        "outputId": "32352cb1-b0df-4f2c-f5f0-4f8bce02322d"
      },
      "execution_count": 123,
      "outputs": [
        {
          "output_type": "stream",
          "name": "stdout",
          "text": [
            "[2, 4, 6, 8, 10, 12, 14, 16, 18, 20, 22, 24, 26, 28, 30, 32, 34, 36, 38, 40, 42, 44, 46, 48, 50]\n"
          ]
        }
      ]
    },
    {
      "cell_type": "markdown",
      "source": [
        "# Funções integradas - Exercício 5\n",
        "\n",
        "Crie uma função que recebe um número e verifique se este é primo. Posteriormente, use a função filter() para criar uma lista com todos os números pares de 1 a 50.\n",
        "\n",
        "\n",
        "\n",
        "```\n",
        "[2, 3, 5, 7, 11, 13, 17, 19, 23, 29, 31, 37, 41, 43, 47]\n",
        "```"
      ],
      "metadata": {
        "id": "il3JPdUaTuNO"
      }
    },
    {
      "cell_type": "code",
      "source": [
        "def num_primo(num):\n",
        "  if num > 1:\n",
        "    for i in range(2,num):\n",
        "      if num % i == 0:\n",
        "        return False\n",
        "    else:\n",
        "      return True\n",
        "  else:\n",
        "    return False\n",
        "\n",
        "lista = list(filter(num_primo,range(1,51)))\n",
        "print(lista)\n"
      ],
      "metadata": {
        "colab": {
          "base_uri": "https://localhost:8080/"
        },
        "id": "aOdFSEuI3cgV",
        "outputId": "48cabfc5-1fde-4d71-e6a6-25a8710f500e"
      },
      "execution_count": 158,
      "outputs": [
        {
          "output_type": "stream",
          "name": "stdout",
          "text": [
            "[2, 3, 5, 7, 11, 13, 17, 19, 23, 29, 31, 37, 41, 43, 47]\n"
          ]
        }
      ]
    },
    {
      "cell_type": "markdown",
      "source": [
        "# Funções integradas - Exercício 6\n",
        "\n",
        "Use a função zip() para criar uma lista de tuplas. O primeiro elemento do par deve armazenar o índice da tupla, enquanto que seu segundo elemento é o índice ao cubo. Considere um intervalo de 1 a 20.\n",
        "\n",
        "```\n",
        "[(0, 1), (1, 4), (2, 9), (3, 16), (4, 25), (5, 36), (6, 49), (7, 64), (8, 81), (9, 100), (10, 121), (11, 144), (12, 169), (13, 196), (14, 225), (15, 256), (16, 289), (17, 324), (18, 361), (19, 400)]\n",
        "```"
      ],
      "metadata": {
        "id": "pkGB2Zl7Tvoc"
      }
    },
    {
      "cell_type": "code",
      "source": [
        "lista = list(zip(range(0,21),[n**2 for n in range(1,21)]))\n",
        "print(lista)"
      ],
      "metadata": {
        "colab": {
          "base_uri": "https://localhost:8080/"
        },
        "id": "gTVWWPPx9FC0",
        "outputId": "04d2466d-1349-4ca5-c448-e997e92fd92e"
      },
      "execution_count": 166,
      "outputs": [
        {
          "output_type": "stream",
          "name": "stdout",
          "text": [
            "[(0, 1), (1, 4), (2, 9), (3, 16), (4, 25), (5, 36), (6, 49), (7, 64), (8, 81), (9, 100), (10, 121), (11, 144), (12, 169), (13, 196), (14, 225), (15, 256), (16, 289), (17, 324), (18, 361), (19, 400)]\n"
          ]
        }
      ]
    },
    {
      "cell_type": "markdown",
      "source": [
        "# Funções integradas - Exercício 7\n",
        "\n",
        "a) Use list() e zip() para criar uma nova lista de tuplas a partir da lista1 e lista2.\n",
        "\n",
        "```\n",
        "lista1=[1,2,3,4]\n",
        "lista2=['Python','JavaScript','Java','HTML']\n",
        "```\n",
        "\n",
        "output:\n",
        "\n",
        "```\n",
        "[(1, 'Python'), (2, 'JavaScript'), (3, 'Java'), (4, 'HTML')]\n",
        "```\n",
        "\n",
        "b) Use list() e zip() para criar uma nova lista de tuplas a partir da lista1 e lista2.\n",
        "\n",
        "```\n",
        "lista1=[40,50,60,70,80]\n",
        "lista2=[-4,2,0,50,1]\n",
        "```\n",
        "\n",
        "output:\n",
        "\n",
        "```\n",
        "[(40, -4), (50, 2), (60, 0), (70, 50), (80, 1)]\n",
        "```\n"
      ],
      "metadata": {
        "id": "z7DIYJghTxAF"
      }
    },
    {
      "cell_type": "code",
      "source": [
        "lista1=[1,2,3,4]\n",
        "lista2=['Python','JavaScript','Java','HTML']\n",
        "\n",
        "lista3 = list(zip(lista1,lista2))\n",
        "print(lista3)"
      ],
      "metadata": {
        "colab": {
          "base_uri": "https://localhost:8080/"
        },
        "id": "WOY0DwUB_dQT",
        "outputId": "e4b74562-7d3e-4c06-ca70-5a4f1b22a473"
      },
      "execution_count": 167,
      "outputs": [
        {
          "output_type": "stream",
          "name": "stdout",
          "text": [
            "[(1, 'Python'), (2, 'JavaScript'), (3, 'Java'), (4, 'HTML')]\n"
          ]
        }
      ]
    },
    {
      "cell_type": "code",
      "source": [
        "lista1=[40,50,60,70,80]\n",
        "lista2=[-4,2,0,50,1]\n",
        "\n",
        "lista3 = list(zip(lista1,lista2))\n",
        "print(lista3)"
      ],
      "metadata": {
        "colab": {
          "base_uri": "https://localhost:8080/"
        },
        "id": "qt0CSom1_njj",
        "outputId": "4bc51529-4cd9-43a9-ba6d-2257c0e2bd7b"
      },
      "execution_count": 168,
      "outputs": [
        {
          "output_type": "stream",
          "name": "stdout",
          "text": [
            "[(40, -4), (50, 2), (60, 0), (70, 50), (80, 1)]\n"
          ]
        }
      ]
    },
    {
      "cell_type": "markdown",
      "source": [
        "# Funções integradas - Exercício 8\n",
        "\n",
        "Use list() e zip() para criar uma nova lista de tuplas com as listas a seguir.\n",
        "\n",
        "\n",
        "```\n",
        "paises=['Brasil','Brasil','Brasil','EUA','EUA','EUA','EUA']\n",
        "estados=['São Paulo','Bahia','Rio de Janeiro','Alabama','Alabama','Alabama','Califórnia']\n",
        "cidades=['São Paulo','Salvador','Rio de Janeiro','Birmingham','Huntsville','Mobile','Beverly Hills']\n",
        "```\n",
        "\n",
        "\n",
        "output:\n",
        "\n",
        "```\n",
        "[('Brasil', 'São Paulo', 'São Paulo'), ('Brasil', 'Bahia', 'Salvador'), ('Brasil', 'Rio de Janeiro', 'Rio de Janeiro'), ('EUA', 'Alabama', 'Birmingham'), ('EUA', 'Alabama', 'Huntsville'), ('EUA', 'Alabama', 'Mobile'), ('EUA', 'Califórnia', 'Beverly Hills')]\n",
        "```"
      ],
      "metadata": {
        "id": "uZscIP_6Ty71"
      }
    },
    {
      "cell_type": "code",
      "source": [
        "paises=['Brasil','Brasil','Brasil','EUA','EUA','EUA','EUA']\n",
        "estados=['São Paulo','Bahia','Rio de Janeiro','Alabama','Alabama','Alabama','Califórnia']\n",
        "cidades=['São Paulo','Salvador','Rio de Janeiro','Birmingham','Huntsville','Mobile','Beverly Hills']\n",
        "\n",
        "lista = list(zip(paises,estados,cidades))\n",
        "print(lista)"
      ],
      "metadata": {
        "colab": {
          "base_uri": "https://localhost:8080/"
        },
        "id": "R3IvKhQP_xZb",
        "outputId": "f868e603-e670-4dd9-dbe7-67576e73a8fb"
      },
      "execution_count": 169,
      "outputs": [
        {
          "output_type": "stream",
          "name": "stdout",
          "text": [
            "[('Brasil', 'São Paulo', 'São Paulo'), ('Brasil', 'Bahia', 'Salvador'), ('Brasil', 'Rio de Janeiro', 'Rio de Janeiro'), ('EUA', 'Alabama', 'Birmingham'), ('EUA', 'Alabama', 'Huntsville'), ('EUA', 'Alabama', 'Mobile'), ('EUA', 'Califórnia', 'Beverly Hills')]\n"
          ]
        }
      ]
    },
    {
      "cell_type": "markdown",
      "source": [
        "# Funções integradas - Exercício 9\n",
        "\n",
        "Converta as listas abaixo para um dicionário. Use dict() e zip().\n",
        "\n",
        "\n",
        "```\n",
        "chaves=['cidades_EUA','cidades_BR']\n",
        "valores=[\n",
        "    ['Nova Iorque','Houston','Boston','Detroit','Seattle'],\n",
        "    ['Rio de Janeiro','São Paulo','Brasília','Goiânia','Recife']\n",
        "        ]\n",
        "```\n",
        "\n",
        "Resultado esperado:\n",
        "\n",
        "```\n",
        "{\n",
        "'cidades_EUA': ['Nova Iorque', 'Houston', 'Boston', 'Detroit', 'Seattle'], \n",
        "'cidades_BR': ['Rio de Janeiro', 'São Paulo', 'Brasília', 'Goiânia', 'Recife']\n",
        "}\n",
        "```"
      ],
      "metadata": {
        "id": "2jZTMRhRT0hc"
      }
    },
    {
      "cell_type": "code",
      "source": [
        "chaves=['cidades_EUA','cidades_BR']\n",
        "valores=[\n",
        "    ['Nova Iorque','Houston','Boston','Detroit','Seattle'],\n",
        "    ['Rio de Janeiro','São Paulo','Brasília','Goiânia','Recife']\n",
        "        ]\n",
        "\n",
        "lista = list((zip(chaves,valores)))\n",
        "lista2 = dict(lista)\n",
        "print(lista)\n",
        "print(lista2)"
      ],
      "metadata": {
        "colab": {
          "base_uri": "https://localhost:8080/"
        },
        "id": "ZjOndWTDAAKz",
        "outputId": "92f532f0-99e7-49bb-fd91-15396eff2ffb"
      },
      "execution_count": 181,
      "outputs": [
        {
          "output_type": "stream",
          "name": "stdout",
          "text": [
            "[('cidades_EUA', ['Nova Iorque', 'Houston', 'Boston', 'Detroit', 'Seattle']), ('cidades_BR', ['Rio de Janeiro', 'São Paulo', 'Brasília', 'Goiânia', 'Recife'])]\n",
            "{'cidades_EUA': ['Nova Iorque', 'Houston', 'Boston', 'Detroit', 'Seattle'], 'cidades_BR': ['Rio de Janeiro', 'São Paulo', 'Brasília', 'Goiânia', 'Recife']}\n"
          ]
        }
      ]
    },
    {
      "cell_type": "markdown",
      "source": [
        "# Funções integradas - Exercício 10\n",
        "\n",
        "A partir das listas abaixo,\n",
        "\n",
        "```\n",
        "\n",
        "anos=list(range(2010,2020))\n",
        "chaves=['Receita produto A','Receita produto B']\n",
        "valores=[\n",
        "    [1001.19,1500.55,857.94,110.33,29.45,33.55,44.70,430,120,177],\n",
        "    [20,33.5,91.4,4.5,111,230,900,801.2,101.4,202.6]\n",
        "]\n",
        "```\n",
        "\n",
        "Obtenha:\n",
        "\n",
        "\n",
        "\n",
        "a) um dicionário por meio das listas chaves e valores, use zip() e dict(). Resultado esperado:\n",
        "\n",
        "\n",
        "```\n",
        "{'Receita produto A': [1001.19, 1500.55, 857.94, 110.33, 29.45, 33.55, 44.7, 430, 120, 177], 'Receita produto B': [20, 33.5, 91.4, 4.5, 111, 230, 900, 801.2, 101.4, 202.6]}\n",
        "```\n",
        "\n",
        "b) construa um DataFrame com a biblioteca pandas a partir do dicionário criado, use o construtor DataFrame() e passe a lista anos com index. Resultado esperado:\n",
        "\n",
        "![image.png](data:image/png;base64,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)\n",
        "\n",
        "\n",
        "c) crie uma lista de tuplas que armazene a receita total dos produtos A e B por ano. Use Compreensão em Listas. Resultado esperado:\n",
        "```\n",
        "[(2010, 1021.19), (2011, 1534.05), (2012, 949.34), (2013, 114.83), (2014, 140.45), (2015, 263.55), (2016, 944.7), (2017, 1231.2), (2018, 221.4), (2019, 379.6)]\n",
        "```"
      ],
      "metadata": {
        "id": "WSezw2uxT1Iu"
      }
    },
    {
      "cell_type": "code",
      "source": [
        "import pandas as pd\n",
        "\n",
        "anos=list(range(2010,2020))\n",
        "chaves=['Receita produto A','Receita produto B']\n",
        "valores=[\n",
        "    [1001.19,1500.55,857.94,110.33,29.45,33.55,44.70,430,120,177],\n",
        "    [20,33.5,91.4,4.5,111,230,900,801.2,101.4,202.6]\n",
        "]\n",
        "\n",
        "lista_zip = list(zip(chaves,valores))\n",
        "lista_dicio = dict(lista_zip)\n",
        "\n",
        "df = pd.DataFrame(lista_dicio, index=anos)\n",
        "print(df)\n",
        "\n",
        "\n"
      ],
      "metadata": {
        "colab": {
          "base_uri": "https://localhost:8080/"
        },
        "id": "gsa1L8vPBrrS",
        "outputId": "42a76f73-988c-4fc6-c7b3-f3d69c7ceaef"
      },
      "execution_count": 190,
      "outputs": [
        {
          "output_type": "stream",
          "name": "stdout",
          "text": [
            "      Receita produto A  Receita produto B\n",
            "2010            1001.19               20.0\n",
            "2011            1500.55               33.5\n",
            "2012             857.94               91.4\n",
            "2013             110.33                4.5\n",
            "2014              29.45              111.0\n",
            "2015              33.55              230.0\n",
            "2016              44.70              900.0\n",
            "2017             430.00              801.2\n",
            "2018             120.00              101.4\n",
            "2019             177.00              202.6\n"
          ]
        }
      ]
    },
    {
      "cell_type": "markdown",
      "source": [
        "# Funções integradas - Exercício 11\n",
        "\n",
        "Considere a expressão a seguir.\n",
        "\n",
        "![image.png](data:image/png;base64,iVBORw0KGgoAAAANSUhEUgAAAPsAAAA7CAIAAAAy+GtFAAAIZElEQVR4nO3de0iT3x8H8DNNMm+ZlyIv1TEt0YgwUyPtj5yV4SWaTDQtLSEVS8UpltJlFqjRxa5GVpIaqFCmhk6LzdKlU6opaEGmomWZ6JxdvDzb+f4xGPvOb2vmnmf9fs95/eXOc3Y+Hw9v9OzxiRgIIYBhtGGg7wYwjFI48Ri94MRj9IITj9ELTjxGLzjxGL3gxGP0ghOP0QtOPEYvOPEYveDEY/SCE4/RC048Ri848Ri94MRj9IITj9ELTjxGL/pJfG9vb2RkpIeHR0hISHd3t156mJmZOXv2rLe3t5eX15kzZ2ZmZvTSBkYxPSReLpc3NDRcvXr1xYsXdnZ2XC6X+h4AAIWFhY6OjqWlpSkpKWVlZXfu3NFLGxjFFlFfcmxsLDY21tjYGADAZDKrq6up7wEhZGlpeeDAAQCAi4uLSCTq6Oigvg2Menr4GW9jY6OIu1wuF4vF2dnZ1PfAYDAUcVcwNTVdv349eeUQQnV1dXv27JHJZHOvlpSUREdHHz9+PDw8vKKigrw2/lrnz58PDw+nppYefsYrdHR0FBQUdHV1ubu7r1u3Tl9tKLx69SovL4+kxfl8fnV19ePHj//z6qVLlyorK3k8nrm5+djY2O7du8fGxuLj40lq5i8kFApv3bq1efNmiuohPZmamhoYGEhJSXF2du7r69PyXVVVVXw+X7edvHz5Mj8/X/v5crn85s2b796903L+t2/fEEIBAQEQQoIgVC8JhUIIYVlZmXKkuLgYQqj94n+P+W6LwujoaFxcnI+PD5vNJqkxNXq7O7l48eJVq1ZdvHjRysqqq6tLy3c9ePCAx+PpsI2RkRGBQMDhcLR/i1wuz8/P7+np0XK+qakpAMDc3HzupfLycgDAtm3blCOKr+/fv699P3+J+W4LAAAhdPr06ezsbCMjI/IaU6Pn+/EMBsPZ2dne3l4v1aVSaWlpaVpaGoPBAAAQBEFldblczuPxli5dunr1auWgs7OziYlJXV2dckQmk3V2dg4ODipHhoeHGxoavn//rvOWqKwFACgqKvL391f99ilAVuI17J1UKhWJRIrBz58/W1hYeHh4kNTG6OhoS0uL8iVCqLm5WfEr5cePH7m5uaGhoSMjI0NDQ/X19UKhkKQ2ftXb9PT0smXL1MYtLS3Hx8cVIROJRDk5OdHR0SwWa2BgAAAgFosDAgLi4+MFAoFu+6GyFgCgs7Ozr69v7969Ol/5N8g4KrW1tZ06dWrjxo1btmzp7+9HCL1588bd3R1CWFtb29PTs3379oMHD1ZWVlZVVakdbTVjs9mZmZnazPz58+ft27dZLBaE8Ny5cwghuVyelJQEIQwICJidnY2KioIqvL29Z2dntVmZIAgIYVVVlfZtI4T27dundo4Xi8UQwtDQULWZgYGBakf59vZ2CCGHwxkfH09KSvr69evg4OC8qmvvj2vNa1ukUmlMTIziEw5CyM/Pj7JzPCn3ary8vLy8vIKCgths9rVr17KysoqKigQCwdTUlIODAwCgqamJjLqqjI2N4+LiDh8+HBMTc+/evcjISB6Pt3PnTi6Xa2BgsGjRopKSErJ70MzQ0FDDuOp9TE9PTyaTWVtbSxBERkaGjY0NeV1RU4vL5aalpSk+4VCMxLuTC9+7tra2iIgItcH29nbFBz4lkUj0q8UZDEZGRkZwcHBeXp69vf2RI0fm2wMAoKCgoKCgQG0wNTU1NTVV+XLt2rWNjY3zWtbW1hYAMDk5qTY+MTEBAFixYoXqIIvFevr0qZ2dnaOjo4Y1P3z4wGQyNddNSEhIT0/XMEHLWn+8LZWVlW5ubhs2bNDcJ0nIvR+v5d79ipOTU25urupIYWGhra0ti8VSHTQzM9OwiLu7u6urK5/Pb29v/4MeAABMJnPlypXKlzKZLCsri81mq378+M9bMZpZW1ubmppKJBK1calUamJiona+X7NmDQDg9evXmte0tbVV27G5XF1dNU/QstYfb8ujR49aW1tzcnJUB4eGhpycnKysrEj/4zepZ6a3b99CCCMiInS1oPbneFUJCQkQwtbWVp30oKtzPEIoJSUFQvjx40flSH9/P4QwLS1NdZpcLj927FhycrKTk9OnT58W0vxv/XEt7bdFKBTW/Junp6e/v39NTU19ff0CetcKiXcnEUI3btwICQlpa2sbHh4mr5Bmzc3NDg4OBgYGenmARzPFLyvVe0TNzc0AgLCwMNVpxcXFoaGhUVFRCCHFYwjkPXBKQa2tW7cG/duSJUusra2DgoJ27dql21pzkXiqUeydhYVFdXV1RUVFcnJyd3e3m5sbeRXnmpycLC8vv3z5ck9Pz5MnTzIzM01MTN6/f0/qUzRzEQTR398PAJBIJNbW1spxX1/fxMTEK1eu7N6928zMbGJi4vr160ePHvXx8QEA8Pn8xsbG5cuXSySS2NhYhBCE8O7du0ZGRhYWFrrdSSpr6ZfuE/837B1BECdOnHBxcXn+/DmXyzU0NAwLC2tpaeFwOI6OjgkJCRT0oNTU1FRTUzM+Pg4AyM7ODgwMDA4OVvzNCwDA4XDMzMwU567e3t64uLhDhw4pLkkkkrq6Ol9f3wsXLgAAGAxGVlZWenr6ly9fdP7gDZW19Ezn56SHDx9u2rQpKSlpenpaMfLs2TMPD4+TJ0/KZLIFLp6YmJiXl/fbaTMzM8HBwb6+vgKBQDFCEMT+/ft37NghFosX2ANBEH5+fjweb4Hr/J/5X9kWBsL/DxRGJ/jfuWL0ghOP0QtOPEYvOPEYveDEY/SCE4/RC048Ri848Ri94MRj9IITj9ELTjxGLzjxGL3gxGP0ghOP0QtOPEYvOPEYveDEY/SCE4/RC048Ri848Ri94MRj9IITj9HLPwpdl4sj5r0OAAAAAElFTkSuQmCC)\n",
        "\n",
        "Use uma função integrada para encontrar o resultado desta expressão, quando o valor de x é 10. Resultado esperado: 1264.\n",
        "\n",
        "Dica: use a função eval()."
      ],
      "metadata": {
        "id": "dVeoK-5EULI1"
      }
    },
    {
      "cell_type": "code",
      "source": [
        "x = 10;\n",
        "\n",
        "eval('(x**3)+(x**2)+(10*x)-(x)+(4)')"
      ],
      "metadata": {
        "colab": {
          "base_uri": "https://localhost:8080/"
        },
        "id": "i63e8OwlDus5",
        "outputId": "1761f3dc-680b-4e60-a7b1-130032b249ac"
      },
      "execution_count": 193,
      "outputs": [
        {
          "output_type": "execute_result",
          "data": {
            "text/plain": [
              "1194"
            ]
          },
          "metadata": {},
          "execution_count": 193
        }
      ]
    },
    {
      "cell_type": "markdown",
      "source": [
        "#Funções integradas - Exercício 12\n",
        "\n",
        "Considere as variáveis\n",
        "\n",
        "\n",
        "```\n",
        "var1=['Hello World!']\n",
        "var2=True and all([True or False,()])\n",
        "var3=('10',) if 10>4 else 1\n",
        "var4=('Hello World!')\n",
        "var5=('Python is love!',)\n",
        "```\n",
        "\n",
        "a) Verifique e imprima o tipo destas variáveis na tela.\n",
        "\n",
        "```\n",
        "['Hello World!'] <class 'list'>\n",
        "False <class 'bool'>\n",
        "('10',) <class 'tuple'>\n",
        "Hello World! <class 'str'>\n",
        "('Python is love!',) <class 'tuple'>\n",
        "```\n",
        "b) Verifique se essas variáveis são objetos do tipo tupla, isto é, instâncias da classe tupla.\n",
        "\n",
        "```\n",
        "['Hello World!'] Não é uma tupla\n",
        "False Não é uma tupla\n",
        "('10',) É uma tupla!\n",
        "Hello World! Não é uma tupla\n",
        "('Python is love!',) É uma tupla!\n",
        "```"
      ],
      "metadata": {
        "id": "tjtDJwDcUQpd"
      }
    },
    {
      "cell_type": "code",
      "source": [
        "var1=['Hello World!']\n",
        "var2=True and all([True or False,()])\n",
        "var3=('10',) if 10>4 else 1\n",
        "var4=('Hello World!')\n",
        "var5=('Python is love!',)\n",
        "\n",
        "var_list = [var1,var2,var3,var4,var5]\n",
        "\n",
        "for i in var_list:\n",
        "  print(i,type(i))\n",
        "\n",
        "for i in var_list:\n",
        "  if isinstance(i,tuple):\n",
        "    print(f'{i} É uma tupla')\n",
        "  else:\n",
        "    print(f'{i} Não é uma tupla')\n"
      ],
      "metadata": {
        "colab": {
          "base_uri": "https://localhost:8080/"
        },
        "id": "_dcMxKlxGs3p",
        "outputId": "07d240b0-4055-4990-8c97-f044a8624b67"
      },
      "execution_count": 203,
      "outputs": [
        {
          "output_type": "stream",
          "name": "stdout",
          "text": [
            "['Hello World!'] <class 'list'>\n",
            "False <class 'bool'>\n",
            "('10',) <class 'tuple'>\n",
            "Hello World! <class 'str'>\n",
            "('Python is love!',) <class 'tuple'>\n",
            "['Hello World!'] Não é uma tupla\n",
            "False Não é uma tupla\n",
            "('10',) É uma tupla\n",
            "Hello World! Não é uma tupla\n",
            "('Python is love!',) É uma tupla\n"
          ]
        }
      ]
    },
    {
      "cell_type": "markdown",
      "source": [
        "# Funções integradas - Exercício 13\n",
        "\n",
        "Use a string 'Python is love!' e mostre na tela a letra e o índice correspondente. Implemente um loop for e use a função enumerate().\n",
        "\n",
        "\n",
        "```\n",
        "0 P\n",
        "1 y\n",
        "2 t\n",
        "3 h\n",
        "4 o\n",
        "5 n\n",
        "6  \n",
        "7 i\n",
        "8 s\n",
        "9  \n",
        "10 l\n",
        "11 o\n",
        "12 v\n",
        "13 e\n",
        "14 !\n",
        "```"
      ],
      "metadata": {
        "id": "VMcrTrgZUgQc"
      }
    },
    {
      "cell_type": "code",
      "source": [
        "phrase = 'Python is love!'\n",
        "\n",
        "for i in phrase:\n",
        "  print(phrase.index(i),i)\n",
        "\n",
        "for k,v in enumerate(phrase):\n",
        "  print(k,v)"
      ],
      "metadata": {
        "colab": {
          "base_uri": "https://localhost:8080/"
        },
        "id": "gpJUpEkyJD8J",
        "outputId": "63c543c7-1d5a-44ca-bdff-44f180dea53a"
      },
      "execution_count": 208,
      "outputs": [
        {
          "output_type": "stream",
          "name": "stdout",
          "text": [
            "0 P\n",
            "1 y\n",
            "2 t\n",
            "3 h\n",
            "4 o\n",
            "5 n\n",
            "6  \n",
            "7 i\n",
            "8 s\n",
            "9  \n",
            "10 l\n",
            "11 o\n",
            "12 v\n",
            "13 e\n",
            "14 !\n"
          ]
        }
      ]
    }
  ]
}