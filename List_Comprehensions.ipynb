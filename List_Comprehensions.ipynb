{
  "nbformat": 4,
  "nbformat_minor": 0,
  "metadata": {
    "colab": {
      "provenance": [],
      "collapsed_sections": []
    },
    "kernelspec": {
      "name": "python3",
      "display_name": "Python 3"
    },
    "language_info": {
      "name": "python"
    }
  },
  "cells": [
    {
      "cell_type": "markdown",
      "source": [
        "# Exercício 1\n",
        "Utilize Compreensão em Lista (List Comprehensions) para criar a lista a seguir.\n",
        "\n",
        "\n",
        "```\n",
        "[0, 1, 2, 3, 4, 5, 6, 7, 8, 9]\n",
        "```"
      ],
      "metadata": {
        "id": "mAzxJUxgU8pi"
      }
    },
    {
      "cell_type": "code",
      "source": [
        "\"\"\"\n",
        "lista = []\n",
        "for i in range(0,10):\n",
        "  lista.append(i)\n",
        "\"\"\"\n",
        "\n",
        "lista = [i for i in range(0,10)]\n",
        "\n",
        "print(lista)\n",
        "\n"
      ],
      "metadata": {
        "colab": {
          "base_uri": "https://localhost:8080/"
        },
        "id": "ckgAYlvMWSZp",
        "outputId": "1becc295-812f-47fe-98b6-a73bfd71f06b"
      },
      "execution_count": 3,
      "outputs": [
        {
          "output_type": "stream",
          "name": "stdout",
          "text": [
            "[0, 1, 2, 3, 4, 5, 6, 7, 8, 9]\n"
          ]
        }
      ]
    },
    {
      "cell_type": "markdown",
      "source": [
        "# Exercício 2\n",
        "Utilize Compreensão em Lista (List Comprehension) para criar a lista a seguir. Observe que esses números são obtidos através do quadrado de cada número no intervalo [0,9].\n",
        "\n",
        "\n",
        "```\n",
        "[0, 1, 4, 9, 16, 25, 36, 49, 64, 81]\n",
        "```"
      ],
      "metadata": {
        "id": "HjSOWTJzVFAz"
      }
    },
    {
      "cell_type": "code",
      "source": [
        "lista = [num**2 for num in range(0,10)]\n",
        "print(lista)"
      ],
      "metadata": {
        "colab": {
          "base_uri": "https://localhost:8080/"
        },
        "id": "JQtKyta6Z8IK",
        "outputId": "ad46ab2a-5499-4cf2-d4a1-d0c52d67ff0e"
      },
      "execution_count": 7,
      "outputs": [
        {
          "output_type": "stream",
          "name": "stdout",
          "text": [
            "[0, 1, 4, 9, 16, 25, 36, 49, 64, 81]\n"
          ]
        }
      ]
    },
    {
      "cell_type": "markdown",
      "source": [
        "#Exercício 3\n",
        "\n",
        "Utilize Compreensão em Lista (List Comprehension) para criar a lista a seguir. Observe que esses números são obtidos através da raiz quadrada de cada número no intervalo [1,50]. Utilize round() para arredondar as casas decimais.\n",
        "\n",
        "\n",
        "```\n",
        "[1.0, 1.41, 1.73, 2.0, 2.24, 2.45, 2.65, 2.83, 3.0, 3.16, 3.32, 3.46, 3.61, 3.74, 3.87, 4.0, 4.12, 4.24, 4.36, 4.47, 4.58, 4.69, 4.8, 4.9, 5.0, 5.1, 5.2, 5.29, 5.39, 5.48, 5.57, 5.66, 5.74, 5.83, 5.92, 6.0, 6.08, 6.16, 6.24, 6.32, 6.4, 6.48, 6.56, 6.63, 6.71, 6.78, 6.86, 6.93, 7.0, 7.07]\n",
        "```"
      ],
      "metadata": {
        "id": "m-cLroDWVG84"
      }
    },
    {
      "cell_type": "code",
      "source": [
        "lista = [round(num**(0.5),2) for num in range(1,51)]\n",
        "print(lista)"
      ],
      "metadata": {
        "colab": {
          "base_uri": "https://localhost:8080/"
        },
        "id": "2frfDZE_aQs0",
        "outputId": "03fe5f69-b294-4e78-ce86-804ec041108d"
      },
      "execution_count": 10,
      "outputs": [
        {
          "output_type": "stream",
          "name": "stdout",
          "text": [
            "[1.0, 1.41, 1.73, 2.0, 2.24, 2.45, 2.65, 2.83, 3.0, 3.16, 3.32, 3.46, 3.61, 3.74, 3.87, 4.0, 4.12, 4.24, 4.36, 4.47, 4.58, 4.69, 4.8, 4.9, 5.0, 5.1, 5.2, 5.29, 5.39, 5.48, 5.57, 5.66, 5.74, 5.83, 5.92, 6.0, 6.08, 6.16, 6.24, 6.32, 6.4, 6.48, 6.56, 6.63, 6.71, 6.78, 6.86, 6.93, 7.0, 7.07]\n"
          ]
        }
      ]
    },
    {
      "cell_type": "markdown",
      "source": [
        "#Exercício 4\n",
        "\n",
        "Utilize Compreensão em Lista (List Comprehensions) para criar as listas a seguir.\n",
        "```\n",
        "a)\n",
        "\n",
        "[0, 5, 10, 15, 20, 25, 30, 35, 40, 45, 50, 55, 60, 65, 70, 75, 80, 85, 90, 95, 100]\n",
        "\n",
        "\n",
        "b)\n",
        "\n",
        "[0, 7, 14, 21, 28, 35, 42, 49, 56, 63, 70, 77, 84, 91, 98, 105, 112, 119, 126, 133, 140, 147, 154, 161, 168, 175, 182, 189, 196, 203, 210, 217, 224, 231, 238, 245, 252, 259, 266, 273, 280, 287, 294, 301, 308, 315, 322, 329, 336, 343, 350, 357, 364, 371, 378, 385, 392, 399, 406, 413, 420, 427, 434, 441, 448, 455, 462, 469, 476, 483, 490, 497, 504, 511, 518, 525, 532, 539, 546, 553, 560, 567, 574, 581, 588, 595, 602, 609, 616, 623, 630, 637, 644, 651, 658, 665, 672, 679, 686, 693, 700, 707, 714, 721, 728, 735, 742, 749, 756, 763, 770, 777, 784, 791, 798, 805, 812, 819, 826, 833, 840, 847, 854, 861, 868, 875, 882, 889, 896, 903, 910, 917, 924, 931, 938, 945, 952, 959, 966, 973, 980, 987, 994]\n",
        "```"
      ],
      "metadata": {
        "id": "QEMv778kVOFS"
      }
    },
    {
      "cell_type": "code",
      "source": [
        "lista = [num for num in range(0,101,5)]\n",
        "print(lista)\n",
        "\n",
        "lista2 = [num for num in range(0,1001,7)]\n",
        "print(lista2)"
      ],
      "metadata": {
        "colab": {
          "base_uri": "https://localhost:8080/"
        },
        "id": "HuDomyGhazJz",
        "outputId": "e28056d5-53c4-4cb4-8c82-a5e749369fcb"
      },
      "execution_count": 13,
      "outputs": [
        {
          "output_type": "stream",
          "name": "stdout",
          "text": [
            "[0, 5, 10, 15, 20, 25, 30, 35, 40, 45, 50, 55, 60, 65, 70, 75, 80, 85, 90, 95, 100]\n",
            "[0, 7, 14, 21, 28, 35, 42, 49, 56, 63, 70, 77, 84, 91, 98, 105, 112, 119, 126, 133, 140, 147, 154, 161, 168, 175, 182, 189, 196, 203, 210, 217, 224, 231, 238, 245, 252, 259, 266, 273, 280, 287, 294, 301, 308, 315, 322, 329, 336, 343, 350, 357, 364, 371, 378, 385, 392, 399, 406, 413, 420, 427, 434, 441, 448, 455, 462, 469, 476, 483, 490, 497, 504, 511, 518, 525, 532, 539, 546, 553, 560, 567, 574, 581, 588, 595, 602, 609, 616, 623, 630, 637, 644, 651, 658, 665, 672, 679, 686, 693, 700, 707, 714, 721, 728, 735, 742, 749, 756, 763, 770, 777, 784, 791, 798, 805, 812, 819, 826, 833, 840, 847, 854, 861, 868, 875, 882, 889, 896, 903, 910, 917, 924, 931, 938, 945, 952, 959, 966, 973, 980, 987, 994]\n"
          ]
        }
      ]
    },
    {
      "cell_type": "markdown",
      "source": [
        "#Exercício 5\n",
        "\n",
        "Utilize Compreensão em Lista (List Comprehension) para criar a lista a seguir.\n",
        "```\n",
        "[1, 3, 5, 7, 9]\n",
        "```"
      ],
      "metadata": {
        "id": "HoDYBFXVVOsy"
      }
    },
    {
      "cell_type": "code",
      "source": [
        "lista = [num for num in range(1,10,2)]\n",
        "print(lista)"
      ],
      "metadata": {
        "colab": {
          "base_uri": "https://localhost:8080/"
        },
        "id": "xGcLaeAIbYLq",
        "outputId": "79575c9f-040c-4fa7-b55c-333c45e0c63d"
      },
      "execution_count": 18,
      "outputs": [
        {
          "output_type": "stream",
          "name": "stdout",
          "text": [
            "[1, 3, 5, 7, 9]\n"
          ]
        }
      ]
    },
    {
      "cell_type": "markdown",
      "source": [
        "#Exercício 6\n",
        "\n",
        "Utilize Compreensão em Lista (List Comprehensions) para criar as listas a seguir.\n",
        "\n",
        "Lembre que:\n",
        "\n",
        "[f(x) for x in sequence if condition]\n",
        "[f(x) if condition else g(x) for x in sequence]\n",
        "\n",
        "```\n",
        "a)\n",
        "\n",
        "[2, 4, 6, 8, 10, 12, 14, 16, 18, 20, 22, 24, 26, 28, 30, 32, 34, 36, 38, 40, 42, 44, 46, 48, 50, 52, 54, 56, 58, 60, 62, 64, 66, 68, 70, 72, 74, 76, 78, 80, 82, 84, 86, 88, 90, 92, 94, 96, 98, 100]\n",
        "b)\n",
        "\n",
        "[1, 3, 5, 7, 9, 11, 13, 15, 17, 19, 21, 23, 25, 27, 29, 31, 33, 35, 37, 39, 41, 43, 45, 47, 49, 51, 53, 55, 57, 59, 61, 63, 65, 67, 69, 71, 73, 75, 77, 79, 81, 83, 85, 87, 89, 91, 93, 95, 97, 99]\n",
        "\n",
        "```"
      ],
      "metadata": {
        "id": "uxgswIluVSNg"
      }
    },
    {
      "cell_type": "code",
      "source": [
        "lista = [num for num in range(101) if num % 2 == 0]\n",
        "\n",
        "print(lista)\n",
        "\n",
        "lista2 = [num for num in range(101) if num % 3 == 0]\n",
        "\n",
        "print(lista2)"
      ],
      "metadata": {
        "colab": {
          "base_uri": "https://localhost:8080/"
        },
        "id": "WF_IPnHIb1ZS",
        "outputId": "f0c80563-e711-42be-cf4f-d6280be82245"
      },
      "execution_count": 21,
      "outputs": [
        {
          "output_type": "stream",
          "name": "stdout",
          "text": [
            "[0, 2, 4, 6, 8, 10, 12, 14, 16, 18, 20, 22, 24, 26, 28, 30, 32, 34, 36, 38, 40, 42, 44, 46, 48, 50, 52, 54, 56, 58, 60, 62, 64, 66, 68, 70, 72, 74, 76, 78, 80, 82, 84, 86, 88, 90, 92, 94, 96, 98, 100]\n",
            "[0, 3, 6, 9, 12, 15, 18, 21, 24, 27, 30, 33, 36, 39, 42, 45, 48, 51, 54, 57, 60, 63, 66, 69, 72, 75, 78, 81, 84, 87, 90, 93, 96, 99]\n"
          ]
        }
      ]
    },
    {
      "cell_type": "markdown",
      "source": [
        "#Exercício 7\n",
        "\n",
        "Utilize Compreensão em Lista (List Comprehension) para criar a lista a seguir. Condição: eleve o número ao quadrado se for par; se o número for ímpar calcule a raiz quadrada - utilize round() para arredondar as casas decimais.\n",
        "\n",
        "\n",
        "```\n",
        "[1.0, 4, 1.73, 16, 2.24, 36, 2.65, 64, 3.0, 100, 3.32, 144, 3.61, 196, 3.87, 256, 4.12, 324, 4.36, 400, 4.58, 484, 4.8, 576, 5.0, 676, 5.2, 784, 5.39, 900, 5.57, 1024, 5.74, 1156, 5.92, 1296, 6.08, 1444, 6.24, 1600, 6.4, 1764, 6.56, 1936, 6.71, 2116, 6.86, 2304, 7.0, 2500]\n",
        "\n",
        "\n",
        "Lembre que:\n",
        "\n",
        "\n",
        "\n",
        "[f(x) for x in sequence if condition]\n",
        "[f(x) if condition else g(x) for x in sequence]\n",
        "```"
      ],
      "metadata": {
        "id": "WnEAMxQSVUQR"
      }
    },
    {
      "cell_type": "code",
      "source": [
        "lista = [num**2 if num %2 == 0 else round(num**0.5,2) for num in range(1,51)]\n",
        "print(lista)\n",
        "\n"
      ],
      "metadata": {
        "colab": {
          "base_uri": "https://localhost:8080/"
        },
        "id": "7UW23mEKcWIb",
        "outputId": "85cb666c-f587-42ec-c707-8041a5f82359"
      },
      "execution_count": 35,
      "outputs": [
        {
          "output_type": "stream",
          "name": "stdout",
          "text": [
            "[1.0, 4, 1.73, 16, 2.24, 36, 2.65, 64, 3.0, 100, 3.32, 144, 3.61, 196, 3.87, 256, 4.12, 324, 4.36, 400, 4.58, 484, 4.8, 576, 5.0, 676, 5.2, 784, 5.39, 900, 5.57, 1024, 5.74, 1156, 5.92, 1296, 6.08, 1444, 6.24, 1600, 6.4, 1764, 6.56, 1936, 6.71, 2116, 6.86, 2304, 7.0, 2500]\n"
          ]
        }
      ]
    },
    {
      "cell_type": "markdown",
      "source": [
        "#Exercício 8\n",
        "\n",
        "Utilize Compreensão em Lista (List Comprehension) para criar a lista a seguir. Ademais, tente resolver este problema sem usar Compreensão em Lista.\n",
        "\n",
        "```\n",
        "[(1, 3), (1, 4), (2, 3), (2, 1), (2, 4), (3, 1), (3, 4)]\n",
        "```"
      ],
      "metadata": {
        "id": "2kK9cqPUVWJY"
      }
    },
    {
      "cell_type": "code",
      "source": [
        "lista = []\n",
        "for x in [1,2,3]:\n",
        "     for y in [3,1,4]:\n",
        "        if x != y:\n",
        "            lista.append((x, y))\n",
        "\n",
        "\n",
        "lista = [(x, y) for x in [1,2,3] for y in [3,1,4] if x != y]\n",
        "\n",
        "print(lista)"
      ],
      "metadata": {
        "colab": {
          "base_uri": "https://localhost:8080/"
        },
        "id": "K5ZWkS3MfREt",
        "outputId": "3c729013-05c1-44a9-8e06-1358c1452f2f"
      },
      "execution_count": 58,
      "outputs": [
        {
          "output_type": "stream",
          "name": "stdout",
          "text": [
            "[(1, 3), (1, 4), (2, 3), (2, 1), (2, 4), (3, 1), (3, 4)]\n"
          ]
        }
      ]
    },
    {
      "cell_type": "markdown",
      "source": [
        "#Exercício 9\n",
        "\n",
        "A partir das listas\n",
        "\n",
        "\n",
        "```\n",
        "linguagens=['php','JavaScript']\n",
        "frases=['Eu amo ','Eu odeio ']\n",
        "\n",
        "\n",
        "Use List Comprehension e obtenha a seguinte lista:\n",
        "\n",
        "\n",
        "\n",
        "['Eu amo php !', 'Eu odeio php !', 'Eu amo JavaScript !', 'Eu odeio JavaScript !']\n",
        "\n",
        "```\n",
        "\n",
        "\n",
        "Por fim, tente implementar uma solução sem List Comprehension."
      ],
      "metadata": {
        "id": "BTRKHjH-VYJA"
      }
    },
    {
      "cell_type": "code",
      "source": [
        "frases=['Eu amo ','Eu odeio ']\n",
        "linguagens=['php','JavaScript']\n",
        "\n",
        "lista = []\n",
        "for x in frases:\n",
        "  for y in linguagens:\n",
        "    if x != y:\n",
        "      lista.append((f'{x} {y}'))\n",
        "    \n",
        "lista = [(f'{x} {y}') for x in frases for y in linguagens if x != y]\n",
        "print(lista)"
      ],
      "metadata": {
        "colab": {
          "base_uri": "https://localhost:8080/"
        },
        "id": "6Gnn5YiZkL1N",
        "outputId": "b4d58086-2393-4ee3-c6db-76874622ea98"
      },
      "execution_count": 85,
      "outputs": [
        {
          "output_type": "stream",
          "name": "stdout",
          "text": [
            "['Eu amo  php', 'Eu amo  JavaScript', 'Eu odeio  php', 'Eu odeio  JavaScript']\n"
          ]
        }
      ]
    },
    {
      "cell_type": "markdown",
      "source": [
        "#Exercício 10\n",
        "\n",
        "A partir da lista\n",
        "\n",
        "```\n",
        "lista=[3, -31, -70, -55, 1, -76, -15, -14, -75, -53, 42, 12, -27, -92, -83, -9, 6, 9, -46, -48, -17, -69, 15, -1, 9, 6, -89, -36, 15, -24, 49, -31, -25, -71, 43, 20, -67, 18, -3, 8, -60, -73, 22, -52, 5, -15, 48, 21, -23, 6, 0]\n",
        "Use List Comprehension e obtenha:\n",
        "\n",
        "[3, 1, 42, 12, 6, 9, 15, 9, 6, 15, 49, 43, 20, 18, 8, 22, 5, 48, 21, 6, 0]\n",
        "```"
      ],
      "metadata": {
        "id": "hZZGxpBdVZ1Q"
      }
    },
    {
      "cell_type": "code",
      "source": [
        "lista= [3, -31, -70, -55, 1, -76, -15, -14, -75, -53, 42, 12, -27, -92, -83, -9, 6, 9, -46, -48, -17, -69, 15, -1, 9, 6, -89, -36, 15, -24, 49, -31, -25, -71, 43, 20, -67, 18, -3, 8, -60, -73, 22, -52, 5, -15, 48, 21, -23, 6, 0]\n",
        "\n",
        "lista = [x for x in lista if x >= 0]\n",
        "\n",
        "print(lista)\n"
      ],
      "metadata": {
        "colab": {
          "base_uri": "https://localhost:8080/"
        },
        "id": "Wwwz1IvxqvHL",
        "outputId": "8b5ef9da-f416-408d-9b46-6a6449de626f"
      },
      "execution_count": 86,
      "outputs": [
        {
          "output_type": "stream",
          "name": "stdout",
          "text": [
            "[3, 1, 42, 12, 6, 9, 15, 9, 6, 15, 49, 43, 20, 18, 8, 22, 5, 48, 21, 6, 0]\n"
          ]
        }
      ]
    },
    {
      "cell_type": "markdown",
      "source": [
        "#Exercício 11\n",
        "\n",
        "A partir da lista\n",
        "\n",
        "```\n",
        "lista=[3, -31, -70, -55, 1, -76, -15, -14, -75, -53, 42, 12, -27, -92, -83, -9, 6, 9, -46, -48, -17, -69, 15, -1, 9, 6, -89, -36, 15, -24, 49, -31, -25, -71, 43, 20, -67, 18, -3, 8, -60, -73, 22, -52, 5, -15, 48, 21, -23, 6, 0]\n",
        "Use List Comprehension e obtenha:\n",
        "\n",
        "[3, 31, 70, 55, 1, 76, 15, 14, 75, 53, 42, 12, 27, 92, 83, 9, 6, 9, 46, 48, 17, 69, 15, 1, 9, 6, 89, 36, 15, 24, 49, 31, 25, 71, 43, 20, 67, 18, 3, 8, 60, 73, 22, 52, 5, 15, 48, 21, 23, 6, 0]\n",
        "```"
      ],
      "metadata": {
        "id": "8k9TiLbsVbZo"
      }
    },
    {
      "cell_type": "code",
      "source": [
        "lista=[3, -31, -70, -55, 1, -76, -15, -14, -75, -53, 42, 12, -27, -92, -83, -9, 6, 9, -46, -48, -17, -69, 15, -1, 9, 6, -89, -36, 15, -24, 49, -31, -25, -71, 43, 20, -67, 18, -3, 8, -60, -73, 22, -52, 5, -15, 48, 21, -23, 6, 0]\n",
        "\n",
        "\n",
        "lista = [x*-1 if x < 0 else x for x in lista]\n",
        "\n",
        "print(lista)"
      ],
      "metadata": {
        "colab": {
          "base_uri": "https://localhost:8080/"
        },
        "id": "YnPjIc6zrFkQ",
        "outputId": "b0eb0c51-ffa9-49b7-d7d2-b4df81c370f5"
      },
      "execution_count": 88,
      "outputs": [
        {
          "output_type": "stream",
          "name": "stdout",
          "text": [
            "[3, 31, 70, 55, 1, 76, 15, 14, 75, 53, 42, 12, 27, 92, 83, 9, 6, 9, 46, 48, 17, 69, 15, 1, 9, 6, 89, 36, 15, 24, 49, 31, 25, 71, 43, 20, 67, 18, 3, 8, 60, 73, 22, 52, 5, 15, 48, 21, 23, 6, 0]\n"
          ]
        }
      ]
    },
    {
      "cell_type": "markdown",
      "source": [
        "#Exercício 12\n",
        "\n",
        "A partir da lista\n",
        "\n",
        "frutas=['  BaNanA    ', '  morangO ', ' mAçã  ','   MeLão']\n",
        "Use List Comprehension e obtenha as seguintes listas:\n",
        "\n",
        "\n",
        "\n",
        "['Eu gosto de Banana !', 'Eu gosto de Morango !', 'Eu gosto de Maçã !', 'Eu gosto de Melão !']\n",
        "['BANANA', 'MORANGO', 'MAÇÃ', 'MELÃO']\n",
        "['banana', 'morango', 'maçã', 'melão']\n"
      ],
      "metadata": {
        "id": "bfPFlVSoVeMA"
      }
    },
    {
      "cell_type": "code",
      "source": [
        "\"\"\"\n",
        "['Eu gosto de Banana !', 'Eu gosto de Morango !', 'Eu gosto de Maçã !', 'Eu gosto de Melão !']\n",
        "['BANANA', 'MORANGO', 'MAÇÃ', 'MELÃO']\n",
        "['banana', 'morango', 'maçã', 'melão']\n",
        "\"\"\"\n",
        "\n",
        "frutas=[' BaNanA ', ' morangO ', ' mAçã ',' MeLão'] \n",
        "\n",
        "lista = []\n",
        "for x in frutas:\n",
        "  lista.append((f'Eu gosto de {x.title().strip()} !'))\n",
        "\n",
        "lista = [(f'Eu gosto de {x.title().strip()} !') for x in frutas]\n",
        "\n",
        "print(lista)\n",
        "\n",
        "lista2 = []\n",
        "for x in frutas:\n",
        "  lista2.append(x.upper().strip())\n",
        "\n",
        "lista2 = [x.upper().strip() for x in frutas]\n",
        "\n",
        "print(lista2)\n",
        "\n",
        "lista3 = []\n",
        "for x in frutas:\n",
        "  lista3.append(x.lower().strip())\n",
        "\n",
        "lista3 = [x.lower().strip() for x in frutas]\n",
        "\n",
        "print(lista3)\n"
      ],
      "metadata": {
        "colab": {
          "base_uri": "https://localhost:8080/"
        },
        "id": "9HudoiTgrYrw",
        "outputId": "eef17b2d-b262-4c7a-feed-e370616510c3"
      },
      "execution_count": 99,
      "outputs": [
        {
          "output_type": "stream",
          "name": "stdout",
          "text": [
            "['Eu gosto de Banana !', 'Eu gosto de Morango !', 'Eu gosto de Maçã !', 'Eu gosto de Melão !']\n",
            "['BANANA', 'MORANGO', 'MAÇÃ', 'MELÃO']\n",
            "['banana', 'morango', 'maçã', 'melão']\n"
          ]
        }
      ]
    },
    {
      "cell_type": "markdown",
      "source": [
        "#Exercício 13\n",
        "\n",
        "Utilize Compreensão em Lista (List Comprehension) para criar as listas a seguir.\n",
        "\n",
        "```\n",
        "a)\n",
        "\n",
        "[(5, 0), (6, 1), (7, 2), (8, 3), (9, 4), (10, 5), (11, 6), (12, 7), (13, 8), (14, 9)]\n",
        "\n",
        "\n",
        "b)\n",
        "\n",
        "[(0, 0), (1, 1), (2, 4), (3, 9), (4, 16), (5, 25), (6, 36), (7, 49), (8, 64), (9, 81)]\n",
        "\n",
        "```\n"
      ],
      "metadata": {
        "id": "1BmK5aqFVgGg"
      }
    },
    {
      "cell_type": "code",
      "source": [
        "lista = []\n",
        "\n",
        "for x in range(5,15):\n",
        "  for y in range(0,10):\n",
        "    if (x-y==5):\n",
        "      lista.append((x,y))\n",
        "\n",
        "lista = [(x,y) for x in range(5,15) for y in range(0,10) if (x-y==5)]\n",
        "\n",
        "print(lista)\n",
        "\n",
        "lista2 = [(x,y**2) for x in range(0,10) for y in range(0,10) if x == y]\n",
        "\n",
        "lista2 = []\n",
        "for x in range(0,10):\n",
        "  for y in range(0,10):\n",
        "    if x == y:\n",
        "      lista2.append((x,y**2))\n",
        "\n",
        "print(lista2)"
      ],
      "metadata": {
        "id": "e4qGekCjtzrh"
      },
      "execution_count": null,
      "outputs": []
    },
    {
      "cell_type": "markdown",
      "source": [
        "#Exercício 14\n",
        "\n",
        "A partir da lista\n",
        "\n",
        "```\n",
        "matriz=[[1,2,3], [4,5,6], [7,8,9]]\n",
        "Use List Comprehension e obtenha:\n",
        "\n",
        "[1, 2, 3, 4, 5, 6, 7, 8, 9]\n",
        "\n",
        "\n",
        "Na sequência utilize a função sum() para obter a soma destes números.\n",
        "\n",
        "```"
      ],
      "metadata": {
        "id": "f5Rp3n2IVhwJ"
      }
    },
    {
      "cell_type": "code",
      "source": [
        "matriz=[[1,2,3], [4,5,6], [7,8,9]]\n",
        "\n",
        "lista = []\n",
        "for x in matriz:\n",
        "  for y in range(0,len(matriz)):\n",
        "    lista.append(x[y])\n",
        "\n",
        "lista = [x[y] for x in matriz for y in range(0,len(matriz)) ]\n",
        "\n",
        "print(lista)"
      ],
      "metadata": {
        "colab": {
          "base_uri": "https://localhost:8080/"
        },
        "id": "GsVHDBmtza7b",
        "outputId": "19ffd90c-57c8-405f-b99d-171a8335d3c4"
      },
      "execution_count": 161,
      "outputs": [
        {
          "output_type": "stream",
          "name": "stdout",
          "text": [
            "[1, 2, 3, 4, 5, 6, 7, 8, 9]\n"
          ]
        }
      ]
    }
  ]
}