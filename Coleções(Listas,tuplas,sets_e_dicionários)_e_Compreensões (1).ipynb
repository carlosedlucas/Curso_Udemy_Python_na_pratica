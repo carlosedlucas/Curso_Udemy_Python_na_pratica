{
  "nbformat": 4,
  "nbformat_minor": 0,
  "metadata": {
    "colab": {
      "provenance": [],
      "collapsed_sections": []
    },
    "kernelspec": {
      "name": "python3",
      "display_name": "Python 3"
    },
    "language_info": {
      "name": "python"
    }
  },
  "cells": [
    {
      "cell_type": "markdown",
      "source": [
        "# Exercício 1\n",
        "Escreva um programa que some todos os elementos de uma lista."
      ],
      "metadata": {
        "id": "4UF4O_dBWSCn"
      }
    },
    {
      "cell_type": "code",
      "source": [
        "lista = [1,2,3,4,5]\n",
        "\n",
        "print(sum(lista));"
      ],
      "metadata": {
        "colab": {
          "base_uri": "https://localhost:8080/"
        },
        "id": "H6gLH8J1VKaY",
        "outputId": "d069ccc0-e87d-4506-ec27-62ea0202c977"
      },
      "execution_count": null,
      "outputs": [
        {
          "output_type": "stream",
          "name": "stdout",
          "text": [
            "15\n"
          ]
        }
      ]
    },
    {
      "cell_type": "markdown",
      "source": [
        "#Exercício 2\n",
        "Escreva um programa que multiplique todos os elementos de uma lista."
      ],
      "metadata": {
        "id": "ER8NX1AWNeeQ"
      }
    },
    {
      "cell_type": "code",
      "source": [
        "lista = [1,2,3,4,5]\n",
        "\n",
        "mult=1\n",
        "for num in lista:\n",
        "    mult = mult * num\n",
        "    \n",
        "print(mult)"
      ],
      "metadata": {
        "colab": {
          "base_uri": "https://localhost:8080/"
        },
        "id": "KsqDZPEXNhqC",
        "outputId": "b644a2a8-3fd2-4c59-8ea6-f2a44691e2ed"
      },
      "execution_count": null,
      "outputs": [
        {
          "output_type": "stream",
          "name": "stdout",
          "text": [
            "120\n"
          ]
        }
      ]
    },
    {
      "cell_type": "markdown",
      "source": [
        "Exercício 3\n",
        "Considere a lista abaixo e escreva um programa que multiplique todos os seus elementos.\n",
        "\n",
        "```\n",
        "lista=[5,4,3,2,1]\n",
        "\n",
        "```\n"
      ],
      "metadata": {
        "id": "RRTncot_Wmvu"
      }
    },
    {
      "cell_type": "code",
      "source": [
        "lista=[5,4,3,2,1]\n",
        "\n",
        "mul = 1\n",
        "\n",
        "for i in lista:\n",
        "  mul = mul*i\n",
        "\n",
        "print(mul)"
      ],
      "metadata": {
        "colab": {
          "base_uri": "https://localhost:8080/"
        },
        "id": "1Ls00XsDWksX",
        "outputId": "a74f21bb-c90d-4151-e093-0f143ec39b61"
      },
      "execution_count": null,
      "outputs": [
        {
          "output_type": "stream",
          "name": "stdout",
          "text": [
            "120\n"
          ]
        }
      ]
    },
    {
      "cell_type": "markdown",
      "source": [
        "# Exercício 4\n",
        "\n",
        "Considere a lista abaixo e faça um programa que some todos os seus elementos. Tente implementar ao menos duas soluções.\n",
        "\n",
        "```\n",
        "lista=[10,2,40,50,-2,3,100,21,33,29,123,234,32,88,90,23]\n",
        "```"
      ],
      "metadata": {
        "id": "OX8IS4vLXjev"
      }
    },
    {
      "cell_type": "code",
      "source": [
        "lista=[10,2,40,50,-2,3,100,21,33,29,123,234,32,88,90,23]\n",
        "\n",
        "print(sum(lista))\n",
        "\n",
        "total = 0\n",
        "for i in lista:\n",
        "  total += i\n",
        "\n",
        "print(total)"
      ],
      "metadata": {
        "colab": {
          "base_uri": "https://localhost:8080/"
        },
        "id": "w-yfo7qpYBO-",
        "outputId": "689dc442-1966-4724-a0fe-cb0280f61ec9"
      },
      "execution_count": null,
      "outputs": [
        {
          "output_type": "stream",
          "name": "stdout",
          "text": [
            "876\n",
            "876\n"
          ]
        }
      ]
    },
    {
      "cell_type": "markdown",
      "source": [
        "#Exercício 5\n",
        "\n",
        "Considere a lista abaixo e escreva um programa que mostre na tela o seu maior número.\n",
        "\n",
        "\n",
        "```\n",
        "lista=[497, 186, 66, 198, 204, 339, 738, 743, \n",
        "       -80, 36, 887, 645, 312, 760, 574, 439, \n",
        "       164, 873, 125, 871, 901, 561, 5, -65, \n",
        "       -66, -51, 522, 306, -79, 577, 268, 240, \n",
        "       183, 217, 729, 202, 483, 464, 281, 6, \n",
        "       -44, 110, 670, 749, 846, 903, 15, 265, \n",
        "       596, -3, 534, -42, 528, 582, 552, 254, \n",
        "       780, 326, 816, -7, 859, 234, 898, 355, \n",
        "       706, 576, 968, 349, 649, 522, 466, 353, \n",
        "       940, 41, 141, 946, 317, 346, 256, 326, \n",
        "       546, 473, 270, 22, 102, 504, 421, 87, \n",
        "       570, 143, 519, 292, 382, 744, 525, 658, \n",
        "       725, 477, 413]\n",
        "```"
      ],
      "metadata": {
        "id": "sSk1dVTeN9VA"
      }
    },
    {
      "cell_type": "code",
      "source": [
        "lista=[497, 186, 66, 198, 204, 339, 738, 743, \n",
        "       -80, 36, 887, 645, 312, 760, 574, 439, \n",
        "       164, 873, 125, 871, 901, 561, 5, -65, \n",
        "       -66, -51, 522, 306, -79, 577, 268, 240, \n",
        "       183, 217, 729, 202, 483, 464, 281, 6, \n",
        "       -44, 110, 670, 749, 846, 903, 15, 265, \n",
        "       596, -3, 534, -42, 528, 582, 552, 254, \n",
        "       780, 326, 816, -7, 859, 234, 898, 355, \n",
        "       706, 576, 968, 349, 649, 522, 466, 353, \n",
        "       940, 41, 141, 946, 317, 346, 256, 326, \n",
        "       546, 473, 270, 22, 102, 504, 421, 87, \n",
        "       570, 143, 519, 292, 382, 744, 525, 658, \n",
        "       725, 477, 413]\n",
        "\n",
        "def checar_max(items):\n",
        "    max=items[0]\n",
        "    for i in items:\n",
        "        if i>max:\n",
        "          max=i\n",
        "    return max\n",
        " \n",
        "checar_max(lista)"
      ],
      "metadata": {
        "colab": {
          "base_uri": "https://localhost:8080/"
        },
        "id": "JYCM5cjeYW7-",
        "outputId": "369a3da2-843f-4a30-8a18-54aefa735ccc"
      },
      "execution_count": null,
      "outputs": [
        {
          "output_type": "execute_result",
          "data": {
            "text/plain": [
              "968"
            ]
          },
          "metadata": {},
          "execution_count": 75
        }
      ]
    },
    {
      "cell_type": "markdown",
      "source": [
        "# Exercício 6\n",
        "\n",
        "Considere a lista abaixo e escreva um programa que mostre na tela o seu menor número.\n",
        "\n",
        "```\n",
        "lista=[497, 186, 66, 198, 204, 339, 738, 743, \n",
        "       -80, 36, 887, 645, 312, 760, 574, 439, \n",
        "       164, 873, 125, 871, 901, 561, 5, -65, \n",
        "       -66, -51, 522, 306, -79, 577, 268, 240, \n",
        "       183, 217, 729, 202, 483, 464, 281, 6, \n",
        "       -44, 110, 670, 749, 846, 903, 15, 265, \n",
        "       596, -3, 534, -42, 528, 582, 552, 254, \n",
        "       780, 326, 816, -7, 859, 234, 898, 355, \n",
        "       706, 576, 968, 349, 649, 522, 466, 353, \n",
        "       940, 41, 141, 946, 317, 346, 256, 326, \n",
        "       546, 473, 270, 22, 102, 504, 421, 87, \n",
        "       570, 143, 519, 292, 382, 744, 525, 658, \n",
        "       725, 477, 413]\n",
        "```"
      ],
      "metadata": {
        "id": "U8WgZOu6OOun"
      }
    },
    {
      "cell_type": "code",
      "source": [
        "lista=[497, 186, 66, 198, 204, 339, 738, 743, \n",
        "       -80, 36, 887, 645, 312, 760, 574, 439, \n",
        "       164, 873, 125, 871, 901, 561, 5, -65, \n",
        "       -66, -51, 522, 306, -79, 577, 268, 240, \n",
        "       183, 217, 729, 202, 483, 464, 281, 6, \n",
        "       -44, 110, 670, 749, 846, 903, 15, 265, \n",
        "       596, -3, 534, -42, 528, 582, 552, 254, \n",
        "       780, 326, 816, -7, 859, 234, 898, 355, \n",
        "       706, 576, 968, 349, 649, 522, 466, 353, \n",
        "       940, 41, 141, 946, 317, 346, 256, 326, \n",
        "       546, 473, 270, 22, 102, 504, 421, 87, \n",
        "       570, 143, 519, 292, 382, 744, 525, 658, \n",
        "       725, 477, 413]\n",
        "       \n",
        "min(lista)"
      ],
      "metadata": {
        "colab": {
          "base_uri": "https://localhost:8080/"
        },
        "id": "qb1AEUhtOSDa",
        "outputId": "13ccb5e0-00ed-48ee-a8ec-9b23bb66e428"
      },
      "execution_count": null,
      "outputs": [
        {
          "output_type": "execute_result",
          "data": {
            "text/plain": [
              "-80"
            ]
          },
          "metadata": {},
          "execution_count": 76
        }
      ]
    },
    {
      "cell_type": "markdown",
      "source": [
        "#Exercício 7\n",
        "\n",
        "Ordene os elementos das listas a seguir em ordem crescente e decrescente.\n",
        "\n",
        "\n",
        "```\n",
        "a)\n",
        "\n",
        "lista1=[117, 1519, 1335, 1600, 1676, 1491, 868, \n",
        "        1149, 642, 1321, 509, 1296, 1936, 1014, \n",
        "        1114, 1197, 94, 1347, 1112, 1224, 351, \n",
        "        1498, 1028, 255, 937, 514, 1041, 1923, \n",
        "        913, 510, 868, 1195, 1218, 1489, 1920, \n",
        "        630, 666, 605, 515, 1219, 59, 1217, 1293, \n",
        "        487, 1095, 1730, 1115, 1465, 1506, 1881]\n",
        "b)\n",
        "\n",
        "lista2=['a','a','z','f',\n",
        "        'h','i','m','u',\n",
        "        'q','r','b','d',\n",
        "       ]\n",
        "```\n"
      ],
      "metadata": {
        "id": "5rf1Dy4uY6Mp"
      }
    },
    {
      "cell_type": "code",
      "source": [
        "lista1=[117, 1519, 1335, 1600, 1676, 1491, 868, \n",
        "        1149, 642, 1321, 509, 1296, 1936, 1014, \n",
        "        1114, 1197, 94, 1347, 1112, 1224, 351, \n",
        "        1498, 1028, 255, 937, 514, 1041, 1923, \n",
        "        913, 510, 868, 1195, 1218, 1489, 1920, \n",
        "        630, 666, 605, 515, 1219, 59, 1217, 1293, \n",
        "        487, 1095, 1730, 1115, 1465, 1506, 1881]\n",
        "\n",
        "sorted(lista1)\n",
        "sorted(lista1, reverse=True)\n",
        "\n",
        "\n",
        "lista2=['a','a','z','f',\n",
        "        'h','i','m','u',\n",
        "        'q','r','b','d',\n",
        "       ]\n",
        "\n",
        "print(sorted(lista2))\n",
        "print(sorted(lista2, reverse=True))\n"
      ],
      "metadata": {
        "colab": {
          "base_uri": "https://localhost:8080/"
        },
        "id": "zh8Ju-fgY6sW",
        "outputId": "fe1a6a8d-0674-403e-edb5-0c0e4f61cec1"
      },
      "execution_count": null,
      "outputs": [
        {
          "output_type": "stream",
          "name": "stdout",
          "text": [
            "['a', 'a', 'b', 'd', 'f', 'h', 'i', 'm', 'q', 'r', 'u', 'z']\n",
            "['z', 'u', 'r', 'q', 'm', 'i', 'h', 'f', 'd', 'b', 'a', 'a']\n"
          ]
        }
      ]
    },
    {
      "cell_type": "markdown",
      "source": [
        "# Exercício 8\n",
        "Considere a lista abaixo. Escreva um programa que obtenha uma lista ordenada a partir da lista1. A ordenação deverá ser efetuada em ordem crescente pelo último elemento de cada tupla.\n",
        "\n",
        "\n",
        "\n",
        "\n",
        "```\n",
        "lista1=[('a',21,10),('q',44,99),\n",
        "       ('z',321,11),('w',91,33),\n",
        "       ('f',33,-9),('h',88,42),\n",
        "       ('j',-100,1),('n',74,93),\n",
        "       ('k',11,7),('m',923,-10),\n",
        "       ('l',2,23),('v',612,57),\n",
        "       ('j',130,51),('x',40,88),\n",
        "       ('b',99,67),('u',30,49),\n",
        "       ('e',-120,-4),('i',40,21),\n",
        "      ]\n",
        "\n",
        "```\n",
        "\n"
      ],
      "metadata": {
        "id": "5dj9QLT7ZzmW"
      }
    },
    {
      "cell_type": "code",
      "source": [
        "lista1=[('a',21,10),('q',44,99),\n",
        "       ('z',321,11),('w',91,33),\n",
        "       ('f',33,-9),('h',88,42),\n",
        "       ('j',-100,1),('n',74,93),\n",
        "       ('k',11,7),('m',923,-10),\n",
        "       ('l',2,23),('v',612,57),\n",
        "       ('j',130,51),('x',40,88),\n",
        "       ('b',99,67),('u',30,49),\n",
        "       ('e',-120,-4),('i',40,21),\n",
        "      ]\n",
        "\n",
        "sorted(lista1, key=lambda valor:valor[2])\n"
      ],
      "metadata": {
        "colab": {
          "base_uri": "https://localhost:8080/"
        },
        "id": "jtFpqQzBZ06P",
        "outputId": "59aefc69-d28f-4da2-cb61-8be62b31e03a"
      },
      "execution_count": null,
      "outputs": [
        {
          "output_type": "execute_result",
          "data": {
            "text/plain": [
              "[('m', 923, -10),\n",
              " ('f', 33, -9),\n",
              " ('e', -120, -4),\n",
              " ('j', -100, 1),\n",
              " ('k', 11, 7),\n",
              " ('a', 21, 10),\n",
              " ('z', 321, 11),\n",
              " ('i', 40, 21),\n",
              " ('l', 2, 23),\n",
              " ('w', 91, 33),\n",
              " ('h', 88, 42),\n",
              " ('u', 30, 49),\n",
              " ('j', 130, 51),\n",
              " ('v', 612, 57),\n",
              " ('b', 99, 67),\n",
              " ('x', 40, 88),\n",
              " ('n', 74, 93),\n",
              " ('q', 44, 99)]"
            ]
          },
          "metadata": {},
          "execution_count": 86
        }
      ]
    },
    {
      "cell_type": "markdown",
      "source": [
        "# Exercício 9\n",
        "\n",
        "A partir da lista abaixo calcule e mostre na tela:\n",
        "\n",
        "Maior número;\n",
        "\n",
        "Menor número;\n",
        "\n",
        "Soma de todos os elementos da lista;\n",
        "\n",
        "Quantidade de elementos da lista;\n",
        "\n",
        "Média aritmética;\n",
        "\n",
        "Moda (considere a possibilidade de uma amostra multimodal - ou seja, quando há várias modas);\n",
        "\n",
        "Mediana;\n",
        "\n",
        "Variância;\n",
        "\n",
        "Desvio padrão.\n",
        "\n",
        "```\n",
        "lista=[-1505, 2518, 2333, 4682, -1740, 1067, 995,22,\n",
        "       -1153, -4098, 4560, 2958, 3640, -4154, 2345,4, \n",
        "       -1601, 158, -4044, -98, 707, 359, -3088, 527, \n",
        "       -3004, -4045, 563, -4137, 4598, -3862, 488, -1, \n",
        "       3445, 3820, 504, -1475, 1626, -1252, 2059, 16, \n",
        "       -1472, 2610, -4643, 2912, -2517, -4604, -1476, \n",
        "       3950, -4640, -229, 229, -3452, 4309, 2356, 66, \n",
        "       3728, -1846, -635, -3581, 4457, -2592, -1066, \n",
        "       -1006, -164, 805, -4500, -455, 2245, -4959, \n",
        "       -2415, 2038, 4512, 1243, 349, -1153, 3623, 631, \n",
        "       2209, -3349, -2417, 4429, -1324, -4101, -1354, \n",
        "       4400, -4968, -4433, 2042, 904, 932, 1331, 4955, \n",
        "       -3775, -333, 1012, 2192, -161, -224, 1505, -1615, \n",
        "       -2165, 3666, -4253, -358, -3939, -2641, 1228, \n",
        "       -608, -2280, 4939, -3355, 1340, -57, 3346, 2686, \n",
        "       -1572, 1991, -2351, -3972, -1683, -1509, -2488, \n",
        "       266, -2991, -795, -4032, 2397, 2391, 3654, -1044, \n",
        "       -2204, -2440, -1280, 2714, -4151, -1951, 3684, \n",
        "       -4251, 3748, -4359, -1436, -2190, 4538, -3563, \n",
        "       1542, 1926, -3940, -2274, -4223, 2504, -4112, 2388,\n",
        "]\n",
        "O resultado do programa deve ser igual ao output a seguir.\n",
        "\n",
        "\n",
        "\n",
        "Maior número: 4955\n",
        "Menor número: -4968\n",
        "Soma de todos os elementos da lista: -38259\n",
        "Quantidade de elementos da lista: 155\n",
        "Média aritmética: -246.83\n",
        "Moda: [2, -1153, 4]\n",
        "Mediana: -161\n",
        "Variância: 7629024.95\n",
        "Desvio padrão: 2762.07\n",
        "```"
      ],
      "metadata": {
        "id": "0uHUqpiUgk3U"
      }
    },
    {
      "cell_type": "code",
      "source": [
        "import statistics \n",
        "\n",
        "lista=[-1505, 2518, 2333, 4682, -1740, 1067, 995,22,\n",
        "       -1153, -4098, 4560, 2958, 3640, -4154, 2345,4, \n",
        "       -1601, 158, -4044, -98, 707, 359, -3088, 527, \n",
        "       -3004, -4045, 563, -4137, 4598, -3862, 488, -1, \n",
        "       3445, 3820, 504, -1475, 1626, -1252, 2059, 16, \n",
        "       -1472, 2610, -4643, 2912, -2517, -4604, -1476, \n",
        "       3950, -4640, -229, 229, -3452, 4309, 2356, 66, \n",
        "       3728, -1846, -635, -3581, 4457, -2592, -1066, \n",
        "       -1006, -164, 805, -4500, -455, 2245, -4959, \n",
        "       -2415, 2038, 4512, 1243, 349, -1153, 3623, 631, \n",
        "       2209, -3349, -2417, 4429, -1324, -4101, -1354, \n",
        "       4400, -4968, -4433, 2042, 904, 932, 1331, 4955, \n",
        "       -3775, -333, 1012, 2192, -161, -224, 1505, -1615, \n",
        "       -2165, 3666, -4253, -358, -3939, -2641, 1228, \n",
        "       -608, -2280, 4939, -3355, 1340, -57, 3346, 2686, \n",
        "       -1572, 1991, -2351, -3972, -1683, -1509, -2488, \n",
        "       266, -2991, -795, -4032, 2397, 2391, 3654, -1044, \n",
        "       -2204, -2440, -1280, 2714, -4151, -1951, 3684, \n",
        "       -4251, 3748, -4359, -1436, -2190, 4538, -3563, \n",
        "       1542, 1926, -3940, -2274, -4223, 2504, -4112, 2388,\n",
        "]\n",
        "\n",
        "\n",
        "print(max(lista));\n",
        "print(min(lista));\n",
        "print(sum(lista));\n",
        "print(len(lista));\n",
        "print(statistics.mean(lista))\n",
        "print(statistics.mode(lista));\n",
        "print(statistics.median(lista));\n",
        "print(statistics.pvariance(lista));\n",
        "print(statistics.stdev(lista));\n"
      ],
      "metadata": {
        "colab": {
          "base_uri": "https://localhost:8080/"
        },
        "id": "pk2HDMMrgqVu",
        "outputId": "c02982fa-7bd4-4627-c424-d41c6e431c46"
      },
      "execution_count": null,
      "outputs": [
        {
          "output_type": "stream",
          "name": "stdout",
          "text": [
            "4955\n",
            "-4968\n",
            "-38267\n",
            "152\n",
            "-251.7565789473684\n",
            "-1153\n",
            "-194.0\n",
            "7728153.973640928\n",
            "2789.1457117334216\n"
          ]
        }
      ]
    },
    {
      "cell_type": "markdown",
      "source": [
        "```\n",
        "Maior número: 4955\n",
        "Menor número: -4968\n",
        "Soma de todos os elementos da lista: -38259\n",
        "Quantidade de elementos da lista: 155\n",
        "Média aritmética: -246.83\n",
        "Moda: [2, -1153, 4]\n",
        "Mediana: -161\n",
        "Variância: 7629024.95\n",
        "Desvio padrão: 2762.07\n",
        "```"
      ],
      "metadata": {
        "id": "yVrfZ93Sior8"
      }
    },
    {
      "cell_type": "markdown",
      "source": [
        "# Exercício 10\n",
        "\n",
        "Considere a lista a seguir e escreva um programa para remover os elementos duplicados.\n",
        "\n",
        "\n",
        "```\n",
        "lista=[\n",
        "    'a','a','a',\n",
        "    'b','c','k',\n",
        "    'a',1,2,3,4,\n",
        "    'j','l','m',\n",
        "]\n",
        "```"
      ],
      "metadata": {
        "id": "ASPfwPT9kJLc"
      }
    },
    {
      "cell_type": "code",
      "source": [
        "lista=[\n",
        "    'a','a','a',\n",
        "    'b','c','k',\n",
        "    'a',1,2,3,4,\n",
        "    'j','l','m',\n",
        "]\n",
        "\n",
        "# usando for\n",
        "for i in lista:\n",
        "  num_count = lista.count(i)\n",
        "  if num_count > 1:\n",
        "    lista.remove(i)\n",
        "\n",
        "print(lista)\n",
        "\n",
        "# usando função set\n",
        "lista=list(set(lista))\n",
        "print(lista)"
      ],
      "metadata": {
        "colab": {
          "base_uri": "https://localhost:8080/"
        },
        "id": "vorrh5mL7xIR",
        "outputId": "4e879d2f-e5b7-4cd4-b8ed-1804549689d6"
      },
      "execution_count": null,
      "outputs": [
        {
          "output_type": "stream",
          "name": "stdout",
          "text": [
            "['b', 'c', 'k', 'a', 1, 2, 3, 4, 'j', 'l', 'm']\n"
          ]
        }
      ]
    },
    {
      "cell_type": "code",
      "source": [
        "lista=[\n",
        "    'a','a','a',\n",
        "    'b','c','k',\n",
        "    'a',1,2,3,4,\n",
        "    'j','l','m',\n",
        "]\n",
        " \n"
      ],
      "metadata": {
        "colab": {
          "base_uri": "https://localhost:8080/"
        },
        "id": "9IkGeusz9vPz",
        "outputId": "5bd6c30f-29eb-4785-985e-dde3ec4ebce4"
      },
      "execution_count": null,
      "outputs": [
        {
          "output_type": "stream",
          "name": "stdout",
          "text": [
            "[1, 2, 3, 4, 'm', 'c', 'l', 'b', 'a', 'j', 'k']\n"
          ]
        }
      ]
    },
    {
      "cell_type": "markdown",
      "source": [
        "# Exercício 11\n",
        "Utilize a função range() e escreva uma lista com uma série de 1950 a 2020. Sua lista deve ter o formato a seguir:\n",
        "\n",
        "\n",
        "```\n",
        "serie=[1951, 1952, 1953, 1954, 1955, \n",
        "       1956, 1957, 1958, 1959, 1960, \n",
        "       1961, 1962, 1963, 1964, 1965, \n",
        "       1966, 1967, 1968, 1969, 1970, \n",
        "       1971, 1972, 1973, 1974, 1975, \n",
        "       1976, 1977, 1978, 1979, 1980, \n",
        "       1981, 1982, 1983, 1984, 1985, \n",
        "       1986, 1987, 1988, 1989, 1990, \n",
        "       1991, 1992, 1993, 1994, 1995, \n",
        "       1996, 1997, 1998, 1999, 2000, \n",
        "       2001, 2002, 2003, 2004, 2005, \n",
        "       2006, 2007, 2008, 2009, 2010, \n",
        "       2011, 2012, 2013, 2014, 2015, \n",
        "       2016, 2017, 2018, 2019, 2020]\n",
        "```"
      ],
      "metadata": {
        "id": "ZoACSg8x-GVx"
      }
    },
    {
      "cell_type": "code",
      "source": [
        "serie=[1951, 1952, 1953, 1954, 1955, \n",
        "       1956, 1957, 1958, 1959, 1960, \n",
        "       1961, 1962, 1963, 1964, 1965, \n",
        "       1966, 1967, 1968, 1969, 1970, \n",
        "       1971, 1972, 1973, 1974, 1975, \n",
        "       1976, 1977, 1978, 1979, 1980, \n",
        "       1981, 1982, 1983, 1984, 1985, \n",
        "       1986, 1987, 1988, 1989, 1990, \n",
        "       1991, 1992, 1993, 1994, 1995, \n",
        "       1996, 1997, 1998, 1999, 2000, \n",
        "       2001, 2002, 2003, 2004, 2005, \n",
        "       2006, 2007, 2008, 2009, 2010, \n",
        "       2011, 2012, 2013, 2014, 2015, \n",
        "       2016, 2017, 2018, 2019, 2020]\n",
        "\n",
        "series=list(range(1951,2021))\n",
        "print(series)\n",
        "\n"
      ],
      "metadata": {
        "id": "H7F6zLGx-FAZ"
      },
      "execution_count": null,
      "outputs": []
    },
    {
      "cell_type": "markdown",
      "source": [
        "# Exercício 12\n",
        "\n",
        "Considere a lista a seguir, que apresenta dados referentes a série temporal de 1900 a 2020. Faça o que se pede:\n",
        "\n",
        "```\n",
        "lista_anos=[1900, 1901, 1902, 1903, 1904, 1905, 1906, 1907, \n",
        "            1908, 1909, 1910, 1911, 1912, 1913, 1914, 1915, \n",
        "            1916, 1917, 1918, 1919, 1920, 1921, 1922, 1923, \n",
        "            1924, 1925, 1926, 1927, 1928, 1929, 1930, 1931, \n",
        "            1932, 1933, 1934, 1935, 1936, 1937, 1938, 1939,\n",
        "            1940, 1941, 1942, 1943, 1944, 1945, 1946, 1947, \n",
        "            1948, 1949, 1950, 1951, 1952, 1953, 1954, 1955, \n",
        "            1956, 1957, 1958, 1959, 1960, 1961, 1962, 1963, \n",
        "            1964, 1965, 1966, 1967, 1968, 1969, 1970, 1971, \n",
        "            1972, 1973, 1974, 1975, 1976, 1977, 1978, 1979, \n",
        "            1980, 1981, 1982, 1983, 1984, 1985, 1986, 1987, \n",
        "            1988, 1989, 1990, 1991, 1992, 1993, 1994, 1995, \n",
        "            1996, 1997, 1998, 1999, 2000, 2001, 2002, 2003, \n",
        "            2004, 2005, 2006, 2007, 2008, 2009, 2010, 2011,\n",
        "            2012, 2013, 2014, 2015, 2016, 2017, 2018, 2019,\n",
        "            2020]\n",
        "\n",
        "```\n",
        "\n",
        "a) Crie uma lista  que armazene os 20 primeiros anos da série;\n",
        "\n",
        "b) Crie uma lista que armazene os anos de 1937 a 1969;\n",
        "\n",
        "c) Crie uma lista que armazene os anos de 2010 a 2020;\n",
        "\n",
        "d) Crie uma lista que armazene o último ano da série;\n",
        "\n",
        "e) Apresente a série temporal de 10 em 10 anos.\n",
        "\n"
      ],
      "metadata": {
        "id": "KTaoiOtj-iyB"
      }
    },
    {
      "cell_type": "code",
      "source": [
        "lista_anos=[1900, 1901, 1902, 1903, 1904, 1905, 1906, 1907, \n",
        "            1908, 1909, 1910, 1911, 1912, 1913, 1914, 1915, \n",
        "            1916, 1917, 1918, 1919, 1920, 1921, 1922, 1923, \n",
        "            1924, 1925, 1926, 1927, 1928, 1929, 1930, 1931, \n",
        "            1932, 1933, 1934, 1935, 1936, 1937, 1938, 1939,\n",
        "            1940, 1941, 1942, 1943, 1944, 1945, 1946, 1947, \n",
        "            1948, 1949, 1950, 1951, 1952, 1953, 1954, 1955, \n",
        "            1956, 1957, 1958, 1959, 1960, 1961, 1962, 1963, \n",
        "            1964, 1965, 1966, 1967, 1968, 1969, 1970, 1971, \n",
        "            1972, 1973, 1974, 1975, 1976, 1977, 1978, 1979, \n",
        "            1980, 1981, 1982, 1983, 1984, 1985, 1986, 1987, \n",
        "            1988, 1989, 1990, 1991, 1992, 1993, 1994, 1995, \n",
        "            1996, 1997, 1998, 1999, 2000, 2001, 2002, 2003, \n",
        "            2004, 2005, 2006, 2007, 2008, 2009, 2010, 2011,\n",
        "            2012, 2013, 2014, 2015, 2016, 2017, 2018, 2019,\n",
        "            2020]\n",
        "\n",
        "_prim_20_anos = []\n",
        "\n",
        "_anos_1937_1969 = []\n",
        "\n",
        "_anos_2010_2020 = []\n",
        "\n",
        "_ultimo_ano = []\n",
        "\n",
        "_dez_em_dez = []\n",
        "\n",
        "#for\n",
        "\n",
        "\"\"\"\n",
        "for i in lista_anos:\n",
        "  if i <= lista_anos[20] and i >= lista_anos[0]:\n",
        "    _prim_20_anos.append(i)\n",
        "  if i <= 1969 and i >= 1937:\n",
        "    _anos_1937_1969.append(i)\n",
        "  if i <= 2020 and i >= 2010:\n",
        "    _anos_2010_2020.append(i)\n",
        "  if i == lista_anos[-1]:\n",
        "    _ultimo_ano.append(i)\n",
        "  for j in range(0,len(lista_anos),10):\n",
        "    _dez_em_dez.append(lista_anos[j])\n",
        "\"\"\"\n",
        "\n",
        "#slice\n",
        "_prim_20_anos = lista_anos[0:21];\n",
        "\n",
        "print(_prim_20_anos)\n",
        "\n",
        "_anos_1937_1969 = lista_anos[37:70];\n",
        "\n",
        "print(_anos_1937_1969)\n",
        "\n",
        "_anos_2010_2020 = lista_anos[110:];\n",
        "\n",
        "print(_anos_2010_2020)\n",
        "\n",
        "_ultimo_ano = lista_anos[-1];\n",
        "\n",
        "print(_ultimo_ano)\n",
        "\n",
        "_dez_em_dez = lista_anos[::10];\n",
        "\n",
        "print(_dez_em_dez)\n"
      ],
      "metadata": {
        "colab": {
          "base_uri": "https://localhost:8080/"
        },
        "id": "NHfH6ri3-lbx",
        "outputId": "cc0dc481-4c99-4a82-cc8b-62a2fc591860"
      },
      "execution_count": null,
      "outputs": [
        {
          "output_type": "stream",
          "name": "stdout",
          "text": [
            "[1900, 1901, 1902, 1903, 1904, 1905, 1906, 1907, 1908, 1909, 1910, 1911, 1912, 1913, 1914, 1915, 1916, 1917, 1918, 1919, 1920]\n",
            "[1937, 1938, 1939, 1940, 1941, 1942, 1943, 1944, 1945, 1946, 1947, 1948, 1949, 1950, 1951, 1952, 1953, 1954, 1955, 1956, 1957, 1958, 1959, 1960, 1961, 1962, 1963, 1964, 1965, 1966, 1967, 1968, 1969]\n",
            "[2010, 2011, 2012, 2013, 2014, 2015, 2016, 2017, 2018, 2019, 2020]\n",
            "2020\n",
            "[1900, 1910, 1920, 1930, 1940, 1950, 1960, 1970, 1980, 1990, 2000, 2010, 2020]\n"
          ]
        }
      ]
    },
    {
      "cell_type": "markdown",
      "source": [
        "# Exercício 13\n",
        "A partir da lista abaixo obtenha apenas a string \"Python\".\n",
        "\n",
        "\n",
        "```\n",
        "lista=[\n",
        "    'a','b','c',([\n",
        "        [[[[['a'],[-90,33,33,['Python']],[0,1,2]],[4,4]],[],'u'],[]]\n",
        "    ]),{'a':1,'c':2},3\n",
        "]\n",
        "```\n",
        "\n"
      ],
      "metadata": {
        "id": "PTetxzeoEe3o"
      }
    },
    {
      "cell_type": "code",
      "source": [
        "lista=[\n",
        "    'a','b','c',([\n",
        "        [[[[['a'],[-90,33,33,['Python']],[0,1,2]],[4,4]],[],'u'],[]]\n",
        "    ]),{'a':1,'c':2},3\n",
        "]\n",
        "\n",
        "lista[3][0][0][0][0][1][3]"
      ],
      "metadata": {
        "colab": {
          "base_uri": "https://localhost:8080/"
        },
        "id": "mhpPgitgEepI",
        "outputId": "b8e1bda1-29bb-453b-d124-1a07407ce4c2"
      },
      "execution_count": null,
      "outputs": [
        {
          "output_type": "execute_result",
          "data": {
            "text/plain": [
              "['Python']"
            ]
          },
          "metadata": {},
          "execution_count": 37
        }
      ]
    },
    {
      "cell_type": "markdown",
      "source": [
        "# Exercício 14\n",
        "\n",
        "Verifique se uma lista é vazia ou não. Caso a lista seja vazia, mostre True na tela, caso contrário False."
      ],
      "metadata": {
        "id": "6Umf23oEFaB4"
      }
    },
    {
      "cell_type": "code",
      "source": [
        "lista=[\n",
        "    'a','b','c',([\n",
        "        [[[[['a'],[-90,33,33,['Python']],[0,1,2]],[4,4]],[],'u'],[]]\n",
        "    ]),{'a':1,'c':2},3\n",
        "]\n",
        "\n",
        "if len(lista) < 1:\n",
        "  print(False)\n",
        "else:\n",
        "  print(True)"
      ],
      "metadata": {
        "colab": {
          "base_uri": "https://localhost:8080/"
        },
        "id": "EyzDTJjVFckg",
        "outputId": "b1cc576b-8d63-49f9-c1e4-258d7b1bf707"
      },
      "execution_count": null,
      "outputs": [
        {
          "output_type": "stream",
          "name": "stdout",
          "text": [
            "False\n"
          ]
        }
      ]
    },
    {
      "cell_type": "markdown",
      "source": [
        "# Exercício 15\n",
        "\n",
        "Crie uma tupla com um único elemento e verifique o objeto criado com a função type."
      ],
      "metadata": {
        "id": "fUPxOuTnGARo"
      }
    },
    {
      "cell_type": "code",
      "source": [
        "lista = tuple([15])\n",
        "\n",
        "type(lista)"
      ],
      "metadata": {
        "id": "x_5AQPY1F_64"
      },
      "execution_count": null,
      "outputs": []
    },
    {
      "cell_type": "markdown",
      "source": [
        "# Exercício 16\n",
        "Considere a tupla1 e responda as seguintes questões:\n",
        "\n",
        "```\n",
        "tupla1=('A','B','A','Z','Z','X','A','E','K','G','H')\n",
        "```\n",
        "\n",
        "\n",
        "\n",
        "a) mostre na tela o tamanho desta tupla;\n",
        "\n",
        "b) ordene a tupla e mostre o resultado na tela;\n",
        "\n",
        "c) mostre na tela o número de ocorrências da string 'A';\n",
        "\n",
        "d) mostre na tela o número de ocorrências da string 'B';\n",
        "\n",
        "e) mostre na tela o índice da string 'X';\n",
        "\n",
        "f) mostre na tela o último elemento da tupla1."
      ],
      "metadata": {
        "id": "eU1mVzocHAEQ"
      }
    },
    {
      "cell_type": "code",
      "source": [
        "tupla1=('A','B','A','Z','Z','X','A','E','K','G','H')\n",
        "\n",
        "\n",
        "len(tupla1)\n",
        "sorted(tupla1)\n",
        "tupla1.count('A')\n",
        "tupla1.count('B')\n",
        "tupla1.index('X')\n",
        "tupla1[-1]\n"
      ],
      "metadata": {
        "colab": {
          "base_uri": "https://localhost:8080/",
          "height": 36
        },
        "id": "ED5Yaaf2HGTY",
        "outputId": "29d1da78-34ef-40c1-c851-f2a00492d26b"
      },
      "execution_count": null,
      "outputs": [
        {
          "output_type": "execute_result",
          "data": {
            "text/plain": [
              "'H'"
            ],
            "application/vnd.google.colaboratory.intrinsic+json": {
              "type": "string"
            }
          },
          "metadata": {},
          "execution_count": 60
        }
      ]
    },
    {
      "cell_type": "markdown",
      "source": [
        "# Exercício 17\n",
        "\n",
        "Mude a chave 'valor' do dicionário produto1 para 99.98.\n",
        "\n",
        "\n",
        "```\n",
        "produto1={\n",
        "    'nome':'produto1',\n",
        "    'tipo':'categoriaA',\n",
        "    'valor':'50.5',\n",
        "    'fornecedor':'ABCD',\n",
        "}\n",
        "\n",
        "```"
      ],
      "metadata": {
        "id": "f0MJuX9bIdPh"
      }
    },
    {
      "cell_type": "code",
      "source": [
        "produto1={\n",
        "    'nome':'produto1',\n",
        "    'tipo':'categoriaA',\n",
        "    'valor':'50.5',\n",
        "    'fornecedor':'ABCD',\n",
        "}\n",
        "\n",
        "produto1['valor'] = 99.98\n",
        "\n",
        "print(produto1)"
      ],
      "metadata": {
        "colab": {
          "base_uri": "https://localhost:8080/"
        },
        "id": "awFTzg9ZIfup",
        "outputId": "3b987232-3d39-4491-bd0b-afaafc5e3cc6"
      },
      "execution_count": null,
      "outputs": [
        {
          "output_type": "stream",
          "name": "stdout",
          "text": [
            "{'nome': 'produto1', 'tipo': 'categoriaA', 'valor': 99.98, 'fornecedor': 'ABCD'}\n"
          ]
        }
      ]
    },
    {
      "cell_type": "markdown",
      "source": [
        "#18.1 \n",
        "\n",
        "Crie um script para iterar no dicionário abaixo e mostrar na tela todas as suas chaves, uma a uma.\n",
        "\n",
        "\n",
        "```\n",
        "produto1={\n",
        "    'nome':'produto1',\n",
        "    'tipo':'categoriaA',\n",
        "    'valor':'50.5',\n",
        "    'fornecedor':'ABCD',\n",
        "}\n",
        "\n",
        "\n",
        "Output:\n",
        "\n",
        "nome\n",
        "tipo\n",
        "valor\n",
        "fornecedor\n",
        "```\n",
        "\n",
        "#18.2\n",
        "\n",
        "Crie um script para iterar no dicionário produto1 e mostrar na tela todos os seus valores, um a um.\n",
        "```\n",
        "Output:\n",
        "\n",
        "\n",
        "\n",
        "produto1\n",
        "categoriaA\n",
        "50.5\n",
        "ABCD\n",
        "```\n",
        "\n",
        "#18.3 \n",
        "\n",
        "Crie um script para iterar no dicionário produto1 e mostrar chave,valor na tela.\n",
        "```\n",
        "Output:\n",
        "\n",
        "\n",
        "\n",
        "nome produto1\n",
        "tipo categoriaA\n",
        "valor 50.5\n",
        "fornecedor ABCD\n",
        "Dica: utilize o método items().\n",
        "```\n",
        "\n",
        "\n"
      ],
      "metadata": {
        "id": "d9uN0J5PIuU4"
      }
    },
    {
      "cell_type": "code",
      "source": [
        "produto1={\n",
        "    'nome':'produto1',\n",
        "    'tipo':'categoriaA',\n",
        "    'valor':'50.5',\n",
        "    'fornecedor':'ABCD',\n",
        "}\n",
        "\n",
        "for i in produto1:\n",
        "  print(i)\n",
        "\n",
        "for i in produto1:\n",
        "  print(produto1[i])\n",
        "\n",
        "for i in produto1:\n",
        "  print(i,produto1[i])\n",
        "\n",
        "for chave,valor in produto1.items():\n",
        "    print(chave,valor)"
      ],
      "metadata": {
        "colab": {
          "base_uri": "https://localhost:8080/"
        },
        "id": "IjtRhNsdI21Q",
        "outputId": "a9e643f9-3660-4c0c-87ce-c01d5c96c627"
      },
      "execution_count": null,
      "outputs": [
        {
          "output_type": "stream",
          "name": "stdout",
          "text": [
            "nome\n",
            "tipo\n",
            "valor\n",
            "fornecedor\n",
            "produto1\n",
            "categoriaA\n",
            "50.5\n",
            "ABCD\n",
            "nome produto1\n",
            "tipo categoriaA\n",
            "valor 50.5\n",
            "fornecedor ABCD\n",
            "nome produto1\n",
            "tipo categoriaA\n",
            "valor 50.5\n",
            "fornecedor ABCD\n"
          ]
        }
      ]
    }
  ]
}