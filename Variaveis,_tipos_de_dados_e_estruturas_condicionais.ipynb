{
  "nbformat": 4,
  "nbformat_minor": 0,
  "metadata": {
    "colab": {
      "name": "Variaveis, tipos de dados e estruturas condicionais",
      "provenance": []
    },
    "kernelspec": {
      "name": "python3",
      "display_name": "Python 3"
    },
    "language_info": {
      "name": "python"
    }
  },
  "cells": [
    {
      "cell_type": "markdown",
      "metadata": {
        "id": "zc9Fki9BorO0"
      },
      "source": [
        "# Exercício 1\n",
        "\n",
        "Escreva um programa que mostre a mensagem 'Hello World!' na tela."
      ]
    },
    {
      "cell_type": "code",
      "metadata": {
        "colab": {
          "base_uri": "https://localhost:8080/"
        },
        "id": "q4y_7RMwovvY",
        "outputId": "e0369d5f-a0bc-4a02-c21c-d4a32c641783"
      },
      "source": [
        "print('Hello, World!')"
      ],
      "execution_count": 1,
      "outputs": [
        {
          "output_type": "stream",
          "text": [
            "Hello, World!\n"
          ],
          "name": "stdout"
        }
      ]
    },
    {
      "cell_type": "markdown",
      "metadata": {
        "id": "5pGQpHhBo817"
      },
      "source": [
        "# Exercício 2\n",
        "\n",
        "Faça um programa que solicite um número do usuário e apresente a seguinte mensagem na tela:\n",
        "\n",
        "\"O número digitado foi [número]\"."
      ]
    },
    {
      "cell_type": "code",
      "metadata": {
        "colab": {
          "base_uri": "https://localhost:8080/"
        },
        "id": "iesSJATpo_g2",
        "outputId": "2cb32733-de89-4fd1-c244-abe998e1de78"
      },
      "source": [
        "number = float((input('Digite um número: ')))\n",
        "print(f'O número digitado foi: {number}')"
      ],
      "execution_count": 13,
      "outputs": [
        {
          "output_type": "stream",
          "text": [
            "Digite um número: 12\n",
            "O número digitado foi: 12.0\n"
          ],
          "name": "stdout"
        }
      ]
    },
    {
      "cell_type": "markdown",
      "metadata": {
        "id": "l97do26Cp9Ey"
      },
      "source": [
        "# Exercício 3\n",
        "\n",
        "Escreva um programa que solicite o nome e o sobrenome do usuário. Ao final o programa deverá apresentar o nome completo do usuário na tela."
      ]
    },
    {
      "cell_type": "code",
      "metadata": {
        "colab": {
          "base_uri": "https://localhost:8080/"
        },
        "id": "0B7prIF4p_Df",
        "outputId": "515527b1-6ef5-41d9-fd92-dc3d34858c34"
      },
      "source": [
        "nome = input('Escreva seu nome: ').strip().title()\n",
        "sobrenome = input('Escreva seu sobrenome: ').strip().title()\n",
        "print(f'Seu nome completo é {nome} {sobrenome}')"
      ],
      "execution_count": 22,
      "outputs": [
        {
          "output_type": "stream",
          "text": [
            "Escreva seu nome: carlos eduardo   \n",
            "Escreva seu sobrenome:    lucas\n",
            "Seu nome completo é Carlos Eduardo Lucas\n"
          ],
          "name": "stdout"
        }
      ]
    },
    {
      "cell_type": "markdown",
      "metadata": {
        "id": "N19M2mgPrWel"
      },
      "source": [
        "# Exercício 4\n",
        "\n",
        "Faça um programa que solicite três números inteiros do usuário e imprima a soma destes.\n",
        "\n"
      ]
    },
    {
      "cell_type": "code",
      "metadata": {
        "colab": {
          "base_uri": "https://localhost:8080/"
        },
        "id": "8gkZF5dWrbVT",
        "outputId": "ab5ce8e7-7d3e-439d-ff90-3d964749b572"
      },
      "source": [
        "num1 = int(input('Digite o primeiro número inteiro: '))\n",
        "num2 = int(input('Digite o segundo número inteiro: '))\n",
        "num3 = int(input('Digite o terceiro número inteiro: '))\n",
        "print(f'A soma total dos três números é: {num1+num2+num3}')"
      ],
      "execution_count": 26,
      "outputs": [
        {
          "output_type": "stream",
          "text": [
            "Digite o primeiro número inteiro: 1\n",
            "Digite o segundo número inteiro: 2\n",
            "Digite o terceiro número inteiro: 3\n",
            "A soma total dos três números é: 6\n"
          ],
          "name": "stdout"
        }
      ]
    },
    {
      "cell_type": "markdown",
      "metadata": {
        "id": "bpaimsI9sMZ0"
      },
      "source": [
        "# Exercício 5\n",
        "\n",
        "Escreva um programa que solicite duas notas do usuário e apresente a média na tela da seguinte forma:\n",
        "\n",
        "\"A média das notas [nota1] e [nota2] é [média]\""
      ]
    },
    {
      "cell_type": "code",
      "metadata": {
        "colab": {
          "base_uri": "https://localhost:8080/"
        },
        "id": "hOpgh8CnsOws",
        "outputId": "1b39a2a0-0ee7-4abc-a9f5-31730207cea8"
      },
      "source": [
        "note1 = float(input('Digite a primeira nota: \\n'))\n",
        "note2 = float(input('Digite a segunda nota: \\n'))\n",
        "print(f\"A média das notas {note1} e {note2} é {(note1+note2)/2}\")\n"
      ],
      "execution_count": 29,
      "outputs": [
        {
          "output_type": "stream",
          "text": [
            "Digite a primeira nota: \n",
            "12\n",
            "Digite a segunda nota: \n",
            "13\n",
            "A média das notas 12.0 e 13.0 é 12.5\n"
          ],
          "name": "stdout"
        }
      ]
    },
    {
      "cell_type": "markdown",
      "metadata": {
        "id": "4N4EG0Sytacg"
      },
      "source": [
        "# Exercício 6\n",
        "\n",
        "Faça um programa que calcule a raiz quadrada de um número. O usuário deve inserir um número e o programa deve mostrar na tela o resultado da raiz quadrada do número inserido."
      ]
    },
    {
      "cell_type": "code",
      "metadata": {
        "colab": {
          "base_uri": "https://localhost:8080/"
        },
        "id": "IWSYaCh_tcbB",
        "outputId": "d9cb0b5a-ef11-408c-f782-e67252fe530d"
      },
      "source": [
        "import math\n",
        "\n",
        "num = float(input('Digite um número: '))\n",
        "print(f'A raiz quadrada do número {num} é {math.sqrt(num)}')"
      ],
      "execution_count": 34,
      "outputs": [
        {
          "output_type": "stream",
          "text": [
            "Digite um número: 9\n",
            "A raiz quadrada do número 9.0 é 3.0\n"
          ],
          "name": "stdout"
        }
      ]
    },
    {
      "cell_type": "markdown",
      "metadata": {
        "id": "OXw8vJjduLtT"
      },
      "source": [
        "# Exercício 7\n",
        "\n",
        "Faça um programa que peça 5 números de ponto flutuante do usuário e apresente no final a média dos números digitados."
      ]
    },
    {
      "cell_type": "code",
      "metadata": {
        "colab": {
          "base_uri": "https://localhost:8080/"
        },
        "id": "TRgqbKJKuNjB",
        "outputId": "ff088313-249d-4948-b634-e94cf308fc94"
      },
      "source": [
        "def averageCalculation():\n",
        "  total = 0\n",
        "  for n in range(5):\n",
        "    num = float(input(f'Digite o {n+1}º número: '))\n",
        "    total += num\n",
        "  return total/5\n",
        "\n",
        "resultado = averageCalculation()\n",
        "print(resultado)"
      ],
      "execution_count": 39,
      "outputs": [
        {
          "output_type": "stream",
          "text": [
            "Digite o 1º número: 1\n",
            "Digite o 2º número: 2\n",
            "Digite o 3º número: 3\n",
            "Digite o 4º número: 4\n",
            "Digite o 5º número: 5\n",
            "3.0\n"
          ],
          "name": "stdout"
        }
      ]
    },
    {
      "cell_type": "markdown",
      "metadata": {
        "id": "5ZiV5XyjvgdQ"
      },
      "source": [
        "# Exercício 8\n",
        "\n",
        "Escreva um programa que faça a conversão de um dado valor de metro para quilômetro."
      ]
    },
    {
      "cell_type": "code",
      "metadata": {
        "colab": {
          "base_uri": "https://localhost:8080/"
        },
        "id": "AtvQAquZviPb",
        "outputId": "32c96458-dc55-44ad-cf9f-73193765c3e4"
      },
      "source": [
        "meter = float(input('Digite o valor em metro(s): '))\n",
        "print(f'O valor digitado de {meter}[m], pode ser convertido para {meter/1000}[km].')"
      ],
      "execution_count": 40,
      "outputs": [
        {
          "output_type": "stream",
          "text": [
            "Digite o valor em metro(s): 23000\n",
            "O valor digitado 23000.0[m], pode ser convertido para 23.0[km]\n"
          ],
          "name": "stdout"
        }
      ]
    },
    {
      "cell_type": "markdown",
      "metadata": {
        "id": "ySdus83I1oMx"
      },
      "source": [
        "# Exercício 9\n",
        "\n",
        "Escreva um programa que calcule a área de uma circunferência. O usuário deve digitar o valor do raio e ao final o programa deverá mostrar na tela a área da circunferência.\n",
        "\n",
        "Use a fórmula: área=pi*r² , em que pi é uma constante e r o raio da circunferência.\n",
        "\n",
        "Dica: você pode usar a biblioteca math para pegar a constante pi.\n"
      ]
    },
    {
      "cell_type": "code",
      "metadata": {
        "colab": {
          "base_uri": "https://localhost:8080/"
        },
        "id": "gHexWb4-1-EU",
        "outputId": "47aa49ab-3e35-4553-c544-618186df038e"
      },
      "source": [
        "import math\n",
        "\n",
        "raio = float(input('Digite o valor do raio: '))\n",
        "area = math.pi*(raio*raio)\n",
        "print(f'A área da circunferência é de {area}')"
      ],
      "execution_count": 44,
      "outputs": [
        {
          "output_type": "stream",
          "text": [
            "Digite o valor do raio: 4\n",
            "A área da circunferência é de 50.26548245743669\n"
          ],
          "name": "stdout"
        }
      ]
    },
    {
      "cell_type": "code",
      "metadata": {
        "id": "kSZQycyQ4aFL"
      },
      "source": [
        ""
      ],
      "execution_count": null,
      "outputs": []
    },
    {
      "cell_type": "markdown",
      "metadata": {
        "id": "wPfKIEcC3Oiz"
      },
      "source": [
        "# Exercício 10\n",
        "\n",
        "Faça um programa que peça uma temperatura em Fahrenheit (F) e converta esta temperatura para grau Celsius (C), mostrando o resultado da conversão na tela.\n",
        "\n",
        "Use a fórmula: C = 5 * ((F-32) / 9)."
      ]
    },
    {
      "cell_type": "code",
      "metadata": {
        "colab": {
          "base_uri": "https://localhost:8080/"
        },
        "id": "I9DlK29z3RbL",
        "outputId": "03453d14-ebd6-4ba4-952e-fc6543d34735"
      },
      "source": [
        "f = float(input('Digite o valor da temperatura em graus Fahrenheit: '))\n",
        "c = 5*((f-32)/9)\n",
        "print(f'O valor de {f}º Fahrenheit é equivalente ao valor de {c}º Celsius.')"
      ],
      "execution_count": 46,
      "outputs": [
        {
          "output_type": "stream",
          "text": [
            "Digite o valor da temperatura em graus Fahrenheit: 32\n",
            "O valor de 32.0º Fahrenheit é equivalente ao valor de 0.0º Celsius.\n"
          ],
          "name": "stdout"
        }
      ]
    }
  ]
}