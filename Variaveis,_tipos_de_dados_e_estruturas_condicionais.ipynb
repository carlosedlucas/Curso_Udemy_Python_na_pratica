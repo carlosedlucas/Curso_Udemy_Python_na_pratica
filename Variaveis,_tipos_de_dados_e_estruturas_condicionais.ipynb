{
  "nbformat": 4,
  "nbformat_minor": 0,
  "metadata": {
    "colab": {
      "name": "Variaveis, tipos de dados e estruturas condicionais",
      "provenance": [],
      "collapsed_sections": []
    },
    "kernelspec": {
      "name": "python3",
      "display_name": "Python 3"
    },
    "language_info": {
      "name": "python"
    }
  },
  "cells": [
    {
      "cell_type": "markdown",
      "metadata": {
        "id": "zc9Fki9BorO0"
      },
      "source": [
        "# Exercício 1\n",
        "\n",
        "Escreva um programa que mostre a mensagem 'Hello World!' na tela."
      ]
    },
    {
      "cell_type": "code",
      "metadata": {
        "colab": {
          "base_uri": "https://localhost:8080/"
        },
        "id": "q4y_7RMwovvY",
        "outputId": "e0369d5f-a0bc-4a02-c21c-d4a32c641783"
      },
      "source": [
        "print('Hello, World!')"
      ],
      "execution_count": null,
      "outputs": [
        {
          "output_type": "stream",
          "text": [
            "Hello, World!\n"
          ],
          "name": "stdout"
        }
      ]
    },
    {
      "cell_type": "markdown",
      "metadata": {
        "id": "5pGQpHhBo817"
      },
      "source": [
        "# Exercício 2\n",
        "\n",
        "Faça um programa que solicite um número do usuário e apresente a seguinte mensagem na tela:\n",
        "\n",
        "\"O número digitado foi [número]\"."
      ]
    },
    {
      "cell_type": "code",
      "metadata": {
        "colab": {
          "base_uri": "https://localhost:8080/"
        },
        "id": "iesSJATpo_g2",
        "outputId": "2cb32733-de89-4fd1-c244-abe998e1de78"
      },
      "source": [
        "number = float((input('Digite um número: ')))\n",
        "print(f'O número digitado foi: {number}')"
      ],
      "execution_count": null,
      "outputs": [
        {
          "output_type": "stream",
          "text": [
            "Digite um número: 12\n",
            "O número digitado foi: 12.0\n"
          ],
          "name": "stdout"
        }
      ]
    },
    {
      "cell_type": "markdown",
      "metadata": {
        "id": "l97do26Cp9Ey"
      },
      "source": [
        "# Exercício 3\n",
        "\n",
        "Escreva um programa que solicite o nome e o sobrenome do usuário. Ao final o programa deverá apresentar o nome completo do usuário na tela."
      ]
    },
    {
      "cell_type": "code",
      "metadata": {
        "colab": {
          "base_uri": "https://localhost:8080/"
        },
        "id": "0B7prIF4p_Df",
        "outputId": "515527b1-6ef5-41d9-fd92-dc3d34858c34"
      },
      "source": [
        "nome = input('Escreva seu nome: ').strip().title()\n",
        "sobrenome = input('Escreva seu sobrenome: ').strip().title()\n",
        "print(f'Seu nome completo é {nome} {sobrenome}')"
      ],
      "execution_count": null,
      "outputs": [
        {
          "output_type": "stream",
          "text": [
            "Escreva seu nome: carlos eduardo   \n",
            "Escreva seu sobrenome:    lucas\n",
            "Seu nome completo é Carlos Eduardo Lucas\n"
          ],
          "name": "stdout"
        }
      ]
    },
    {
      "cell_type": "markdown",
      "metadata": {
        "id": "N19M2mgPrWel"
      },
      "source": [
        "# Exercício 4\n",
        "\n",
        "Faça um programa que solicite três números inteiros do usuário e imprima a soma destes.\n",
        "\n"
      ]
    },
    {
      "cell_type": "code",
      "metadata": {
        "colab": {
          "base_uri": "https://localhost:8080/"
        },
        "id": "8gkZF5dWrbVT",
        "outputId": "ab5ce8e7-7d3e-439d-ff90-3d964749b572"
      },
      "source": [
        "num1 = int(input('Digite o primeiro número inteiro: '))\n",
        "num2 = int(input('Digite o segundo número inteiro: '))\n",
        "num3 = int(input('Digite o terceiro número inteiro: '))\n",
        "print(f'A soma total dos três números é: {num1+num2+num3}')"
      ],
      "execution_count": null,
      "outputs": [
        {
          "output_type": "stream",
          "text": [
            "Digite o primeiro número inteiro: 1\n",
            "Digite o segundo número inteiro: 2\n",
            "Digite o terceiro número inteiro: 3\n",
            "A soma total dos três números é: 6\n"
          ],
          "name": "stdout"
        }
      ]
    },
    {
      "cell_type": "markdown",
      "metadata": {
        "id": "bpaimsI9sMZ0"
      },
      "source": [
        "# Exercício 5\n",
        "\n",
        "Escreva um programa que solicite duas notas do usuário e apresente a média na tela da seguinte forma:\n",
        "\n",
        "\"A média das notas [nota1] e [nota2] é [média]\""
      ]
    },
    {
      "cell_type": "code",
      "metadata": {
        "colab": {
          "base_uri": "https://localhost:8080/"
        },
        "id": "hOpgh8CnsOws",
        "outputId": "1b39a2a0-0ee7-4abc-a9f5-31730207cea8"
      },
      "source": [
        "note1 = float(input('Digite a primeira nota: \\n'))\n",
        "note2 = float(input('Digite a segunda nota: \\n'))\n",
        "print(f\"A média das notas {note1} e {note2} é {(note1+note2)/2}\")\n"
      ],
      "execution_count": null,
      "outputs": [
        {
          "output_type": "stream",
          "text": [
            "Digite a primeira nota: \n",
            "12\n",
            "Digite a segunda nota: \n",
            "13\n",
            "A média das notas 12.0 e 13.0 é 12.5\n"
          ],
          "name": "stdout"
        }
      ]
    },
    {
      "cell_type": "markdown",
      "metadata": {
        "id": "4N4EG0Sytacg"
      },
      "source": [
        "# Exercício 6\n",
        "\n",
        "Faça um programa que calcule a raiz quadrada de um número. O usuário deve inserir um número e o programa deve mostrar na tela o resultado da raiz quadrada do número inserido."
      ]
    },
    {
      "cell_type": "code",
      "metadata": {
        "colab": {
          "base_uri": "https://localhost:8080/"
        },
        "id": "IWSYaCh_tcbB",
        "outputId": "d9cb0b5a-ef11-408c-f782-e67252fe530d"
      },
      "source": [
        "import math\n",
        "\n",
        "num = float(input('Digite um número: '))\n",
        "print(f'A raiz quadrada do número {num} é {math.sqrt(num)}')"
      ],
      "execution_count": null,
      "outputs": [
        {
          "output_type": "stream",
          "text": [
            "Digite um número: 9\n",
            "A raiz quadrada do número 9.0 é 3.0\n"
          ],
          "name": "stdout"
        }
      ]
    },
    {
      "cell_type": "markdown",
      "metadata": {
        "id": "OXw8vJjduLtT"
      },
      "source": [
        "# Exercício 7\n",
        "\n",
        "Faça um programa que peça 5 números de ponto flutuante do usuário e apresente no final a média dos números digitados."
      ]
    },
    {
      "cell_type": "code",
      "metadata": {
        "colab": {
          "base_uri": "https://localhost:8080/"
        },
        "id": "TRgqbKJKuNjB",
        "outputId": "ff088313-249d-4948-b634-e94cf308fc94"
      },
      "source": [
        "def averageCalculation():\n",
        "  total = 0\n",
        "  for n in range(5):\n",
        "    num = float(input(f'Digite o {n+1}º número: '))\n",
        "    total += num\n",
        "  return total/5\n",
        "\n",
        "resultado = averageCalculation()\n",
        "print(resultado)"
      ],
      "execution_count": null,
      "outputs": [
        {
          "output_type": "stream",
          "text": [
            "Digite o 1º número: 1\n",
            "Digite o 2º número: 2\n",
            "Digite o 3º número: 3\n",
            "Digite o 4º número: 4\n",
            "Digite o 5º número: 5\n",
            "3.0\n"
          ],
          "name": "stdout"
        }
      ]
    },
    {
      "cell_type": "markdown",
      "metadata": {
        "id": "5ZiV5XyjvgdQ"
      },
      "source": [
        "# Exercício 8\n",
        "\n",
        "Escreva um programa que faça a conversão de um dado valor de metro para quilômetro."
      ]
    },
    {
      "cell_type": "code",
      "metadata": {
        "colab": {
          "base_uri": "https://localhost:8080/"
        },
        "id": "AtvQAquZviPb",
        "outputId": "32c96458-dc55-44ad-cf9f-73193765c3e4"
      },
      "source": [
        "meter = float(input('Digite o valor em metro(s): '))\n",
        "print(f'O valor digitado de {meter}[m], pode ser convertido para {meter/1000}[km].')"
      ],
      "execution_count": null,
      "outputs": [
        {
          "output_type": "stream",
          "text": [
            "Digite o valor em metro(s): 23000\n",
            "O valor digitado 23000.0[m], pode ser convertido para 23.0[km]\n"
          ],
          "name": "stdout"
        }
      ]
    },
    {
      "cell_type": "markdown",
      "metadata": {
        "id": "ySdus83I1oMx"
      },
      "source": [
        "# Exercício 9\n",
        "\n",
        "Escreva um programa que calcule a área de uma circunferência. O usuário deve digitar o valor do raio e ao final o programa deverá mostrar na tela a área da circunferência.\n",
        "\n",
        "Use a fórmula: área=pi*r² , em que pi é uma constante e r o raio da circunferência.\n",
        "\n",
        "Dica: você pode usar a biblioteca math para pegar a constante pi.\n"
      ]
    },
    {
      "cell_type": "code",
      "metadata": {
        "colab": {
          "base_uri": "https://localhost:8080/"
        },
        "id": "gHexWb4-1-EU",
        "outputId": "47aa49ab-3e35-4553-c544-618186df038e"
      },
      "source": [
        "import math\n",
        "\n",
        "raio = float(input('Digite o valor do raio: '))\n",
        "area = math.pi*(raio*raio)\n",
        "print(f'A área da circunferência é de {area}')"
      ],
      "execution_count": null,
      "outputs": [
        {
          "output_type": "stream",
          "text": [
            "Digite o valor do raio: 4\n",
            "A área da circunferência é de 50.26548245743669\n"
          ],
          "name": "stdout"
        }
      ]
    },
    {
      "cell_type": "code",
      "metadata": {
        "id": "kSZQycyQ4aFL"
      },
      "source": [
        ""
      ],
      "execution_count": null,
      "outputs": []
    },
    {
      "cell_type": "markdown",
      "metadata": {
        "id": "wPfKIEcC3Oiz"
      },
      "source": [
        "# Exercício 10\n",
        "\n",
        "Faça um programa que peça uma temperatura em Fahrenheit (F) e converta esta temperatura para grau Celsius (C), mostrando o resultado da conversão na tela.\n",
        "\n",
        "Use a fórmula: C = 5 * ((F-32) / 9)."
      ]
    },
    {
      "cell_type": "code",
      "metadata": {
        "colab": {
          "base_uri": "https://localhost:8080/"
        },
        "id": "I9DlK29z3RbL",
        "outputId": "03453d14-ebd6-4ba4-952e-fc6543d34735"
      },
      "source": [
        "f = float(input('Digite o valor da temperatura em graus Fahrenheit: '))\n",
        "c = 5*((f-32)/9)\n",
        "print(f'O valor de {f}º Fahrenheit é equivalente ao valor de {c}º Celsius.')"
      ],
      "execution_count": null,
      "outputs": [
        {
          "output_type": "stream",
          "text": [
            "Digite o valor da temperatura em graus Fahrenheit: 32\n",
            "O valor de 32.0º Fahrenheit é equivalente ao valor de 0.0º Celsius.\n"
          ],
          "name": "stdout"
        }
      ]
    },
    {
      "cell_type": "markdown",
      "metadata": {
        "id": "9Yq54QPnmGI5"
      },
      "source": [
        "# Exercício 11\n",
        "\n",
        "Escreva um programa que peça dois números e apresente a divisão e multiplicação entre eles. A tela de apresentação deverá seguir o seguinte formato:\n",
        "\n",
        "```\n",
        "\"[número1]x[número2]=[multiplicação]\"\n",
        "\n",
        "\"[número1]/[número2]=[divisão]\"\n",
        "```"
      ]
    },
    {
      "cell_type": "code",
      "metadata": {
        "colab": {
          "base_uri": "https://localhost:8080/"
        },
        "id": "B5UDSMRnmKRW",
        "outputId": "73db9378-8439-407d-da8d-f7542b42e339"
      },
      "source": [
        "num1 = float(input('Digite o primeiro número: '))\n",
        "num2 = float(input('Digite o segundo número: '))\n",
        "\n",
        "multi = num1*num2\n",
        "divi = num1/num2\n",
        "\n",
        "print(f'\\n {num1} x {num2} = {multi} \\n {num1} / {num2} = {divi}')"
      ],
      "execution_count": null,
      "outputs": [
        {
          "output_type": "stream",
          "text": [
            "Digite o primeiro número: 20\n",
            "Digite o segundo número: 10\n",
            "\n",
            " 20.0 x 10.0 = 200.0 \n",
            " 20.0 / 10.0 = 2.0\n"
          ],
          "name": "stdout"
        }
      ]
    },
    {
      "cell_type": "markdown",
      "metadata": {
        "id": "1D0YrqEYnBfC"
      },
      "source": [
        "# Exercício 12\n",
        "\n",
        "Escreva um programa que receba o nome, sobrenome e idade do usuário e apresente a seguinte mensagem na tela:\n",
        "\n",
        "```\n",
        "\"Seja bem-vindo [nome] [sobrenome].\"\n",
        "\n",
        "\"Você possui [idade] anos de idade.\"\n",
        "```\n",
        "\n",
        "\n",
        "No campo nome e sobrenome utilize os métodos strip() e title(). Lembre-se que o primeiro método permite remover os espaços antes e depois da string, enquanto que o último permite colocar a string no formato titlecased (capitaliza a string)."
      ]
    },
    {
      "cell_type": "code",
      "metadata": {
        "colab": {
          "base_uri": "https://localhost:8080/"
        },
        "id": "nUTFrYSdnJDB",
        "outputId": "60334941-a358-45b2-96e6-930e46c056cf"
      },
      "source": [
        "name = input('Digite o seu nome: ').strip().title()\n",
        "lastName = input('Digite o seu sobrenome: ').strip().title()\n",
        "age = int(input('Digite a sua idade: '))\n",
        "\n",
        "print(f'\\n Seja bem-vindo {name} {lastName}. \\n Você possui {age} anos de idade.')"
      ],
      "execution_count": null,
      "outputs": [
        {
          "output_type": "stream",
          "text": [
            "Digite o seu nome: carlos\n",
            "Digite o seu sobrenome: eduardo Lucas\n",
            "Digite a sua idade: 29\n",
            "\n",
            " Seja bem-vindo Carlos Eduardo Lucas. \n",
            " Você possui 29 anos de idade.\n"
          ],
          "name": "stdout"
        }
      ]
    },
    {
      "cell_type": "markdown",
      "metadata": {
        "id": "XPNfTyv8oLNU"
      },
      "source": [
        "# Exercício 13\n",
        "\n",
        "Escreva um programa que peça um número do usuário via método input e converta esse número para o formato float."
      ]
    },
    {
      "cell_type": "code",
      "metadata": {
        "colab": {
          "base_uri": "https://localhost:8080/"
        },
        "id": "Ahkd-dBpoNGN",
        "outputId": "1ab67964-ab5d-45ff-b1fd-56157671fa08"
      },
      "source": [
        "print(float(input('Digite um número: ')))"
      ],
      "execution_count": null,
      "outputs": [
        {
          "output_type": "stream",
          "text": [
            "Digite um número: 20\n",
            "20.0\n"
          ],
          "name": "stdout"
        }
      ]
    },
    {
      "cell_type": "markdown",
      "metadata": {
        "id": "ogK4PQpmocns"
      },
      "source": [
        "# Exercício 14\n",
        "\n",
        "Escreva um programa que peça o nome e a idade do usuário. Caso a idade do usuário seja maior ou igual a 18 anos apresente a seguinte mensagem: \n",
        "\n",
        "```\n",
        "\"Seja bem-vindo ao nosso site [nome]!\"; \n",
        "caso contrário, apresente a seguinte mensagem: \n",
        "\"Você não pode acessar nosso site [nome].\".\n",
        "```"
      ]
    },
    {
      "cell_type": "code",
      "metadata": {
        "colab": {
          "base_uri": "https://localhost:8080/"
        },
        "id": "Y4FV9tWEolbe",
        "outputId": "aee373c0-ea68-4034-dfdb-0e62608bcdc6"
      },
      "source": [
        "name = input('Digite seu nome: ').strip().title()\n",
        "age = int(input('Digite sua idade: '))\n",
        "\n",
        "if age >=18:\n",
        "  print(f'\\n Seja bem-vindo ao nosso site {name}')\n",
        "else:\n",
        "  print(f'\\n Você não pode acessar nosso site {name}')"
      ],
      "execution_count": null,
      "outputs": [
        {
          "output_type": "stream",
          "text": [
            "Digite seu nome: carlos e\n",
            "Digite sua idade: 17\n",
            "\n",
            " Você não pode acessar nosso site Carlos E\n"
          ],
          "name": "stdout"
        }
      ]
    },
    {
      "cell_type": "markdown",
      "metadata": {
        "id": "n2qGkyCEpP-g"
      },
      "source": [
        "# Exercício 15\n",
        "\n",
        "Elabore um programa para calcular a hipotenusa de um triângulo.\n",
        "\n",
        "Dicas:\n",
        "\n",
        "Veja o módulo math (math.hypot);\n",
        "\n",
        "Utilize a seguinte fórmula: hipotenusa=(a²+b²)¹/2:"
      ]
    },
    {
      "cell_type": "code",
      "metadata": {
        "colab": {
          "base_uri": "https://localhost:8080/"
        },
        "id": "CkQKZ08-pTkT",
        "outputId": "144f8de1-284b-406f-833e-a464a9f6cf59"
      },
      "source": [
        "import math\n",
        "\n",
        "x = float(input('Digite o valor do cateto oposto: '))\n",
        "y = float(input('Digite o valor do cateto adjacente: '))\n",
        "\n",
        "print(f'\\n O valor da hipotenusa é: {math.hypot(x, y)}')"
      ],
      "execution_count": null,
      "outputs": [
        {
          "output_type": "stream",
          "text": [
            "Digite o valor do cateto oposto: 3\n",
            "Digite o valor do cateto adjacente: 4\n",
            "\n",
            " O valor da hipotenusa é: 5.0\n"
          ],
          "name": "stdout"
        }
      ]
    },
    {
      "cell_type": "markdown",
      "metadata": {
        "id": "AP18_PcHqpSA"
      },
      "source": [
        "# Exercício 16\n",
        "\n",
        "Faça um programa que recebe um número inteiro do usuário e calcule o fatorial deste número.\n",
        "\n",
        "Dica: utilize o módulo math do Python, especificamente math.fatorial."
      ]
    },
    {
      "cell_type": "code",
      "metadata": {
        "colab": {
          "base_uri": "https://localhost:8080/"
        },
        "id": "ODytWfKVq3Mc",
        "outputId": "e7f4a59e-b8b6-4f80-fe63-39690a5ed6fb"
      },
      "source": [
        "factorial = int(input('Digite um número inteiro: '))\n",
        "\n",
        "print(f'\\n O valor do fatorial é: {math.factorial(factorial)}')\n"
      ],
      "execution_count": null,
      "outputs": [
        {
          "output_type": "stream",
          "text": [
            "Digite um número inteiro: 10\n",
            "\n",
            " O valor do fatorial é: 3628800\n"
          ],
          "name": "stdout"
        }
      ]
    },
    {
      "cell_type": "markdown",
      "metadata": {
        "id": "MLyQ1clVrdJ0"
      },
      "source": [
        "# Exercício 17\n",
        "\n",
        "Escreva um programa que peça um número do usuário e calcule o logaritmo deste número nas bases 10 e 2.\n",
        "\n",
        "Dica: utilize o módulo math."
      ]
    },
    {
      "cell_type": "code",
      "metadata": {
        "colab": {
          "base_uri": "https://localhost:8080/"
        },
        "id": "WHc4Gx__rfqi",
        "outputId": "e83d7781-a982-4017-8ef9-621c151dedbb"
      },
      "source": [
        "log = float(input('Digite um número: '))\n",
        "\n",
        "print(f'Log de base 2: {math.log(log,2)}')\n",
        "print(f'Log de base 10: {math.log(log,10)}')"
      ],
      "execution_count": null,
      "outputs": [
        {
          "output_type": "stream",
          "text": [
            "Digite um número: 10\n",
            "Log de base 2: 3.3219280948873626\n",
            "Log de base 10: 1.0\n"
          ],
          "name": "stdout"
        }
      ]
    },
    {
      "cell_type": "markdown",
      "metadata": {
        "id": "_KZubvNLtjcS"
      },
      "source": [
        "# Exercício 18\n",
        "\n",
        "Faça um programa que peça a base e a altura de um triângulo e calcule e mostre na tela a área e o perímetro."
      ]
    },
    {
      "cell_type": "code",
      "metadata": {
        "colab": {
          "base_uri": "https://localhost:8080/"
        },
        "id": "3a6XAQbqtmnY",
        "outputId": "d60d02dc-acf9-431b-d7f8-133908c93b86"
      },
      "source": [
        "base = float(input('Digite o valor da base do triângulo: '))\n",
        "altura = float(input('Digite o valor da altura do triângulo: '))\n",
        "side1 = float(input('Digite o valor do primeiro dos lados do triângulo: '))\n",
        "side2 = float(input('Digite o valor do segundo dos lados do triângulo: '))\n",
        "\n",
        "print(f'\\n O valor da área do triângulo é de: {(base*altura)/2} \\n O valor do perímetro do triângulo é de: {base+side1+side2}')\n",
        "\n"
      ],
      "execution_count": null,
      "outputs": [
        {
          "output_type": "stream",
          "text": [
            "Digite o valor da base do triângulo: 10\n",
            "Digite o valor da altura do triângulo: 3\n",
            "\n",
            " O valor da área do triângulo é de: 15.0 \n",
            " O valor do perímetro do triângulo é de: 26.0\n"
          ],
          "name": "stdout"
        }
      ]
    },
    {
      "cell_type": "markdown",
      "metadata": {
        "id": "liU4iSi3zz8d"
      },
      "source": [
        "# Exercício 19\n",
        "\n",
        "Escreva um programa que solicite o nome, o sobrenome e o salário atual de um funcionário. Ao fim, calcule seu novo salário considerando cenários hipotéticos, com os seguintes aumentos: 10%, 25%,30% e 50%. A mensagem na tela deverá seguir o seguinte padrão:\n",
        "\n",
        "```\n",
        "\"Olá, [nome] [sobrenome]\"\n",
        "\n",
        "\"Seu salário atual é : [salário]\"\n",
        "\n",
        "\"Seu salário com 10% de aumento é: [salário]\"\n",
        "\n",
        "\"Seu salário com 25% de aumento é: [salário]\"\n",
        "\n",
        "\"Seu salário com 30% de aumento é: [salário]\"\n",
        "\n",
        "\"Seu salário com 50% de aumento é: [salário]\"\n",
        "```\n",
        "\n",
        "No campo nome e sobrenome utilize os métodos strip() e title(). Lembre-se que o primeiro método permite remover os espaços antes e após a string, enquanto que o último permite colocar a string no formato titlecased (capitaliza string)."
      ]
    },
    {
      "cell_type": "code",
      "metadata": {
        "colab": {
          "base_uri": "https://localhost:8080/"
        },
        "id": "eg-NLFfIz5gc",
        "outputId": "ca15de13-ed8c-46cc-b324-e9cfcc29e611"
      },
      "source": [
        "name = input('Digite seu nome: ').strip().title()\n",
        "lastName = input('Digite seu sobrenome: ').strip().title()\n",
        "salary = float(input('Digite seu salário atual: '))\n",
        "\n",
        "print(f'\\n Olá, {name} {lastName}')\n",
        "print(f'Seu salário com 10% de aumento é: {salary*1.1}')\n",
        "print(f'Seu salário com 25% de aumento é: {salary*1.25}')\n",
        "print(f'Seu salário com 30% de aumento é: {salary*1.3}')\n",
        "print(f'Seu salário com 50% de aumento é: {salary*1.5}')\n",
        "\n",
        "\n"
      ],
      "execution_count": null,
      "outputs": [
        {
          "output_type": "stream",
          "text": [
            "Digite seu nome:      carlos\n",
            "Digite seu sobrenome: eduardo lucas    \n",
            "Digite seu salário atual: 1000\n",
            "\n",
            " Olá, Carlos Eduardo Lucas\n",
            "Seu salário com 10% de aumento é: 1100.0\n",
            "Seu salário com 25% de aumento é: 1250.0\n",
            "Seu salário com 30% de aumento é: 1300.0\n",
            "Seu salário com 50% de aumento é: 1500.0\n"
          ],
          "name": "stdout"
        }
      ]
    },
    {
      "cell_type": "markdown",
      "metadata": {
        "id": "xAbvQFAZ1sDp"
      },
      "source": [
        "# Exercício 20\n",
        "\n",
        "Escreva um programa que peça um número inteiro do usuário e calcule e imprima a tabuada deste número."
      ]
    },
    {
      "cell_type": "code",
      "metadata": {
        "colab": {
          "base_uri": "https://localhost:8080/"
        },
        "id": "1uyCcFb41wQO",
        "outputId": "294956a6-57da-4ad5-b5f6-363f84275f57"
      },
      "source": [
        "num = int(input('Digite um número inteiro: '))\n",
        "\n",
        "def tabuada(n):\n",
        "  for j in range(1,11):\n",
        "    print(f'{n}x{j} = {n*j}')\n",
        "\n",
        "tabuada(num)"
      ],
      "execution_count": null,
      "outputs": [
        {
          "output_type": "stream",
          "text": [
            "Digite um número inteiro: 5\n",
            "5x1 = 5\n",
            "5x2 = 10\n",
            "5x3 = 15\n",
            "5x4 = 20\n",
            "5x5 = 25\n",
            "5x6 = 30\n",
            "5x7 = 35\n",
            "5x8 = 40\n",
            "5x9 = 45\n",
            "5x10 = 50\n"
          ],
          "name": "stdout"
        }
      ]
    },
    {
      "cell_type": "markdown",
      "metadata": {
        "id": "o6FqWPCK2nlu"
      },
      "source": [
        "# Exercício 21\n",
        "\n",
        "Faça um programa que solicite um número inteiro e mostre o seu valor absoluto.\n",
        "\n",
        "Dica: use a função built-in abs()."
      ]
    },
    {
      "cell_type": "code",
      "metadata": {
        "colab": {
          "base_uri": "https://localhost:8080/"
        },
        "id": "dYzeNe7M2rPz",
        "outputId": "1557369b-8cec-4b7e-9af8-6bbfbc8a26ce"
      },
      "source": [
        "num = int(input('Digite um número inteiro: '))\n",
        "print(f'O valor absoluto de {num} é: {abs(num)}')"
      ],
      "execution_count": null,
      "outputs": [
        {
          "output_type": "stream",
          "text": [
            "Digite um número inteiro: -10\n",
            "O valor absoluto de -10 é: 10\n"
          ],
          "name": "stdout"
        }
      ]
    },
    {
      "cell_type": "markdown",
      "metadata": {
        "id": "xGJNrYJi3M3k"
      },
      "source": [
        "# Exercício 22\n",
        "\n",
        "Faça um programa que peça uma string ao usuário e mostre na tela a quantidade de caracteres.\n",
        "\n",
        "Dica: use a função built-in len() e trate a string com o método strip().\n",
        "\n",
        "\n",
        "\n"
      ]
    },
    {
      "cell_type": "code",
      "metadata": {
        "colab": {
          "base_uri": "https://localhost:8080/"
        },
        "id": "y0eRbBqE3g8q",
        "outputId": "4f432f04-d3df-4409-9973-c856a5b08e2c"
      },
      "source": [
        "caracter = input('Digite uma palavra: ').strip()\n",
        "print(f'A palavra {caracter} tem {len(caracter)} letras')"
      ],
      "execution_count": null,
      "outputs": [
        {
          "output_type": "stream",
          "text": [
            "Digite uma palavra:       teste\n",
            "A palavra teste tem 5 letras\n"
          ],
          "name": "stdout"
        }
      ]
    },
    {
      "cell_type": "markdown",
      "metadata": {
        "id": "I3A8A6sq34o2"
      },
      "source": [
        "# Exercício 23\n",
        "\n",
        "Escreva um programa que peça um número inteiro do usuário e mostre se esse número é par ou ímpar. A mensagem na tela deverá seguir o seguinte formato:\n",
        "\n",
        "\"O número [número] é [par/ímpar]\""
      ]
    },
    {
      "cell_type": "code",
      "metadata": {
        "colab": {
          "base_uri": "https://localhost:8080/"
        },
        "id": "rnfAkh7o4A0b",
        "outputId": "920a47f5-84d6-4714-b0a4-664e60d28c72"
      },
      "source": [
        "n = int(input('Digite um número inteiro: '))\n",
        "\n",
        "if n%2==0:\n",
        "  print(f'O número {n} é par')\n",
        "else:\n",
        "  print(f'O número {n} é ímpar')"
      ],
      "execution_count": null,
      "outputs": [
        {
          "output_type": "stream",
          "text": [
            "Digite um número inteiro: 5\n",
            "O número 5 é ímpar\n"
          ],
          "name": "stdout"
        }
      ]
    },
    {
      "cell_type": "markdown",
      "metadata": {
        "id": "tVS9nThD5APk"
      },
      "source": [
        "# Exercício 24\n",
        "\n",
        "O Índice de Massa Corporal (IMC) é utilizado para mensurar o peso ideal de uma pessoa. Escreva um programa que peça o nome, a idade , o peso e a altura do usuário. Ao final calcule e mostre o resultado do seu IMC e classifique este resultado de acordo com a regra a seguir.\n",
        "\n",
        "```\n",
        "IMC<17 - Muito abaixo do peso ideal\n",
        "\n",
        "17<=IMC<18,5 - Abaixo do peso\n",
        "\n",
        "18,5<=IMC<25 - Peso normal\n",
        "\n",
        "25<=IMC<30 - Acima do peso\n",
        "\n",
        "30<=IMC<35 - Obesidade I\n",
        "\n",
        "35<=IMC<40 - Obesidade II (severa)\n",
        "\n",
        "IMC>=40 - Obesidade III (mórbida)\n",
        "```\n",
        "\n",
        "\n",
        "Lembre que: IMC=massa/(altura*altura)"
      ]
    },
    {
      "cell_type": "code",
      "metadata": {
        "colab": {
          "base_uri": "https://localhost:8080/"
        },
        "id": "n0PbVFPx5GtI",
        "outputId": "b19ee066-ccc3-4240-ac5d-5f2e66a0d408"
      },
      "source": [
        "name = input('Digite o seu nome: ').strip().title()\n",
        "age = int(input('Digite a sua idade: '))\n",
        "kg = float(input('Digite o seu peso em kg: '))\n",
        "heigth = float(input('Digite a sua altura em metros: '))\n",
        "\n",
        "imc = kg/(heigth*heigth)\n",
        "\n",
        "if imc < 17:\n",
        "  print(f'{name}, vai morê! Você está com {age} anos, seu imc tem o valor de {imc} e você está muito abaixo do seu peso ideal')\n",
        "elif imc < 18.5:\n",
        "  print(f'{name}, tá quase batendo as botas! Você está com {age} anos, seu imc tem o valor de {imc} e você está abaixo do seu peso ideal')\n",
        "elif imc < 25:\n",
        "  print(f'{name}, parabéns! Você está com {age} anos, seu imc tem o valor de {imc} e você está com o peso ideal!')\n",
        "elif imc < 30:\n",
        "  print(f'{name}, vish! Você está com {age} anos, seu imc tem o valor de {imc} e você está acima do peso!')\n",
        "elif imc < 35:\n",
        "  print(f'{name}, se cuida! Você está com {age} anos, seu imc tem o valor de {imc} e você está com obesidade I')\n",
        "elif imc < 40:\n",
        "  print(f'{name}, vai dar ruim! Você está com {age} anos, seu imc tem o valor de {imc} e você está com obesidade II')\n",
        "else: \n",
        "  print(f'{name}, chama o meme do caixão! Você está com {age} anos, seu imc tem o valor de {imc} e você está com obesidade III')"
      ],
      "execution_count": null,
      "outputs": [
        {
          "output_type": "stream",
          "text": [
            "Digite o seu nome:              carlos\n",
            "Digite a sua idade: 29\n",
            "Digite o seu peso em kg: 100\n",
            "Digite a sua altura em metros: 1.83\n",
            "Carlos, vish! Você está com 29 anos, seu imc tem o valor de 29.860551225775623 e você está acima do peso!\n"
          ],
          "name": "stdout"
        }
      ]
    },
    {
      "cell_type": "markdown",
      "metadata": {
        "id": "o8gR5pXG-Zce"
      },
      "source": [
        "# Exercício 25\n",
        "\n",
        "Escreva um programa que receba dois números de ponto flutuante e mostre na tela o maior número digitado. Considere a possibilidade de o usuário digitar dois números iguais."
      ]
    },
    {
      "cell_type": "code",
      "metadata": {
        "colab": {
          "base_uri": "https://localhost:8080/"
        },
        "id": "ZdTeq_Kv-b99",
        "outputId": "b761f2ff-e7ed-43d0-fd5c-7f91fed46d6b"
      },
      "source": [
        "n1 = float(input('Digite o primeiro número: '))\n",
        "n2 = float(input('Digite o segundo número: '))\n",
        "\n",
        "if n1==n2:\n",
        "  print('Os números digitados são iguais!')\n",
        "elif n1>n2:\n",
        "  print(f'O primeiro número digitado ({n1}) é maior que o segundo número digitado ({n2})')\n",
        "else:\n",
        "  print(f'O segundo número digitado ({n2}) é maior que o primeiro número digitado ({n1})')"
      ],
      "execution_count": null,
      "outputs": [
        {
          "output_type": "stream",
          "text": [
            "Digite o primeiro número: 2.124\n",
            "Digite o segundo número: 2.1\n",
            "O primeiro número digitado (2.124) é maior que o segundo número digitado (2.1)\n"
          ],
          "name": "stdout"
        }
      ]
    },
    {
      "cell_type": "markdown",
      "metadata": {
        "id": "oOlHvd60_8tQ"
      },
      "source": [
        "# Exercício 26\n",
        "\n",
        "Escreva um programa que verifique se um determinado número digitado pelo usuário é nulo, positivo ou negativo."
      ]
    },
    {
      "cell_type": "code",
      "metadata": {
        "colab": {
          "base_uri": "https://localhost:8080/"
        },
        "id": "iZ0KjJoWAA3Y",
        "outputId": "f940d8c7-f759-45c1-f444-fe74332756a3"
      },
      "source": [
        "n = float(input('Digite um número: '))\n",
        "\n",
        "if n == 0:\n",
        "  print(f'O número digitado é zero')\n",
        "elif n > 0:\n",
        "  print(f'O número {n}, é positivo')\n",
        "else:\n",
        "  print(f'O número {n}, é negativo')"
      ],
      "execution_count": null,
      "outputs": [
        {
          "output_type": "stream",
          "text": [
            "Digite um número: 0\n",
            "O número digitado é zero\n"
          ],
          "name": "stdout"
        }
      ]
    },
    {
      "cell_type": "markdown",
      "metadata": {
        "id": "a2cKCSFiBYaY"
      },
      "source": [
        "# Exercício 27\n",
        "\n",
        "Escreva um programa que receba três números do usuário e mostre na tela o maior número digitado."
      ]
    },
    {
      "cell_type": "code",
      "metadata": {
        "colab": {
          "base_uri": "https://localhost:8080/"
        },
        "id": "xU4bJKKPBaX_",
        "outputId": "fa7eba21-45c3-4351-faaa-3b9d5322bc8f"
      },
      "source": [
        "n1 = float(input('Digite o primeiro número: '))\n",
        "n2 = float(input('Digite o segundo número: '))\n",
        "n3 = float(input('Digite o terceiro número: '))\n",
        "\n",
        "if n1 >= n2 and n1 >= n3:\n",
        "  print(f'O número {n1} é o maior número')\n",
        "elif n2 >= n1 and n2 >= n3:\n",
        "  print(f'O número {n2} é o maior número')\n",
        "else:\n",
        "  print(f'O número {n3} é o maior número')\n",
        "\n",
        "  "
      ],
      "execution_count": null,
      "outputs": [
        {
          "output_type": "stream",
          "text": [
            "Digite o primeiro número: 1\n",
            "Digite o segundo número: 1\n",
            "Digite o terceiro número: 2\n",
            "O número 2.0 é o maior número\n"
          ],
          "name": "stdout"
        }
      ]
    },
    {
      "cell_type": "markdown",
      "metadata": {
        "id": "b6PCintGQa2C"
      },
      "source": [
        "# Exercício 28\n",
        "\n",
        "Escreva um programa que gere um número aleatório entre 1 e 100 e mostre na tela.\n",
        "\n",
        "Dica: utilize o módulo random."
      ]
    },
    {
      "cell_type": "code",
      "metadata": {
        "colab": {
          "base_uri": "https://localhost:8080/"
        },
        "id": "wkxKBdcKQdR5",
        "outputId": "2140380a-77ef-476b-ec17-ef03d01d82ab"
      },
      "source": [
        "import random\n",
        "random.seed(5)\n",
        "num = randint(1,100)\n",
        "print(num)"
      ],
      "execution_count": null,
      "outputs": [
        {
          "output_type": "stream",
          "text": [
            "80\n"
          ],
          "name": "stdout"
        }
      ]
    },
    {
      "cell_type": "markdown",
      "metadata": {
        "id": "_rU2C3VUT7uz"
      },
      "source": [
        "# Exercício 29\n",
        "\n",
        "Elabore um progama para verificar se um ano é bissexto ou não. A condição para ser um ano bissexto é: o ano deve ser divisível por 400; ou se for divisível por 4 e não for divisível por 100."
      ]
    },
    {
      "cell_type": "code",
      "metadata": {
        "colab": {
          "base_uri": "https://localhost:8080/"
        },
        "id": "MSisXnhmUF2x",
        "outputId": "33f187c0-425a-411d-ebbe-92045e5d439e"
      },
      "source": [
        "year = int(input('Digite o ano com quatro dígitos: '))\n",
        "rest4 = year%4 \n",
        "rest100 = year%100\n",
        "if rest4 == 0 or (rest4==0 and rest100!=0 ):\n",
        "  print('O ano é bissexto!')\n",
        "else:\n",
        "  print('O ano não é bissexto!')"
      ],
      "execution_count": null,
      "outputs": [
        {
          "output_type": "stream",
          "text": [
            "Digite o ano com quatro dígitos: 2020\n",
            "O ano é bissexto!\n"
          ],
          "name": "stdout"
        }
      ]
    },
    {
      "cell_type": "markdown",
      "metadata": {
        "id": "YuDC8_-EWklV"
      },
      "source": [
        "# Exercício 30\n",
        "\n",
        "Elabore um programa para calcular o tamanho de uma string."
      ]
    },
    {
      "cell_type": "code",
      "metadata": {
        "colab": {
          "base_uri": "https://localhost:8080/"
        },
        "id": "CTofrcS7WmqP",
        "outputId": "4141789b-4402-4f01-e08c-b658e89281ea"
      },
      "source": [
        "x = input('Digite qualquer coisa: ').strip()\n",
        "print(f'O que foi digitado tem {len(x)} dígitos.')"
      ],
      "execution_count": null,
      "outputs": [
        {
          "output_type": "stream",
          "text": [
            "Digite qualquer coisa:    fsefee\n",
            "O que foi digitado tem 6 dígitos.\n"
          ],
          "name": "stdout"
        }
      ]
    },
    {
      "cell_type": "markdown",
      "metadata": {
        "id": "TaRYJIrXXMpt"
      },
      "source": [
        "# Exercício 31\n",
        "\n",
        "Utilize o módulo datetime e mostre na tela a data e hora atual do sistema de acordo com o formato descrito abaixo.\n",
        "\n",
        "12/06/2020 - 14:34:17"
      ]
    },
    {
      "cell_type": "code",
      "metadata": {
        "colab": {
          "base_uri": "https://localhost:8080/"
        },
        "id": "FLgdCYOLXSWV",
        "outputId": "263134b4-34a6-48e4-c20d-de9ec6498734"
      },
      "source": [
        "import datetime\n",
        "\n",
        "data_atual = datetime.datetime.now()\n",
        "\n",
        "print(data_atual.strftime('%d/%m/%Y - %H:%M:%S'))"
      ],
      "execution_count": null,
      "outputs": [
        {
          "output_type": "stream",
          "text": [
            "31/03/2021 - 04:24:21\n"
          ],
          "name": "stdout"
        }
      ]
    },
    {
      "cell_type": "markdown",
      "metadata": {
        "id": "3XOQ2-c2hu4k"
      },
      "source": [
        "# Exercício 32\n",
        "\n",
        "Escreva um programa que inverta uma string. Exemplos:\n",
        "\n",
        "```\n",
        "Hello World!\n",
        "Python\n",
        "!dlroW olleH\n",
        "nohtyP\n",
        "```"
      ]
    },
    {
      "cell_type": "code",
      "metadata": {
        "colab": {
          "base_uri": "https://localhost:8080/"
        },
        "id": "xIq-oWvRh2v1",
        "outputId": "8fdb1657-b988-462c-9e43-0d8b2a7cd5bd"
      },
      "source": [
        "x = input('Digite uma palavra: ').strip()\n",
        "print(x[::-1])"
      ],
      "execution_count": null,
      "outputs": [
        {
          "output_type": "stream",
          "text": [
            "Digite uma palavra: Hello World!\n",
            "!dlroW olleH\n"
          ],
          "name": "stdout"
        }
      ]
    },
    {
      "cell_type": "markdown",
      "metadata": {
        "id": "brgTiFnOR0yJ"
      },
      "source": [
        "# Exercício 33\n",
        "\n",
        "Escreva um programa para mostrar na tela o calendário do mês de dezembro de 2020. Exemplo:\n",
        "\n",
        "```\n",
        "   December 2020\n",
        "Mo Tu We Th Fr Sa Su\n",
        "    1  2  3  4  5  6\n",
        " 7  8  9 10 11 12 13\n",
        "14 15 16 17 18 19 20\n",
        "21 22 23 24 25 26 27\n",
        "28 29 30 31\n",
        "```\n",
        "\n",
        "Dica: importe o módulo calendar."
      ]
    },
    {
      "cell_type": "code",
      "metadata": {
        "colab": {
          "base_uri": "https://localhost:8080/"
        },
        "id": "TdKZolpuR6O3",
        "outputId": "0ea0aabf-aaf4-4b58-eb94-26bb8601008a"
      },
      "source": [
        "import calendar\n",
        "print(calendar.month(2020,12))"
      ],
      "execution_count": 9,
      "outputs": [
        {
          "output_type": "stream",
          "text": [
            "   December 2020\n",
            "Mo Tu We Th Fr Sa Su\n",
            "    1  2  3  4  5  6\n",
            " 7  8  9 10 11 12 13\n",
            "14 15 16 17 18 19 20\n",
            "21 22 23 24 25 26 27\n",
            "28 29 30 31\n",
            "\n"
          ],
          "name": "stdout"
        }
      ]
    },
    {
      "cell_type": "markdown",
      "metadata": {
        "id": "HvB89Mg-TcFb"
      },
      "source": [
        "# Exercício 34\n",
        "\n",
        "Modifique o programa anterior e permita que o usuário especifique o ano e o mês a serem mostrados na tela."
      ]
    },
    {
      "cell_type": "code",
      "metadata": {
        "colab": {
          "base_uri": "https://localhost:8080/"
        },
        "id": "upnafDx7TeCL",
        "outputId": "0de2f035-63e8-4c95-de79-e86c77b0ec63"
      },
      "source": [
        "x = int(input('Digite o ano com 4 dígitos: '))\n",
        "y = int(input('Digite o número do mês escolhido: '))\n",
        "\n",
        "print(f'\\n {calendar.month(x,y)}')"
      ],
      "execution_count": 12,
      "outputs": [
        {
          "output_type": "stream",
          "text": [
            "Digite o ano com 4 dígitos: 1991\n",
            "Digite o número do mês escolhido: 04\n",
            "\n",
            "      April 1991\n",
            "Mo Tu We Th Fr Sa Su\n",
            " 1  2  3  4  5  6  7\n",
            " 8  9 10 11 12 13 14\n",
            "15 16 17 18 19 20 21\n",
            "22 23 24 25 26 27 28\n",
            "29 30\n",
            "\n"
          ],
          "name": "stdout"
        }
      ]
    },
    {
      "cell_type": "markdown",
      "metadata": {
        "id": "AiAwkLafUIjr"
      },
      "source": [
        "# Exercício 35\n",
        "\n",
        "Escreva um script que mostre na tela o preço de um produto associado a uma categoria especificada pelo usuário.  Utilize como referência as informações a seguir. Caso o usuário não digite uma categoria válida (número entre 1 e 10) mostre na tela uma mensagem personalizada.\n",
        "\n",
        "```\n",
        "Exemplo: preço x categoria\n",
        "* Categoria 1 - $ 0,5 \n",
        "* Categoria 2 - $ 11,3\n",
        "* Categoria 3 - $ 17,5\n",
        "* Categoria 4 - $ 33,97\n",
        "* Categoria 5 - $ 103,47\n",
        "* Categoria 6 - $ 44,67\n",
        "* Categoria 7 - $ 12,55\n",
        "* Categoria 8 - $ 14,87\n",
        "* Categoria 9 - $ 98,12\n",
        "* Categoria 10 - $ 131,4\n",
        "```"
      ]
    },
    {
      "cell_type": "code",
      "metadata": {
        "colab": {
          "base_uri": "https://localhost:8080/"
        },
        "id": "_LdWIlYzUS3k",
        "outputId": "7da91321-90a1-45b4-dca9-5722edd2cb52"
      },
      "source": [
        "def mensagem(num):\n",
        "  if (1 <= num <= 10):\n",
        "    if num==1:\n",
        "      print('Categoria 1 - $ 0,5')\n",
        "    elif num==2:\n",
        "      print('Categoria 2 - $ 11,3')\n",
        "    elif num==3:\n",
        "      print('Categoria 3 - $ 17,5')\n",
        "    elif num==4:\n",
        "      print('Categoria 4 - $ 33,97')\n",
        "    elif num==5:\n",
        "      print('Categoria 5 - $ 103,47')\n",
        "    elif num==6:\n",
        "      print('Categoria 6 - $ 44,67')\n",
        "    elif num==7:\n",
        "      print('Categoria 7 - $ 12,55')\n",
        "    elif num==8:\n",
        "      print('Categoria 8 - $ 14,87')\n",
        "    elif num==9:\n",
        "      print('Categoria 9 - $ 98,12')\n",
        "    else:\n",
        "      print('Categoria 10 - $ 131,4')\n",
        "  else:\n",
        "    print('\\n Número de categoria inválido! \\n')\n",
        "    mensagem(int(input('Digite um número inteiro entre 1 e 10: ')))\n",
        "\n",
        "mensagem(int(input('Digite um número inteiro entre 1 e 10: ')))"
      ],
      "execution_count": 17,
      "outputs": [
        {
          "output_type": "stream",
          "text": [
            "Digite um número inteiro entre 1 e 10: 50\n",
            "\n",
            " Número de categoria inválido! \n",
            "\n",
            "Digite um número inteiro entre 1 e 10: 3\n",
            "Categoria 3 - $ 17,5\n"
          ],
          "name": "stdout"
        }
      ]
    },
    {
      "cell_type": "markdown",
      "metadata": {
        "id": "Mf0MwY3wWS5m"
      },
      "source": [
        "# Exercício 36\n",
        "\n",
        "Resolva o exercício anterior para as categorias de 1 a 8. Utilize estruturas aninhadas."
      ]
    },
    {
      "cell_type": "code",
      "metadata": {
        "colab": {
          "base_uri": "https://localhost:8080/"
        },
        "id": "ioIKGL1zWnGL",
        "outputId": "4e7125da-8f5a-4c44-8105-5481b3972122"
      },
      "source": [
        "def mensagem(categoria):\n",
        "  if categoria==1:\n",
        "    print('Preço: $ 0.5')\n",
        "  else:\n",
        "    if categoria==2:\n",
        "        print('Preço: $ 11.35')\n",
        "    else:\n",
        "        if categoria==3:\n",
        "            print('Preço: $ 17.5')\n",
        "        else:\n",
        "            if categoria==4:\n",
        "                print('Preço: $ 33.97')\n",
        "            else:\n",
        "                if categoria==5:\n",
        "                    print('Preço: $ 103.47')\n",
        "                else:\n",
        "                    if categoria==6:\n",
        "                        print('Preço: $ 44.67')\n",
        "                    else:\n",
        "                        if categoria==7:\n",
        "                            print('Preço: $ 12.55')\n",
        "                        else:\n",
        "                            if categoria==8:\n",
        "                                print('Preço: $ 14.87')\n",
        "                            else:\n",
        "                              print('\\n Número de categoria inválido! \\n')\n",
        "                              mensagem(int(input('Digite um número inteiro entre 1 e 8: ')))\n",
        "\n",
        "mensagem(int(input('Digite um número inteiro entre 1 e 8: ')))"
      ],
      "execution_count": 22,
      "outputs": [
        {
          "output_type": "stream",
          "text": [
            "Digite um número inteiro entre 1 e 8: 9\n",
            "\n",
            " Número de categoria inválido! \n",
            "\n",
            "Digite um número inteiro entre 1 e 8: 5\n",
            "Preço: $ 103.47\n"
          ],
          "name": "stdout"
        }
      ]
    },
    {
      "cell_type": "markdown",
      "metadata": {
        "id": "8eKYQiQ1XIf_"
      },
      "source": [
        "# Exercício 37\n",
        "\n",
        "Determine se uma letra inserida pelo usuário é uma vogal ou consoante. Armazene as vogais em uma lista e implemente sua solução. Desconsidere a possibilidade de o usuário inserir números ou caracteres especiais."
      ]
    },
    {
      "cell_type": "code",
      "metadata": {
        "colab": {
          "base_uri": "https://localhost:8080/"
        },
        "id": "YreQtGS-XN2B",
        "outputId": "dbc9bf81-fa24-46fd-e5a6-983b84366499"
      },
      "source": [
        "a = input('Digite uma letra: ').lower()\n",
        "vogais=['a','e','i','o','u']\n",
        "\n",
        "if a in vogais:\n",
        "  print('A letra digitada é uma vogal')\n",
        "else:\n",
        "    print('A letra digitada não é uma vogal')"
      ],
      "execution_count": 62,
      "outputs": [
        {
          "output_type": "stream",
          "text": [
            "Digite uma letra: A\n",
            "A letra digitada é uma vogal\n"
          ],
          "name": "stdout"
        }
      ]
    },
    {
      "cell_type": "markdown",
      "metadata": {
        "id": "N7U2cvshZlzi"
      },
      "source": [
        "# Exercício 38\n",
        "\n",
        "Escreva um script para classificar um triângulo de acordo com o tamanho dos seus lados. Considere as seguintes informações:\n",
        "\n",
        "Triângulo equilátero: todos os lados possuem o mesmo tamanho;\n",
        "\n",
        "Trângulo escaleno: todos os lados possuem medidas diferentes;\n",
        "\n",
        "Triângulo isósceles: caracterizado por ter dois lados com o mesmo tamanho."
      ]
    },
    {
      "cell_type": "code",
      "metadata": {
        "colab": {
          "base_uri": "https://localhost:8080/"
        },
        "id": "1BWOBHZjciUx",
        "outputId": "0c400207-b26b-4cfa-afa9-e82775ba9c6f"
      },
      "source": [
        "s1 = float(input('Escolha o primeiro lado do triângulo: '))\n",
        "s2 = float(input('Escolha o segundo lado do triângulo: '))\n",
        "s3 = float(input('Escolha o terceiro lado do triângulo: '))\n",
        "\n",
        "if s1==s2 and s1==s3:\n",
        "  print('\\n Este é um triângulo equilátero!')\n",
        "elif s1==s2 or s1==s3:\n",
        "  print('\\n Este é um triângulo isósceles!')\n",
        "else:\n",
        "  print('\\n Este é um triângulo escaleno!')"
      ],
      "execution_count": 34,
      "outputs": [
        {
          "output_type": "stream",
          "text": [
            "Escolha o primeiro lado do triângulo: 2\n",
            "Escolha o segundo lado do triângulo: 3\n",
            "Escolha o terceiro lado do triângulo: 2\n",
            "\n",
            " Este é um triângulo isósceles!\n"
          ],
          "name": "stdout"
        }
      ]
    },
    {
      "cell_type": "markdown",
      "metadata": {
        "id": "vkMOg5_sdsEd"
      },
      "source": [
        "# Exercício 39\n",
        "\n",
        "Implemente uma calculadora simples com as operações aritméticas básicas. O usuário deverá especificar a operação desejada (+,-,*,/) e seguidamente inserir dois valores. Caso, o usuário escolha divisão e insira o valor do denominar 0 mostre uma mensagem personalizada. Para os demais casos, mostre na tela o resultado da operação desejada."
      ]
    },
    {
      "cell_type": "code",
      "metadata": {
        "colab": {
          "base_uri": "https://localhost:8080/"
        },
        "id": "DVNRTrhYdvR7",
        "outputId": "973faff1-6dc1-493a-a260-1a3562793817"
      },
      "source": [
        "def escolhaOp(choice):\n",
        "  op = ['+','-','*','/']\n",
        "  if choice in op:\n",
        "      return choice\n",
        "  else:\n",
        "      print('\\n Opção inválida!')\n",
        "      input('\\n Escolha a operação desejada: ')\n",
        "\n",
        "operation = escolhaOp(input('Escolha a operação desejada: '))\n",
        "\n",
        "n1 = float(input('Escolha o primeiro número: '))\n",
        "n2 = float(input('Escolha o segundo número: '))\n",
        "\n",
        "if operation=='+':\n",
        "  print(f'O resultado da soma de {n1} e {n2} é: {n1+n2}')\n",
        "elif operation =='-':\n",
        "  print(f'O resultado da subtração de {n1} e {n2} é: {n1-n2}')\n",
        "elif operation =='*':\n",
        "  print(f'O resultado da multiplicação de {n1} e {n2} é: {n1*n2}')\n",
        "else:\n",
        "  if n2==0:\n",
        "    print('Não é possível dividir por zero')\n",
        "  else:\n",
        "    print(f'O resultado da divisão de {n1} e {n2} é: {n1/n2}')"
      ],
      "execution_count": 72,
      "outputs": [
        {
          "output_type": "stream",
          "text": [
            "Escolha a operação desejada: /\n",
            "Escolha o primeiro número: 30\n",
            "Escolha o segundo número: 0\n",
            "Não é possível dividir por zero\n"
          ],
          "name": "stdout"
        }
      ]
    }
  ]
}