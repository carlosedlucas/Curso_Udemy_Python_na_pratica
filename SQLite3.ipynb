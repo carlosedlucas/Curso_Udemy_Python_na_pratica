{
  "nbformat": 4,
  "nbformat_minor": 0,
  "metadata": {
    "colab": {
      "provenance": []
    },
    "kernelspec": {
      "name": "python3",
      "display_name": "Python 3"
    },
    "language_info": {
      "name": "python"
    }
  },
  "cells": [
    {
      "cell_type": "markdown",
      "source": [
        "#Exercício 1\n",
        "\n",
        "Elabore um script que crie um banco de dados denominado estoque.db, usando SQLite3. A tabela ESTOQUE criada deve armazenar as seguintes informações: nome, preço e quantidade.\n",
        "\n",
        "Lembrete, para criar uma tabela usando SQL:\n",
        "\n",
        "```\n",
        "CREATE TABLE NOME (\n",
        "    COLUNA1 datatype,\n",
        "    COLUNA2 datatype,\n",
        "    COLUNA3 datatype,\n",
        "    COLUNA4 datatype,\n",
        "    ...\n",
        "    COLUNAn datatype\n",
        " \n",
        ")\n",
        "```"
      ],
      "metadata": {
        "id": "xdAAgpTp-xTC"
      }
    },
    {
      "cell_type": "code",
      "source": [
        "import sqlite3\n",
        "\n",
        "# cria a conexão\n",
        "conexao = sqlite3.connect('estoque.db')\n",
        "\n",
        "# cria o objeto cursor para usar os comandos sql\n",
        "cursor = conexao.cursor()\n",
        "\n",
        "# deleta a tabela ESTOQUE caso já exista\n",
        "cursor.execute('DROP TABLE IF EXISTS ESTOQUE')\n",
        "\n",
        "# cria a tabela\n",
        "sql = \"\"\"CREATE TABLE ESTOQUE(\n",
        "    NOME TEXT,\n",
        "    PRECO FLOAT,\n",
        "    QUANTIDADE INT\n",
        "    )\"\"\"\n",
        "cursor.execute(sql)\n",
        "\n",
        "# valida as alterações feitas\n",
        "conexao.commit()\n",
        "\n",
        "# lê a tabela\n",
        "cursor.execute(\"SELECT * FROM ESTOQUE\")\n",
        "print(cursor.fetchall())\n",
        "\n",
        "# fecha a conexão\n",
        "conexao.close()"
      ],
      "metadata": {
        "colab": {
          "base_uri": "https://localhost:8080/"
        },
        "id": "kY2VvU-f-6L4",
        "outputId": "6cef8ef5-5782-4c55-fcd0-b06ea3b519ac"
      },
      "execution_count": 15,
      "outputs": [
        {
          "output_type": "stream",
          "name": "stdout",
          "text": [
            "[]\n"
          ]
        }
      ]
    },
    {
      "cell_type": "markdown",
      "source": [
        "# Exercício 2\n",
        "Elabore um script que crie um banco de dados denominado cliente.db, usando SQLite3. A tabela CLIENTE criada deve armazenar as seguintes informações: id, nome, sobrenome, idade, peso, sexo e renda.\n",
        "\n",
        "\n",
        "\n",
        "\n",
        "\n",
        "Lembrete, para criar uma tabela usando SQL:\n",
        "\n",
        "\n",
        "```\n",
        "CREATE TABLE NOME (\n",
        "    COLUNA1 datatype,\n",
        "    COLUNA2 datatype,\n",
        "    COLUNA3 datatype,\n",
        "    COLUNA4 datatype,\n",
        "    ...\n",
        "    COLUNAn datatype\n",
        " \n",
        ")\n",
        "```\n",
        "\n"
      ],
      "metadata": {
        "id": "xHpysdvP-xM4"
      }
    },
    {
      "cell_type": "code",
      "source": [
        "  import sqlite3\n",
        "\n",
        "  # cria a conexão\n",
        "  conexao = sqlite3.connect('cliente.db')\n",
        "\n",
        "  # cria o objeto cursor para usar os comandos sql\n",
        "  cursor = conexao.cursor()\n",
        "\n",
        "  # deleta a tabela CLIENTE caso já exista\n",
        "  cursor.execute('DROP TABLE IF EXISTS CLIENTE')\n",
        "\n",
        "  # cria a tabela\n",
        "  sql = \"\"\"CREATE TABLE CLIENTE(\n",
        "      ID INT,\n",
        "      NOME TEXT,\n",
        "      SOBRENOME TEXT,\n",
        "      IDADE INT,\n",
        "      PESO FLOAT,\n",
        "      SEXO TEXT,\n",
        "      RENDA FLOAT\n",
        "      )\"\"\"\n",
        "  cursor.execute(sql)\n",
        "\n",
        "  # valida as alterações feitas\n",
        "  conexao.commit()\n",
        "\n",
        "  # lê a tabela\n",
        "  cursor.execute(\"SELECT * FROM CLIENTE\")\n",
        "  print(cursor.fetchall())\n",
        "\n",
        "  # fecha a conexão\n",
        "  conexao.close()"
      ],
      "metadata": {
        "colab": {
          "base_uri": "https://localhost:8080/"
        },
        "id": "o1o0hUHlBpTy",
        "outputId": "7a4780ca-bdb6-4cb0-fe86-56ec3d4e7630"
      },
      "execution_count": 16,
      "outputs": [
        {
          "output_type": "stream",
          "name": "stdout",
          "text": [
            "[]\n"
          ]
        }
      ]
    },
    {
      "cell_type": "markdown",
      "source": [
        "# Exercício 3\n",
        "Adicione dois produtos na tabela ESTOQUE criada no exercício 1.\n",
        "\n",
        "\n",
        "\n",
        "Lembrete:\n",
        "\n",
        "\n",
        "```\n",
        "INSERT INTO NOME_TABELA (coluna1, coluna2, coluna3,..., colunaN)\n",
        "   VALUES (valor1, valor2, valor3,..., valorN);\n",
        "```"
      ],
      "metadata": {
        "id": "uMCN26Id-xEA"
      }
    },
    {
      "cell_type": "code",
      "source": [
        "import sqlite3\n",
        "\n",
        "# cria a conexão\n",
        "conexao = sqlite3.connect('estoque.db')\n",
        "\n",
        "# cria o objeto cursor para usar os comandos sql\n",
        "cursor = conexao.cursor()\n",
        "\n",
        "# deleta a tabela ESTOQUE caso já exista\n",
        "cursor.execute('DROP TABLE IF EXISTS ESTOQUE')\n",
        "\n",
        "# cria a tabela\n",
        "sql = \"\"\"CREATE TABLE ESTOQUE(\n",
        "    NOME TEXT,\n",
        "    PRECO FLOAT,\n",
        "    QUANTIDADE INT\n",
        "    )\"\"\"\n",
        "cursor.execute(sql)\n",
        "\n",
        "# insere os registros\n",
        "reg1 = \"\"\"INSERT INTO ESTOQUE\n",
        "    VALUES \n",
        "    ('WHEY CHOCOLATE', 90.0, 5),\n",
        "    ('CREATINA', 70.0, 15),\n",
        "    ('PASTA DE AMENDOIM', 32.5, 27)\n",
        "    \"\"\"\n",
        "cursor.execute(reg1)\n",
        "\n",
        "# valida as alterações feitas\n",
        "conexao.commit()\n",
        "\n",
        "# lê a tabela\n",
        "cursor.execute(\"SELECT * FROM ESTOQUE\")\n",
        "print(cursor.fetchall())\n",
        "\n",
        "# fecha a conexão\n",
        "conexao.close()"
      ],
      "metadata": {
        "colab": {
          "base_uri": "https://localhost:8080/"
        },
        "id": "8nUIN3GvCvZi",
        "outputId": "e6d41fb9-cb68-4704-9ba1-e7ee6bdda63f"
      },
      "execution_count": 17,
      "outputs": [
        {
          "output_type": "stream",
          "name": "stdout",
          "text": [
            "[('WHEY CHOCOLATE', 90.0, 5), ('CREATINA', 70.0, 15), ('PASTA DE AMENDOIM', 32.5, 27)]\n"
          ]
        }
      ]
    },
    {
      "cell_type": "markdown",
      "source": [
        "# Exercício 4\n",
        "Adicione 3 registros na tabela CLIENTE criada no exercício 2.\n",
        "\n",
        "Lembrete:\n",
        "\n",
        "\n",
        "```\n",
        "INSERT INTO NOME_TABELA (coluna1, coluna2, coluna3,..., colunaN)   VALUES (valor1, valor2, valor3,..., valorN);\n",
        "```"
      ],
      "metadata": {
        "id": "kmPMZXjZ-ve4"
      }
    },
    {
      "cell_type": "code",
      "source": [
        "import sqlite3\n",
        "\n",
        "# cria a conexão\n",
        "conexao = sqlite3.connect('cliente.db')\n",
        "\n",
        "# cria o objeto cursor para usar os comandos sql\n",
        "cursor = conexao.cursor()\n",
        "\n",
        "# deleta a tabela CLIENTE caso já exista\n",
        "cursor.execute('DROP TABLE IF EXISTS CLIENTE')\n",
        "\n",
        "# cria a tabela\n",
        "sql = \"\"\"CREATE TABLE CLIENTE(\n",
        "    ID INT,\n",
        "    NOME TEXT,\n",
        "    SOBRENOME TEXT,\n",
        "    IDADE INT,\n",
        "    PESO FLOAT,\n",
        "    SEXO TEXT,\n",
        "    RENDA FLOAT\n",
        "    )\"\"\"\n",
        "cursor.execute(sql)\n",
        "\n",
        "# insere os registros\n",
        "reg1 = \"\"\"INSERT INTO CLIENTE\n",
        "    VALUES \n",
        "    (1, 'James Marshall', 'Hendrix', 27, 67, 'M', 2500.0),\n",
        "    (2,'James Paul', 'McCartney', 22, 65, 'M', 3000.53),\n",
        "    (3,'Sister Rosetta', 'Tharpe', 25, 58, 'F', 5000.77)\n",
        "    \"\"\"\n",
        "cursor.execute(reg1)\n",
        "\n",
        "# valida as alterações feitas\n",
        "conexao.commit()\n",
        "\n",
        "# lê a tabela\n",
        "cursor.execute(\"SELECT * FROM CLIENTE\")\n",
        "print(cursor.fetchall())\n",
        "\n",
        "# fecha a conexão\n",
        "conexao.close()"
      ],
      "metadata": {
        "colab": {
          "base_uri": "https://localhost:8080/"
        },
        "id": "WYlOuHr-Ivix",
        "outputId": "e759bf17-87bd-49bc-a71d-490a30d93c25"
      },
      "execution_count": 18,
      "outputs": [
        {
          "output_type": "stream",
          "name": "stdout",
          "text": [
            "[(1, 'James Marshall', 'Hendrix', 27, 67.0, 'M', 2500.0), (2, 'James Paul', 'McCartney', 22, 65.0, 'M', 3000.53), (3, 'Sister Rosetta', 'Tharpe', 25, 58.0, 'F', 5000.77)]\n"
          ]
        }
      ]
    },
    {
      "cell_type": "markdown",
      "source": [
        "# Exercício 5\n",
        "Elabore um script que crie um banco de dados denominado dados_alunos.db, usando SQLite3. A tabela alunos criada deve armazenar as seguintes informações: id, nome, idade, telefone, profissão.\n",
        "\n",
        "Em seguida:\n",
        "\n",
        "1. adicione os registros da lista abaixo no banco de dados (use executemany());\n",
        "\n",
        "\n",
        "```\n",
        "dados = [('Yun', 29, '+00000000','Músico'),\n",
        "         ('Chan', 37, '+00000000', 'Engenheiro Elétrico'),\n",
        "         ('Ayumi', 41, '+00000000', 'Programador'),\n",
        "         ('Hinata', 25, '+00000000', 'Professor')\n",
        "        ]\n",
        "```\n",
        "\n",
        "2. mostre todos os registros na tela."
      ],
      "metadata": {
        "id": "9xbIL2Zh-vWo"
      }
    },
    {
      "cell_type": "code",
      "execution_count": 19,
      "metadata": {
        "colab": {
          "base_uri": "https://localhost:8080/"
        },
        "id": "ACI6WLuk-rDO",
        "outputId": "99a5933e-6994-4a8d-b686-1a9bfbfa8885"
      },
      "outputs": [
        {
          "output_type": "stream",
          "name": "stdout",
          "text": [
            "[(1, 'Yun', 29, '+00000000', 'Músico'), (2, 'Chan', 37, '+00000000', 'Engenheiro Elétrico'), (3, 'Ayumi', 41, '+00000000', 'Programador'), (4, 'Hinata', 25, '+00000000', 'Professor')]\n"
          ]
        }
      ],
      "source": [
        "import sqlite3\n",
        "\n",
        "# cria a conexão\n",
        "conexao = sqlite3.connect('dado_alunos.db')\n",
        "\n",
        "# cria o objeto cursor para usar os comandos sql\n",
        "cursor = conexao.cursor()\n",
        "\n",
        "# deleta a tabela ALUNOS caso já exista\n",
        "cursor.execute('DROP TABLE IF EXISTS ALUNOS')\n",
        "\n",
        "# cria a tabela\n",
        "sql = \"\"\"CREATE TABLE ALUNOS(\n",
        "    ID INT,\n",
        "    NOME TEXT,\n",
        "    IDADE INT,\n",
        "    TELEFONE TEXT,\n",
        "    PROFISSAO TEXT\n",
        "    )\"\"\"\n",
        "cursor.execute(sql)\n",
        "\n",
        "# insere os registros\n",
        "reg1 = \"\"\"INSERT INTO ALUNOS\n",
        "    VALUES \n",
        "    (1, 'Yun', 29, '+00000000','Músico'),\n",
        "    (2, 'Chan', 37, '+00000000', 'Engenheiro Elétrico'),\n",
        "    (3, 'Ayumi', 41, '+00000000', 'Programador'),\n",
        "    (4, 'Hinata', 25, '+00000000', 'Professor')\n",
        "    \"\"\"\n",
        "cursor.execute(reg1)\n",
        "\n",
        "# valida as alterações feitas\n",
        "conexao.commit()\n",
        "\n",
        "# lê a tabela\n",
        "cursor.execute(\"SELECT * FROM ALUNOS\")\n",
        "print(cursor.fetchall())\n",
        "\n",
        "# fecha a conexão\n",
        "conexao.close()"
      ]
    }
  ]
}